{
  "nbformat": 4,
  "nbformat_minor": 5,
  "metadata": {
    "kernelspec": {
      "display_name": "Python 3",
      "language": "python",
      "name": "python3"
    },
    "language_info": {
      "codemirror_mode": {
        "name": "ipython",
        "version": 3
      },
      "file_extension": ".py",
      "mimetype": "text/x-python",
      "name": "python",
      "nbconvert_exporter": "python",
      "pygments_lexer": "ipython3",
      "version": "3.7.10"
    },
    "colab": {
      "name": "Lab1_Group4_mb.ipynb",
      "provenance": [],
      "collapsed_sections": [],
      "include_colab_link": true
    }
  },
  "cells": [
    {
      "cell_type": "markdown",
      "metadata": {
        "id": "view-in-github",
        "colab_type": "text"
      },
      "source": [
        "<a href=\"https://colab.research.google.com/github/mattfarrow1/7331-machine-learning-1/blob/main/Labs/Lab1_Group4_mb.ipynb\" target=\"_parent\"><img src=\"https://colab.research.google.com/assets/colab-badge.svg\" alt=\"Open In Colab\"/></a>"
      ]
    },
    {
      "cell_type": "markdown",
      "metadata": {
        "id": "c0d2e13f"
      },
      "source": [
        "# Lab One: Visualization and Data Preprocessing"
      ],
      "id": "c0d2e13f"
    },
    {
      "cell_type": "markdown",
      "metadata": {
        "id": "6d024d25"
      },
      "source": [
        "Matt Farrow, Amber Clark, Blake Freeman, Megan Ball"
      ],
      "id": "6d024d25"
    },
    {
      "cell_type": "markdown",
      "metadata": {
        "id": "88d28dcd"
      },
      "source": [
        "## 2015 Flight Delays and Cancellations\n",
        "Data Source: [Kaggle](https://www.kaggle.com/usdot/flight-delays?select=flights.csv)"
      ],
      "id": "88d28dcd"
    },
    {
      "cell_type": "markdown",
      "metadata": {
        "id": "83abe554"
      },
      "source": [
        "### Business Understanding"
      ],
      "id": "83abe554"
    },
    {
      "cell_type": "markdown",
      "metadata": {
        "id": "d1779117"
      },
      "source": [
        "Describe the purpose of the data set you selected (i.e., why was this data collected in the first place?). Describe how you would define and measure the outcomes from the dataset. That is, why is this data important and how do you know if you have mined useful knowledge from the dataset? How would you measure the effectiveness of a good prediction algorithm? Be specific."
      ],
      "id": "d1779117"
    },
    {
      "cell_type": "markdown",
      "metadata": {
        "id": "f6958737"
      },
      "source": [
        "The data set that our group selected came the U.S. Department of Transportation's Bureau of Transportation Statistics and \"tracks the on-time performance of domestic flights operated by large air carriers\" during 2015. ([Kaggle](https://www.kaggle.com/usdot/flight-delays))"
      ],
      "id": "f6958737"
    },
    {
      "cell_type": "code",
      "metadata": {
        "id": "458f1645"
      },
      "source": [
        "# Load libraries\n",
        "import pandas as pd\n",
        "import numpy as np\n",
        "import seaborn as sns\n",
        "import matplotlib.pyplot as plt\n",
        "%matplotlib inline"
      ],
      "id": "458f1645",
      "execution_count": null,
      "outputs": []
    },
    {
      "cell_type": "code",
      "metadata": {
        "scrolled": true,
        "id": "ce20dda1",
        "colab": {
          "base_uri": "https://localhost:8080/"
        },
        "outputId": "6ea1e6e1-5396-4230-c700-c1516bbd588d"
      },
      "source": [
        "#force import the times as strings to keep leading zeroes. Later on will need to convert to time\n",
        "dtype_t = {'SCHEDULED_DEPARTURE': str,\n",
        "           'DEPARTURE_TIME': str,\n",
        "           'WHEELS_OFF': str,\n",
        "           'SCHEDULED_TIME': str,\n",
        "           'WHEELS_ON': str,\n",
        "           'SCHEDULED_ARRIVAL': str,\n",
        "           'ARRIVAL_TIME': str\n",
        "          }\n",
        "\n",
        "# Read in the data using Pandas\n",
        "# airlines = pd.read_csv('../Data/airlines.csv')\n",
        "# airports = pd.read_csv('../Data/airports.csv')\n",
        "# flights  = pd.read_csv('../Data/flights.csv', dtype = dtype_t)\n",
        "\n",
        "# Read in the data directly from GitHub\n",
        "airlines = pd.read_csv('https://raw.githubusercontent.com/mattfarrow1/7331-machine-learning-1/main/Data/airlines.csv')\n",
        "airports = pd.read_csv('https://raw.githubusercontent.com/mattfarrow1/7331-machine-learning-1/main/Data/airports.csv')\n",
        "flights  = pd.read_csv('https://media.githubusercontent.com/media/mattfarrow1/7331-machine-learning-1/main/Data/flights.csv', dtype = dtype_t)"
      ],
      "id": "ce20dda1",
      "execution_count": null,
      "outputs": [
        {
          "output_type": "stream",
          "text": [
            "/usr/local/lib/python3.7/dist-packages/IPython/core/interactiveshell.py:2718: DtypeWarning: Columns (7,8) have mixed types.Specify dtype option on import or set low_memory=False.\n",
            "  interactivity=interactivity, compiler=compiler, result=result)\n"
          ],
          "name": "stderr"
        }
      ]
    },
    {
      "cell_type": "code",
      "metadata": {
        "id": "cab3e312",
        "colab": {
          "base_uri": "https://localhost:8080/",
          "height": 206
        },
        "outputId": "6d604650-c569-4ed2-ce51-7e835c7745b1"
      },
      "source": [
        "airlines.head()"
      ],
      "id": "cab3e312",
      "execution_count": null,
      "outputs": [
        {
          "output_type": "execute_result",
          "data": {
            "text/html": [
              "<div>\n",
              "<style scoped>\n",
              "    .dataframe tbody tr th:only-of-type {\n",
              "        vertical-align: middle;\n",
              "    }\n",
              "\n",
              "    .dataframe tbody tr th {\n",
              "        vertical-align: top;\n",
              "    }\n",
              "\n",
              "    .dataframe thead th {\n",
              "        text-align: right;\n",
              "    }\n",
              "</style>\n",
              "<table border=\"1\" class=\"dataframe\">\n",
              "  <thead>\n",
              "    <tr style=\"text-align: right;\">\n",
              "      <th></th>\n",
              "      <th>IATA_CODE</th>\n",
              "      <th>AIRLINE</th>\n",
              "    </tr>\n",
              "  </thead>\n",
              "  <tbody>\n",
              "    <tr>\n",
              "      <th>0</th>\n",
              "      <td>UA</td>\n",
              "      <td>United Air Lines Inc.</td>\n",
              "    </tr>\n",
              "    <tr>\n",
              "      <th>1</th>\n",
              "      <td>AA</td>\n",
              "      <td>American Airlines Inc.</td>\n",
              "    </tr>\n",
              "    <tr>\n",
              "      <th>2</th>\n",
              "      <td>US</td>\n",
              "      <td>US Airways Inc.</td>\n",
              "    </tr>\n",
              "    <tr>\n",
              "      <th>3</th>\n",
              "      <td>F9</td>\n",
              "      <td>Frontier Airlines Inc.</td>\n",
              "    </tr>\n",
              "    <tr>\n",
              "      <th>4</th>\n",
              "      <td>B6</td>\n",
              "      <td>JetBlue Airways</td>\n",
              "    </tr>\n",
              "  </tbody>\n",
              "</table>\n",
              "</div>"
            ],
            "text/plain": [
              "  IATA_CODE                 AIRLINE\n",
              "0        UA   United Air Lines Inc.\n",
              "1        AA  American Airlines Inc.\n",
              "2        US         US Airways Inc.\n",
              "3        F9  Frontier Airlines Inc.\n",
              "4        B6         JetBlue Airways"
            ]
          },
          "metadata": {
            "tags": []
          },
          "execution_count": 24
        }
      ]
    },
    {
      "cell_type": "code",
      "metadata": {
        "id": "570275eb",
        "colab": {
          "base_uri": "https://localhost:8080/",
          "height": 206
        },
        "outputId": "a8a1ecfe-8630-41e5-a9fc-f0db5907c067"
      },
      "source": [
        "airports.head()"
      ],
      "id": "570275eb",
      "execution_count": null,
      "outputs": [
        {
          "output_type": "execute_result",
          "data": {
            "text/html": [
              "<div>\n",
              "<style scoped>\n",
              "    .dataframe tbody tr th:only-of-type {\n",
              "        vertical-align: middle;\n",
              "    }\n",
              "\n",
              "    .dataframe tbody tr th {\n",
              "        vertical-align: top;\n",
              "    }\n",
              "\n",
              "    .dataframe thead th {\n",
              "        text-align: right;\n",
              "    }\n",
              "</style>\n",
              "<table border=\"1\" class=\"dataframe\">\n",
              "  <thead>\n",
              "    <tr style=\"text-align: right;\">\n",
              "      <th></th>\n",
              "      <th>IATA_CODE</th>\n",
              "      <th>AIRPORT</th>\n",
              "      <th>CITY</th>\n",
              "      <th>STATE</th>\n",
              "      <th>COUNTRY</th>\n",
              "      <th>LATITUDE</th>\n",
              "      <th>LONGITUDE</th>\n",
              "    </tr>\n",
              "  </thead>\n",
              "  <tbody>\n",
              "    <tr>\n",
              "      <th>0</th>\n",
              "      <td>ABE</td>\n",
              "      <td>Lehigh Valley International Airport</td>\n",
              "      <td>Allentown</td>\n",
              "      <td>PA</td>\n",
              "      <td>USA</td>\n",
              "      <td>40.65236</td>\n",
              "      <td>-75.44040</td>\n",
              "    </tr>\n",
              "    <tr>\n",
              "      <th>1</th>\n",
              "      <td>ABI</td>\n",
              "      <td>Abilene Regional Airport</td>\n",
              "      <td>Abilene</td>\n",
              "      <td>TX</td>\n",
              "      <td>USA</td>\n",
              "      <td>32.41132</td>\n",
              "      <td>-99.68190</td>\n",
              "    </tr>\n",
              "    <tr>\n",
              "      <th>2</th>\n",
              "      <td>ABQ</td>\n",
              "      <td>Albuquerque International Sunport</td>\n",
              "      <td>Albuquerque</td>\n",
              "      <td>NM</td>\n",
              "      <td>USA</td>\n",
              "      <td>35.04022</td>\n",
              "      <td>-106.60919</td>\n",
              "    </tr>\n",
              "    <tr>\n",
              "      <th>3</th>\n",
              "      <td>ABR</td>\n",
              "      <td>Aberdeen Regional Airport</td>\n",
              "      <td>Aberdeen</td>\n",
              "      <td>SD</td>\n",
              "      <td>USA</td>\n",
              "      <td>45.44906</td>\n",
              "      <td>-98.42183</td>\n",
              "    </tr>\n",
              "    <tr>\n",
              "      <th>4</th>\n",
              "      <td>ABY</td>\n",
              "      <td>Southwest Georgia Regional Airport</td>\n",
              "      <td>Albany</td>\n",
              "      <td>GA</td>\n",
              "      <td>USA</td>\n",
              "      <td>31.53552</td>\n",
              "      <td>-84.19447</td>\n",
              "    </tr>\n",
              "  </tbody>\n",
              "</table>\n",
              "</div>"
            ],
            "text/plain": [
              "  IATA_CODE                              AIRPORT  ...  LATITUDE  LONGITUDE\n",
              "0       ABE  Lehigh Valley International Airport  ...  40.65236  -75.44040\n",
              "1       ABI             Abilene Regional Airport  ...  32.41132  -99.68190\n",
              "2       ABQ    Albuquerque International Sunport  ...  35.04022 -106.60919\n",
              "3       ABR            Aberdeen Regional Airport  ...  45.44906  -98.42183\n",
              "4       ABY   Southwest Georgia Regional Airport  ...  31.53552  -84.19447\n",
              "\n",
              "[5 rows x 7 columns]"
            ]
          },
          "metadata": {
            "tags": []
          },
          "execution_count": 25
        }
      ]
    },
    {
      "cell_type": "code",
      "metadata": {
        "scrolled": true,
        "id": "1f1e5dd8",
        "colab": {
          "base_uri": "https://localhost:8080/",
          "height": 226
        },
        "outputId": "29de1ec7-9153-4060-c1a3-2204bc702732"
      },
      "source": [
        "flights.head()"
      ],
      "id": "1f1e5dd8",
      "execution_count": null,
      "outputs": [
        {
          "output_type": "execute_result",
          "data": {
            "text/html": [
              "<div>\n",
              "<style scoped>\n",
              "    .dataframe tbody tr th:only-of-type {\n",
              "        vertical-align: middle;\n",
              "    }\n",
              "\n",
              "    .dataframe tbody tr th {\n",
              "        vertical-align: top;\n",
              "    }\n",
              "\n",
              "    .dataframe thead th {\n",
              "        text-align: right;\n",
              "    }\n",
              "</style>\n",
              "<table border=\"1\" class=\"dataframe\">\n",
              "  <thead>\n",
              "    <tr style=\"text-align: right;\">\n",
              "      <th></th>\n",
              "      <th>YEAR</th>\n",
              "      <th>MONTH</th>\n",
              "      <th>DAY</th>\n",
              "      <th>DAY_OF_WEEK</th>\n",
              "      <th>AIRLINE</th>\n",
              "      <th>FLIGHT_NUMBER</th>\n",
              "      <th>TAIL_NUMBER</th>\n",
              "      <th>ORIGIN_AIRPORT</th>\n",
              "      <th>DESTINATION_AIRPORT</th>\n",
              "      <th>SCHEDULED_DEPARTURE</th>\n",
              "      <th>DEPARTURE_TIME</th>\n",
              "      <th>DEPARTURE_DELAY</th>\n",
              "      <th>TAXI_OUT</th>\n",
              "      <th>WHEELS_OFF</th>\n",
              "      <th>SCHEDULED_TIME</th>\n",
              "      <th>ELAPSED_TIME</th>\n",
              "      <th>AIR_TIME</th>\n",
              "      <th>DISTANCE</th>\n",
              "      <th>WHEELS_ON</th>\n",
              "      <th>TAXI_IN</th>\n",
              "      <th>SCHEDULED_ARRIVAL</th>\n",
              "      <th>ARRIVAL_TIME</th>\n",
              "      <th>ARRIVAL_DELAY</th>\n",
              "      <th>DIVERTED</th>\n",
              "      <th>CANCELLED</th>\n",
              "      <th>CANCELLATION_REASON</th>\n",
              "      <th>AIR_SYSTEM_DELAY</th>\n",
              "      <th>SECURITY_DELAY</th>\n",
              "      <th>AIRLINE_DELAY</th>\n",
              "      <th>LATE_AIRCRAFT_DELAY</th>\n",
              "      <th>WEATHER_DELAY</th>\n",
              "    </tr>\n",
              "  </thead>\n",
              "  <tbody>\n",
              "    <tr>\n",
              "      <th>0</th>\n",
              "      <td>2015</td>\n",
              "      <td>1</td>\n",
              "      <td>1</td>\n",
              "      <td>4</td>\n",
              "      <td>AS</td>\n",
              "      <td>98</td>\n",
              "      <td>N407AS</td>\n",
              "      <td>ANC</td>\n",
              "      <td>SEA</td>\n",
              "      <td>0005</td>\n",
              "      <td>2354</td>\n",
              "      <td>-11.0</td>\n",
              "      <td>21.0</td>\n",
              "      <td>0015</td>\n",
              "      <td>205</td>\n",
              "      <td>194.0</td>\n",
              "      <td>169.0</td>\n",
              "      <td>1448</td>\n",
              "      <td>0404</td>\n",
              "      <td>4.0</td>\n",
              "      <td>0430</td>\n",
              "      <td>0408</td>\n",
              "      <td>-22.0</td>\n",
              "      <td>0</td>\n",
              "      <td>0</td>\n",
              "      <td>NaN</td>\n",
              "      <td>NaN</td>\n",
              "      <td>NaN</td>\n",
              "      <td>NaN</td>\n",
              "      <td>NaN</td>\n",
              "      <td>NaN</td>\n",
              "    </tr>\n",
              "    <tr>\n",
              "      <th>1</th>\n",
              "      <td>2015</td>\n",
              "      <td>1</td>\n",
              "      <td>1</td>\n",
              "      <td>4</td>\n",
              "      <td>AA</td>\n",
              "      <td>2336</td>\n",
              "      <td>N3KUAA</td>\n",
              "      <td>LAX</td>\n",
              "      <td>PBI</td>\n",
              "      <td>0010</td>\n",
              "      <td>0002</td>\n",
              "      <td>-8.0</td>\n",
              "      <td>12.0</td>\n",
              "      <td>0014</td>\n",
              "      <td>280</td>\n",
              "      <td>279.0</td>\n",
              "      <td>263.0</td>\n",
              "      <td>2330</td>\n",
              "      <td>0737</td>\n",
              "      <td>4.0</td>\n",
              "      <td>0750</td>\n",
              "      <td>0741</td>\n",
              "      <td>-9.0</td>\n",
              "      <td>0</td>\n",
              "      <td>0</td>\n",
              "      <td>NaN</td>\n",
              "      <td>NaN</td>\n",
              "      <td>NaN</td>\n",
              "      <td>NaN</td>\n",
              "      <td>NaN</td>\n",
              "      <td>NaN</td>\n",
              "    </tr>\n",
              "    <tr>\n",
              "      <th>2</th>\n",
              "      <td>2015</td>\n",
              "      <td>1</td>\n",
              "      <td>1</td>\n",
              "      <td>4</td>\n",
              "      <td>US</td>\n",
              "      <td>840</td>\n",
              "      <td>N171US</td>\n",
              "      <td>SFO</td>\n",
              "      <td>CLT</td>\n",
              "      <td>0020</td>\n",
              "      <td>0018</td>\n",
              "      <td>-2.0</td>\n",
              "      <td>16.0</td>\n",
              "      <td>0034</td>\n",
              "      <td>286</td>\n",
              "      <td>293.0</td>\n",
              "      <td>266.0</td>\n",
              "      <td>2296</td>\n",
              "      <td>0800</td>\n",
              "      <td>11.0</td>\n",
              "      <td>0806</td>\n",
              "      <td>0811</td>\n",
              "      <td>5.0</td>\n",
              "      <td>0</td>\n",
              "      <td>0</td>\n",
              "      <td>NaN</td>\n",
              "      <td>NaN</td>\n",
              "      <td>NaN</td>\n",
              "      <td>NaN</td>\n",
              "      <td>NaN</td>\n",
              "      <td>NaN</td>\n",
              "    </tr>\n",
              "    <tr>\n",
              "      <th>3</th>\n",
              "      <td>2015</td>\n",
              "      <td>1</td>\n",
              "      <td>1</td>\n",
              "      <td>4</td>\n",
              "      <td>AA</td>\n",
              "      <td>258</td>\n",
              "      <td>N3HYAA</td>\n",
              "      <td>LAX</td>\n",
              "      <td>MIA</td>\n",
              "      <td>0020</td>\n",
              "      <td>0015</td>\n",
              "      <td>-5.0</td>\n",
              "      <td>15.0</td>\n",
              "      <td>0030</td>\n",
              "      <td>285</td>\n",
              "      <td>281.0</td>\n",
              "      <td>258.0</td>\n",
              "      <td>2342</td>\n",
              "      <td>0748</td>\n",
              "      <td>8.0</td>\n",
              "      <td>0805</td>\n",
              "      <td>0756</td>\n",
              "      <td>-9.0</td>\n",
              "      <td>0</td>\n",
              "      <td>0</td>\n",
              "      <td>NaN</td>\n",
              "      <td>NaN</td>\n",
              "      <td>NaN</td>\n",
              "      <td>NaN</td>\n",
              "      <td>NaN</td>\n",
              "      <td>NaN</td>\n",
              "    </tr>\n",
              "    <tr>\n",
              "      <th>4</th>\n",
              "      <td>2015</td>\n",
              "      <td>1</td>\n",
              "      <td>1</td>\n",
              "      <td>4</td>\n",
              "      <td>AS</td>\n",
              "      <td>135</td>\n",
              "      <td>N527AS</td>\n",
              "      <td>SEA</td>\n",
              "      <td>ANC</td>\n",
              "      <td>0025</td>\n",
              "      <td>0024</td>\n",
              "      <td>-1.0</td>\n",
              "      <td>11.0</td>\n",
              "      <td>0035</td>\n",
              "      <td>235</td>\n",
              "      <td>215.0</td>\n",
              "      <td>199.0</td>\n",
              "      <td>1448</td>\n",
              "      <td>0254</td>\n",
              "      <td>5.0</td>\n",
              "      <td>0320</td>\n",
              "      <td>0259</td>\n",
              "      <td>-21.0</td>\n",
              "      <td>0</td>\n",
              "      <td>0</td>\n",
              "      <td>NaN</td>\n",
              "      <td>NaN</td>\n",
              "      <td>NaN</td>\n",
              "      <td>NaN</td>\n",
              "      <td>NaN</td>\n",
              "      <td>NaN</td>\n",
              "    </tr>\n",
              "  </tbody>\n",
              "</table>\n",
              "</div>"
            ],
            "text/plain": [
              "   YEAR  MONTH  DAY  ...  AIRLINE_DELAY LATE_AIRCRAFT_DELAY  WEATHER_DELAY\n",
              "0  2015      1    1  ...            NaN                 NaN            NaN\n",
              "1  2015      1    1  ...            NaN                 NaN            NaN\n",
              "2  2015      1    1  ...            NaN                 NaN            NaN\n",
              "3  2015      1    1  ...            NaN                 NaN            NaN\n",
              "4  2015      1    1  ...            NaN                 NaN            NaN\n",
              "\n",
              "[5 rows x 31 columns]"
            ]
          },
          "metadata": {
            "tags": []
          },
          "execution_count": 26
        }
      ]
    },
    {
      "cell_type": "code",
      "metadata": {
        "id": "2009e446"
      },
      "source": [
        "# Rename columns in preparation for merge\n",
        "airlines.rename(columns={'IATA_CODE': 'AIRLINE_CODE'}, inplace=True)\n",
        "flights.rename(columns={'AIRLINE': 'AIRLINE_CODE'}, inplace=True)"
      ],
      "id": "2009e446",
      "execution_count": null,
      "outputs": []
    },
    {
      "cell_type": "code",
      "metadata": {
        "id": "6b275ee4"
      },
      "source": [
        "# Merge data together\n",
        "df = pd.merge(flights, airlines, on='AIRLINE_CODE', how = 'left')"
      ],
      "id": "6b275ee4",
      "execution_count": null,
      "outputs": []
    },
    {
      "cell_type": "code",
      "metadata": {
        "scrolled": true,
        "id": "35ec9ab9",
        "colab": {
          "base_uri": "https://localhost:8080/",
          "height": 400
        },
        "outputId": "8f0703a4-f706-412a-c9ae-2309867406fd"
      },
      "source": [
        "df.head()"
      ],
      "id": "35ec9ab9",
      "execution_count": null,
      "outputs": [
        {
          "output_type": "execute_result",
          "data": {
            "text/html": [
              "<div>\n",
              "<style scoped>\n",
              "    .dataframe tbody tr th:only-of-type {\n",
              "        vertical-align: middle;\n",
              "    }\n",
              "\n",
              "    .dataframe tbody tr th {\n",
              "        vertical-align: top;\n",
              "    }\n",
              "\n",
              "    .dataframe thead th {\n",
              "        text-align: right;\n",
              "    }\n",
              "</style>\n",
              "<table border=\"1\" class=\"dataframe\">\n",
              "  <thead>\n",
              "    <tr style=\"text-align: right;\">\n",
              "      <th></th>\n",
              "      <th>YEAR</th>\n",
              "      <th>MONTH</th>\n",
              "      <th>DAY</th>\n",
              "      <th>DAY_OF_WEEK</th>\n",
              "      <th>AIRLINE_CODE</th>\n",
              "      <th>FLIGHT_NUMBER</th>\n",
              "      <th>TAIL_NUMBER</th>\n",
              "      <th>ORIGIN_AIRPORT</th>\n",
              "      <th>DESTINATION_AIRPORT</th>\n",
              "      <th>SCHEDULED_DEPARTURE</th>\n",
              "      <th>DEPARTURE_TIME</th>\n",
              "      <th>DEPARTURE_DELAY</th>\n",
              "      <th>TAXI_OUT</th>\n",
              "      <th>WHEELS_OFF</th>\n",
              "      <th>SCHEDULED_TIME</th>\n",
              "      <th>ELAPSED_TIME</th>\n",
              "      <th>AIR_TIME</th>\n",
              "      <th>DISTANCE</th>\n",
              "      <th>WHEELS_ON</th>\n",
              "      <th>TAXI_IN</th>\n",
              "      <th>SCHEDULED_ARRIVAL</th>\n",
              "      <th>ARRIVAL_TIME</th>\n",
              "      <th>ARRIVAL_DELAY</th>\n",
              "      <th>DIVERTED</th>\n",
              "      <th>CANCELLED</th>\n",
              "      <th>CANCELLATION_REASON</th>\n",
              "      <th>AIR_SYSTEM_DELAY</th>\n",
              "      <th>SECURITY_DELAY</th>\n",
              "      <th>AIRLINE_DELAY</th>\n",
              "      <th>LATE_AIRCRAFT_DELAY</th>\n",
              "      <th>WEATHER_DELAY</th>\n",
              "      <th>AIRLINE</th>\n",
              "    </tr>\n",
              "  </thead>\n",
              "  <tbody>\n",
              "    <tr>\n",
              "      <th>0</th>\n",
              "      <td>2015</td>\n",
              "      <td>1</td>\n",
              "      <td>1</td>\n",
              "      <td>4</td>\n",
              "      <td>AS</td>\n",
              "      <td>98</td>\n",
              "      <td>N407AS</td>\n",
              "      <td>ANC</td>\n",
              "      <td>SEA</td>\n",
              "      <td>0005</td>\n",
              "      <td>2354</td>\n",
              "      <td>-11.0</td>\n",
              "      <td>21.0</td>\n",
              "      <td>0015</td>\n",
              "      <td>205</td>\n",
              "      <td>194.0</td>\n",
              "      <td>169.0</td>\n",
              "      <td>1448</td>\n",
              "      <td>0404</td>\n",
              "      <td>4.0</td>\n",
              "      <td>0430</td>\n",
              "      <td>0408</td>\n",
              "      <td>-22.0</td>\n",
              "      <td>0</td>\n",
              "      <td>0</td>\n",
              "      <td>NaN</td>\n",
              "      <td>NaN</td>\n",
              "      <td>NaN</td>\n",
              "      <td>NaN</td>\n",
              "      <td>NaN</td>\n",
              "      <td>NaN</td>\n",
              "      <td>Alaska Airlines Inc.</td>\n",
              "    </tr>\n",
              "    <tr>\n",
              "      <th>1</th>\n",
              "      <td>2015</td>\n",
              "      <td>1</td>\n",
              "      <td>1</td>\n",
              "      <td>4</td>\n",
              "      <td>AA</td>\n",
              "      <td>2336</td>\n",
              "      <td>N3KUAA</td>\n",
              "      <td>LAX</td>\n",
              "      <td>PBI</td>\n",
              "      <td>0010</td>\n",
              "      <td>0002</td>\n",
              "      <td>-8.0</td>\n",
              "      <td>12.0</td>\n",
              "      <td>0014</td>\n",
              "      <td>280</td>\n",
              "      <td>279.0</td>\n",
              "      <td>263.0</td>\n",
              "      <td>2330</td>\n",
              "      <td>0737</td>\n",
              "      <td>4.0</td>\n",
              "      <td>0750</td>\n",
              "      <td>0741</td>\n",
              "      <td>-9.0</td>\n",
              "      <td>0</td>\n",
              "      <td>0</td>\n",
              "      <td>NaN</td>\n",
              "      <td>NaN</td>\n",
              "      <td>NaN</td>\n",
              "      <td>NaN</td>\n",
              "      <td>NaN</td>\n",
              "      <td>NaN</td>\n",
              "      <td>American Airlines Inc.</td>\n",
              "    </tr>\n",
              "    <tr>\n",
              "      <th>2</th>\n",
              "      <td>2015</td>\n",
              "      <td>1</td>\n",
              "      <td>1</td>\n",
              "      <td>4</td>\n",
              "      <td>US</td>\n",
              "      <td>840</td>\n",
              "      <td>N171US</td>\n",
              "      <td>SFO</td>\n",
              "      <td>CLT</td>\n",
              "      <td>0020</td>\n",
              "      <td>0018</td>\n",
              "      <td>-2.0</td>\n",
              "      <td>16.0</td>\n",
              "      <td>0034</td>\n",
              "      <td>286</td>\n",
              "      <td>293.0</td>\n",
              "      <td>266.0</td>\n",
              "      <td>2296</td>\n",
              "      <td>0800</td>\n",
              "      <td>11.0</td>\n",
              "      <td>0806</td>\n",
              "      <td>0811</td>\n",
              "      <td>5.0</td>\n",
              "      <td>0</td>\n",
              "      <td>0</td>\n",
              "      <td>NaN</td>\n",
              "      <td>NaN</td>\n",
              "      <td>NaN</td>\n",
              "      <td>NaN</td>\n",
              "      <td>NaN</td>\n",
              "      <td>NaN</td>\n",
              "      <td>US Airways Inc.</td>\n",
              "    </tr>\n",
              "    <tr>\n",
              "      <th>3</th>\n",
              "      <td>2015</td>\n",
              "      <td>1</td>\n",
              "      <td>1</td>\n",
              "      <td>4</td>\n",
              "      <td>AA</td>\n",
              "      <td>258</td>\n",
              "      <td>N3HYAA</td>\n",
              "      <td>LAX</td>\n",
              "      <td>MIA</td>\n",
              "      <td>0020</td>\n",
              "      <td>0015</td>\n",
              "      <td>-5.0</td>\n",
              "      <td>15.0</td>\n",
              "      <td>0030</td>\n",
              "      <td>285</td>\n",
              "      <td>281.0</td>\n",
              "      <td>258.0</td>\n",
              "      <td>2342</td>\n",
              "      <td>0748</td>\n",
              "      <td>8.0</td>\n",
              "      <td>0805</td>\n",
              "      <td>0756</td>\n",
              "      <td>-9.0</td>\n",
              "      <td>0</td>\n",
              "      <td>0</td>\n",
              "      <td>NaN</td>\n",
              "      <td>NaN</td>\n",
              "      <td>NaN</td>\n",
              "      <td>NaN</td>\n",
              "      <td>NaN</td>\n",
              "      <td>NaN</td>\n",
              "      <td>American Airlines Inc.</td>\n",
              "    </tr>\n",
              "    <tr>\n",
              "      <th>4</th>\n",
              "      <td>2015</td>\n",
              "      <td>1</td>\n",
              "      <td>1</td>\n",
              "      <td>4</td>\n",
              "      <td>AS</td>\n",
              "      <td>135</td>\n",
              "      <td>N527AS</td>\n",
              "      <td>SEA</td>\n",
              "      <td>ANC</td>\n",
              "      <td>0025</td>\n",
              "      <td>0024</td>\n",
              "      <td>-1.0</td>\n",
              "      <td>11.0</td>\n",
              "      <td>0035</td>\n",
              "      <td>235</td>\n",
              "      <td>215.0</td>\n",
              "      <td>199.0</td>\n",
              "      <td>1448</td>\n",
              "      <td>0254</td>\n",
              "      <td>5.0</td>\n",
              "      <td>0320</td>\n",
              "      <td>0259</td>\n",
              "      <td>-21.0</td>\n",
              "      <td>0</td>\n",
              "      <td>0</td>\n",
              "      <td>NaN</td>\n",
              "      <td>NaN</td>\n",
              "      <td>NaN</td>\n",
              "      <td>NaN</td>\n",
              "      <td>NaN</td>\n",
              "      <td>NaN</td>\n",
              "      <td>Alaska Airlines Inc.</td>\n",
              "    </tr>\n",
              "  </tbody>\n",
              "</table>\n",
              "</div>"
            ],
            "text/plain": [
              "   YEAR  MONTH  DAY  ...  LATE_AIRCRAFT_DELAY WEATHER_DELAY                 AIRLINE\n",
              "0  2015      1    1  ...                  NaN           NaN    Alaska Airlines Inc.\n",
              "1  2015      1    1  ...                  NaN           NaN  American Airlines Inc.\n",
              "2  2015      1    1  ...                  NaN           NaN         US Airways Inc.\n",
              "3  2015      1    1  ...                  NaN           NaN  American Airlines Inc.\n",
              "4  2015      1    1  ...                  NaN           NaN    Alaska Airlines Inc.\n",
              "\n",
              "[5 rows x 32 columns]"
            ]
          },
          "metadata": {
            "tags": []
          },
          "execution_count": 29
        }
      ]
    },
    {
      "cell_type": "markdown",
      "metadata": {
        "id": "b42cc5ef"
      },
      "source": [
        "### Data Meaning Type"
      ],
      "id": "b42cc5ef"
    },
    {
      "cell_type": "markdown",
      "metadata": {
        "id": "b5cd6fd8"
      },
      "source": [
        "Describe the meaning and type of data (scale, values, etc.) for each attribute in the data file."
      ],
      "id": "b5cd6fd8"
    },
    {
      "cell_type": "code",
      "metadata": {
        "scrolled": false,
        "id": "11c86e1b",
        "colab": {
          "base_uri": "https://localhost:8080/"
        },
        "outputId": "60326ba9-435d-419a-8910-d8dfa0ba2e99"
      },
      "source": [
        "df.info()"
      ],
      "id": "11c86e1b",
      "execution_count": null,
      "outputs": [
        {
          "output_type": "stream",
          "text": [
            "<class 'pandas.core.frame.DataFrame'>\n",
            "Int64Index: 5819079 entries, 0 to 5819078\n",
            "Data columns (total 32 columns):\n",
            " #   Column               Dtype  \n",
            "---  ------               -----  \n",
            " 0   YEAR                 int64  \n",
            " 1   MONTH                int64  \n",
            " 2   DAY                  int64  \n",
            " 3   DAY_OF_WEEK          int64  \n",
            " 4   AIRLINE_CODE         object \n",
            " 5   FLIGHT_NUMBER        int64  \n",
            " 6   TAIL_NUMBER          object \n",
            " 7   ORIGIN_AIRPORT       object \n",
            " 8   DESTINATION_AIRPORT  object \n",
            " 9   SCHEDULED_DEPARTURE  object \n",
            " 10  DEPARTURE_TIME       object \n",
            " 11  DEPARTURE_DELAY      float64\n",
            " 12  TAXI_OUT             float64\n",
            " 13  WHEELS_OFF           object \n",
            " 14  SCHEDULED_TIME       object \n",
            " 15  ELAPSED_TIME         float64\n",
            " 16  AIR_TIME             float64\n",
            " 17  DISTANCE             int64  \n",
            " 18  WHEELS_ON            object \n",
            " 19  TAXI_IN              float64\n",
            " 20  SCHEDULED_ARRIVAL    object \n",
            " 21  ARRIVAL_TIME         object \n",
            " 22  ARRIVAL_DELAY        float64\n",
            " 23  DIVERTED             int64  \n",
            " 24  CANCELLED            int64  \n",
            " 25  CANCELLATION_REASON  object \n",
            " 26  AIR_SYSTEM_DELAY     float64\n",
            " 27  SECURITY_DELAY       float64\n",
            " 28  AIRLINE_DELAY        float64\n",
            " 29  LATE_AIRCRAFT_DELAY  float64\n",
            " 30  WEATHER_DELAY        float64\n",
            " 31  AIRLINE              object \n",
            "dtypes: float64(11), int64(8), object(13)\n",
            "memory usage: 1.4+ GB\n"
          ],
          "name": "stdout"
        }
      ]
    },
    {
      "cell_type": "code",
      "metadata": {
        "id": "297dcddc"
      },
      "source": [
        "# Convert string columns to datetime\n",
        "# Source: https://stackoverflow.com/questions/41514173/change-multiple-columns-in-pandas-dataframe-to-datetime\n",
        "#df.iloc[:, [9, 10, 13, 18, 20, 21]] = df.iloc[:, [9, 10, 13, 18, 20, 21]].apply(pd.to_datetime, format='%H%M', errors = 'coerce')"
      ],
      "id": "297dcddc",
      "execution_count": null,
      "outputs": []
    },
    {
      "cell_type": "code",
      "metadata": {
        "id": "5b6eb850",
        "colab": {
          "base_uri": "https://localhost:8080/",
          "height": 206
        },
        "outputId": "14e154c3-7c83-4766-faed-552974c7452d"
      },
      "source": [
        "df[[\"SCHEDULED_DEPARTURE\", \n",
        "   \"DEPARTURE_TIME\", \n",
        "   \"WHEELS_OFF\", \n",
        "   \"SCHEDULED_TIME\", \n",
        "   \"WHEELS_ON\", \n",
        "   \"SCHEDULED_ARRIVAL\", \n",
        "   \"ARRIVAL_TIME\"]].head()"
      ],
      "id": "5b6eb850",
      "execution_count": null,
      "outputs": [
        {
          "output_type": "execute_result",
          "data": {
            "text/html": [
              "<div>\n",
              "<style scoped>\n",
              "    .dataframe tbody tr th:only-of-type {\n",
              "        vertical-align: middle;\n",
              "    }\n",
              "\n",
              "    .dataframe tbody tr th {\n",
              "        vertical-align: top;\n",
              "    }\n",
              "\n",
              "    .dataframe thead th {\n",
              "        text-align: right;\n",
              "    }\n",
              "</style>\n",
              "<table border=\"1\" class=\"dataframe\">\n",
              "  <thead>\n",
              "    <tr style=\"text-align: right;\">\n",
              "      <th></th>\n",
              "      <th>SCHEDULED_DEPARTURE</th>\n",
              "      <th>DEPARTURE_TIME</th>\n",
              "      <th>WHEELS_OFF</th>\n",
              "      <th>SCHEDULED_TIME</th>\n",
              "      <th>WHEELS_ON</th>\n",
              "      <th>SCHEDULED_ARRIVAL</th>\n",
              "      <th>ARRIVAL_TIME</th>\n",
              "    </tr>\n",
              "  </thead>\n",
              "  <tbody>\n",
              "    <tr>\n",
              "      <th>0</th>\n",
              "      <td>0005</td>\n",
              "      <td>2354</td>\n",
              "      <td>0015</td>\n",
              "      <td>205</td>\n",
              "      <td>0404</td>\n",
              "      <td>0430</td>\n",
              "      <td>0408</td>\n",
              "    </tr>\n",
              "    <tr>\n",
              "      <th>1</th>\n",
              "      <td>0010</td>\n",
              "      <td>0002</td>\n",
              "      <td>0014</td>\n",
              "      <td>280</td>\n",
              "      <td>0737</td>\n",
              "      <td>0750</td>\n",
              "      <td>0741</td>\n",
              "    </tr>\n",
              "    <tr>\n",
              "      <th>2</th>\n",
              "      <td>0020</td>\n",
              "      <td>0018</td>\n",
              "      <td>0034</td>\n",
              "      <td>286</td>\n",
              "      <td>0800</td>\n",
              "      <td>0806</td>\n",
              "      <td>0811</td>\n",
              "    </tr>\n",
              "    <tr>\n",
              "      <th>3</th>\n",
              "      <td>0020</td>\n",
              "      <td>0015</td>\n",
              "      <td>0030</td>\n",
              "      <td>285</td>\n",
              "      <td>0748</td>\n",
              "      <td>0805</td>\n",
              "      <td>0756</td>\n",
              "    </tr>\n",
              "    <tr>\n",
              "      <th>4</th>\n",
              "      <td>0025</td>\n",
              "      <td>0024</td>\n",
              "      <td>0035</td>\n",
              "      <td>235</td>\n",
              "      <td>0254</td>\n",
              "      <td>0320</td>\n",
              "      <td>0259</td>\n",
              "    </tr>\n",
              "  </tbody>\n",
              "</table>\n",
              "</div>"
            ],
            "text/plain": [
              "  SCHEDULED_DEPARTURE DEPARTURE_TIME  ... SCHEDULED_ARRIVAL ARRIVAL_TIME\n",
              "0                0005           2354  ...              0430         0408\n",
              "1                0010           0002  ...              0750         0741\n",
              "2                0020           0018  ...              0806         0811\n",
              "3                0020           0015  ...              0805         0756\n",
              "4                0025           0024  ...              0320         0259\n",
              "\n",
              "[5 rows x 7 columns]"
            ]
          },
          "metadata": {
            "tags": []
          },
          "execution_count": 32
        }
      ]
    },
    {
      "cell_type": "code",
      "metadata": {
        "id": "9wQyIem0JZ4k"
      },
      "source": [
        "# Convert YEAR, MONTH, DAY to date\n",
        "# Source: https://stackoverflow.com/questions/54487059/pandas-how-to-create-a-single-date-column-from-columns-containing-year-month\n",
        "# df['FLIGHT_DATE'] = pd.to_datetime([f'{y}-{m}-{d}' for y, m, d in zip(df.YEAR, df.MONTH, df.DAY)])\n"
      ],
      "id": "9wQyIem0JZ4k",
      "execution_count": null,
      "outputs": []
    },
    {
      "cell_type": "markdown",
      "metadata": {
        "id": "34561fd9"
      },
      "source": [
        "### Data Quality"
      ],
      "id": "34561fd9"
    },
    {
      "cell_type": "markdown",
      "metadata": {
        "id": "a4463671"
      },
      "source": [
        "Verify data quality: Explain any missing values, duplicate data, and outliers. Are those mistakes? How do you deal with these problems? Give justifications for your methods."
      ],
      "id": "a4463671"
    },
    {
      "cell_type": "code",
      "metadata": {
        "id": "d0a0e195",
        "colab": {
          "base_uri": "https://localhost:8080/"
        },
        "outputId": "1c3f35ef-1380-421a-b318-64b871153d63"
      },
      "source": [
        "# How many missing values are there in the data?\n",
        "df.isnull().sum()"
      ],
      "id": "d0a0e195",
      "execution_count": null,
      "outputs": [
        {
          "output_type": "execute_result",
          "data": {
            "text/plain": [
              "YEAR                         0\n",
              "MONTH                        0\n",
              "DAY                          0\n",
              "DAY_OF_WEEK                  0\n",
              "AIRLINE_CODE                 0\n",
              "FLIGHT_NUMBER                0\n",
              "TAIL_NUMBER              14721\n",
              "ORIGIN_AIRPORT               0\n",
              "DESTINATION_AIRPORT          0\n",
              "SCHEDULED_DEPARTURE          0\n",
              "DEPARTURE_TIME           86153\n",
              "DEPARTURE_DELAY          86153\n",
              "TAXI_OUT                 89047\n",
              "WHEELS_OFF               89047\n",
              "SCHEDULED_TIME               6\n",
              "ELAPSED_TIME            105071\n",
              "AIR_TIME                105071\n",
              "DISTANCE                     0\n",
              "WHEELS_ON                92513\n",
              "TAXI_IN                  92513\n",
              "SCHEDULED_ARRIVAL            0\n",
              "ARRIVAL_TIME             92513\n",
              "ARRIVAL_DELAY           105071\n",
              "DIVERTED                     0\n",
              "CANCELLED                    0\n",
              "CANCELLATION_REASON    5729195\n",
              "AIR_SYSTEM_DELAY       4755640\n",
              "SECURITY_DELAY         4755640\n",
              "AIRLINE_DELAY          4755640\n",
              "LATE_AIRCRAFT_DELAY    4755640\n",
              "WEATHER_DELAY          4755640\n",
              "AIRLINE                      0\n",
              "dtype: int64"
            ]
          },
          "metadata": {
            "tags": []
          },
          "execution_count": 13
        }
      ]
    },
    {
      "cell_type": "markdown",
      "metadata": {
        "id": "oqU6ybtDaSY4"
      },
      "source": [
        "There are millions of missing values in the cancellation reason and the specific delay time columns. This is expected, as not every flight is cancelled or delayed, and you would hope that percentage would be small of the overall flights. It may make sense to change this to 0 instead of a missing value. However we need to investigate the other null values."
      ],
      "id": "oqU6ybtDaSY4"
    },
    {
      "cell_type": "code",
      "metadata": {
        "colab": {
          "base_uri": "https://localhost:8080/"
        },
        "id": "F4a0_lYuVipO",
        "outputId": "82fd68fe-f4c0-4489-ea07-ec67d53a9c50"
      },
      "source": [
        "#how many total flights are cancelled\n",
        "sum(df.CANCELLED)"
      ],
      "id": "F4a0_lYuVipO",
      "execution_count": null,
      "outputs": [
        {
          "output_type": "execute_result",
          "data": {
            "text/plain": [
              "89884"
            ]
          },
          "metadata": {
            "tags": []
          },
          "execution_count": 14
        }
      ]
    },
    {
      "cell_type": "code",
      "metadata": {
        "colab": {
          "base_uri": "https://localhost:8080/"
        },
        "id": "z1EbpK9sVqYh",
        "outputId": "eb3e557f-9f69-4501-a219-69a938a94bab"
      },
      "source": [
        "#create dataframe with just cancelled flights\n",
        "cancel = df[df.CANCELLED == 1]\n",
        "cancel.info()"
      ],
      "id": "z1EbpK9sVqYh",
      "execution_count": null,
      "outputs": [
        {
          "output_type": "stream",
          "text": [
            "<class 'pandas.core.frame.DataFrame'>\n",
            "Int64Index: 89884 entries, 32 to 5818843\n",
            "Data columns (total 32 columns):\n",
            " #   Column               Non-Null Count  Dtype  \n",
            "---  ------               --------------  -----  \n",
            " 0   YEAR                 89884 non-null  int64  \n",
            " 1   MONTH                89884 non-null  int64  \n",
            " 2   DAY                  89884 non-null  int64  \n",
            " 3   DAY_OF_WEEK          89884 non-null  int64  \n",
            " 4   AIRLINE_CODE         89884 non-null  object \n",
            " 5   FLIGHT_NUMBER        89884 non-null  int64  \n",
            " 6   TAIL_NUMBER          75163 non-null  object \n",
            " 7   ORIGIN_AIRPORT       89884 non-null  object \n",
            " 8   DESTINATION_AIRPORT  89884 non-null  object \n",
            " 9   SCHEDULED_DEPARTURE  89884 non-null  object \n",
            " 10  DEPARTURE_TIME       3731 non-null   object \n",
            " 11  DEPARTURE_DELAY      3731 non-null   float64\n",
            " 12  TAXI_OUT             837 non-null    float64\n",
            " 13  WHEELS_OFF           837 non-null    object \n",
            " 14  SCHEDULED_TIME       89879 non-null  object \n",
            " 15  ELAPSED_TIME         0 non-null      float64\n",
            " 16  AIR_TIME             0 non-null      float64\n",
            " 17  DISTANCE             89884 non-null  int64  \n",
            " 18  WHEELS_ON            0 non-null      object \n",
            " 19  TAXI_IN              0 non-null      float64\n",
            " 20  SCHEDULED_ARRIVAL    89884 non-null  object \n",
            " 21  ARRIVAL_TIME         0 non-null      object \n",
            " 22  ARRIVAL_DELAY        0 non-null      float64\n",
            " 23  DIVERTED             89884 non-null  int64  \n",
            " 24  CANCELLED            89884 non-null  int64  \n",
            " 25  CANCELLATION_REASON  89884 non-null  object \n",
            " 26  AIR_SYSTEM_DELAY     0 non-null      float64\n",
            " 27  SECURITY_DELAY       0 non-null      float64\n",
            " 28  AIRLINE_DELAY        0 non-null      float64\n",
            " 29  LATE_AIRCRAFT_DELAY  0 non-null      float64\n",
            " 30  WEATHER_DELAY        0 non-null      float64\n",
            " 31  AIRLINE              89884 non-null  object \n",
            "dtypes: float64(11), int64(8), object(13)\n",
            "memory usage: 22.6+ MB\n"
          ],
          "name": "stdout"
        }
      ]
    },
    {
      "cell_type": "markdown",
      "metadata": {
        "id": "OG-_FEe1a3L-"
      },
      "source": [
        "For canceleld flights, we have a portion of missing values for tail number, departure_time, departure_delay, taxi_out, wheels_off, scheduled_time. All others with 0 non-null means they are all missing values for cancelled flights."
      ],
      "id": "OG-_FEe1a3L-"
    },
    {
      "cell_type": "code",
      "metadata": {
        "id": "UMrKl8rQaAlX",
        "colab": {
          "base_uri": "https://localhost:8080/",
          "height": 813
        },
        "outputId": "899ca89d-ea6b-4581-ae2a-e0eb798d063e"
      },
      "source": [
        "#find the non-null Departure Time/Delay columns\n",
        "cancel[cancel.DEPARTURE_DELAY >= 0]"
      ],
      "id": "UMrKl8rQaAlX",
      "execution_count": null,
      "outputs": [
        {
          "output_type": "execute_result",
          "data": {
            "text/html": [
              "<div>\n",
              "<style scoped>\n",
              "    .dataframe tbody tr th:only-of-type {\n",
              "        vertical-align: middle;\n",
              "    }\n",
              "\n",
              "    .dataframe tbody tr th {\n",
              "        vertical-align: top;\n",
              "    }\n",
              "\n",
              "    .dataframe thead th {\n",
              "        text-align: right;\n",
              "    }\n",
              "</style>\n",
              "<table border=\"1\" class=\"dataframe\">\n",
              "  <thead>\n",
              "    <tr style=\"text-align: right;\">\n",
              "      <th></th>\n",
              "      <th>YEAR</th>\n",
              "      <th>MONTH</th>\n",
              "      <th>DAY</th>\n",
              "      <th>DAY_OF_WEEK</th>\n",
              "      <th>AIRLINE_CODE</th>\n",
              "      <th>FLIGHT_NUMBER</th>\n",
              "      <th>TAIL_NUMBER</th>\n",
              "      <th>ORIGIN_AIRPORT</th>\n",
              "      <th>DESTINATION_AIRPORT</th>\n",
              "      <th>SCHEDULED_DEPARTURE</th>\n",
              "      <th>DEPARTURE_TIME</th>\n",
              "      <th>DEPARTURE_DELAY</th>\n",
              "      <th>TAXI_OUT</th>\n",
              "      <th>WHEELS_OFF</th>\n",
              "      <th>SCHEDULED_TIME</th>\n",
              "      <th>ELAPSED_TIME</th>\n",
              "      <th>AIR_TIME</th>\n",
              "      <th>DISTANCE</th>\n",
              "      <th>WHEELS_ON</th>\n",
              "      <th>TAXI_IN</th>\n",
              "      <th>SCHEDULED_ARRIVAL</th>\n",
              "      <th>ARRIVAL_TIME</th>\n",
              "      <th>ARRIVAL_DELAY</th>\n",
              "      <th>DIVERTED</th>\n",
              "      <th>CANCELLED</th>\n",
              "      <th>CANCELLATION_REASON</th>\n",
              "      <th>AIR_SYSTEM_DELAY</th>\n",
              "      <th>SECURITY_DELAY</th>\n",
              "      <th>AIRLINE_DELAY</th>\n",
              "      <th>LATE_AIRCRAFT_DELAY</th>\n",
              "      <th>WEATHER_DELAY</th>\n",
              "      <th>AIRLINE</th>\n",
              "    </tr>\n",
              "  </thead>\n",
              "  <tbody>\n",
              "    <tr>\n",
              "      <th>4391</th>\n",
              "      <td>2015</td>\n",
              "      <td>1</td>\n",
              "      <td>1</td>\n",
              "      <td>4</td>\n",
              "      <td>MQ</td>\n",
              "      <td>2758</td>\n",
              "      <td>N939MQ</td>\n",
              "      <td>ROW</td>\n",
              "      <td>DFW</td>\n",
              "      <td>1110</td>\n",
              "      <td>1229</td>\n",
              "      <td>79.0</td>\n",
              "      <td>NaN</td>\n",
              "      <td>NaN</td>\n",
              "      <td>85</td>\n",
              "      <td>NaN</td>\n",
              "      <td>NaN</td>\n",
              "      <td>435</td>\n",
              "      <td>NaN</td>\n",
              "      <td>NaN</td>\n",
              "      <td>1335</td>\n",
              "      <td>NaN</td>\n",
              "      <td>NaN</td>\n",
              "      <td>0</td>\n",
              "      <td>1</td>\n",
              "      <td>B</td>\n",
              "      <td>NaN</td>\n",
              "      <td>NaN</td>\n",
              "      <td>NaN</td>\n",
              "      <td>NaN</td>\n",
              "      <td>NaN</td>\n",
              "      <td>American Eagle Airlines Inc.</td>\n",
              "    </tr>\n",
              "    <tr>\n",
              "      <th>7441</th>\n",
              "      <td>2015</td>\n",
              "      <td>1</td>\n",
              "      <td>1</td>\n",
              "      <td>4</td>\n",
              "      <td>EV</td>\n",
              "      <td>4264</td>\n",
              "      <td>N27962</td>\n",
              "      <td>STL</td>\n",
              "      <td>IAH</td>\n",
              "      <td>1423</td>\n",
              "      <td>1628</td>\n",
              "      <td>125.0</td>\n",
              "      <td>12.0</td>\n",
              "      <td>1640</td>\n",
              "      <td>134</td>\n",
              "      <td>NaN</td>\n",
              "      <td>NaN</td>\n",
              "      <td>667</td>\n",
              "      <td>NaN</td>\n",
              "      <td>NaN</td>\n",
              "      <td>1637</td>\n",
              "      <td>NaN</td>\n",
              "      <td>NaN</td>\n",
              "      <td>0</td>\n",
              "      <td>1</td>\n",
              "      <td>C</td>\n",
              "      <td>NaN</td>\n",
              "      <td>NaN</td>\n",
              "      <td>NaN</td>\n",
              "      <td>NaN</td>\n",
              "      <td>NaN</td>\n",
              "      <td>Atlantic Southeast Airlines</td>\n",
              "    </tr>\n",
              "    <tr>\n",
              "      <th>8516</th>\n",
              "      <td>2015</td>\n",
              "      <td>1</td>\n",
              "      <td>1</td>\n",
              "      <td>4</td>\n",
              "      <td>EV</td>\n",
              "      <td>4707</td>\n",
              "      <td>N11526</td>\n",
              "      <td>IAH</td>\n",
              "      <td>HRL</td>\n",
              "      <td>1530</td>\n",
              "      <td>1537</td>\n",
              "      <td>7.0</td>\n",
              "      <td>13.0</td>\n",
              "      <td>1550</td>\n",
              "      <td>71</td>\n",
              "      <td>NaN</td>\n",
              "      <td>NaN</td>\n",
              "      <td>295</td>\n",
              "      <td>NaN</td>\n",
              "      <td>NaN</td>\n",
              "      <td>1641</td>\n",
              "      <td>NaN</td>\n",
              "      <td>NaN</td>\n",
              "      <td>0</td>\n",
              "      <td>1</td>\n",
              "      <td>B</td>\n",
              "      <td>NaN</td>\n",
              "      <td>NaN</td>\n",
              "      <td>NaN</td>\n",
              "      <td>NaN</td>\n",
              "      <td>NaN</td>\n",
              "      <td>Atlantic Southeast Airlines</td>\n",
              "    </tr>\n",
              "    <tr>\n",
              "      <th>10454</th>\n",
              "      <td>2015</td>\n",
              "      <td>1</td>\n",
              "      <td>1</td>\n",
              "      <td>4</td>\n",
              "      <td>MQ</td>\n",
              "      <td>3240</td>\n",
              "      <td>N925MQ</td>\n",
              "      <td>PIA</td>\n",
              "      <td>DFW</td>\n",
              "      <td>1735</td>\n",
              "      <td>1835</td>\n",
              "      <td>60.0</td>\n",
              "      <td>NaN</td>\n",
              "      <td>NaN</td>\n",
              "      <td>135</td>\n",
              "      <td>NaN</td>\n",
              "      <td>NaN</td>\n",
              "      <td>672</td>\n",
              "      <td>NaN</td>\n",
              "      <td>NaN</td>\n",
              "      <td>1950</td>\n",
              "      <td>NaN</td>\n",
              "      <td>NaN</td>\n",
              "      <td>0</td>\n",
              "      <td>1</td>\n",
              "      <td>A</td>\n",
              "      <td>NaN</td>\n",
              "      <td>NaN</td>\n",
              "      <td>NaN</td>\n",
              "      <td>NaN</td>\n",
              "      <td>NaN</td>\n",
              "      <td>American Eagle Airlines Inc.</td>\n",
              "    </tr>\n",
              "    <tr>\n",
              "      <th>13560</th>\n",
              "      <td>2015</td>\n",
              "      <td>1</td>\n",
              "      <td>1</td>\n",
              "      <td>4</td>\n",
              "      <td>EV</td>\n",
              "      <td>5968</td>\n",
              "      <td>N11109</td>\n",
              "      <td>DEN</td>\n",
              "      <td>ELP</td>\n",
              "      <td>2157</td>\n",
              "      <td>2246</td>\n",
              "      <td>49.0</td>\n",
              "      <td>NaN</td>\n",
              "      <td>NaN</td>\n",
              "      <td>108</td>\n",
              "      <td>NaN</td>\n",
              "      <td>NaN</td>\n",
              "      <td>563</td>\n",
              "      <td>NaN</td>\n",
              "      <td>NaN</td>\n",
              "      <td>2345</td>\n",
              "      <td>NaN</td>\n",
              "      <td>NaN</td>\n",
              "      <td>0</td>\n",
              "      <td>1</td>\n",
              "      <td>C</td>\n",
              "      <td>NaN</td>\n",
              "      <td>NaN</td>\n",
              "      <td>NaN</td>\n",
              "      <td>NaN</td>\n",
              "      <td>NaN</td>\n",
              "      <td>Atlantic Southeast Airlines</td>\n",
              "    </tr>\n",
              "    <tr>\n",
              "      <th>...</th>\n",
              "      <td>...</td>\n",
              "      <td>...</td>\n",
              "      <td>...</td>\n",
              "      <td>...</td>\n",
              "      <td>...</td>\n",
              "      <td>...</td>\n",
              "      <td>...</td>\n",
              "      <td>...</td>\n",
              "      <td>...</td>\n",
              "      <td>...</td>\n",
              "      <td>...</td>\n",
              "      <td>...</td>\n",
              "      <td>...</td>\n",
              "      <td>...</td>\n",
              "      <td>...</td>\n",
              "      <td>...</td>\n",
              "      <td>...</td>\n",
              "      <td>...</td>\n",
              "      <td>...</td>\n",
              "      <td>...</td>\n",
              "      <td>...</td>\n",
              "      <td>...</td>\n",
              "      <td>...</td>\n",
              "      <td>...</td>\n",
              "      <td>...</td>\n",
              "      <td>...</td>\n",
              "      <td>...</td>\n",
              "      <td>...</td>\n",
              "      <td>...</td>\n",
              "      <td>...</td>\n",
              "      <td>...</td>\n",
              "      <td>...</td>\n",
              "    </tr>\n",
              "    <tr>\n",
              "      <th>5805010</th>\n",
              "      <td>2015</td>\n",
              "      <td>12</td>\n",
              "      <td>30</td>\n",
              "      <td>3</td>\n",
              "      <td>EV</td>\n",
              "      <td>4620</td>\n",
              "      <td>N14998</td>\n",
              "      <td>IAH</td>\n",
              "      <td>AMA</td>\n",
              "      <td>2125</td>\n",
              "      <td>2236</td>\n",
              "      <td>71.0</td>\n",
              "      <td>15.0</td>\n",
              "      <td>2251</td>\n",
              "      <td>111</td>\n",
              "      <td>NaN</td>\n",
              "      <td>NaN</td>\n",
              "      <td>517</td>\n",
              "      <td>NaN</td>\n",
              "      <td>NaN</td>\n",
              "      <td>2316</td>\n",
              "      <td>NaN</td>\n",
              "      <td>NaN</td>\n",
              "      <td>0</td>\n",
              "      <td>1</td>\n",
              "      <td>B</td>\n",
              "      <td>NaN</td>\n",
              "      <td>NaN</td>\n",
              "      <td>NaN</td>\n",
              "      <td>NaN</td>\n",
              "      <td>NaN</td>\n",
              "      <td>Atlantic Southeast Airlines</td>\n",
              "    </tr>\n",
              "    <tr>\n",
              "      <th>5805188</th>\n",
              "      <td>2015</td>\n",
              "      <td>12</td>\n",
              "      <td>30</td>\n",
              "      <td>3</td>\n",
              "      <td>EV</td>\n",
              "      <td>2857</td>\n",
              "      <td>N626AE</td>\n",
              "      <td>DFW</td>\n",
              "      <td>BRO</td>\n",
              "      <td>2150</td>\n",
              "      <td>2203</td>\n",
              "      <td>13.0</td>\n",
              "      <td>14.0</td>\n",
              "      <td>2217</td>\n",
              "      <td>99</td>\n",
              "      <td>NaN</td>\n",
              "      <td>NaN</td>\n",
              "      <td>482</td>\n",
              "      <td>NaN</td>\n",
              "      <td>NaN</td>\n",
              "      <td>2329</td>\n",
              "      <td>NaN</td>\n",
              "      <td>NaN</td>\n",
              "      <td>0</td>\n",
              "      <td>1</td>\n",
              "      <td>A</td>\n",
              "      <td>NaN</td>\n",
              "      <td>NaN</td>\n",
              "      <td>NaN</td>\n",
              "      <td>NaN</td>\n",
              "      <td>NaN</td>\n",
              "      <td>Atlantic Southeast Airlines</td>\n",
              "    </tr>\n",
              "    <tr>\n",
              "      <th>5805202</th>\n",
              "      <td>2015</td>\n",
              "      <td>12</td>\n",
              "      <td>30</td>\n",
              "      <td>3</td>\n",
              "      <td>WN</td>\n",
              "      <td>151</td>\n",
              "      <td>N924WN</td>\n",
              "      <td>DAL</td>\n",
              "      <td>AMA</td>\n",
              "      <td>2150</td>\n",
              "      <td>2245</td>\n",
              "      <td>55.0</td>\n",
              "      <td>9.0</td>\n",
              "      <td>2254</td>\n",
              "      <td>70</td>\n",
              "      <td>NaN</td>\n",
              "      <td>NaN</td>\n",
              "      <td>323</td>\n",
              "      <td>NaN</td>\n",
              "      <td>NaN</td>\n",
              "      <td>2300</td>\n",
              "      <td>NaN</td>\n",
              "      <td>NaN</td>\n",
              "      <td>0</td>\n",
              "      <td>1</td>\n",
              "      <td>A</td>\n",
              "      <td>NaN</td>\n",
              "      <td>NaN</td>\n",
              "      <td>NaN</td>\n",
              "      <td>NaN</td>\n",
              "      <td>NaN</td>\n",
              "      <td>Southwest Airlines Co.</td>\n",
              "    </tr>\n",
              "    <tr>\n",
              "      <th>5815567</th>\n",
              "      <td>2015</td>\n",
              "      <td>12</td>\n",
              "      <td>31</td>\n",
              "      <td>4</td>\n",
              "      <td>WN</td>\n",
              "      <td>1754</td>\n",
              "      <td>N515SW</td>\n",
              "      <td>AUS</td>\n",
              "      <td>LBB</td>\n",
              "      <td>1605</td>\n",
              "      <td>1607</td>\n",
              "      <td>2.0</td>\n",
              "      <td>13.0</td>\n",
              "      <td>1620</td>\n",
              "      <td>70</td>\n",
              "      <td>NaN</td>\n",
              "      <td>NaN</td>\n",
              "      <td>341</td>\n",
              "      <td>NaN</td>\n",
              "      <td>NaN</td>\n",
              "      <td>1715</td>\n",
              "      <td>NaN</td>\n",
              "      <td>NaN</td>\n",
              "      <td>0</td>\n",
              "      <td>1</td>\n",
              "      <td>A</td>\n",
              "      <td>NaN</td>\n",
              "      <td>NaN</td>\n",
              "      <td>NaN</td>\n",
              "      <td>NaN</td>\n",
              "      <td>NaN</td>\n",
              "      <td>Southwest Airlines Co.</td>\n",
              "    </tr>\n",
              "    <tr>\n",
              "      <th>5816661</th>\n",
              "      <td>2015</td>\n",
              "      <td>12</td>\n",
              "      <td>31</td>\n",
              "      <td>4</td>\n",
              "      <td>WN</td>\n",
              "      <td>5669</td>\n",
              "      <td>N7712G</td>\n",
              "      <td>DAL</td>\n",
              "      <td>LBB</td>\n",
              "      <td>1735</td>\n",
              "      <td>1956</td>\n",
              "      <td>141.0</td>\n",
              "      <td>15.0</td>\n",
              "      <td>2011</td>\n",
              "      <td>65</td>\n",
              "      <td>NaN</td>\n",
              "      <td>NaN</td>\n",
              "      <td>293</td>\n",
              "      <td>NaN</td>\n",
              "      <td>NaN</td>\n",
              "      <td>1840</td>\n",
              "      <td>NaN</td>\n",
              "      <td>NaN</td>\n",
              "      <td>0</td>\n",
              "      <td>1</td>\n",
              "      <td>B</td>\n",
              "      <td>NaN</td>\n",
              "      <td>NaN</td>\n",
              "      <td>NaN</td>\n",
              "      <td>NaN</td>\n",
              "      <td>NaN</td>\n",
              "      <td>Southwest Airlines Co.</td>\n",
              "    </tr>\n",
              "  </tbody>\n",
              "</table>\n",
              "<p>2654 rows × 32 columns</p>\n",
              "</div>"
            ],
            "text/plain": [
              "         YEAR  MONTH  ...  WEATHER_DELAY                       AIRLINE\n",
              "4391     2015      1  ...            NaN  American Eagle Airlines Inc.\n",
              "7441     2015      1  ...            NaN   Atlantic Southeast Airlines\n",
              "8516     2015      1  ...            NaN   Atlantic Southeast Airlines\n",
              "10454    2015      1  ...            NaN  American Eagle Airlines Inc.\n",
              "13560    2015      1  ...            NaN   Atlantic Southeast Airlines\n",
              "...       ...    ...  ...            ...                           ...\n",
              "5805010  2015     12  ...            NaN   Atlantic Southeast Airlines\n",
              "5805188  2015     12  ...            NaN   Atlantic Southeast Airlines\n",
              "5805202  2015     12  ...            NaN        Southwest Airlines Co.\n",
              "5815567  2015     12  ...            NaN        Southwest Airlines Co.\n",
              "5816661  2015     12  ...            NaN        Southwest Airlines Co.\n",
              "\n",
              "[2654 rows x 32 columns]"
            ]
          },
          "metadata": {
            "tags": []
          },
          "execution_count": 16
        }
      ]
    },
    {
      "cell_type": "code",
      "metadata": {
        "colab": {
          "base_uri": "https://localhost:8080/"
        },
        "id": "OuMRltAldGXt",
        "outputId": "145484d7-a4cf-45f2-ccc7-e3dddd2aa9c6"
      },
      "source": [
        "# Summary of cancellation reasons in the cancel data set\n",
        "# A - Airline/Carrier; B - Weather; C - National Air System; D - Security\n",
        "cancel.groupby('CANCELLATION_REASON')['YEAR'].count()"
      ],
      "id": "OuMRltAldGXt",
      "execution_count": null,
      "outputs": [
        {
          "output_type": "execute_result",
          "data": {
            "text/plain": [
              "CANCELLATION_REASON\n",
              "A    25262\n",
              "B    48851\n",
              "C    15749\n",
              "D       22\n",
              "Name: YEAR, dtype: int64"
            ]
          },
          "metadata": {
            "tags": []
          },
          "execution_count": 17
        }
      ]
    },
    {
      "cell_type": "code",
      "metadata": {
        "id": "fAAx1cTLDWcN"
      },
      "source": [
        ""
      ],
      "id": "fAAx1cTLDWcN",
      "execution_count": null,
      "outputs": []
    },
    {
      "cell_type": "markdown",
      "metadata": {
        "id": "2xZyq7hye8i1"
      },
      "source": [
        "From the data above, 54% of cancellations are due to weather, while 45% due to airline/carrier, National Air System or Security. However, we also see some of the columns are populated (such as departure time) even if the flight is cancelled. Need to investigate the commonality for when the columns stop having values based on cancel reason."
      ],
      "id": "2xZyq7hye8i1"
    },
    {
      "cell_type": "code",
      "metadata": {
        "colab": {
          "base_uri": "https://localhost:8080/"
        },
        "id": "ucQoV_83e6st",
        "outputId": "bf7200fc-70e2-475f-a2fc-ca1256897abf"
      },
      "source": [
        "#how many flights that are cancelled by the AIRLINE null values for departure time (and therefore all subsequent times)?\n",
        "a_cancel = cancel[cancel.CANCELLATION_REASON == 'A']\n",
        "a_cancel.info()"
      ],
      "id": "ucQoV_83e6st",
      "execution_count": null,
      "outputs": [
        {
          "output_type": "stream",
          "text": [
            "<class 'pandas.core.frame.DataFrame'>\n",
            "Int64Index: 25262 entries, 32 to 5818843\n",
            "Data columns (total 32 columns):\n",
            " #   Column               Non-Null Count  Dtype  \n",
            "---  ------               --------------  -----  \n",
            " 0   YEAR                 25262 non-null  int64  \n",
            " 1   MONTH                25262 non-null  int64  \n",
            " 2   DAY                  25262 non-null  int64  \n",
            " 3   DAY_OF_WEEK          25262 non-null  int64  \n",
            " 4   AIRLINE_CODE         25262 non-null  object \n",
            " 5   FLIGHT_NUMBER        25262 non-null  int64  \n",
            " 6   TAIL_NUMBER          20241 non-null  object \n",
            " 7   ORIGIN_AIRPORT       25262 non-null  object \n",
            " 8   DESTINATION_AIRPORT  25262 non-null  object \n",
            " 9   SCHEDULED_DEPARTURE  25262 non-null  object \n",
            " 10  DEPARTURE_TIME       1588 non-null   object \n",
            " 11  DEPARTURE_DELAY      1588 non-null   float64\n",
            " 12  TAXI_OUT             290 non-null    float64\n",
            " 13  WHEELS_OFF           290 non-null    object \n",
            " 14  SCHEDULED_TIME       25262 non-null  object \n",
            " 15  ELAPSED_TIME         0 non-null      float64\n",
            " 16  AIR_TIME             0 non-null      float64\n",
            " 17  DISTANCE             25262 non-null  int64  \n",
            " 18  WHEELS_ON            0 non-null      object \n",
            " 19  TAXI_IN              0 non-null      float64\n",
            " 20  SCHEDULED_ARRIVAL    25262 non-null  object \n",
            " 21  ARRIVAL_TIME         0 non-null      object \n",
            " 22  ARRIVAL_DELAY        0 non-null      float64\n",
            " 23  DIVERTED             25262 non-null  int64  \n",
            " 24  CANCELLED            25262 non-null  int64  \n",
            " 25  CANCELLATION_REASON  25262 non-null  object \n",
            " 26  AIR_SYSTEM_DELAY     0 non-null      float64\n",
            " 27  SECURITY_DELAY       0 non-null      float64\n",
            " 28  AIRLINE_DELAY        0 non-null      float64\n",
            " 29  LATE_AIRCRAFT_DELAY  0 non-null      float64\n",
            " 30  WEATHER_DELAY        0 non-null      float64\n",
            " 31  AIRLINE              25262 non-null  object \n",
            "dtypes: float64(11), int64(8), object(13)\n",
            "memory usage: 6.4+ MB\n"
          ],
          "name": "stdout"
        }
      ]
    },
    {
      "cell_type": "code",
      "metadata": {
        "colab": {
          "base_uri": "https://localhost:8080/"
        },
        "id": "2q3lt2Vsf4aL",
        "outputId": "e63a57c0-4484-4483-c592-3c9afd137106"
      },
      "source": [
        "b_cancel = cancel[cancel.CANCELLATION_REASON == 'B']\n",
        "b_cancel.info()"
      ],
      "id": "2q3lt2Vsf4aL",
      "execution_count": null,
      "outputs": [
        {
          "output_type": "stream",
          "text": [
            "<class 'pandas.core.frame.DataFrame'>\n",
            "Int64Index: 48851 entries, 42 to 5817980\n",
            "Data columns (total 32 columns):\n",
            " #   Column               Non-Null Count  Dtype  \n",
            "---  ------               --------------  -----  \n",
            " 0   YEAR                 48851 non-null  int64  \n",
            " 1   MONTH                48851 non-null  int64  \n",
            " 2   DAY                  48851 non-null  int64  \n",
            " 3   DAY_OF_WEEK          48851 non-null  int64  \n",
            " 4   AIRLINE_CODE         48851 non-null  object \n",
            " 5   FLIGHT_NUMBER        48851 non-null  int64  \n",
            " 6   TAIL_NUMBER          40531 non-null  object \n",
            " 7   ORIGIN_AIRPORT       48851 non-null  object \n",
            " 8   DESTINATION_AIRPORT  48851 non-null  object \n",
            " 9   SCHEDULED_DEPARTURE  48851 non-null  object \n",
            " 10  DEPARTURE_TIME       1706 non-null   object \n",
            " 11  DEPARTURE_DELAY      1706 non-null   float64\n",
            " 12  TAXI_OUT             495 non-null    float64\n",
            " 13  WHEELS_OFF           495 non-null    object \n",
            " 14  SCHEDULED_TIME       48847 non-null  object \n",
            " 15  ELAPSED_TIME         0 non-null      float64\n",
            " 16  AIR_TIME             0 non-null      float64\n",
            " 17  DISTANCE             48851 non-null  int64  \n",
            " 18  WHEELS_ON            0 non-null      object \n",
            " 19  TAXI_IN              0 non-null      float64\n",
            " 20  SCHEDULED_ARRIVAL    48851 non-null  object \n",
            " 21  ARRIVAL_TIME         0 non-null      object \n",
            " 22  ARRIVAL_DELAY        0 non-null      float64\n",
            " 23  DIVERTED             48851 non-null  int64  \n",
            " 24  CANCELLED            48851 non-null  int64  \n",
            " 25  CANCELLATION_REASON  48851 non-null  object \n",
            " 26  AIR_SYSTEM_DELAY     0 non-null      float64\n",
            " 27  SECURITY_DELAY       0 non-null      float64\n",
            " 28  AIRLINE_DELAY        0 non-null      float64\n",
            " 29  LATE_AIRCRAFT_DELAY  0 non-null      float64\n",
            " 30  WEATHER_DELAY        0 non-null      float64\n",
            " 31  AIRLINE              48851 non-null  object \n",
            "dtypes: float64(11), int64(8), object(13)\n",
            "memory usage: 12.3+ MB\n"
          ],
          "name": "stdout"
        }
      ]
    },
    {
      "cell_type": "code",
      "metadata": {
        "colab": {
          "base_uri": "https://localhost:8080/"
        },
        "id": "Xt1t5R3Q2dIY",
        "outputId": "cd974000-f4b1-4dc4-e45c-d5c6b19b7b42"
      },
      "source": [
        "#create copy for new version of data with modified values for missing data\n",
        "df_clean = df\n",
        "\n",
        "#update missing values in times to 0. will be updating times to a binary (1 = yes action happened, 0 = no action happened)\n",
        "df_clean['DEPARTURE_TIME'] = df_clean['DEPARTURE_TIME'].fillna(0)\n",
        "#change all non-null values to 1\n",
        "df_clean.loc[(df_clean.DEPARTURE_TIME != '0'), 'DEPARTURE_TIME'] = 1\n",
        "\n",
        "#change column name to 'DEPARTED'\n",
        "df_clean.rename(columns={'DEPARTURE_TIME': 'DEPARTED'}, inplace=True)\n",
        "\n",
        "df_clean.isna().sum()"
      ],
      "id": "Xt1t5R3Q2dIY",
      "execution_count": 49,
      "outputs": [
        {
          "output_type": "execute_result",
          "data": {
            "text/plain": [
              "YEAR                        0\n",
              "MONTH                       0\n",
              "DAY                         0\n",
              "DAY_OF_WEEK                 0\n",
              "AIRLINE_CODE                0\n",
              "FLIGHT_NUMBER               0\n",
              "TAIL_NUMBER             14721\n",
              "ORIGIN_AIRPORT              0\n",
              "DESTINATION_AIRPORT         0\n",
              "SCHEDULED_DEPARTURE         0\n",
              "DEPARTED                    0\n",
              "DEPARTURE_DELAY         86153\n",
              "TAXI_OUT                89047\n",
              "WHEELS_OFF              89047\n",
              "SCHEDULED_TIME              6\n",
              "ELAPSED_TIME           105071\n",
              "AIR_TIME               105071\n",
              "DISTANCE                    0\n",
              "WHEELS_ON               92513\n",
              "TAXI_IN                 92513\n",
              "SCHEDULED_ARRIVAL           0\n",
              "ARRIVAL_TIME            92513\n",
              "ARRIVAL_DELAY          105071\n",
              "DIVERTED                    0\n",
              "CANCELLED                   0\n",
              "CANCELLATION_REASON         0\n",
              "AIR_SYSTEM_DELAY            0\n",
              "SECURITY_DELAY              0\n",
              "AIRLINE_DELAY               0\n",
              "LATE_AIRCRAFT_DELAY         0\n",
              "WEATHER_DELAY               0\n",
              "AIRLINE                     0\n",
              "dtype: int64"
            ]
          },
          "metadata": {
            "tags": []
          },
          "execution_count": 49
        }
      ]
    },
    {
      "cell_type": "code",
      "metadata": {
        "colab": {
          "base_uri": "https://localhost:8080/",
          "height": 400
        },
        "id": "im-QlXikKKpu",
        "outputId": "ec8fa491-6984-42a9-b54f-6d414d45c56d"
      },
      "source": [
        "df_clean.head()"
      ],
      "id": "im-QlXikKKpu",
      "execution_count": 48,
      "outputs": [
        {
          "output_type": "execute_result",
          "data": {
            "text/html": [
              "<div>\n",
              "<style scoped>\n",
              "    .dataframe tbody tr th:only-of-type {\n",
              "        vertical-align: middle;\n",
              "    }\n",
              "\n",
              "    .dataframe tbody tr th {\n",
              "        vertical-align: top;\n",
              "    }\n",
              "\n",
              "    .dataframe thead th {\n",
              "        text-align: right;\n",
              "    }\n",
              "</style>\n",
              "<table border=\"1\" class=\"dataframe\">\n",
              "  <thead>\n",
              "    <tr style=\"text-align: right;\">\n",
              "      <th></th>\n",
              "      <th>YEAR</th>\n",
              "      <th>MONTH</th>\n",
              "      <th>DAY</th>\n",
              "      <th>DAY_OF_WEEK</th>\n",
              "      <th>AIRLINE_CODE</th>\n",
              "      <th>FLIGHT_NUMBER</th>\n",
              "      <th>TAIL_NUMBER</th>\n",
              "      <th>ORIGIN_AIRPORT</th>\n",
              "      <th>DESTINATION_AIRPORT</th>\n",
              "      <th>SCHEDULED_DEPARTURE</th>\n",
              "      <th>DEPARTURE_TIME</th>\n",
              "      <th>DEPARTURE_DELAY</th>\n",
              "      <th>TAXI_OUT</th>\n",
              "      <th>WHEELS_OFF</th>\n",
              "      <th>SCHEDULED_TIME</th>\n",
              "      <th>ELAPSED_TIME</th>\n",
              "      <th>AIR_TIME</th>\n",
              "      <th>DISTANCE</th>\n",
              "      <th>WHEELS_ON</th>\n",
              "      <th>TAXI_IN</th>\n",
              "      <th>SCHEDULED_ARRIVAL</th>\n",
              "      <th>ARRIVAL_TIME</th>\n",
              "      <th>ARRIVAL_DELAY</th>\n",
              "      <th>DIVERTED</th>\n",
              "      <th>CANCELLED</th>\n",
              "      <th>CANCELLATION_REASON</th>\n",
              "      <th>AIR_SYSTEM_DELAY</th>\n",
              "      <th>SECURITY_DELAY</th>\n",
              "      <th>AIRLINE_DELAY</th>\n",
              "      <th>LATE_AIRCRAFT_DELAY</th>\n",
              "      <th>WEATHER_DELAY</th>\n",
              "      <th>AIRLINE</th>\n",
              "    </tr>\n",
              "  </thead>\n",
              "  <tbody>\n",
              "    <tr>\n",
              "      <th>0</th>\n",
              "      <td>2015</td>\n",
              "      <td>1</td>\n",
              "      <td>1</td>\n",
              "      <td>4</td>\n",
              "      <td>AS</td>\n",
              "      <td>98</td>\n",
              "      <td>N407AS</td>\n",
              "      <td>ANC</td>\n",
              "      <td>SEA</td>\n",
              "      <td>0005</td>\n",
              "      <td>1</td>\n",
              "      <td>-11.0</td>\n",
              "      <td>21.0</td>\n",
              "      <td>0015</td>\n",
              "      <td>205</td>\n",
              "      <td>194.0</td>\n",
              "      <td>169.0</td>\n",
              "      <td>1448</td>\n",
              "      <td>0404</td>\n",
              "      <td>4.0</td>\n",
              "      <td>0430</td>\n",
              "      <td>0408</td>\n",
              "      <td>-22.0</td>\n",
              "      <td>0</td>\n",
              "      <td>0</td>\n",
              "      <td>D</td>\n",
              "      <td>0.0</td>\n",
              "      <td>0.0</td>\n",
              "      <td>0.0</td>\n",
              "      <td>0.0</td>\n",
              "      <td>0.0</td>\n",
              "      <td>Alaska Airlines Inc.</td>\n",
              "    </tr>\n",
              "    <tr>\n",
              "      <th>1</th>\n",
              "      <td>2015</td>\n",
              "      <td>1</td>\n",
              "      <td>1</td>\n",
              "      <td>4</td>\n",
              "      <td>AA</td>\n",
              "      <td>2336</td>\n",
              "      <td>N3KUAA</td>\n",
              "      <td>LAX</td>\n",
              "      <td>PBI</td>\n",
              "      <td>0010</td>\n",
              "      <td>1</td>\n",
              "      <td>-8.0</td>\n",
              "      <td>12.0</td>\n",
              "      <td>0014</td>\n",
              "      <td>280</td>\n",
              "      <td>279.0</td>\n",
              "      <td>263.0</td>\n",
              "      <td>2330</td>\n",
              "      <td>0737</td>\n",
              "      <td>4.0</td>\n",
              "      <td>0750</td>\n",
              "      <td>0741</td>\n",
              "      <td>-9.0</td>\n",
              "      <td>0</td>\n",
              "      <td>0</td>\n",
              "      <td>D</td>\n",
              "      <td>0.0</td>\n",
              "      <td>0.0</td>\n",
              "      <td>0.0</td>\n",
              "      <td>0.0</td>\n",
              "      <td>0.0</td>\n",
              "      <td>American Airlines Inc.</td>\n",
              "    </tr>\n",
              "    <tr>\n",
              "      <th>2</th>\n",
              "      <td>2015</td>\n",
              "      <td>1</td>\n",
              "      <td>1</td>\n",
              "      <td>4</td>\n",
              "      <td>US</td>\n",
              "      <td>840</td>\n",
              "      <td>N171US</td>\n",
              "      <td>SFO</td>\n",
              "      <td>CLT</td>\n",
              "      <td>0020</td>\n",
              "      <td>1</td>\n",
              "      <td>-2.0</td>\n",
              "      <td>16.0</td>\n",
              "      <td>0034</td>\n",
              "      <td>286</td>\n",
              "      <td>293.0</td>\n",
              "      <td>266.0</td>\n",
              "      <td>2296</td>\n",
              "      <td>0800</td>\n",
              "      <td>11.0</td>\n",
              "      <td>0806</td>\n",
              "      <td>0811</td>\n",
              "      <td>5.0</td>\n",
              "      <td>0</td>\n",
              "      <td>0</td>\n",
              "      <td>D</td>\n",
              "      <td>0.0</td>\n",
              "      <td>0.0</td>\n",
              "      <td>0.0</td>\n",
              "      <td>0.0</td>\n",
              "      <td>0.0</td>\n",
              "      <td>US Airways Inc.</td>\n",
              "    </tr>\n",
              "    <tr>\n",
              "      <th>3</th>\n",
              "      <td>2015</td>\n",
              "      <td>1</td>\n",
              "      <td>1</td>\n",
              "      <td>4</td>\n",
              "      <td>AA</td>\n",
              "      <td>258</td>\n",
              "      <td>N3HYAA</td>\n",
              "      <td>LAX</td>\n",
              "      <td>MIA</td>\n",
              "      <td>0020</td>\n",
              "      <td>1</td>\n",
              "      <td>-5.0</td>\n",
              "      <td>15.0</td>\n",
              "      <td>0030</td>\n",
              "      <td>285</td>\n",
              "      <td>281.0</td>\n",
              "      <td>258.0</td>\n",
              "      <td>2342</td>\n",
              "      <td>0748</td>\n",
              "      <td>8.0</td>\n",
              "      <td>0805</td>\n",
              "      <td>0756</td>\n",
              "      <td>-9.0</td>\n",
              "      <td>0</td>\n",
              "      <td>0</td>\n",
              "      <td>D</td>\n",
              "      <td>0.0</td>\n",
              "      <td>0.0</td>\n",
              "      <td>0.0</td>\n",
              "      <td>0.0</td>\n",
              "      <td>0.0</td>\n",
              "      <td>American Airlines Inc.</td>\n",
              "    </tr>\n",
              "    <tr>\n",
              "      <th>4</th>\n",
              "      <td>2015</td>\n",
              "      <td>1</td>\n",
              "      <td>1</td>\n",
              "      <td>4</td>\n",
              "      <td>AS</td>\n",
              "      <td>135</td>\n",
              "      <td>N527AS</td>\n",
              "      <td>SEA</td>\n",
              "      <td>ANC</td>\n",
              "      <td>0025</td>\n",
              "      <td>1</td>\n",
              "      <td>-1.0</td>\n",
              "      <td>11.0</td>\n",
              "      <td>0035</td>\n",
              "      <td>235</td>\n",
              "      <td>215.0</td>\n",
              "      <td>199.0</td>\n",
              "      <td>1448</td>\n",
              "      <td>0254</td>\n",
              "      <td>5.0</td>\n",
              "      <td>0320</td>\n",
              "      <td>0259</td>\n",
              "      <td>-21.0</td>\n",
              "      <td>0</td>\n",
              "      <td>0</td>\n",
              "      <td>D</td>\n",
              "      <td>0.0</td>\n",
              "      <td>0.0</td>\n",
              "      <td>0.0</td>\n",
              "      <td>0.0</td>\n",
              "      <td>0.0</td>\n",
              "      <td>Alaska Airlines Inc.</td>\n",
              "    </tr>\n",
              "  </tbody>\n",
              "</table>\n",
              "</div>"
            ],
            "text/plain": [
              "   YEAR  MONTH  DAY  ...  LATE_AIRCRAFT_DELAY WEATHER_DELAY                 AIRLINE\n",
              "0  2015      1    1  ...                  0.0           0.0    Alaska Airlines Inc.\n",
              "1  2015      1    1  ...                  0.0           0.0  American Airlines Inc.\n",
              "2  2015      1    1  ...                  0.0           0.0         US Airways Inc.\n",
              "3  2015      1    1  ...                  0.0           0.0  American Airlines Inc.\n",
              "4  2015      1    1  ...                  0.0           0.0    Alaska Airlines Inc.\n",
              "\n",
              "[5 rows x 32 columns]"
            ]
          },
          "metadata": {
            "tags": []
          },
          "execution_count": 48
        }
      ]
    },
    {
      "cell_type": "code",
      "metadata": {
        "colab": {
          "base_uri": "https://localhost:8080/"
        },
        "id": "tFGmuJbLKmNX",
        "outputId": "efcf9d97-4ed8-48a8-b675-174f1166e6c1"
      },
      "source": [
        "cols = ['WHEELS_OFF','WHEELS_ON','ARRIVAL_TIME']\n",
        "df_clean[cols] = df_clean[cols].fillna(0)\n",
        "\n",
        "df_clean.loc[(df_clean.WHEELS_OFF != '0'), 'WHEELS_OFF'] = 1\n",
        "df_clean.loc[(df_clean.WHEELS_ON != '0'), 'WHEELS_ON'] = 1\n",
        "df_clean.loc[(df_clean.ARRIVAL_TIME != '0'), 'ARRIVAL_TIME'] = 1\n",
        "\n",
        "df_clean.rename(columns={'ARRIVAL_TIME': 'ARRIVED'}, inplace=True)\n",
        "\n",
        "df_clean.isna().sum()"
      ],
      "id": "tFGmuJbLKmNX",
      "execution_count": 51,
      "outputs": [
        {
          "output_type": "execute_result",
          "data": {
            "text/plain": [
              "YEAR                        0\n",
              "MONTH                       0\n",
              "DAY                         0\n",
              "DAY_OF_WEEK                 0\n",
              "AIRLINE_CODE                0\n",
              "FLIGHT_NUMBER               0\n",
              "TAIL_NUMBER             14721\n",
              "ORIGIN_AIRPORT              0\n",
              "DESTINATION_AIRPORT         0\n",
              "SCHEDULED_DEPARTURE         0\n",
              "DEPARTED                    0\n",
              "DEPARTURE_DELAY         86153\n",
              "TAXI_OUT                89047\n",
              "WHEELS_OFF                  0\n",
              "SCHEDULED_TIME              6\n",
              "ELAPSED_TIME           105071\n",
              "AIR_TIME               105071\n",
              "DISTANCE                    0\n",
              "WHEELS_ON                   0\n",
              "TAXI_IN                 92513\n",
              "SCHEDULED_ARRIVAL           0\n",
              "ARRIVED                     0\n",
              "ARRIVAL_DELAY          105071\n",
              "DIVERTED                    0\n",
              "CANCELLED                   0\n",
              "CANCELLATION_REASON         0\n",
              "AIR_SYSTEM_DELAY            0\n",
              "SECURITY_DELAY              0\n",
              "AIRLINE_DELAY               0\n",
              "LATE_AIRCRAFT_DELAY         0\n",
              "WEATHER_DELAY               0\n",
              "AIRLINE                     0\n",
              "dtype: int64"
            ]
          },
          "metadata": {
            "tags": []
          },
          "execution_count": 51
        }
      ]
    },
    {
      "cell_type": "code",
      "metadata": {
        "colab": {
          "base_uri": "https://localhost:8080/"
        },
        "id": "Fpfx_kk-7gvU",
        "outputId": "e772e1db-52e1-42a6-c7ea-cd478beae5f4"
      },
      "source": [
        "df_clean['CANCELLATION_REASON'] = df_clean['CANCELLATION_REASON'].fillna('D')\n",
        "cols = ['AIR_SYSTEM_DELAY','SECURITY_DELAY','AIRLINE_DELAY','LATE_AIRCRAFT_DELAY','WEATHER_DELAY']\n",
        "df_clean[cols] = df_clean[cols].fillna(0)\n",
        "df_clean.isna().sum()"
      ],
      "id": "Fpfx_kk-7gvU",
      "execution_count": 52,
      "outputs": [
        {
          "output_type": "execute_result",
          "data": {
            "text/plain": [
              "YEAR                        0\n",
              "MONTH                       0\n",
              "DAY                         0\n",
              "DAY_OF_WEEK                 0\n",
              "AIRLINE_CODE                0\n",
              "FLIGHT_NUMBER               0\n",
              "TAIL_NUMBER             14721\n",
              "ORIGIN_AIRPORT              0\n",
              "DESTINATION_AIRPORT         0\n",
              "SCHEDULED_DEPARTURE         0\n",
              "DEPARTED                    0\n",
              "DEPARTURE_DELAY         86153\n",
              "TAXI_OUT                89047\n",
              "WHEELS_OFF                  0\n",
              "SCHEDULED_TIME              6\n",
              "ELAPSED_TIME           105071\n",
              "AIR_TIME               105071\n",
              "DISTANCE                    0\n",
              "WHEELS_ON                   0\n",
              "TAXI_IN                 92513\n",
              "SCHEDULED_ARRIVAL           0\n",
              "ARRIVED                     0\n",
              "ARRIVAL_DELAY          105071\n",
              "DIVERTED                    0\n",
              "CANCELLED                   0\n",
              "CANCELLATION_REASON         0\n",
              "AIR_SYSTEM_DELAY            0\n",
              "SECURITY_DELAY              0\n",
              "AIRLINE_DELAY               0\n",
              "LATE_AIRCRAFT_DELAY         0\n",
              "WEATHER_DELAY               0\n",
              "AIRLINE                     0\n",
              "dtype: int64"
            ]
          },
          "metadata": {
            "tags": []
          },
          "execution_count": 52
        }
      ]
    },
    {
      "cell_type": "code",
      "metadata": {
        "id": "8zUc4UR39yLc",
        "colab": {
          "base_uri": "https://localhost:8080/"
        },
        "outputId": "c5aa6eaf-7ee0-4f62-a281-8922bd47e480"
      },
      "source": [
        "#change remaining null values to 0 if flight was cancelled\n",
        "df_clean.loc[(df_clean.CANCELLED == 1), ('DEPARTURE_DELAY', 'TAXI_OUT', 'ELAPSED_TIME','AIR_TIME','TAXI_IN','ARRIVAL_DELAY')] = 0\n",
        "df_clean.isna().sum()"
      ],
      "id": "8zUc4UR39yLc",
      "execution_count": 54,
      "outputs": [
        {
          "output_type": "execute_result",
          "data": {
            "text/plain": [
              "YEAR                       0\n",
              "MONTH                      0\n",
              "DAY                        0\n",
              "DAY_OF_WEEK                0\n",
              "AIRLINE_CODE               0\n",
              "FLIGHT_NUMBER              0\n",
              "TAIL_NUMBER            14721\n",
              "ORIGIN_AIRPORT             0\n",
              "DESTINATION_AIRPORT        0\n",
              "SCHEDULED_DEPARTURE        0\n",
              "DEPARTED                   0\n",
              "DEPARTURE_DELAY            0\n",
              "TAXI_OUT                   0\n",
              "WHEELS_OFF                 0\n",
              "SCHEDULED_TIME             6\n",
              "ELAPSED_TIME           15187\n",
              "AIR_TIME               15187\n",
              "DISTANCE                   0\n",
              "WHEELS_ON                  0\n",
              "TAXI_IN                 2629\n",
              "SCHEDULED_ARRIVAL          0\n",
              "ARRIVED                    0\n",
              "ARRIVAL_DELAY          15187\n",
              "DIVERTED                   0\n",
              "CANCELLED                  0\n",
              "CANCELLATION_REASON        0\n",
              "AIR_SYSTEM_DELAY           0\n",
              "SECURITY_DELAY             0\n",
              "AIRLINE_DELAY              0\n",
              "LATE_AIRCRAFT_DELAY        0\n",
              "WEATHER_DELAY              0\n",
              "AIRLINE                    0\n",
              "dtype: int64"
            ]
          },
          "metadata": {
            "tags": []
          },
          "execution_count": 54
        }
      ]
    },
    {
      "cell_type": "code",
      "metadata": {
        "colab": {
          "base_uri": "https://localhost:8080/",
          "height": 192
        },
        "id": "Uc_itZTgNSMj",
        "outputId": "97bd273a-91ea-4c92-abf1-123903623835"
      },
      "source": [
        "#remove remaining null value\n",
        "df_clean = df_clean.dropna()"
      ],
      "id": "Uc_itZTgNSMj",
      "execution_count": 1,
      "outputs": [
        {
          "output_type": "error",
          "ename": "NameError",
          "evalue": "ignored",
          "traceback": [
            "\u001b[0;31m---------------------------------------------------------------------------\u001b[0m",
            "\u001b[0;31mNameError\u001b[0m                                 Traceback (most recent call last)",
            "\u001b[0;32m<ipython-input-1-5c808be77c8a>\u001b[0m in \u001b[0;36m<module>\u001b[0;34m()\u001b[0m\n\u001b[1;32m      1\u001b[0m \u001b[0;31m#remove remaining null value\u001b[0m\u001b[0;34m\u001b[0m\u001b[0;34m\u001b[0m\u001b[0;34m\u001b[0m\u001b[0m\n\u001b[0;32m----> 2\u001b[0;31m \u001b[0mdf_clean\u001b[0m \u001b[0;34m=\u001b[0m \u001b[0mdf_clean\u001b[0m\u001b[0;34m.\u001b[0m\u001b[0mdropna\u001b[0m\u001b[0;34m(\u001b[0m\u001b[0;34m)\u001b[0m\u001b[0;34m\u001b[0m\u001b[0;34m\u001b[0m\u001b[0m\n\u001b[0m",
            "\u001b[0;31mNameError\u001b[0m: name 'df_clean' is not defined"
          ]
        }
      ]
    },
    {
      "cell_type": "code",
      "metadata": {
        "id": "D-cJduUyNvt7"
      },
      "source": [
        "df_clean.isna().sum()"
      ],
      "id": "D-cJduUyNvt7",
      "execution_count": null,
      "outputs": []
    },
    {
      "cell_type": "code",
      "metadata": {
        "id": "186c551d",
        "colab": {
          "base_uri": "https://localhost:8080/",
          "height": 337
        },
        "outputId": "59f1558c-8928-4bb3-8cc6-ebdb445e7081"
      },
      "source": [
        "# Check for outliers on continuous variables\n",
        "# Source: https://stackoverflow.com/questions/25039626/how-do-i-find-numeric-columns-in-pandas\n",
        "num_col = df.select_dtypes(include = np.number).columns.tolist() \n",
        "df.boxplot(column = num_col)"
      ],
      "id": "186c551d",
      "execution_count": null,
      "outputs": [
        {
          "output_type": "stream",
          "text": [
            "/usr/local/lib/python3.7/dist-packages/numpy/core/_asarray.py:83: VisibleDeprecationWarning: Creating an ndarray from ragged nested sequences (which is a list-or-tuple of lists-or-tuples-or ndarrays with different lengths or shapes) is deprecated. If you meant to do this, you must specify 'dtype=object' when creating the ndarray\n",
            "  return array(a, dtype, copy=False, order=order)\n"
          ],
          "name": "stderr"
        },
        {
          "output_type": "execute_result",
          "data": {
            "text/plain": [
              "<matplotlib.axes._subplots.AxesSubplot at 0x7f938e8ae0d0>"
            ]
          },
          "metadata": {
            "tags": []
          },
          "execution_count": 20
        },
        {
          "output_type": "display_data",
          "data": {
            "image/png": "[encoded data removed]",
            "text/plain": [
              "<Figure size 432x288 with 1 Axes>"
            ]
          },
          "metadata": {
            "tags": [],
            "needs_background": "light"
          }
        }
      ]
    },
    {
      "cell_type": "markdown",
      "metadata": {
        "id": "8523923c"
      },
      "source": [
        "Note... need to do some more work here, group at different scales or split out individually"
      ],
      "id": "8523923c"
    },
    {
      "cell_type": "markdown",
      "metadata": {
        "id": "6cdc68a0"
      },
      "source": [
        "### Simple Statistics"
      ],
      "id": "6cdc68a0"
    },
    {
      "cell_type": "markdown",
      "metadata": {
        "id": "da956f44"
      },
      "source": [
        "Visualize appropriate statistics (e.g., range, mode, mean, median, variance, counts) for a subset of attributes. Describe anything meaningful you found from this or if you found something potentially interesting. Note: You can also use data from other sources for comparison. Explain why the statistics run are meaningful. "
      ],
      "id": "da956f44"
    },
    {
      "cell_type": "code",
      "metadata": {
        "id": "5512eec4",
        "colab": {
          "base_uri": "https://localhost:8080/",
          "height": 317
        },
        "outputId": "46e1875e-4c42-4afe-dac0-cf6c455911f5"
      },
      "source": [
        "df.describe()"
      ],
      "id": "5512eec4",
      "execution_count": null,
      "outputs": [
        {
          "output_type": "execute_result",
          "data": {
            "text/html": [
              "<div>\n",
              "<style scoped>\n",
              "    .dataframe tbody tr th:only-of-type {\n",
              "        vertical-align: middle;\n",
              "    }\n",
              "\n",
              "    .dataframe tbody tr th {\n",
              "        vertical-align: top;\n",
              "    }\n",
              "\n",
              "    .dataframe thead th {\n",
              "        text-align: right;\n",
              "    }\n",
              "</style>\n",
              "<table border=\"1\" class=\"dataframe\">\n",
              "  <thead>\n",
              "    <tr style=\"text-align: right;\">\n",
              "      <th></th>\n",
              "      <th>YEAR</th>\n",
              "      <th>MONTH</th>\n",
              "      <th>DAY</th>\n",
              "      <th>DAY_OF_WEEK</th>\n",
              "      <th>FLIGHT_NUMBER</th>\n",
              "      <th>DEPARTURE_DELAY</th>\n",
              "      <th>TAXI_OUT</th>\n",
              "      <th>ELAPSED_TIME</th>\n",
              "      <th>AIR_TIME</th>\n",
              "      <th>DISTANCE</th>\n",
              "      <th>TAXI_IN</th>\n",
              "      <th>ARRIVAL_DELAY</th>\n",
              "      <th>DIVERTED</th>\n",
              "      <th>CANCELLED</th>\n",
              "      <th>AIR_SYSTEM_DELAY</th>\n",
              "      <th>SECURITY_DELAY</th>\n",
              "      <th>AIRLINE_DELAY</th>\n",
              "      <th>LATE_AIRCRAFT_DELAY</th>\n",
              "      <th>WEATHER_DELAY</th>\n",
              "    </tr>\n",
              "  </thead>\n",
              "  <tbody>\n",
              "    <tr>\n",
              "      <th>count</th>\n",
              "      <td>5819079.0</td>\n",
              "      <td>5.819079e+06</td>\n",
              "      <td>5.819079e+06</td>\n",
              "      <td>5.819079e+06</td>\n",
              "      <td>5.819079e+06</td>\n",
              "      <td>5.732926e+06</td>\n",
              "      <td>5.730032e+06</td>\n",
              "      <td>5.714008e+06</td>\n",
              "      <td>5.714008e+06</td>\n",
              "      <td>5.819079e+06</td>\n",
              "      <td>5.726566e+06</td>\n",
              "      <td>5.714008e+06</td>\n",
              "      <td>5.819079e+06</td>\n",
              "      <td>5.819079e+06</td>\n",
              "      <td>1.063439e+06</td>\n",
              "      <td>1.063439e+06</td>\n",
              "      <td>1.063439e+06</td>\n",
              "      <td>1.063439e+06</td>\n",
              "      <td>1.063439e+06</td>\n",
              "    </tr>\n",
              "    <tr>\n",
              "      <th>mean</th>\n",
              "      <td>2015.0</td>\n",
              "      <td>6.524085e+00</td>\n",
              "      <td>1.570459e+01</td>\n",
              "      <td>3.926941e+00</td>\n",
              "      <td>2.173093e+03</td>\n",
              "      <td>9.370158e+00</td>\n",
              "      <td>1.607166e+01</td>\n",
              "      <td>1.370062e+02</td>\n",
              "      <td>1.135116e+02</td>\n",
              "      <td>8.223565e+02</td>\n",
              "      <td>7.434971e+00</td>\n",
              "      <td>4.407057e+00</td>\n",
              "      <td>2.609863e-03</td>\n",
              "      <td>1.544643e-02</td>\n",
              "      <td>1.348057e+01</td>\n",
              "      <td>7.615387e-02</td>\n",
              "      <td>1.896955e+01</td>\n",
              "      <td>2.347284e+01</td>\n",
              "      <td>2.915290e+00</td>\n",
              "    </tr>\n",
              "    <tr>\n",
              "      <th>std</th>\n",
              "      <td>0.0</td>\n",
              "      <td>3.405137e+00</td>\n",
              "      <td>8.783425e+00</td>\n",
              "      <td>1.988845e+00</td>\n",
              "      <td>1.757064e+03</td>\n",
              "      <td>3.708094e+01</td>\n",
              "      <td>8.895574e+00</td>\n",
              "      <td>7.421107e+01</td>\n",
              "      <td>7.223082e+01</td>\n",
              "      <td>6.077843e+02</td>\n",
              "      <td>5.638548e+00</td>\n",
              "      <td>3.927130e+01</td>\n",
              "      <td>5.102012e-02</td>\n",
              "      <td>1.233201e-01</td>\n",
              "      <td>2.800368e+01</td>\n",
              "      <td>2.143460e+00</td>\n",
              "      <td>4.816164e+01</td>\n",
              "      <td>4.319702e+01</td>\n",
              "      <td>2.043334e+01</td>\n",
              "    </tr>\n",
              "    <tr>\n",
              "      <th>min</th>\n",
              "      <td>2015.0</td>\n",
              "      <td>1.000000e+00</td>\n",
              "      <td>1.000000e+00</td>\n",
              "      <td>1.000000e+00</td>\n",
              "      <td>1.000000e+00</td>\n",
              "      <td>-8.200000e+01</td>\n",
              "      <td>1.000000e+00</td>\n",
              "      <td>1.400000e+01</td>\n",
              "      <td>7.000000e+00</td>\n",
              "      <td>2.100000e+01</td>\n",
              "      <td>1.000000e+00</td>\n",
              "      <td>-8.700000e+01</td>\n",
              "      <td>0.000000e+00</td>\n",
              "      <td>0.000000e+00</td>\n",
              "      <td>0.000000e+00</td>\n",
              "      <td>0.000000e+00</td>\n",
              "      <td>0.000000e+00</td>\n",
              "      <td>0.000000e+00</td>\n",
              "      <td>0.000000e+00</td>\n",
              "    </tr>\n",
              "    <tr>\n",
              "      <th>25%</th>\n",
              "      <td>2015.0</td>\n",
              "      <td>4.000000e+00</td>\n",
              "      <td>8.000000e+00</td>\n",
              "      <td>2.000000e+00</td>\n",
              "      <td>7.300000e+02</td>\n",
              "      <td>-5.000000e+00</td>\n",
              "      <td>1.100000e+01</td>\n",
              "      <td>8.200000e+01</td>\n",
              "      <td>6.000000e+01</td>\n",
              "      <td>3.730000e+02</td>\n",
              "      <td>4.000000e+00</td>\n",
              "      <td>-1.300000e+01</td>\n",
              "      <td>0.000000e+00</td>\n",
              "      <td>0.000000e+00</td>\n",
              "      <td>0.000000e+00</td>\n",
              "      <td>0.000000e+00</td>\n",
              "      <td>0.000000e+00</td>\n",
              "      <td>0.000000e+00</td>\n",
              "      <td>0.000000e+00</td>\n",
              "    </tr>\n",
              "    <tr>\n",
              "      <th>50%</th>\n",
              "      <td>2015.0</td>\n",
              "      <td>7.000000e+00</td>\n",
              "      <td>1.600000e+01</td>\n",
              "      <td>4.000000e+00</td>\n",
              "      <td>1.690000e+03</td>\n",
              "      <td>-2.000000e+00</td>\n",
              "      <td>1.400000e+01</td>\n",
              "      <td>1.180000e+02</td>\n",
              "      <td>9.400000e+01</td>\n",
              "      <td>6.470000e+02</td>\n",
              "      <td>6.000000e+00</td>\n",
              "      <td>-5.000000e+00</td>\n",
              "      <td>0.000000e+00</td>\n",
              "      <td>0.000000e+00</td>\n",
              "      <td>2.000000e+00</td>\n",
              "      <td>0.000000e+00</td>\n",
              "      <td>2.000000e+00</td>\n",
              "      <td>3.000000e+00</td>\n",
              "      <td>0.000000e+00</td>\n",
              "    </tr>\n",
              "    <tr>\n",
              "      <th>75%</th>\n",
              "      <td>2015.0</td>\n",
              "      <td>9.000000e+00</td>\n",
              "      <td>2.300000e+01</td>\n",
              "      <td>6.000000e+00</td>\n",
              "      <td>3.230000e+03</td>\n",
              "      <td>7.000000e+00</td>\n",
              "      <td>1.900000e+01</td>\n",
              "      <td>1.680000e+02</td>\n",
              "      <td>1.440000e+02</td>\n",
              "      <td>1.062000e+03</td>\n",
              "      <td>9.000000e+00</td>\n",
              "      <td>8.000000e+00</td>\n",
              "      <td>0.000000e+00</td>\n",
              "      <td>0.000000e+00</td>\n",
              "      <td>1.800000e+01</td>\n",
              "      <td>0.000000e+00</td>\n",
              "      <td>1.900000e+01</td>\n",
              "      <td>2.900000e+01</td>\n",
              "      <td>0.000000e+00</td>\n",
              "    </tr>\n",
              "    <tr>\n",
              "      <th>max</th>\n",
              "      <td>2015.0</td>\n",
              "      <td>1.200000e+01</td>\n",
              "      <td>3.100000e+01</td>\n",
              "      <td>7.000000e+00</td>\n",
              "      <td>9.855000e+03</td>\n",
              "      <td>1.988000e+03</td>\n",
              "      <td>2.250000e+02</td>\n",
              "      <td>7.660000e+02</td>\n",
              "      <td>6.900000e+02</td>\n",
              "      <td>4.983000e+03</td>\n",
              "      <td>2.480000e+02</td>\n",
              "      <td>1.971000e+03</td>\n",
              "      <td>1.000000e+00</td>\n",
              "      <td>1.000000e+00</td>\n",
              "      <td>1.134000e+03</td>\n",
              "      <td>5.730000e+02</td>\n",
              "      <td>1.971000e+03</td>\n",
              "      <td>1.331000e+03</td>\n",
              "      <td>1.211000e+03</td>\n",
              "    </tr>\n",
              "  </tbody>\n",
              "</table>\n",
              "</div>"
            ],
            "text/plain": [
              "            YEAR         MONTH  ...  LATE_AIRCRAFT_DELAY  WEATHER_DELAY\n",
              "count  5819079.0  5.819079e+06  ...         1.063439e+06   1.063439e+06\n",
              "mean      2015.0  6.524085e+00  ...         2.347284e+01   2.915290e+00\n",
              "std          0.0  3.405137e+00  ...         4.319702e+01   2.043334e+01\n",
              "min       2015.0  1.000000e+00  ...         0.000000e+00   0.000000e+00\n",
              "25%       2015.0  4.000000e+00  ...         0.000000e+00   0.000000e+00\n",
              "50%       2015.0  7.000000e+00  ...         3.000000e+00   0.000000e+00\n",
              "75%       2015.0  9.000000e+00  ...         2.900000e+01   0.000000e+00\n",
              "max       2015.0  1.200000e+01  ...         1.331000e+03   1.211000e+03\n",
              "\n",
              "[8 rows x 19 columns]"
            ]
          },
          "metadata": {
            "tags": []
          },
          "execution_count": 21
        }
      ]
    },
    {
      "cell_type": "markdown",
      "metadata": {
        "id": "beb3cf96"
      },
      "source": [
        "### Visualize Attributes"
      ],
      "id": "beb3cf96"
    },
    {
      "cell_type": "markdown",
      "metadata": {
        "id": "21351a2d"
      },
      "source": [
        "Visualize the most interesting attributes (at least 5 attributes, your opinion on what is interesting). Important: Interpret the implications for each visualization. Explain for each attribute why the chosen visualization is appropriate."
      ],
      "id": "21351a2d"
    },
    {
      "cell_type": "code",
      "metadata": {
        "id": "9331cc7f",
        "colab": {
          "base_uri": "https://localhost:8080/",
          "height": 308
        },
        "outputId": "e106566e-d19f-495c-a790-f0945efa8bd8"
      },
      "source": [
        "# Flights by day of the week\n",
        "sns.histplot(df, x = 'DAY_OF_WEEK', binwidth = 1)"
      ],
      "id": "9331cc7f",
      "execution_count": null,
      "outputs": [
        {
          "output_type": "execute_result",
          "data": {
            "text/plain": [
              "<matplotlib.axes._subplots.AxesSubplot at 0x7f938e631b50>"
            ]
          },
          "metadata": {
            "tags": []
          },
          "execution_count": 22
        },
        {
          "output_type": "display_data",
          "data": {
            "image/png": "[encoded data removed]",
            "text/plain": [
              "<Figure size 432x288 with 1 Axes>"
            ]
          },
          "metadata": {
            "tags": [],
            "needs_background": "light"
          }
        }
      ]
    },
    {
      "cell_type": "markdown",
      "metadata": {
        "id": "37dfc20e"
      },
      "source": [
        "### Explore Joint Attributes"
      ],
      "id": "37dfc20e"
    },
    {
      "cell_type": "markdown",
      "metadata": {
        "id": "baf29b0d"
      },
      "source": [
        "Visualize relationships between attributes: Look at the attributes via scatter plots, correlation, cross-tabulation, group-wise averages, etc. as appropriate. Explain any interesting relationships."
      ],
      "id": "baf29b0d"
    },
    {
      "cell_type": "code",
      "metadata": {
        "id": "3f0fff71",
        "colab": {
          "base_uri": "https://localhost:8080/",
          "height": 1000
        },
        "outputId": "15c6319a-dc47-498a-b03b-7a17a8f376dc"
      },
      "source": [
        "# Examine correlation visually using Seaborn. (Code adapted from 02. Data Visualization.ipynb)\n",
        "cmap = sns.diverging_palette(220, 10, as_cmap=True)\n",
        "\n",
        "sns.set(style = \"darkgrid\") # one of the many styles to plot using\n",
        "\n",
        "f, ax = plt.subplots(figsize = (20, 20))\n",
        "\n",
        "sns.heatmap(df.corr(), cmap=cmap, annot = True)"
      ],
      "id": "3f0fff71",
      "execution_count": null,
      "outputs": [
        {
          "output_type": "execute_result",
          "data": {
            "text/plain": [
              "<matplotlib.axes._subplots.AxesSubplot at 0x7f938e121490>"
            ]
          },
          "metadata": {
            "tags": []
          },
          "execution_count": 23
        },
        {
          "output_type": "display_data",
          "data": {
            "image/png": "[encoded data removed]",
            "text/plain": [
              "<Figure size 1440x1440 with 2 Axes>"
            ]
          },
          "metadata": {
            "tags": []
          }
        }
      ]
    },
    {
      "cell_type": "markdown",
      "metadata": {
        "id": "2f2381b7"
      },
      "source": [
        "### Explore Attributes and Class"
      ],
      "id": "2f2381b7"
    },
    {
      "cell_type": "markdown",
      "metadata": {
        "id": "7e4eafb0"
      },
      "source": [
        "Identify and explain interesting relationships between features and the class you are trying to predict (i.e., relationships with variables and the target classification)."
      ],
      "id": "7e4eafb0"
    },
    {
      "cell_type": "markdown",
      "metadata": {
        "id": "42a3e916"
      },
      "source": [
        "### New Features "
      ],
      "id": "42a3e916"
    },
    {
      "cell_type": "markdown",
      "metadata": {
        "id": "c80b7167"
      },
      "source": [
        "Are there other features that could be added to the data or created from existing features? Which ones?"
      ],
      "id": "c80b7167"
    },
    {
      "cell_type": "markdown",
      "metadata": {
        "id": "27739c81"
      },
      "source": [
        "### Exceptional Work"
      ],
      "id": "27739c81"
    },
    {
      "cell_type": "markdown",
      "metadata": {
        "id": "27732deb"
      },
      "source": [
        "You have free reign to provide additional analyses. One idea: implement dimensionality reduction, then visualize and interpret the results. (aka PCA)"
      ],
      "id": "27732deb"
    }
  ]
}