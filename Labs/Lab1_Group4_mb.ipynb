{
 "cells": [
  {
   "cell_type": "markdown",
   "metadata": {
    "colab_type": "text",
    "id": "view-in-github"
   },
   "source": [
    "<a href=\"https://colab.research.google.com/github/mattfarrow1/7331-machine-learning-1/blob/main/Labs/Lab1_Group4_mb.ipynb\" target=\"_parent\"><img src=\"https://colab.research.google.com/assets/colab-badge.svg\" alt=\"Open In Colab\"/></a>"
   ]
  },
  {
   "cell_type": "markdown",
   "metadata": {
    "id": "c0d2e13f"
   },
   "source": [
    "# Lab One: Visualization and Data Preprocessing"
   ]
  },
  {
   "cell_type": "markdown",
   "metadata": {
    "id": "6d024d25"
   },
   "source": [
    "Matt Farrow, Amber Clark, Blake Freeman, Megan Ball"
   ]
  },
  {
   "cell_type": "markdown",
   "metadata": {
    "id": "88d28dcd"
   },
   "source": [
    "## **2015 Flight Delays and Cancellations**\n",
    "Data Source: [Kaggle](https://www.kaggle.com/usdot/flight-delays?select=flights.csv)"
   ]
  },
  {
   "cell_type": "markdown",
   "metadata": {
    "id": "83abe554"
   },
   "source": [
    "## Business Understanding"
   ]
  },
  {
   "cell_type": "markdown",
   "metadata": {
    "id": "d1779117"
   },
   "source": [
    "`Describe the purpose of the data set you selected (i.e., why was this data collected in the first place?). Describe how you would define and measure the outcomes from the dataset. That is, why is this data important and how do you know if you have mined useful knowledge from the dataset? How would you measure the effectiveness of a good prediction algorithm? Be specific.`"
   ]
  },
  {
   "cell_type": "markdown",
   "metadata": {
    "id": "f6958737"
   },
   "source": [
    "The data set that our group selected came the U.S. Department of Transportation's Bureau of Transportation Statistics and \"tracks the on-time performance of domestic flights operated by large air carriers\" during 2015 ([Kaggle](https://www.kaggle.com/usdot/flight-delays)). The data is broken up into three separate `.csv` files: one with flight details for 5,819,079 flights during 2015, one with 14 different U.S.-based airlines, and one with the geographic details of 322 U.S. airports. \n",
    "\n",
    "The data is important because it takes airline delays and cancellations, one of the aspects of airline travel that is popular fodder for public complaints, and quantifies it in a way that offers the possiblity of tangible analysis. "
   ]
  },
  {
   "cell_type": "markdown",
   "metadata": {
    "id": "aVSSSH0ro-9N"
   },
   "source": [
    "#### TO DO (MATT)\n",
    "\n",
    "- Describe the two variables to be measured. Arrival delay (regression & RMSE) & Cancellation (classification & accuracy? precision?)\n",
    "- Measure effectiveness using 10-fold cross-validation\n"
   ]
  },
  {
   "cell_type": "markdown",
   "metadata": {
    "id": "b42cc5ef"
   },
   "source": [
    "## Data Meaning Type"
   ]
  },
  {
   "cell_type": "markdown",
   "metadata": {
    "id": "b5cd6fd8"
   },
   "source": [
    "`Describe the meaning and type of data (scale, values, etc.) for each attribute in the data file.`"
   ]
  },
  {
   "cell_type": "markdown",
   "metadata": {
    "id": "Egyr6ljHCnsN"
   },
   "source": [
    "### Load the Data"
   ]
  },
  {
   "cell_type": "code",
   "execution_count": 27,
   "metadata": {
    "id": "458f1645"
   },
   "outputs": [],
   "source": [
    "# Load libraries\n",
    "import pandas as pd\n",
    "import numpy as np\n",
    "import altair as alt\n",
    "import seaborn as sns\n",
    "import matplotlib.pyplot as plt\n",
    "%matplotlib inline\n",
    "from datetime import datetime"
   ]
  },
  {
   "cell_type": "code",
   "execution_count": 28,
   "metadata": {
    "colab": {
     "base_uri": "https://localhost:8080/"
    },
    "id": "ce20dda1",
    "outputId": "ba3f5e15-de1a-42af-e25e-72878c59130e",
    "scrolled": true
   },
   "outputs": [],
   "source": [
    "# Due to the way these columns are formatted, we want to keep the leading zeros during our import. Later on will convert them to a time format.\n",
    "dtype_t = {'SCHEDULED_DEPARTURE': str,\n",
    "           'DEPARTURE_TIME': str,\n",
    "           'WHEELS_OFF': str,\n",
    "           'SCHEDULED_TIME': str,\n",
    "           'WHEELS_ON': str,\n",
    "           'SCHEDULED_ARRIVAL': str,\n",
    "           'ARRIVAL_TIME': str\n",
    "          }\n",
    "\n",
    "# Read in the data directly from GitHub\n",
    "airlines = pd.read_csv('https://raw.githubusercontent.com/mattfarrow1/7331-machine-learning-1/main/Data/airlines.csv')\n",
    "airports = pd.read_csv('https://raw.githubusercontent.com/mattfarrow1/7331-machine-learning-1/main/Data/airports.csv')\n",
    "flights  = pd.read_csv('https://media.githubusercontent.com/media/mattfarrow1/7331-machine-learning-1/main/Data/flights.csv', dtype = dtype_t)"
   ]
  },
  {
   "cell_type": "code",
   "execution_count": 29,
   "metadata": {
    "colab": {
     "base_uri": "https://localhost:8080/",
     "height": 206
    },
    "id": "cab3e312",
    "outputId": "2fd0c734-f5c0-4e72-8e20-7da48414cf52"
   },
   "outputs": [
    {
     "data": {
      "text/html": [
       "<div>\n",
       "<style scoped>\n",
       "    .dataframe tbody tr th:only-of-type {\n",
       "        vertical-align: middle;\n",
       "    }\n",
       "\n",
       "    .dataframe tbody tr th {\n",
       "        vertical-align: top;\n",
       "    }\n",
       "\n",
       "    .dataframe thead th {\n",
       "        text-align: right;\n",
       "    }\n",
       "</style>\n",
       "<table border=\"1\" class=\"dataframe\">\n",
       "  <thead>\n",
       "    <tr style=\"text-align: right;\">\n",
       "      <th></th>\n",
       "      <th>IATA_CODE</th>\n",
       "      <th>AIRLINE</th>\n",
       "    </tr>\n",
       "  </thead>\n",
       "  <tbody>\n",
       "    <tr>\n",
       "      <th>0</th>\n",
       "      <td>UA</td>\n",
       "      <td>United Air Lines Inc.</td>\n",
       "    </tr>\n",
       "    <tr>\n",
       "      <th>1</th>\n",
       "      <td>AA</td>\n",
       "      <td>American Airlines Inc.</td>\n",
       "    </tr>\n",
       "    <tr>\n",
       "      <th>2</th>\n",
       "      <td>US</td>\n",
       "      <td>US Airways Inc.</td>\n",
       "    </tr>\n",
       "    <tr>\n",
       "      <th>3</th>\n",
       "      <td>F9</td>\n",
       "      <td>Frontier Airlines Inc.</td>\n",
       "    </tr>\n",
       "    <tr>\n",
       "      <th>4</th>\n",
       "      <td>B6</td>\n",
       "      <td>JetBlue Airways</td>\n",
       "    </tr>\n",
       "  </tbody>\n",
       "</table>\n",
       "</div>"
      ],
      "text/plain": [
       "  IATA_CODE                 AIRLINE\n",
       "0        UA   United Air Lines Inc.\n",
       "1        AA  American Airlines Inc.\n",
       "2        US         US Airways Inc.\n",
       "3        F9  Frontier Airlines Inc.\n",
       "4        B6         JetBlue Airways"
      ]
     },
     "execution_count": 29,
     "metadata": {},
     "output_type": "execute_result"
    }
   ],
   "source": [
    "# Look at the airline data\n",
    "airlines.head()"
   ]
  },
  {
   "cell_type": "code",
   "execution_count": 30,
   "metadata": {
    "colab": {
     "base_uri": "https://localhost:8080/",
     "height": 206
    },
    "id": "570275eb",
    "outputId": "6c20201f-7755-4753-d006-0a0853123077"
   },
   "outputs": [
    {
     "data": {
      "text/html": [
       "<div>\n",
       "<style scoped>\n",
       "    .dataframe tbody tr th:only-of-type {\n",
       "        vertical-align: middle;\n",
       "    }\n",
       "\n",
       "    .dataframe tbody tr th {\n",
       "        vertical-align: top;\n",
       "    }\n",
       "\n",
       "    .dataframe thead th {\n",
       "        text-align: right;\n",
       "    }\n",
       "</style>\n",
       "<table border=\"1\" class=\"dataframe\">\n",
       "  <thead>\n",
       "    <tr style=\"text-align: right;\">\n",
       "      <th></th>\n",
       "      <th>IATA_CODE</th>\n",
       "      <th>AIRPORT</th>\n",
       "      <th>CITY</th>\n",
       "      <th>STATE</th>\n",
       "      <th>COUNTRY</th>\n",
       "      <th>LATITUDE</th>\n",
       "      <th>LONGITUDE</th>\n",
       "    </tr>\n",
       "  </thead>\n",
       "  <tbody>\n",
       "    <tr>\n",
       "      <th>0</th>\n",
       "      <td>ABE</td>\n",
       "      <td>Lehigh Valley International Airport</td>\n",
       "      <td>Allentown</td>\n",
       "      <td>PA</td>\n",
       "      <td>USA</td>\n",
       "      <td>40.65236</td>\n",
       "      <td>-75.44040</td>\n",
       "    </tr>\n",
       "    <tr>\n",
       "      <th>1</th>\n",
       "      <td>ABI</td>\n",
       "      <td>Abilene Regional Airport</td>\n",
       "      <td>Abilene</td>\n",
       "      <td>TX</td>\n",
       "      <td>USA</td>\n",
       "      <td>32.41132</td>\n",
       "      <td>-99.68190</td>\n",
       "    </tr>\n",
       "    <tr>\n",
       "      <th>2</th>\n",
       "      <td>ABQ</td>\n",
       "      <td>Albuquerque International Sunport</td>\n",
       "      <td>Albuquerque</td>\n",
       "      <td>NM</td>\n",
       "      <td>USA</td>\n",
       "      <td>35.04022</td>\n",
       "      <td>-106.60919</td>\n",
       "    </tr>\n",
       "    <tr>\n",
       "      <th>3</th>\n",
       "      <td>ABR</td>\n",
       "      <td>Aberdeen Regional Airport</td>\n",
       "      <td>Aberdeen</td>\n",
       "      <td>SD</td>\n",
       "      <td>USA</td>\n",
       "      <td>45.44906</td>\n",
       "      <td>-98.42183</td>\n",
       "    </tr>\n",
       "    <tr>\n",
       "      <th>4</th>\n",
       "      <td>ABY</td>\n",
       "      <td>Southwest Georgia Regional Airport</td>\n",
       "      <td>Albany</td>\n",
       "      <td>GA</td>\n",
       "      <td>USA</td>\n",
       "      <td>31.53552</td>\n",
       "      <td>-84.19447</td>\n",
       "    </tr>\n",
       "  </tbody>\n",
       "</table>\n",
       "</div>"
      ],
      "text/plain": [
       "  IATA_CODE                              AIRPORT         CITY STATE COUNTRY  \\\n",
       "0       ABE  Lehigh Valley International Airport    Allentown    PA     USA   \n",
       "1       ABI             Abilene Regional Airport      Abilene    TX     USA   \n",
       "2       ABQ    Albuquerque International Sunport  Albuquerque    NM     USA   \n",
       "3       ABR            Aberdeen Regional Airport     Aberdeen    SD     USA   \n",
       "4       ABY   Southwest Georgia Regional Airport       Albany    GA     USA   \n",
       "\n",
       "   LATITUDE  LONGITUDE  \n",
       "0  40.65236  -75.44040  \n",
       "1  32.41132  -99.68190  \n",
       "2  35.04022 -106.60919  \n",
       "3  45.44906  -98.42183  \n",
       "4  31.53552  -84.19447  "
      ]
     },
     "execution_count": 30,
     "metadata": {},
     "output_type": "execute_result"
    }
   ],
   "source": [
    "# Look at the airport data\n",
    "airports.head()"
   ]
  },
  {
   "cell_type": "code",
   "execution_count": 31,
   "metadata": {
    "colab": {
     "base_uri": "https://localhost:8080/",
     "height": 226
    },
    "id": "1f1e5dd8",
    "outputId": "27e67e9e-df1a-47cf-c418-88b92735fbc7",
    "scrolled": true
   },
   "outputs": [
    {
     "data": {
      "text/html": [
       "<div>\n",
       "<style scoped>\n",
       "    .dataframe tbody tr th:only-of-type {\n",
       "        vertical-align: middle;\n",
       "    }\n",
       "\n",
       "    .dataframe tbody tr th {\n",
       "        vertical-align: top;\n",
       "    }\n",
       "\n",
       "    .dataframe thead th {\n",
       "        text-align: right;\n",
       "    }\n",
       "</style>\n",
       "<table border=\"1\" class=\"dataframe\">\n",
       "  <thead>\n",
       "    <tr style=\"text-align: right;\">\n",
       "      <th></th>\n",
       "      <th>YEAR</th>\n",
       "      <th>MONTH</th>\n",
       "      <th>DAY</th>\n",
       "      <th>DAY_OF_WEEK</th>\n",
       "      <th>AIRLINE</th>\n",
       "      <th>FLIGHT_NUMBER</th>\n",
       "      <th>TAIL_NUMBER</th>\n",
       "      <th>ORIGIN_AIRPORT</th>\n",
       "      <th>DESTINATION_AIRPORT</th>\n",
       "      <th>SCHEDULED_DEPARTURE</th>\n",
       "      <th>...</th>\n",
       "      <th>ARRIVAL_TIME</th>\n",
       "      <th>ARRIVAL_DELAY</th>\n",
       "      <th>DIVERTED</th>\n",
       "      <th>CANCELLED</th>\n",
       "      <th>CANCELLATION_REASON</th>\n",
       "      <th>AIR_SYSTEM_DELAY</th>\n",
       "      <th>SECURITY_DELAY</th>\n",
       "      <th>AIRLINE_DELAY</th>\n",
       "      <th>LATE_AIRCRAFT_DELAY</th>\n",
       "      <th>WEATHER_DELAY</th>\n",
       "    </tr>\n",
       "  </thead>\n",
       "  <tbody>\n",
       "    <tr>\n",
       "      <th>0</th>\n",
       "      <td>2015</td>\n",
       "      <td>1</td>\n",
       "      <td>1</td>\n",
       "      <td>4</td>\n",
       "      <td>AS</td>\n",
       "      <td>98</td>\n",
       "      <td>N407AS</td>\n",
       "      <td>ANC</td>\n",
       "      <td>SEA</td>\n",
       "      <td>0005</td>\n",
       "      <td>...</td>\n",
       "      <td>0408</td>\n",
       "      <td>-22.0</td>\n",
       "      <td>0</td>\n",
       "      <td>0</td>\n",
       "      <td>NaN</td>\n",
       "      <td>NaN</td>\n",
       "      <td>NaN</td>\n",
       "      <td>NaN</td>\n",
       "      <td>NaN</td>\n",
       "      <td>NaN</td>\n",
       "    </tr>\n",
       "    <tr>\n",
       "      <th>1</th>\n",
       "      <td>2015</td>\n",
       "      <td>1</td>\n",
       "      <td>1</td>\n",
       "      <td>4</td>\n",
       "      <td>AA</td>\n",
       "      <td>2336</td>\n",
       "      <td>N3KUAA</td>\n",
       "      <td>LAX</td>\n",
       "      <td>PBI</td>\n",
       "      <td>0010</td>\n",
       "      <td>...</td>\n",
       "      <td>0741</td>\n",
       "      <td>-9.0</td>\n",
       "      <td>0</td>\n",
       "      <td>0</td>\n",
       "      <td>NaN</td>\n",
       "      <td>NaN</td>\n",
       "      <td>NaN</td>\n",
       "      <td>NaN</td>\n",
       "      <td>NaN</td>\n",
       "      <td>NaN</td>\n",
       "    </tr>\n",
       "    <tr>\n",
       "      <th>2</th>\n",
       "      <td>2015</td>\n",
       "      <td>1</td>\n",
       "      <td>1</td>\n",
       "      <td>4</td>\n",
       "      <td>US</td>\n",
       "      <td>840</td>\n",
       "      <td>N171US</td>\n",
       "      <td>SFO</td>\n",
       "      <td>CLT</td>\n",
       "      <td>0020</td>\n",
       "      <td>...</td>\n",
       "      <td>0811</td>\n",
       "      <td>5.0</td>\n",
       "      <td>0</td>\n",
       "      <td>0</td>\n",
       "      <td>NaN</td>\n",
       "      <td>NaN</td>\n",
       "      <td>NaN</td>\n",
       "      <td>NaN</td>\n",
       "      <td>NaN</td>\n",
       "      <td>NaN</td>\n",
       "    </tr>\n",
       "    <tr>\n",
       "      <th>3</th>\n",
       "      <td>2015</td>\n",
       "      <td>1</td>\n",
       "      <td>1</td>\n",
       "      <td>4</td>\n",
       "      <td>AA</td>\n",
       "      <td>258</td>\n",
       "      <td>N3HYAA</td>\n",
       "      <td>LAX</td>\n",
       "      <td>MIA</td>\n",
       "      <td>0020</td>\n",
       "      <td>...</td>\n",
       "      <td>0756</td>\n",
       "      <td>-9.0</td>\n",
       "      <td>0</td>\n",
       "      <td>0</td>\n",
       "      <td>NaN</td>\n",
       "      <td>NaN</td>\n",
       "      <td>NaN</td>\n",
       "      <td>NaN</td>\n",
       "      <td>NaN</td>\n",
       "      <td>NaN</td>\n",
       "    </tr>\n",
       "    <tr>\n",
       "      <th>4</th>\n",
       "      <td>2015</td>\n",
       "      <td>1</td>\n",
       "      <td>1</td>\n",
       "      <td>4</td>\n",
       "      <td>AS</td>\n",
       "      <td>135</td>\n",
       "      <td>N527AS</td>\n",
       "      <td>SEA</td>\n",
       "      <td>ANC</td>\n",
       "      <td>0025</td>\n",
       "      <td>...</td>\n",
       "      <td>0259</td>\n",
       "      <td>-21.0</td>\n",
       "      <td>0</td>\n",
       "      <td>0</td>\n",
       "      <td>NaN</td>\n",
       "      <td>NaN</td>\n",
       "      <td>NaN</td>\n",
       "      <td>NaN</td>\n",
       "      <td>NaN</td>\n",
       "      <td>NaN</td>\n",
       "    </tr>\n",
       "  </tbody>\n",
       "</table>\n",
       "<p>5 rows × 31 columns</p>\n",
       "</div>"
      ],
      "text/plain": [
       "   YEAR  MONTH  DAY  DAY_OF_WEEK AIRLINE  FLIGHT_NUMBER TAIL_NUMBER  \\\n",
       "0  2015      1    1            4      AS             98      N407AS   \n",
       "1  2015      1    1            4      AA           2336      N3KUAA   \n",
       "2  2015      1    1            4      US            840      N171US   \n",
       "3  2015      1    1            4      AA            258      N3HYAA   \n",
       "4  2015      1    1            4      AS            135      N527AS   \n",
       "\n",
       "  ORIGIN_AIRPORT DESTINATION_AIRPORT SCHEDULED_DEPARTURE  ... ARRIVAL_TIME  \\\n",
       "0            ANC                 SEA                0005  ...         0408   \n",
       "1            LAX                 PBI                0010  ...         0741   \n",
       "2            SFO                 CLT                0020  ...         0811   \n",
       "3            LAX                 MIA                0020  ...         0756   \n",
       "4            SEA                 ANC                0025  ...         0259   \n",
       "\n",
       "   ARRIVAL_DELAY  DIVERTED CANCELLED CANCELLATION_REASON  AIR_SYSTEM_DELAY  \\\n",
       "0          -22.0         0         0                 NaN               NaN   \n",
       "1           -9.0         0         0                 NaN               NaN   \n",
       "2            5.0         0         0                 NaN               NaN   \n",
       "3           -9.0         0         0                 NaN               NaN   \n",
       "4          -21.0         0         0                 NaN               NaN   \n",
       "\n",
       "   SECURITY_DELAY  AIRLINE_DELAY LATE_AIRCRAFT_DELAY  WEATHER_DELAY  \n",
       "0             NaN            NaN                 NaN            NaN  \n",
       "1             NaN            NaN                 NaN            NaN  \n",
       "2             NaN            NaN                 NaN            NaN  \n",
       "3             NaN            NaN                 NaN            NaN  \n",
       "4             NaN            NaN                 NaN            NaN  \n",
       "\n",
       "[5 rows x 31 columns]"
      ]
     },
     "execution_count": 31,
     "metadata": {},
     "output_type": "execute_result"
    }
   ],
   "source": [
    "# Look at the flight data\n",
    "flights.head()"
   ]
  },
  {
   "cell_type": "markdown",
   "metadata": {
    "id": "i_MIyWQIqCLg"
   },
   "source": [
    "#### TO DO (AMBER)"
   ]
  },
  {
   "cell_type": "markdown",
   "metadata": {
    "id": "EdRrx6c6DEIk"
   },
   "source": [
    "### Merge Flights & Airlines"
   ]
  },
  {
   "cell_type": "markdown",
   "metadata": {
    "id": "BYXYBxSzCzcO"
   },
   "source": [
    "The flight data will become our primary data set, but we can join it with the airline information to bring in the human-readable names."
   ]
  },
  {
   "cell_type": "code",
   "execution_count": 32,
   "metadata": {
    "id": "2009e446"
   },
   "outputs": [],
   "source": [
    "# Rename columns in preparation for merge\n",
    "airlines.rename(columns={'IATA_CODE': 'AIRLINE_CODE'}, inplace=True)\n",
    "flights.rename(columns={'AIRLINE': 'AIRLINE_CODE'}, inplace=True)"
   ]
  },
  {
   "cell_type": "code",
   "execution_count": 33,
   "metadata": {
    "id": "6b275ee4"
   },
   "outputs": [],
   "source": [
    "# Merge data together\n",
    "df = pd.merge(flights, airlines, on='AIRLINE_CODE', how = 'left')"
   ]
  },
  {
   "cell_type": "code",
   "execution_count": 34,
   "metadata": {
    "colab": {
     "base_uri": "https://localhost:8080/",
     "height": 400
    },
    "id": "35ec9ab9",
    "outputId": "25314244-6068-4442-98c0-7079766cca39",
    "scrolled": true
   },
   "outputs": [
    {
     "data": {
      "text/html": [
       "<div>\n",
       "<style scoped>\n",
       "    .dataframe tbody tr th:only-of-type {\n",
       "        vertical-align: middle;\n",
       "    }\n",
       "\n",
       "    .dataframe tbody tr th {\n",
       "        vertical-align: top;\n",
       "    }\n",
       "\n",
       "    .dataframe thead th {\n",
       "        text-align: right;\n",
       "    }\n",
       "</style>\n",
       "<table border=\"1\" class=\"dataframe\">\n",
       "  <thead>\n",
       "    <tr style=\"text-align: right;\">\n",
       "      <th></th>\n",
       "      <th>YEAR</th>\n",
       "      <th>MONTH</th>\n",
       "      <th>DAY</th>\n",
       "      <th>DAY_OF_WEEK</th>\n",
       "      <th>AIRLINE_CODE</th>\n",
       "      <th>FLIGHT_NUMBER</th>\n",
       "      <th>TAIL_NUMBER</th>\n",
       "      <th>ORIGIN_AIRPORT</th>\n",
       "      <th>DESTINATION_AIRPORT</th>\n",
       "      <th>SCHEDULED_DEPARTURE</th>\n",
       "      <th>...</th>\n",
       "      <th>ARRIVAL_DELAY</th>\n",
       "      <th>DIVERTED</th>\n",
       "      <th>CANCELLED</th>\n",
       "      <th>CANCELLATION_REASON</th>\n",
       "      <th>AIR_SYSTEM_DELAY</th>\n",
       "      <th>SECURITY_DELAY</th>\n",
       "      <th>AIRLINE_DELAY</th>\n",
       "      <th>LATE_AIRCRAFT_DELAY</th>\n",
       "      <th>WEATHER_DELAY</th>\n",
       "      <th>AIRLINE</th>\n",
       "    </tr>\n",
       "  </thead>\n",
       "  <tbody>\n",
       "    <tr>\n",
       "      <th>0</th>\n",
       "      <td>2015</td>\n",
       "      <td>1</td>\n",
       "      <td>1</td>\n",
       "      <td>4</td>\n",
       "      <td>AS</td>\n",
       "      <td>98</td>\n",
       "      <td>N407AS</td>\n",
       "      <td>ANC</td>\n",
       "      <td>SEA</td>\n",
       "      <td>0005</td>\n",
       "      <td>...</td>\n",
       "      <td>-22.0</td>\n",
       "      <td>0</td>\n",
       "      <td>0</td>\n",
       "      <td>NaN</td>\n",
       "      <td>NaN</td>\n",
       "      <td>NaN</td>\n",
       "      <td>NaN</td>\n",
       "      <td>NaN</td>\n",
       "      <td>NaN</td>\n",
       "      <td>Alaska Airlines Inc.</td>\n",
       "    </tr>\n",
       "    <tr>\n",
       "      <th>1</th>\n",
       "      <td>2015</td>\n",
       "      <td>1</td>\n",
       "      <td>1</td>\n",
       "      <td>4</td>\n",
       "      <td>AA</td>\n",
       "      <td>2336</td>\n",
       "      <td>N3KUAA</td>\n",
       "      <td>LAX</td>\n",
       "      <td>PBI</td>\n",
       "      <td>0010</td>\n",
       "      <td>...</td>\n",
       "      <td>-9.0</td>\n",
       "      <td>0</td>\n",
       "      <td>0</td>\n",
       "      <td>NaN</td>\n",
       "      <td>NaN</td>\n",
       "      <td>NaN</td>\n",
       "      <td>NaN</td>\n",
       "      <td>NaN</td>\n",
       "      <td>NaN</td>\n",
       "      <td>American Airlines Inc.</td>\n",
       "    </tr>\n",
       "    <tr>\n",
       "      <th>2</th>\n",
       "      <td>2015</td>\n",
       "      <td>1</td>\n",
       "      <td>1</td>\n",
       "      <td>4</td>\n",
       "      <td>US</td>\n",
       "      <td>840</td>\n",
       "      <td>N171US</td>\n",
       "      <td>SFO</td>\n",
       "      <td>CLT</td>\n",
       "      <td>0020</td>\n",
       "      <td>...</td>\n",
       "      <td>5.0</td>\n",
       "      <td>0</td>\n",
       "      <td>0</td>\n",
       "      <td>NaN</td>\n",
       "      <td>NaN</td>\n",
       "      <td>NaN</td>\n",
       "      <td>NaN</td>\n",
       "      <td>NaN</td>\n",
       "      <td>NaN</td>\n",
       "      <td>US Airways Inc.</td>\n",
       "    </tr>\n",
       "    <tr>\n",
       "      <th>3</th>\n",
       "      <td>2015</td>\n",
       "      <td>1</td>\n",
       "      <td>1</td>\n",
       "      <td>4</td>\n",
       "      <td>AA</td>\n",
       "      <td>258</td>\n",
       "      <td>N3HYAA</td>\n",
       "      <td>LAX</td>\n",
       "      <td>MIA</td>\n",
       "      <td>0020</td>\n",
       "      <td>...</td>\n",
       "      <td>-9.0</td>\n",
       "      <td>0</td>\n",
       "      <td>0</td>\n",
       "      <td>NaN</td>\n",
       "      <td>NaN</td>\n",
       "      <td>NaN</td>\n",
       "      <td>NaN</td>\n",
       "      <td>NaN</td>\n",
       "      <td>NaN</td>\n",
       "      <td>American Airlines Inc.</td>\n",
       "    </tr>\n",
       "    <tr>\n",
       "      <th>4</th>\n",
       "      <td>2015</td>\n",
       "      <td>1</td>\n",
       "      <td>1</td>\n",
       "      <td>4</td>\n",
       "      <td>AS</td>\n",
       "      <td>135</td>\n",
       "      <td>N527AS</td>\n",
       "      <td>SEA</td>\n",
       "      <td>ANC</td>\n",
       "      <td>0025</td>\n",
       "      <td>...</td>\n",
       "      <td>-21.0</td>\n",
       "      <td>0</td>\n",
       "      <td>0</td>\n",
       "      <td>NaN</td>\n",
       "      <td>NaN</td>\n",
       "      <td>NaN</td>\n",
       "      <td>NaN</td>\n",
       "      <td>NaN</td>\n",
       "      <td>NaN</td>\n",
       "      <td>Alaska Airlines Inc.</td>\n",
       "    </tr>\n",
       "  </tbody>\n",
       "</table>\n",
       "<p>5 rows × 32 columns</p>\n",
       "</div>"
      ],
      "text/plain": [
       "   YEAR  MONTH  DAY  DAY_OF_WEEK AIRLINE_CODE  FLIGHT_NUMBER TAIL_NUMBER  \\\n",
       "0  2015      1    1            4           AS             98      N407AS   \n",
       "1  2015      1    1            4           AA           2336      N3KUAA   \n",
       "2  2015      1    1            4           US            840      N171US   \n",
       "3  2015      1    1            4           AA            258      N3HYAA   \n",
       "4  2015      1    1            4           AS            135      N527AS   \n",
       "\n",
       "  ORIGIN_AIRPORT DESTINATION_AIRPORT SCHEDULED_DEPARTURE  ... ARRIVAL_DELAY  \\\n",
       "0            ANC                 SEA                0005  ...         -22.0   \n",
       "1            LAX                 PBI                0010  ...          -9.0   \n",
       "2            SFO                 CLT                0020  ...           5.0   \n",
       "3            LAX                 MIA                0020  ...          -9.0   \n",
       "4            SEA                 ANC                0025  ...         -21.0   \n",
       "\n",
       "   DIVERTED  CANCELLED CANCELLATION_REASON AIR_SYSTEM_DELAY  SECURITY_DELAY  \\\n",
       "0         0          0                 NaN              NaN             NaN   \n",
       "1         0          0                 NaN              NaN             NaN   \n",
       "2         0          0                 NaN              NaN             NaN   \n",
       "3         0          0                 NaN              NaN             NaN   \n",
       "4         0          0                 NaN              NaN             NaN   \n",
       "\n",
       "   AIRLINE_DELAY  LATE_AIRCRAFT_DELAY WEATHER_DELAY                 AIRLINE  \n",
       "0            NaN                  NaN           NaN    Alaska Airlines Inc.  \n",
       "1            NaN                  NaN           NaN  American Airlines Inc.  \n",
       "2            NaN                  NaN           NaN         US Airways Inc.  \n",
       "3            NaN                  NaN           NaN  American Airlines Inc.  \n",
       "4            NaN                  NaN           NaN    Alaska Airlines Inc.  \n",
       "\n",
       "[5 rows x 32 columns]"
      ]
     },
     "execution_count": 34,
     "metadata": {},
     "output_type": "execute_result"
    }
   ],
   "source": [
    "# Look at the newly merged data\n",
    "df.head()"
   ]
  },
  {
   "cell_type": "markdown",
   "metadata": {
    "id": "v65dqpagDOLZ"
   },
   "source": [
    "Our merged data set contains 5,819,079 observations and 32 attributes."
   ]
  },
  {
   "cell_type": "code",
   "execution_count": 35,
   "metadata": {
    "colab": {
     "base_uri": "https://localhost:8080/"
    },
    "id": "11c86e1b",
    "outputId": "b91fe2b5-2574-417e-a737-a89387626929",
    "scrolled": false
   },
   "outputs": [
    {
     "name": "stdout",
     "output_type": "stream",
     "text": [
      "<class 'pandas.core.frame.DataFrame'>\n",
      "Int64Index: 5819079 entries, 0 to 5819078\n",
      "Data columns (total 32 columns):\n",
      "YEAR                   int64\n",
      "MONTH                  int64\n",
      "DAY                    int64\n",
      "DAY_OF_WEEK            int64\n",
      "AIRLINE_CODE           object\n",
      "FLIGHT_NUMBER          int64\n",
      "TAIL_NUMBER            object\n",
      "ORIGIN_AIRPORT         object\n",
      "DESTINATION_AIRPORT    object\n",
      "SCHEDULED_DEPARTURE    object\n",
      "DEPARTURE_TIME         object\n",
      "DEPARTURE_DELAY        float64\n",
      "TAXI_OUT               float64\n",
      "WHEELS_OFF             object\n",
      "SCHEDULED_TIME         object\n",
      "ELAPSED_TIME           float64\n",
      "AIR_TIME               float64\n",
      "DISTANCE               int64\n",
      "WHEELS_ON              object\n",
      "TAXI_IN                float64\n",
      "SCHEDULED_ARRIVAL      object\n",
      "ARRIVAL_TIME           object\n",
      "ARRIVAL_DELAY          float64\n",
      "DIVERTED               int64\n",
      "CANCELLED              int64\n",
      "CANCELLATION_REASON    object\n",
      "AIR_SYSTEM_DELAY       float64\n",
      "SECURITY_DELAY         float64\n",
      "AIRLINE_DELAY          float64\n",
      "LATE_AIRCRAFT_DELAY    float64\n",
      "WEATHER_DELAY          float64\n",
      "AIRLINE                object\n",
      "dtypes: float64(11), int64(8), object(13)\n",
      "memory usage: 1.4+ GB\n"
     ]
    }
   ],
   "source": [
    "df.info()"
   ]
  },
  {
   "cell_type": "markdown",
   "metadata": {
    "id": "KN5umzkXDWjK"
   },
   "source": [
    "### Convert String Columns to Datetime"
   ]
  },
  {
   "cell_type": "code",
   "execution_count": 36,
   "metadata": {
    "id": "297dcddc"
   },
   "outputs": [],
   "source": [
    "# Convert string columns to datetime\n",
    "# Source: https://stackoverflow.com/questions/41514173/change-multiple-columns-in-pandas-dataframe-to-datetime\n",
    "#df.iloc[:, [9, 10, 13, 18, 20, 21]] = df.iloc[:, [9, 10, 13, 18, 20, 21]].apply(pd.to_datetime, format='%H%M', errors = 'coerce')"
   ]
  },
  {
   "cell_type": "code",
   "execution_count": 37,
   "metadata": {
    "id": "c6AD2_jqapOI"
   },
   "outputs": [],
   "source": [
    "cols = [\"SCHEDULED_DEPARTURE\", \n",
    "   \"DEPARTURE_TIME\", \n",
    "   \"WHEELS_OFF\",  \n",
    "   \"WHEELS_ON\", \n",
    "   \"SCHEDULED_ARRIVAL\", \n",
    "   \"ARRIVAL_TIME\"]\n",
    "\n",
    "df[cols] = df[cols].apply(pd.to_datetime, format = '%H%M', errors='coerce')\n",
    "\n",
    "#df[cols] = df[cols].apply(pd.to_datetime, exact = False, format = '%H%M')\n",
    "#df[cols] = df[cols].apply(datetime.strptime,format = '%H%M')"
   ]
  },
  {
   "cell_type": "code",
   "execution_count": 38,
   "metadata": {
    "colab": {
     "base_uri": "https://localhost:8080/",
     "height": 206
    },
    "id": "5b6eb850",
    "outputId": "ba22b1a2-5a67-4927-b79f-fbf4ca3cb112"
   },
   "outputs": [
    {
     "data": {
      "text/html": [
       "<div>\n",
       "<style scoped>\n",
       "    .dataframe tbody tr th:only-of-type {\n",
       "        vertical-align: middle;\n",
       "    }\n",
       "\n",
       "    .dataframe tbody tr th {\n",
       "        vertical-align: top;\n",
       "    }\n",
       "\n",
       "    .dataframe thead th {\n",
       "        text-align: right;\n",
       "    }\n",
       "</style>\n",
       "<table border=\"1\" class=\"dataframe\">\n",
       "  <thead>\n",
       "    <tr style=\"text-align: right;\">\n",
       "      <th></th>\n",
       "      <th>SCHEDULED_DEPARTURE</th>\n",
       "      <th>DEPARTURE_TIME</th>\n",
       "      <th>WHEELS_OFF</th>\n",
       "      <th>WHEELS_ON</th>\n",
       "      <th>SCHEDULED_ARRIVAL</th>\n",
       "      <th>ARRIVAL_TIME</th>\n",
       "    </tr>\n",
       "  </thead>\n",
       "  <tbody>\n",
       "    <tr>\n",
       "      <th>0</th>\n",
       "      <td>1900-01-01 00:05:00</td>\n",
       "      <td>1900-01-01 23:54:00</td>\n",
       "      <td>1900-01-01 00:15:00</td>\n",
       "      <td>1900-01-01 04:04:00</td>\n",
       "      <td>1900-01-01 04:30:00</td>\n",
       "      <td>1900-01-01 04:08:00</td>\n",
       "    </tr>\n",
       "    <tr>\n",
       "      <th>1</th>\n",
       "      <td>1900-01-01 00:10:00</td>\n",
       "      <td>1900-01-01 00:02:00</td>\n",
       "      <td>1900-01-01 00:14:00</td>\n",
       "      <td>1900-01-01 07:37:00</td>\n",
       "      <td>1900-01-01 07:50:00</td>\n",
       "      <td>1900-01-01 07:41:00</td>\n",
       "    </tr>\n",
       "    <tr>\n",
       "      <th>2</th>\n",
       "      <td>1900-01-01 00:20:00</td>\n",
       "      <td>1900-01-01 00:18:00</td>\n",
       "      <td>1900-01-01 00:34:00</td>\n",
       "      <td>1900-01-01 08:00:00</td>\n",
       "      <td>1900-01-01 08:06:00</td>\n",
       "      <td>1900-01-01 08:11:00</td>\n",
       "    </tr>\n",
       "    <tr>\n",
       "      <th>3</th>\n",
       "      <td>1900-01-01 00:20:00</td>\n",
       "      <td>1900-01-01 00:15:00</td>\n",
       "      <td>1900-01-01 00:30:00</td>\n",
       "      <td>1900-01-01 07:48:00</td>\n",
       "      <td>1900-01-01 08:05:00</td>\n",
       "      <td>1900-01-01 07:56:00</td>\n",
       "    </tr>\n",
       "    <tr>\n",
       "      <th>4</th>\n",
       "      <td>1900-01-01 00:25:00</td>\n",
       "      <td>1900-01-01 00:24:00</td>\n",
       "      <td>1900-01-01 00:35:00</td>\n",
       "      <td>1900-01-01 02:54:00</td>\n",
       "      <td>1900-01-01 03:20:00</td>\n",
       "      <td>1900-01-01 02:59:00</td>\n",
       "    </tr>\n",
       "  </tbody>\n",
       "</table>\n",
       "</div>"
      ],
      "text/plain": [
       "  SCHEDULED_DEPARTURE      DEPARTURE_TIME          WHEELS_OFF  \\\n",
       "0 1900-01-01 00:05:00 1900-01-01 23:54:00 1900-01-01 00:15:00   \n",
       "1 1900-01-01 00:10:00 1900-01-01 00:02:00 1900-01-01 00:14:00   \n",
       "2 1900-01-01 00:20:00 1900-01-01 00:18:00 1900-01-01 00:34:00   \n",
       "3 1900-01-01 00:20:00 1900-01-01 00:15:00 1900-01-01 00:30:00   \n",
       "4 1900-01-01 00:25:00 1900-01-01 00:24:00 1900-01-01 00:35:00   \n",
       "\n",
       "            WHEELS_ON   SCHEDULED_ARRIVAL        ARRIVAL_TIME  \n",
       "0 1900-01-01 04:04:00 1900-01-01 04:30:00 1900-01-01 04:08:00  \n",
       "1 1900-01-01 07:37:00 1900-01-01 07:50:00 1900-01-01 07:41:00  \n",
       "2 1900-01-01 08:00:00 1900-01-01 08:06:00 1900-01-01 08:11:00  \n",
       "3 1900-01-01 07:48:00 1900-01-01 08:05:00 1900-01-01 07:56:00  \n",
       "4 1900-01-01 02:54:00 1900-01-01 03:20:00 1900-01-01 02:59:00  "
      ]
     },
     "execution_count": 38,
     "metadata": {},
     "output_type": "execute_result"
    }
   ],
   "source": [
    "df[[\"SCHEDULED_DEPARTURE\", \n",
    "   \"DEPARTURE_TIME\", \n",
    "   \"WHEELS_OFF\", \n",
    "   \"WHEELS_ON\", \n",
    "   \"SCHEDULED_ARRIVAL\", \n",
    "   \"ARRIVAL_TIME\"]].head()"
   ]
  },
  {
   "cell_type": "markdown",
   "metadata": {
    "id": "Kuj0Dq8pDe17"
   },
   "source": [
    "### Convert YEAR, MONTH, DAY into a Single Date"
   ]
  },
  {
   "cell_type": "code",
   "execution_count": 39,
   "metadata": {
    "id": "9wQyIem0JZ4k"
   },
   "outputs": [],
   "source": [
    "# Source: https://stackoverflow.com/questions/54487059/pandas-how-to-create-a-single-date-column-from-columns-containing-year-month\n",
    "df['FLIGHT_DATE'] = pd.to_datetime([f'{y}-{m}-{d}' for y, m, d in zip(df.YEAR, df.MONTH, df.DAY)])"
   ]
  },
  {
   "cell_type": "markdown",
   "metadata": {
    "id": "34561fd9"
   },
   "source": [
    "## Data Quality"
   ]
  },
  {
   "cell_type": "markdown",
   "metadata": {
    "id": "a4463671"
   },
   "source": [
    "`Verify data quality: Explain any missing values, duplicate data, and outliers. Are those mistakes? How do you deal with these problems? Give justifications for your methods.`"
   ]
  },
  {
   "cell_type": "markdown",
   "metadata": {
    "id": "pIjPk2PLFh-n"
   },
   "source": [
    "### Missing Values"
   ]
  },
  {
   "cell_type": "code",
   "execution_count": 40,
   "metadata": {
    "colab": {
     "base_uri": "https://localhost:8080/"
    },
    "id": "d0a0e195",
    "outputId": "8d6d4b31-06cb-4112-8930-9c4066c7351c"
   },
   "outputs": [
    {
     "data": {
      "text/plain": [
       "YEAR                         0\n",
       "MONTH                        0\n",
       "DAY                          0\n",
       "DAY_OF_WEEK                  0\n",
       "AIRLINE_CODE                 0\n",
       "FLIGHT_NUMBER                0\n",
       "TAIL_NUMBER              14721\n",
       "ORIGIN_AIRPORT               0\n",
       "DESTINATION_AIRPORT          0\n",
       "SCHEDULED_DEPARTURE          0\n",
       "DEPARTURE_TIME           86666\n",
       "DEPARTURE_DELAY          86153\n",
       "TAXI_OUT                 89047\n",
       "WHEELS_OFF               89774\n",
       "SCHEDULED_TIME               6\n",
       "ELAPSED_TIME            105071\n",
       "AIR_TIME                105071\n",
       "DISTANCE                     0\n",
       "WHEELS_ON                94518\n",
       "TAXI_IN                  92513\n",
       "SCHEDULED_ARRIVAL            2\n",
       "ARRIVAL_TIME             94969\n",
       "ARRIVAL_DELAY           105071\n",
       "DIVERTED                     0\n",
       "CANCELLED                    0\n",
       "CANCELLATION_REASON    5729195\n",
       "AIR_SYSTEM_DELAY       4755640\n",
       "SECURITY_DELAY         4755640\n",
       "AIRLINE_DELAY          4755640\n",
       "LATE_AIRCRAFT_DELAY    4755640\n",
       "WEATHER_DELAY          4755640\n",
       "AIRLINE                      0\n",
       "FLIGHT_DATE                  0\n",
       "dtype: int64"
      ]
     },
     "execution_count": 40,
     "metadata": {},
     "output_type": "execute_result"
    }
   ],
   "source": [
    "# How many missing values are there in the data?\n",
    "df.isnull().sum()"
   ]
  },
  {
   "cell_type": "markdown",
   "metadata": {
    "id": "e861a319"
   },
   "source": [
    "There are millions of missing values in the specific delay time columns. This is expected, as not every flight is delayed, and you would hope that percentage would be small of the overall flights. We will convert these missing values into `0` since, in these cases, there was no flight delay for the specific attribute."
   ]
  },
  {
   "cell_type": "code",
   "execution_count": 16,
   "metadata": {
    "id": "3MWDCjs-EBmq"
   },
   "outputs": [],
   "source": [
    "# Replace missing values in AIRLINE_DELAY AIR_SYSTEM_DELAY, SECURITY_DELAY, LATE_AIRCRAFT_DELAY, and WEATHER_DELAY with '0'\n",
    "#df[['AIRLINE_DELAY', 'AIR_SYSTEM_DELAY', 'SECURITY_DELAY', 'LATE_AIRCRAFT_DELAY', 'WEATHER_DELAY']] = df[['AIRLINE_DELAY', 'AIR_SYSTEM_DELAY', 'SECURITY_DELAY', 'LATE_AIRCRAFT_DELAY', 'WEATHER_DELAY']].fillna(value = 0)"
   ]
  },
  {
   "cell_type": "markdown",
   "metadata": {
    "id": "iV8_tGJcEPia"
   },
   "source": [
    "Similar to the delay columns, the `CANCELLATION_REASON` column also contains millions of missing values. Here we convert the missing values to `0` and use one hot encoding on the resulting column."
   ]
  },
  {
   "cell_type": "code",
   "execution_count": 41,
   "metadata": {
    "colab": {
     "base_uri": "https://localhost:8080/",
     "height": 400
    },
    "id": "Yc3zGo9VFNCE",
    "outputId": "51ba93a3-3751-498b-f81f-657628e2227b"
   },
   "outputs": [
    {
     "data": {
      "text/html": [
       "<div>\n",
       "<style scoped>\n",
       "    .dataframe tbody tr th:only-of-type {\n",
       "        vertical-align: middle;\n",
       "    }\n",
       "\n",
       "    .dataframe tbody tr th {\n",
       "        vertical-align: top;\n",
       "    }\n",
       "\n",
       "    .dataframe thead th {\n",
       "        text-align: right;\n",
       "    }\n",
       "</style>\n",
       "<table border=\"1\" class=\"dataframe\">\n",
       "  <thead>\n",
       "    <tr style=\"text-align: right;\">\n",
       "      <th></th>\n",
       "      <th>YEAR</th>\n",
       "      <th>MONTH</th>\n",
       "      <th>DAY</th>\n",
       "      <th>DAY_OF_WEEK</th>\n",
       "      <th>AIRLINE_CODE</th>\n",
       "      <th>FLIGHT_NUMBER</th>\n",
       "      <th>TAIL_NUMBER</th>\n",
       "      <th>ORIGIN_AIRPORT</th>\n",
       "      <th>DESTINATION_AIRPORT</th>\n",
       "      <th>SCHEDULED_DEPARTURE</th>\n",
       "      <th>...</th>\n",
       "      <th>AIRLINE_DELAY</th>\n",
       "      <th>LATE_AIRCRAFT_DELAY</th>\n",
       "      <th>WEATHER_DELAY</th>\n",
       "      <th>AIRLINE</th>\n",
       "      <th>FLIGHT_DATE</th>\n",
       "      <th>CANCELLATION_REASON_A</th>\n",
       "      <th>CANCELLATION_REASON_B</th>\n",
       "      <th>CANCELLATION_REASON_C</th>\n",
       "      <th>CANCELLATION_REASON_D</th>\n",
       "      <th>CANCELLATION_REASON_N</th>\n",
       "    </tr>\n",
       "  </thead>\n",
       "  <tbody>\n",
       "    <tr>\n",
       "      <th>0</th>\n",
       "      <td>2015</td>\n",
       "      <td>1</td>\n",
       "      <td>1</td>\n",
       "      <td>4</td>\n",
       "      <td>AS</td>\n",
       "      <td>98</td>\n",
       "      <td>N407AS</td>\n",
       "      <td>ANC</td>\n",
       "      <td>SEA</td>\n",
       "      <td>1900-01-01 00:05:00</td>\n",
       "      <td>...</td>\n",
       "      <td>NaN</td>\n",
       "      <td>NaN</td>\n",
       "      <td>NaN</td>\n",
       "      <td>Alaska Airlines Inc.</td>\n",
       "      <td>2015-01-01</td>\n",
       "      <td>0</td>\n",
       "      <td>0</td>\n",
       "      <td>0</td>\n",
       "      <td>0</td>\n",
       "      <td>1</td>\n",
       "    </tr>\n",
       "    <tr>\n",
       "      <th>1</th>\n",
       "      <td>2015</td>\n",
       "      <td>1</td>\n",
       "      <td>1</td>\n",
       "      <td>4</td>\n",
       "      <td>AA</td>\n",
       "      <td>2336</td>\n",
       "      <td>N3KUAA</td>\n",
       "      <td>LAX</td>\n",
       "      <td>PBI</td>\n",
       "      <td>1900-01-01 00:10:00</td>\n",
       "      <td>...</td>\n",
       "      <td>NaN</td>\n",
       "      <td>NaN</td>\n",
       "      <td>NaN</td>\n",
       "      <td>American Airlines Inc.</td>\n",
       "      <td>2015-01-01</td>\n",
       "      <td>0</td>\n",
       "      <td>0</td>\n",
       "      <td>0</td>\n",
       "      <td>0</td>\n",
       "      <td>1</td>\n",
       "    </tr>\n",
       "    <tr>\n",
       "      <th>2</th>\n",
       "      <td>2015</td>\n",
       "      <td>1</td>\n",
       "      <td>1</td>\n",
       "      <td>4</td>\n",
       "      <td>US</td>\n",
       "      <td>840</td>\n",
       "      <td>N171US</td>\n",
       "      <td>SFO</td>\n",
       "      <td>CLT</td>\n",
       "      <td>1900-01-01 00:20:00</td>\n",
       "      <td>...</td>\n",
       "      <td>NaN</td>\n",
       "      <td>NaN</td>\n",
       "      <td>NaN</td>\n",
       "      <td>US Airways Inc.</td>\n",
       "      <td>2015-01-01</td>\n",
       "      <td>0</td>\n",
       "      <td>0</td>\n",
       "      <td>0</td>\n",
       "      <td>0</td>\n",
       "      <td>1</td>\n",
       "    </tr>\n",
       "    <tr>\n",
       "      <th>3</th>\n",
       "      <td>2015</td>\n",
       "      <td>1</td>\n",
       "      <td>1</td>\n",
       "      <td>4</td>\n",
       "      <td>AA</td>\n",
       "      <td>258</td>\n",
       "      <td>N3HYAA</td>\n",
       "      <td>LAX</td>\n",
       "      <td>MIA</td>\n",
       "      <td>1900-01-01 00:20:00</td>\n",
       "      <td>...</td>\n",
       "      <td>NaN</td>\n",
       "      <td>NaN</td>\n",
       "      <td>NaN</td>\n",
       "      <td>American Airlines Inc.</td>\n",
       "      <td>2015-01-01</td>\n",
       "      <td>0</td>\n",
       "      <td>0</td>\n",
       "      <td>0</td>\n",
       "      <td>0</td>\n",
       "      <td>1</td>\n",
       "    </tr>\n",
       "    <tr>\n",
       "      <th>4</th>\n",
       "      <td>2015</td>\n",
       "      <td>1</td>\n",
       "      <td>1</td>\n",
       "      <td>4</td>\n",
       "      <td>AS</td>\n",
       "      <td>135</td>\n",
       "      <td>N527AS</td>\n",
       "      <td>SEA</td>\n",
       "      <td>ANC</td>\n",
       "      <td>1900-01-01 00:25:00</td>\n",
       "      <td>...</td>\n",
       "      <td>NaN</td>\n",
       "      <td>NaN</td>\n",
       "      <td>NaN</td>\n",
       "      <td>Alaska Airlines Inc.</td>\n",
       "      <td>2015-01-01</td>\n",
       "      <td>0</td>\n",
       "      <td>0</td>\n",
       "      <td>0</td>\n",
       "      <td>0</td>\n",
       "      <td>1</td>\n",
       "    </tr>\n",
       "  </tbody>\n",
       "</table>\n",
       "<p>5 rows × 37 columns</p>\n",
       "</div>"
      ],
      "text/plain": [
       "   YEAR  MONTH  DAY  DAY_OF_WEEK AIRLINE_CODE  FLIGHT_NUMBER TAIL_NUMBER  \\\n",
       "0  2015      1    1            4           AS             98      N407AS   \n",
       "1  2015      1    1            4           AA           2336      N3KUAA   \n",
       "2  2015      1    1            4           US            840      N171US   \n",
       "3  2015      1    1            4           AA            258      N3HYAA   \n",
       "4  2015      1    1            4           AS            135      N527AS   \n",
       "\n",
       "  ORIGIN_AIRPORT DESTINATION_AIRPORT SCHEDULED_DEPARTURE  ... AIRLINE_DELAY  \\\n",
       "0            ANC                 SEA 1900-01-01 00:05:00  ...           NaN   \n",
       "1            LAX                 PBI 1900-01-01 00:10:00  ...           NaN   \n",
       "2            SFO                 CLT 1900-01-01 00:20:00  ...           NaN   \n",
       "3            LAX                 MIA 1900-01-01 00:20:00  ...           NaN   \n",
       "4            SEA                 ANC 1900-01-01 00:25:00  ...           NaN   \n",
       "\n",
       "   LATE_AIRCRAFT_DELAY  WEATHER_DELAY                 AIRLINE FLIGHT_DATE  \\\n",
       "0                  NaN            NaN    Alaska Airlines Inc.  2015-01-01   \n",
       "1                  NaN            NaN  American Airlines Inc.  2015-01-01   \n",
       "2                  NaN            NaN         US Airways Inc.  2015-01-01   \n",
       "3                  NaN            NaN  American Airlines Inc.  2015-01-01   \n",
       "4                  NaN            NaN    Alaska Airlines Inc.  2015-01-01   \n",
       "\n",
       "   CANCELLATION_REASON_A  CANCELLATION_REASON_B  CANCELLATION_REASON_C  \\\n",
       "0                      0                      0                      0   \n",
       "1                      0                      0                      0   \n",
       "2                      0                      0                      0   \n",
       "3                      0                      0                      0   \n",
       "4                      0                      0                      0   \n",
       "\n",
       "  CANCELLATION_REASON_D  CANCELLATION_REASON_N  \n",
       "0                     0                      1  \n",
       "1                     0                      1  \n",
       "2                     0                      1  \n",
       "3                     0                      1  \n",
       "4                     0                      1  \n",
       "\n",
       "[5 rows x 37 columns]"
      ]
     },
     "execution_count": 41,
     "metadata": {},
     "output_type": "execute_result"
    }
   ],
   "source": [
    "# One hot encode CANCELLATION_REASON where NA = 0\n",
    "# Source: datagy.io/pandas-get-dummies/\n",
    "\n",
    "# Convert missing values to 'N' for 'N/A'\n",
    "df['CANCELLATION_REASON'] = df['CANCELLATION_REASON'].fillna('N')\n",
    "\n",
    "# One hot encode\n",
    "one_hot_columns = ['CANCELLATION_REASON']\n",
    "\n",
    "for column in one_hot_columns:\n",
    "  tempdf = pd.get_dummies(df[column], prefix=column)\n",
    "\n",
    "  df = pd.merge(\n",
    "      left = df,\n",
    "      right = tempdf,\n",
    "      left_index = True,\n",
    "      right_index = True,\n",
    "  )\n",
    "\n",
    "  df = df.drop(columns=column)\n",
    "\n",
    "df.head()"
   ]
  },
  {
   "cell_type": "code",
   "execution_count": 42,
   "metadata": {
    "colab": {
     "base_uri": "https://localhost:8080/"
    },
    "id": "Bbb7wqGZIPGo",
    "outputId": "3ca6e2ea-9c39-4374-9370-8aa015ab264d"
   },
   "outputs": [
    {
     "data": {
      "text/plain": [
       "YEAR                           0\n",
       "MONTH                          0\n",
       "DAY                            0\n",
       "DAY_OF_WEEK                    0\n",
       "AIRLINE_CODE                   0\n",
       "FLIGHT_NUMBER                  0\n",
       "TAIL_NUMBER                14721\n",
       "ORIGIN_AIRPORT                 0\n",
       "DESTINATION_AIRPORT            0\n",
       "SCHEDULED_DEPARTURE            0\n",
       "DEPARTURE_TIME             86666\n",
       "DEPARTURE_DELAY            86153\n",
       "TAXI_OUT                   89047\n",
       "WHEELS_OFF                 89774\n",
       "SCHEDULED_TIME                 6\n",
       "ELAPSED_TIME              105071\n",
       "AIR_TIME                  105071\n",
       "DISTANCE                       0\n",
       "WHEELS_ON                  94518\n",
       "TAXI_IN                    92513\n",
       "SCHEDULED_ARRIVAL              2\n",
       "ARRIVAL_TIME               94969\n",
       "ARRIVAL_DELAY             105071\n",
       "DIVERTED                       0\n",
       "CANCELLED                      0\n",
       "AIR_SYSTEM_DELAY         4755640\n",
       "SECURITY_DELAY           4755640\n",
       "AIRLINE_DELAY            4755640\n",
       "LATE_AIRCRAFT_DELAY      4755640\n",
       "WEATHER_DELAY            4755640\n",
       "AIRLINE                        0\n",
       "FLIGHT_DATE                    0\n",
       "CANCELLATION_REASON_A          0\n",
       "CANCELLATION_REASON_B          0\n",
       "CANCELLATION_REASON_C          0\n",
       "CANCELLATION_REASON_D          0\n",
       "CANCELLATION_REASON_N          0\n",
       "dtype: int64"
      ]
     },
     "execution_count": 42,
     "metadata": {},
     "output_type": "execute_result"
    }
   ],
   "source": [
    "# How many missing values are there in the data now?\n",
    "df.isnull().sum()"
   ]
  },
  {
   "cell_type": "markdown",
   "metadata": {
    "id": "SCHo0Sg6ERe9"
   },
   "source": [
    "Here the remaining rows containing missing data only account for about 2% of the total number of original observations. We feel comfortable removing those rows with missing values and proceeding with our analysis."
   ]
  },
  {
   "cell_type": "code",
   "execution_count": 19,
   "metadata": {
    "colab": {
     "base_uri": "https://localhost:8080/"
    },
    "id": "We1ZBEKxe-11",
    "outputId": "5b053fb7-6a30-4450-fb1b-ecedc775a4b3"
   },
   "outputs": [
    {
     "data": {
      "text/plain": [
       "CANCELLED\n",
       "0    5729195\n",
       "1      89884\n",
       "Name: YEAR, dtype: int64"
      ]
     },
     "execution_count": 19,
     "metadata": {},
     "output_type": "execute_result"
    }
   ],
   "source": [
    "#check counts of cancels\n",
    "df.groupby('CANCELLED')['YEAR'].count()"
   ]
  },
  {
   "cell_type": "code",
   "execution_count": 20,
   "metadata": {
    "id": "O1WYkMnFYQQE"
   },
   "outputs": [],
   "source": [
    "# Drop the remaining rows that contain missing values\n",
    "#df = df.dropna(axis=0)\n",
    "\n",
    "#this line is a problem - as you can see above it drops all the cancelled flights. will need to fix."
   ]
  },
  {
   "cell_type": "markdown",
   "metadata": {
    "id": "lmLbfsk2hIgH"
   },
   "source": [
    "MB comment: I updated from here to change to binary & 0's because it dropped the cancels otherwise."
   ]
  },
  {
   "cell_type": "code",
   "execution_count": 43,
   "metadata": {
    "colab": {
     "base_uri": "https://localhost:8080/"
    },
    "id": "_g1j0OAwhF7o",
    "outputId": "852f0fbd-3cc1-4e21-9090-ff058bca8234"
   },
   "outputs": [
    {
     "data": {
      "text/plain": [
       "YEAR                           0\n",
       "MONTH                          0\n",
       "DAY                            0\n",
       "DAY_OF_WEEK                    0\n",
       "AIRLINE_CODE                   0\n",
       "FLIGHT_NUMBER                  0\n",
       "TAIL_NUMBER                14721\n",
       "ORIGIN_AIRPORT                 0\n",
       "DESTINATION_AIRPORT            0\n",
       "SCHEDULED_DEPARTURE            0\n",
       "DEPARTED                       0\n",
       "DEPARTURE_DELAY            86153\n",
       "TAXI_OUT                   89047\n",
       "WHEELS_OFF                 89774\n",
       "SCHEDULED_TIME                 6\n",
       "ELAPSED_TIME              105071\n",
       "AIR_TIME                  105071\n",
       "DISTANCE                       0\n",
       "WHEELS_ON                  94518\n",
       "TAXI_IN                    92513\n",
       "SCHEDULED_ARRIVAL              2\n",
       "ARRIVAL_TIME               94969\n",
       "ARRIVAL_DELAY             105071\n",
       "DIVERTED                       0\n",
       "CANCELLED                      0\n",
       "AIR_SYSTEM_DELAY         4755640\n",
       "SECURITY_DELAY           4755640\n",
       "AIRLINE_DELAY            4755640\n",
       "LATE_AIRCRAFT_DELAY      4755640\n",
       "WEATHER_DELAY            4755640\n",
       "AIRLINE                        0\n",
       "FLIGHT_DATE                    0\n",
       "CANCELLATION_REASON_A          0\n",
       "CANCELLATION_REASON_B          0\n",
       "CANCELLATION_REASON_C          0\n",
       "CANCELLATION_REASON_D          0\n",
       "CANCELLATION_REASON_N          0\n",
       "dtype: int64"
      ]
     },
     "execution_count": 43,
     "metadata": {},
     "output_type": "execute_result"
    }
   ],
   "source": [
    "#update missing values in times to 0. will be updating times to a binary (1 = yes action happened, 0 = no action happened)\n",
    "df['DEPARTURE_TIME'] = df['DEPARTURE_TIME'].fillna(0)\n",
    "#change all non-null values to 1\n",
    "df.loc[(df.DEPARTURE_TIME != '0'), 'DEPARTURE_TIME'] = 1\n",
    "\n",
    "#change column name to 'DEPARTED'\n",
    "df.rename(columns={'DEPARTURE_TIME': 'DEPARTED'}, inplace=True)\n",
    "\n",
    "df.isna().sum()"
   ]
  },
  {
   "cell_type": "code",
   "execution_count": 44,
   "metadata": {
    "colab": {
     "base_uri": "https://localhost:8080/"
    },
    "id": "Q2fWp4I8hWxq",
    "outputId": "8ecdd45c-d709-41f9-b89c-a379aea61e42"
   },
   "outputs": [
    {
     "data": {
      "text/plain": [
       "YEAR                           0\n",
       "MONTH                          0\n",
       "DAY                            0\n",
       "DAY_OF_WEEK                    0\n",
       "AIRLINE_CODE                   0\n",
       "FLIGHT_NUMBER                  0\n",
       "TAIL_NUMBER                14721\n",
       "ORIGIN_AIRPORT                 0\n",
       "DESTINATION_AIRPORT            0\n",
       "SCHEDULED_DEPARTURE            0\n",
       "DEPARTED                       0\n",
       "DEPARTURE_DELAY            86153\n",
       "TAXI_OUT                   89047\n",
       "WHEELS_OFF                     0\n",
       "SCHEDULED_TIME                 6\n",
       "ELAPSED_TIME              105071\n",
       "AIR_TIME                  105071\n",
       "DISTANCE                       0\n",
       "WHEELS_ON                      0\n",
       "TAXI_IN                    92513\n",
       "SCHEDULED_ARRIVAL              2\n",
       "ARRIVED                        0\n",
       "ARRIVAL_DELAY             105071\n",
       "DIVERTED                       0\n",
       "CANCELLED                      0\n",
       "AIR_SYSTEM_DELAY         4755640\n",
       "SECURITY_DELAY           4755640\n",
       "AIRLINE_DELAY            4755640\n",
       "LATE_AIRCRAFT_DELAY      4755640\n",
       "WEATHER_DELAY            4755640\n",
       "AIRLINE                        0\n",
       "FLIGHT_DATE                    0\n",
       "CANCELLATION_REASON_A          0\n",
       "CANCELLATION_REASON_B          0\n",
       "CANCELLATION_REASON_C          0\n",
       "CANCELLATION_REASON_D          0\n",
       "CANCELLATION_REASON_N          0\n",
       "dtype: int64"
      ]
     },
     "execution_count": 44,
     "metadata": {},
     "output_type": "execute_result"
    }
   ],
   "source": [
    "#update remaining columns using same logic\n",
    "\n",
    "cols = ['WHEELS_OFF','WHEELS_ON','ARRIVAL_TIME']\n",
    "df[cols] = df[cols].fillna(0)\n",
    "\n",
    "df.loc[(df.WHEELS_OFF != '0'), 'WHEELS_OFF'] = 1\n",
    "df.loc[(df.WHEELS_ON != '0'), 'WHEELS_ON'] = 1\n",
    "df.loc[(df.ARRIVAL_TIME != '0'), 'ARRIVAL_TIME'] = 1\n",
    "\n",
    "df.rename(columns={'ARRIVAL_TIME': 'ARRIVED'}, inplace=True)\n",
    "\n",
    "df.isna().sum()"
   ]
  },
  {
   "cell_type": "code",
   "execution_count": 45,
   "metadata": {
    "colab": {
     "base_uri": "https://localhost:8080/"
    },
    "id": "ckIHEC_vhZ7V",
    "outputId": "515b6bf0-d1a6-4b42-f7cb-0b6407c68f4c"
   },
   "outputs": [
    {
     "data": {
      "text/plain": [
       "YEAR                          0\n",
       "MONTH                         0\n",
       "DAY                           0\n",
       "DAY_OF_WEEK                   0\n",
       "AIRLINE_CODE                  0\n",
       "FLIGHT_NUMBER                 0\n",
       "TAIL_NUMBER               14721\n",
       "ORIGIN_AIRPORT                0\n",
       "DESTINATION_AIRPORT           0\n",
       "SCHEDULED_DEPARTURE           0\n",
       "DEPARTED                      0\n",
       "DEPARTURE_DELAY           86153\n",
       "TAXI_OUT                  89047\n",
       "WHEELS_OFF                    0\n",
       "SCHEDULED_TIME                6\n",
       "ELAPSED_TIME             105071\n",
       "AIR_TIME                 105071\n",
       "DISTANCE                      0\n",
       "WHEELS_ON                     0\n",
       "TAXI_IN                   92513\n",
       "SCHEDULED_ARRIVAL             2\n",
       "ARRIVED                       0\n",
       "ARRIVAL_DELAY            105071\n",
       "DIVERTED                      0\n",
       "CANCELLED                     0\n",
       "AIR_SYSTEM_DELAY              0\n",
       "SECURITY_DELAY                0\n",
       "AIRLINE_DELAY                 0\n",
       "LATE_AIRCRAFT_DELAY           0\n",
       "WEATHER_DELAY                 0\n",
       "AIRLINE                       0\n",
       "FLIGHT_DATE                   0\n",
       "CANCELLATION_REASON_A         0\n",
       "CANCELLATION_REASON_B         0\n",
       "CANCELLATION_REASON_C         0\n",
       "CANCELLATION_REASON_D         0\n",
       "CANCELLATION_REASON_N         0\n",
       "dtype: int64"
      ]
     },
     "execution_count": 45,
     "metadata": {},
     "output_type": "execute_result"
    }
   ],
   "source": [
    "#fill missing values with 0\n",
    "cols = ['AIR_SYSTEM_DELAY','SECURITY_DELAY','AIRLINE_DELAY','LATE_AIRCRAFT_DELAY','WEATHER_DELAY']\n",
    "df[cols] = df[cols].fillna(0)\n",
    "df.isna().sum()"
   ]
  },
  {
   "cell_type": "code",
   "execution_count": 46,
   "metadata": {
    "colab": {
     "base_uri": "https://localhost:8080/"
    },
    "id": "tIfdHQ4eiY7S",
    "outputId": "41d0b6bd-4ea2-4b08-c333-fba479d27d3e"
   },
   "outputs": [
    {
     "data": {
      "text/plain": [
       "YEAR                         0\n",
       "MONTH                        0\n",
       "DAY                          0\n",
       "DAY_OF_WEEK                  0\n",
       "AIRLINE_CODE                 0\n",
       "FLIGHT_NUMBER                0\n",
       "TAIL_NUMBER              14721\n",
       "ORIGIN_AIRPORT               0\n",
       "DESTINATION_AIRPORT          0\n",
       "SCHEDULED_DEPARTURE          0\n",
       "DEPARTED                     0\n",
       "DEPARTURE_DELAY              0\n",
       "TAXI_OUT                     0\n",
       "WHEELS_OFF                   0\n",
       "SCHEDULED_TIME               6\n",
       "ELAPSED_TIME             15187\n",
       "AIR_TIME                 15187\n",
       "DISTANCE                     0\n",
       "WHEELS_ON                    0\n",
       "TAXI_IN                   2629\n",
       "SCHEDULED_ARRIVAL            2\n",
       "ARRIVED                      0\n",
       "ARRIVAL_DELAY            15187\n",
       "DIVERTED                     0\n",
       "CANCELLED                    0\n",
       "AIR_SYSTEM_DELAY             0\n",
       "SECURITY_DELAY               0\n",
       "AIRLINE_DELAY                0\n",
       "LATE_AIRCRAFT_DELAY          0\n",
       "WEATHER_DELAY                0\n",
       "AIRLINE                      0\n",
       "FLIGHT_DATE                  0\n",
       "CANCELLATION_REASON_A        0\n",
       "CANCELLATION_REASON_B        0\n",
       "CANCELLATION_REASON_C        0\n",
       "CANCELLATION_REASON_D        0\n",
       "CANCELLATION_REASON_N        0\n",
       "dtype: int64"
      ]
     },
     "execution_count": 46,
     "metadata": {},
     "output_type": "execute_result"
    }
   ],
   "source": [
    "#change remaining null values to 0 if flight was cancelled\n",
    "df.loc[(df.CANCELLED == 1), ('DEPARTURE_DELAY', 'TAXI_OUT', 'ELAPSED_TIME','AIR_TIME','TAXI_IN','ARRIVAL_DELAY')] = 0\n",
    "df.isna().sum()"
   ]
  },
  {
   "cell_type": "code",
   "execution_count": 47,
   "metadata": {
    "id": "-8z9ekpmikYt"
   },
   "outputs": [],
   "source": [
    "#remove remaining null value\n",
    "df = df.dropna()"
   ]
  },
  {
   "cell_type": "code",
   "execution_count": 48,
   "metadata": {
    "colab": {
     "base_uri": "https://localhost:8080/"
    },
    "id": "8pJq5FhxikNG",
    "outputId": "15ecbbe4-d1e4-48cd-cf32-3ae4beaa894c",
    "scrolled": true
   },
   "outputs": [
    {
     "data": {
      "text/plain": [
       "YEAR                     0\n",
       "MONTH                    0\n",
       "DAY                      0\n",
       "DAY_OF_WEEK              0\n",
       "AIRLINE_CODE             0\n",
       "FLIGHT_NUMBER            0\n",
       "TAIL_NUMBER              0\n",
       "ORIGIN_AIRPORT           0\n",
       "DESTINATION_AIRPORT      0\n",
       "SCHEDULED_DEPARTURE      0\n",
       "DEPARTED                 0\n",
       "DEPARTURE_DELAY          0\n",
       "TAXI_OUT                 0\n",
       "WHEELS_OFF               0\n",
       "SCHEDULED_TIME           0\n",
       "ELAPSED_TIME             0\n",
       "AIR_TIME                 0\n",
       "DISTANCE                 0\n",
       "WHEELS_ON                0\n",
       "TAXI_IN                  0\n",
       "SCHEDULED_ARRIVAL        0\n",
       "ARRIVED                  0\n",
       "ARRIVAL_DELAY            0\n",
       "DIVERTED                 0\n",
       "CANCELLED                0\n",
       "AIR_SYSTEM_DELAY         0\n",
       "SECURITY_DELAY           0\n",
       "AIRLINE_DELAY            0\n",
       "LATE_AIRCRAFT_DELAY      0\n",
       "WEATHER_DELAY            0\n",
       "AIRLINE                  0\n",
       "FLIGHT_DATE              0\n",
       "CANCELLATION_REASON_A    0\n",
       "CANCELLATION_REASON_B    0\n",
       "CANCELLATION_REASON_C    0\n",
       "CANCELLATION_REASON_D    0\n",
       "CANCELLATION_REASON_N    0\n",
       "dtype: int64"
      ]
     },
     "execution_count": 48,
     "metadata": {},
     "output_type": "execute_result"
    }
   ],
   "source": [
    "df.isna().sum()"
   ]
  },
  {
   "cell_type": "code",
   "execution_count": 49,
   "metadata": {},
   "outputs": [],
   "source": [
    "#save data here for faster upload on section\n",
    "df.to_csv('../Data/df_clean.csv')"
   ]
  },
  {
   "cell_type": "code",
   "execution_count": 50,
   "metadata": {},
   "outputs": [
    {
     "name": "stderr",
     "output_type": "stream",
     "text": [
      "C:\\Users\\megan\\AppData\\Local\\Continuum\\anaconda3\\lib\\site-packages\\IPython\\core\\interactiveshell.py:3057: DtypeWarning: Columns (8,9) have mixed types. Specify dtype option on import or set low_memory=False.\n",
      "  interactivity=interactivity, compiler=compiler, result=result)\n"
     ]
    }
   ],
   "source": [
    "#re-load data\n",
    "df = pd.read_csv('../Data/df_clean.csv')"
   ]
  },
  {
   "cell_type": "code",
   "execution_count": 51,
   "metadata": {},
   "outputs": [
    {
     "name": "stdout",
     "output_type": "stream",
     "text": [
      "<class 'pandas.core.frame.DataFrame'>\n",
      "RangeIndex: 5789165 entries, 0 to 5789164\n",
      "Data columns (total 38 columns):\n",
      "Unnamed: 0               int64\n",
      "YEAR                     int64\n",
      "MONTH                    int64\n",
      "DAY                      int64\n",
      "DAY_OF_WEEK              int64\n",
      "AIRLINE_CODE             object\n",
      "FLIGHT_NUMBER            int64\n",
      "TAIL_NUMBER              object\n",
      "ORIGIN_AIRPORT           object\n",
      "DESTINATION_AIRPORT      object\n",
      "SCHEDULED_DEPARTURE      object\n",
      "DEPARTED                 int64\n",
      "DEPARTURE_DELAY          float64\n",
      "TAXI_OUT                 float64\n",
      "WHEELS_OFF               int64\n",
      "SCHEDULED_TIME           int64\n",
      "ELAPSED_TIME             float64\n",
      "AIR_TIME                 float64\n",
      "DISTANCE                 int64\n",
      "WHEELS_ON                int64\n",
      "TAXI_IN                  float64\n",
      "SCHEDULED_ARRIVAL        object\n",
      "ARRIVED                  int64\n",
      "ARRIVAL_DELAY            float64\n",
      "DIVERTED                 int64\n",
      "CANCELLED                int64\n",
      "AIR_SYSTEM_DELAY         float64\n",
      "SECURITY_DELAY           float64\n",
      "AIRLINE_DELAY            float64\n",
      "LATE_AIRCRAFT_DELAY      float64\n",
      "WEATHER_DELAY            float64\n",
      "AIRLINE                  object\n",
      "FLIGHT_DATE              object\n",
      "CANCELLATION_REASON_A    int64\n",
      "CANCELLATION_REASON_B    int64\n",
      "CANCELLATION_REASON_C    int64\n",
      "CANCELLATION_REASON_D    int64\n",
      "CANCELLATION_REASON_N    int64\n",
      "dtypes: float64(11), int64(19), object(8)\n",
      "memory usage: 1.6+ GB\n"
     ]
    }
   ],
   "source": [
    "#check data\n",
    "df.info()"
   ]
  },
  {
   "cell_type": "markdown",
   "metadata": {
    "id": "r8wP0VqoFlKB"
   },
   "source": [
    "### Outliers"
   ]
  },
  {
   "cell_type": "code",
   "execution_count": 91,
   "metadata": {
    "colab": {
     "base_uri": "https://localhost:8080/",
     "height": 288
    },
    "id": "186c551d",
    "outputId": "686761ad-1493-4740-f1bf-3684a1fa2b6c"
   },
   "outputs": [
    {
     "data": {
      "text/plain": [
       "<matplotlib.axes._subplots.AxesSubplot at 0x7fc5718a1ad0>"
      ]
     },
     "execution_count": 91,
     "metadata": {
      "tags": []
     },
     "output_type": "execute_result"
    },
    {
     "data": {
      "image/png": "[encoded data removed]",
      "text/plain": [
       "<Figure size 432x288 with 1 Axes>"
      ]
     },
     "metadata": {
      "needs_background": "light",
      "tags": []
     },
     "output_type": "display_data"
    }
   ],
   "source": [
    "# Check for outliers on continuous variables\n",
    "# Source: https://stackoverflow.com/questions/25039626/how-do-i-find-numeric-columns-in-pandas\n",
    "num_col = df.select_dtypes(include = np.number).columns.tolist() \n",
    "df.boxplot(column = num_col)"
   ]
  },
  {
   "cell_type": "markdown",
   "metadata": {
    "id": "8523923c"
   },
   "source": [
    "Note... need to do some more work here, group at different scales or split out individually"
   ]
  },
  {
   "cell_type": "markdown",
   "metadata": {
    "id": "eXeTQ3mGqNZE"
   },
   "source": [
    "#### TO DO (BLAKE)\n",
    "\n",
    "- Address outliers\n",
    "- Amber work on airport codes\n",
    "- We need to finish cleaning up the time conversions (someone)"
   ]
  },
  {
   "cell_type": "markdown",
   "metadata": {
    "id": "6cdc68a0"
   },
   "source": [
    "## Simple Statistics"
   ]
  },
  {
   "cell_type": "markdown",
   "metadata": {
    "id": "da956f44"
   },
   "source": [
    "`Visualize appropriate statistics (e.g., range, mode, mean, median, variance, counts) for a subset of attributes. Describe anything meaningful you found from this or if you found something potentially interesting. Note: You can also use data from other sources for comparison. Explain why the statistics run are meaningful.`"
   ]
  },
  {
   "cell_type": "code",
   "execution_count": null,
   "metadata": {},
   "outputs": [],
   "source": [
    "#open data\n",
    "pd.read_csv('Data/df_clean.csv')"
   ]
  },
  {
   "cell_type": "code",
   "execution_count": 25,
   "metadata": {
    "colab": {
     "base_uri": "https://localhost:8080/",
     "height": 320
    },
    "id": "5512eec4",
    "outputId": "2ea8f530-39aa-48c3-e68f-2e679084cb27"
   },
   "outputs": [
    {
     "data": {
      "text/html": [
       "<div>\n",
       "<style scoped>\n",
       "    .dataframe tbody tr th:only-of-type {\n",
       "        vertical-align: middle;\n",
       "    }\n",
       "\n",
       "    .dataframe tbody tr th {\n",
       "        vertical-align: top;\n",
       "    }\n",
       "\n",
       "    .dataframe thead th {\n",
       "        text-align: right;\n",
       "    }\n",
       "</style>\n",
       "<table border=\"1\" class=\"dataframe\">\n",
       "  <thead>\n",
       "    <tr style=\"text-align: right;\">\n",
       "      <th></th>\n",
       "      <th>YEAR</th>\n",
       "      <th>MONTH</th>\n",
       "      <th>DAY</th>\n",
       "      <th>DAY_OF_WEEK</th>\n",
       "      <th>FLIGHT_NUMBER</th>\n",
       "      <th>DEPARTED</th>\n",
       "      <th>DEPARTURE_DELAY</th>\n",
       "      <th>TAXI_OUT</th>\n",
       "      <th>WHEELS_OFF</th>\n",
       "      <th>ELAPSED_TIME</th>\n",
       "      <th>...</th>\n",
       "      <th>AIR_SYSTEM_DELAY</th>\n",
       "      <th>SECURITY_DELAY</th>\n",
       "      <th>AIRLINE_DELAY</th>\n",
       "      <th>LATE_AIRCRAFT_DELAY</th>\n",
       "      <th>WEATHER_DELAY</th>\n",
       "      <th>CANCELLATION_REASON_A</th>\n",
       "      <th>CANCELLATION_REASON_B</th>\n",
       "      <th>CANCELLATION_REASON_C</th>\n",
       "      <th>CANCELLATION_REASON_D</th>\n",
       "      <th>CANCELLATION_REASON_N</th>\n",
       "    </tr>\n",
       "  </thead>\n",
       "  <tbody>\n",
       "    <tr>\n",
       "      <th>count</th>\n",
       "      <td>5789165.0</td>\n",
       "      <td>5.789165e+06</td>\n",
       "      <td>5.789165e+06</td>\n",
       "      <td>5.789165e+06</td>\n",
       "      <td>5.789165e+06</td>\n",
       "      <td>5789165.0</td>\n",
       "      <td>5.789165e+06</td>\n",
       "      <td>5.789165e+06</td>\n",
       "      <td>5789165.0</td>\n",
       "      <td>5.789165e+06</td>\n",
       "      <td>...</td>\n",
       "      <td>5.789165e+06</td>\n",
       "      <td>5.789165e+06</td>\n",
       "      <td>5.789165e+06</td>\n",
       "      <td>5.789165e+06</td>\n",
       "      <td>5.789165e+06</td>\n",
       "      <td>5.789165e+06</td>\n",
       "      <td>5.789165e+06</td>\n",
       "      <td>5.789165e+06</td>\n",
       "      <td>5.789165e+06</td>\n",
       "      <td>5.789165e+06</td>\n",
       "    </tr>\n",
       "    <tr>\n",
       "      <th>mean</th>\n",
       "      <td>2015.0</td>\n",
       "      <td>6.529244e+00</td>\n",
       "      <td>1.570191e+01</td>\n",
       "      <td>3.928717e+00</td>\n",
       "      <td>2.174812e+03</td>\n",
       "      <td>1.0</td>\n",
       "      <td>9.174156e+00</td>\n",
       "      <td>1.585693e+01</td>\n",
       "      <td>1.0</td>\n",
       "      <td>1.352275e+02</td>\n",
       "      <td>...</td>\n",
       "      <td>2.476309e+00</td>\n",
       "      <td>1.398906e-02</td>\n",
       "      <td>3.484605e+00</td>\n",
       "      <td>4.311822e+00</td>\n",
       "      <td>5.355233e-01</td>\n",
       "      <td>3.496359e-03</td>\n",
       "      <td>7.000491e-03</td>\n",
       "      <td>2.481878e-03</td>\n",
       "      <td>3.800203e-06</td>\n",
       "      <td>9.870175e-01</td>\n",
       "    </tr>\n",
       "    <tr>\n",
       "      <th>std</th>\n",
       "      <td>0.0</td>\n",
       "      <td>3.403785e+00</td>\n",
       "      <td>8.780918e+00</td>\n",
       "      <td>1.988249e+00</td>\n",
       "      <td>1.758028e+03</td>\n",
       "      <td>0.0</td>\n",
       "      <td>3.666456e+01</td>\n",
       "      <td>9.010045e+00</td>\n",
       "      <td>0.0</td>\n",
       "      <td>7.534131e+01</td>\n",
       "      <td>...</td>\n",
       "      <td>1.308833e+01</td>\n",
       "      <td>9.191515e-01</td>\n",
       "      <td>2.190996e+01</td>\n",
       "      <td>2.062496e+01</td>\n",
       "      <td>8.830108e+00</td>\n",
       "      <td>5.902656e-02</td>\n",
       "      <td>8.337557e-02</td>\n",
       "      <td>4.975659e-02</td>\n",
       "      <td>1.949407e-03</td>\n",
       "      <td>1.131989e-01</td>\n",
       "    </tr>\n",
       "    <tr>\n",
       "      <th>min</th>\n",
       "      <td>2015.0</td>\n",
       "      <td>1.000000e+00</td>\n",
       "      <td>1.000000e+00</td>\n",
       "      <td>1.000000e+00</td>\n",
       "      <td>1.000000e+00</td>\n",
       "      <td>1.0</td>\n",
       "      <td>-8.200000e+01</td>\n",
       "      <td>0.000000e+00</td>\n",
       "      <td>1.0</td>\n",
       "      <td>0.000000e+00</td>\n",
       "      <td>...</td>\n",
       "      <td>0.000000e+00</td>\n",
       "      <td>0.000000e+00</td>\n",
       "      <td>0.000000e+00</td>\n",
       "      <td>0.000000e+00</td>\n",
       "      <td>0.000000e+00</td>\n",
       "      <td>0.000000e+00</td>\n",
       "      <td>0.000000e+00</td>\n",
       "      <td>0.000000e+00</td>\n",
       "      <td>0.000000e+00</td>\n",
       "      <td>0.000000e+00</td>\n",
       "    </tr>\n",
       "    <tr>\n",
       "      <th>25%</th>\n",
       "      <td>2015.0</td>\n",
       "      <td>4.000000e+00</td>\n",
       "      <td>8.000000e+00</td>\n",
       "      <td>2.000000e+00</td>\n",
       "      <td>7.310000e+02</td>\n",
       "      <td>1.0</td>\n",
       "      <td>-5.000000e+00</td>\n",
       "      <td>1.100000e+01</td>\n",
       "      <td>1.0</td>\n",
       "      <td>8.100000e+01</td>\n",
       "      <td>...</td>\n",
       "      <td>0.000000e+00</td>\n",
       "      <td>0.000000e+00</td>\n",
       "      <td>0.000000e+00</td>\n",
       "      <td>0.000000e+00</td>\n",
       "      <td>0.000000e+00</td>\n",
       "      <td>0.000000e+00</td>\n",
       "      <td>0.000000e+00</td>\n",
       "      <td>0.000000e+00</td>\n",
       "      <td>0.000000e+00</td>\n",
       "      <td>1.000000e+00</td>\n",
       "    </tr>\n",
       "    <tr>\n",
       "      <th>50%</th>\n",
       "      <td>2015.0</td>\n",
       "      <td>7.000000e+00</td>\n",
       "      <td>1.600000e+01</td>\n",
       "      <td>4.000000e+00</td>\n",
       "      <td>1.691000e+03</td>\n",
       "      <td>1.0</td>\n",
       "      <td>-1.000000e+00</td>\n",
       "      <td>1.400000e+01</td>\n",
       "      <td>1.0</td>\n",
       "      <td>1.170000e+02</td>\n",
       "      <td>...</td>\n",
       "      <td>0.000000e+00</td>\n",
       "      <td>0.000000e+00</td>\n",
       "      <td>0.000000e+00</td>\n",
       "      <td>0.000000e+00</td>\n",
       "      <td>0.000000e+00</td>\n",
       "      <td>0.000000e+00</td>\n",
       "      <td>0.000000e+00</td>\n",
       "      <td>0.000000e+00</td>\n",
       "      <td>0.000000e+00</td>\n",
       "      <td>1.000000e+00</td>\n",
       "    </tr>\n",
       "    <tr>\n",
       "      <th>75%</th>\n",
       "      <td>2015.0</td>\n",
       "      <td>9.000000e+00</td>\n",
       "      <td>2.300000e+01</td>\n",
       "      <td>6.000000e+00</td>\n",
       "      <td>3.234000e+03</td>\n",
       "      <td>1.0</td>\n",
       "      <td>7.000000e+00</td>\n",
       "      <td>1.900000e+01</td>\n",
       "      <td>1.0</td>\n",
       "      <td>1.680000e+02</td>\n",
       "      <td>...</td>\n",
       "      <td>0.000000e+00</td>\n",
       "      <td>0.000000e+00</td>\n",
       "      <td>0.000000e+00</td>\n",
       "      <td>0.000000e+00</td>\n",
       "      <td>0.000000e+00</td>\n",
       "      <td>0.000000e+00</td>\n",
       "      <td>0.000000e+00</td>\n",
       "      <td>0.000000e+00</td>\n",
       "      <td>0.000000e+00</td>\n",
       "      <td>1.000000e+00</td>\n",
       "    </tr>\n",
       "    <tr>\n",
       "      <th>max</th>\n",
       "      <td>2015.0</td>\n",
       "      <td>1.200000e+01</td>\n",
       "      <td>3.100000e+01</td>\n",
       "      <td>7.000000e+00</td>\n",
       "      <td>9.855000e+03</td>\n",
       "      <td>1.0</td>\n",
       "      <td>1.988000e+03</td>\n",
       "      <td>2.250000e+02</td>\n",
       "      <td>1.0</td>\n",
       "      <td>7.660000e+02</td>\n",
       "      <td>...</td>\n",
       "      <td>1.134000e+03</td>\n",
       "      <td>5.730000e+02</td>\n",
       "      <td>1.971000e+03</td>\n",
       "      <td>1.331000e+03</td>\n",
       "      <td>1.211000e+03</td>\n",
       "      <td>1.000000e+00</td>\n",
       "      <td>1.000000e+00</td>\n",
       "      <td>1.000000e+00</td>\n",
       "      <td>1.000000e+00</td>\n",
       "      <td>1.000000e+00</td>\n",
       "    </tr>\n",
       "  </tbody>\n",
       "</table>\n",
       "<p>8 rows × 28 columns</p>\n",
       "</div>"
      ],
      "text/plain": [
       "            YEAR         MONTH           DAY   DAY_OF_WEEK  FLIGHT_NUMBER  \\\n",
       "count  5789165.0  5.789165e+06  5.789165e+06  5.789165e+06   5.789165e+06   \n",
       "mean      2015.0  6.529244e+00  1.570191e+01  3.928717e+00   2.174812e+03   \n",
       "std          0.0  3.403785e+00  8.780918e+00  1.988249e+00   1.758028e+03   \n",
       "min       2015.0  1.000000e+00  1.000000e+00  1.000000e+00   1.000000e+00   \n",
       "25%       2015.0  4.000000e+00  8.000000e+00  2.000000e+00   7.310000e+02   \n",
       "50%       2015.0  7.000000e+00  1.600000e+01  4.000000e+00   1.691000e+03   \n",
       "75%       2015.0  9.000000e+00  2.300000e+01  6.000000e+00   3.234000e+03   \n",
       "max       2015.0  1.200000e+01  3.100000e+01  7.000000e+00   9.855000e+03   \n",
       "\n",
       "        DEPARTED  DEPARTURE_DELAY      TAXI_OUT  WHEELS_OFF  ELAPSED_TIME  \\\n",
       "count  5789165.0     5.789165e+06  5.789165e+06   5789165.0  5.789165e+06   \n",
       "mean         1.0     9.174156e+00  1.585693e+01         1.0  1.352275e+02   \n",
       "std          0.0     3.666456e+01  9.010045e+00         0.0  7.534131e+01   \n",
       "min          1.0    -8.200000e+01  0.000000e+00         1.0  0.000000e+00   \n",
       "25%          1.0    -5.000000e+00  1.100000e+01         1.0  8.100000e+01   \n",
       "50%          1.0    -1.000000e+00  1.400000e+01         1.0  1.170000e+02   \n",
       "75%          1.0     7.000000e+00  1.900000e+01         1.0  1.680000e+02   \n",
       "max          1.0     1.988000e+03  2.250000e+02         1.0  7.660000e+02   \n",
       "\n",
       "       ...  AIR_SYSTEM_DELAY  SECURITY_DELAY  AIRLINE_DELAY  \\\n",
       "count  ...      5.789165e+06    5.789165e+06   5.789165e+06   \n",
       "mean   ...      2.476309e+00    1.398906e-02   3.484605e+00   \n",
       "std    ...      1.308833e+01    9.191515e-01   2.190996e+01   \n",
       "min    ...      0.000000e+00    0.000000e+00   0.000000e+00   \n",
       "25%    ...      0.000000e+00    0.000000e+00   0.000000e+00   \n",
       "50%    ...      0.000000e+00    0.000000e+00   0.000000e+00   \n",
       "75%    ...      0.000000e+00    0.000000e+00   0.000000e+00   \n",
       "max    ...      1.134000e+03    5.730000e+02   1.971000e+03   \n",
       "\n",
       "       LATE_AIRCRAFT_DELAY  WEATHER_DELAY  CANCELLATION_REASON_A  \\\n",
       "count         5.789165e+06   5.789165e+06           5.789165e+06   \n",
       "mean          4.311822e+00   5.355233e-01           3.496359e-03   \n",
       "std           2.062496e+01   8.830108e+00           5.902656e-02   \n",
       "min           0.000000e+00   0.000000e+00           0.000000e+00   \n",
       "25%           0.000000e+00   0.000000e+00           0.000000e+00   \n",
       "50%           0.000000e+00   0.000000e+00           0.000000e+00   \n",
       "75%           0.000000e+00   0.000000e+00           0.000000e+00   \n",
       "max           1.331000e+03   1.211000e+03           1.000000e+00   \n",
       "\n",
       "       CANCELLATION_REASON_B  CANCELLATION_REASON_C  CANCELLATION_REASON_D  \\\n",
       "count           5.789165e+06           5.789165e+06           5.789165e+06   \n",
       "mean            7.000491e-03           2.481878e-03           3.800203e-06   \n",
       "std             8.337557e-02           4.975659e-02           1.949407e-03   \n",
       "min             0.000000e+00           0.000000e+00           0.000000e+00   \n",
       "25%             0.000000e+00           0.000000e+00           0.000000e+00   \n",
       "50%             0.000000e+00           0.000000e+00           0.000000e+00   \n",
       "75%             0.000000e+00           0.000000e+00           0.000000e+00   \n",
       "max             1.000000e+00           1.000000e+00           1.000000e+00   \n",
       "\n",
       "       CANCELLATION_REASON_N  \n",
       "count           5.789165e+06  \n",
       "mean            9.870175e-01  \n",
       "std             1.131989e-01  \n",
       "min             0.000000e+00  \n",
       "25%             1.000000e+00  \n",
       "50%             1.000000e+00  \n",
       "75%             1.000000e+00  \n",
       "max             1.000000e+00  \n",
       "\n",
       "[8 rows x 28 columns]"
      ]
     },
     "execution_count": 25,
     "metadata": {},
     "output_type": "execute_result"
    }
   ],
   "source": [
    "#quick summary of numeric variables\n",
    "df.describe()"
   ]
  },
  {
   "cell_type": "markdown",
   "metadata": {
    "id": "S3DBGDW4MGqp"
   },
   "source": [
    "As we saw from the outset, the data spans for all months in the year of 2015. Based on the structure of our data, not a lot can be gleaned from the summary statistics and individual variables need additional exploration outside of the overall summary. Let's start by verifying total number of flights within the data set that have been cancelled or diverted."
   ]
  },
  {
   "cell_type": "code",
   "execution_count": 26,
   "metadata": {
    "colab": {
     "base_uri": "https://localhost:8080/"
    },
    "id": "qmUDb8SJjABH",
    "outputId": "2621cf13-8d7c-46fb-ea6f-fdb9a3d0879e"
   },
   "outputs": [
    {
     "data": {
      "text/plain": [
       "CANCELLED\n",
       "0    5714007\n",
       "1      75158\n",
       "Name: YEAR, dtype: int64"
      ]
     },
     "execution_count": 26,
     "metadata": {},
     "output_type": "execute_result"
    }
   ],
   "source": [
    "#check counts of cancels and diversions\n",
    "df.groupby('CANCELLED')['YEAR'].count()"
   ]
  },
  {
   "cell_type": "markdown",
   "metadata": {},
   "source": [
    "What does this translate to in terms of percentages?"
   ]
  },
  {
   "cell_type": "code",
   "execution_count": 34,
   "metadata": {},
   "outputs": [
    {
     "name": "stdout",
     "output_type": "stream",
     "text": [
      "The percentage of flights cancelled is  1.3 %\n"
     ]
    }
   ],
   "source": [
    "pct_cancel = round((len(df[df.CANCELLED != 0]))/len(df) * 100,2)\n",
    "\n",
    "print(\"The percentage of flights cancelled is \", pct_cancel, \"%\")"
   ]
  },
  {
   "cell_type": "markdown",
   "metadata": {},
   "source": [
    "This is a heavily imbalanced data set! We will need to keep this in mind for our test and train split and over or undersample accordingly. Overall, out of 5 million+ flights, only 1.3% were cancelled in 2015. This equates to 75,158 flights out of 5,714,007."
   ]
  },
  {
   "cell_type": "code",
   "execution_count": 30,
   "metadata": {
    "colab": {
     "base_uri": "https://localhost:8080/"
    },
    "id": "iMq2oTOGjJo_",
    "outputId": "3409ac59-4d75-4038-cc1a-2a1590f7492e"
   },
   "outputs": [
    {
     "data": {
      "text/plain": [
       "DIVERTED\n",
       "0    5789165\n",
       "Name: YEAR, dtype: int64"
      ]
     },
     "execution_count": 30,
     "metadata": {},
     "output_type": "execute_result"
    }
   ],
   "source": [
    "df.groupby('DIVERTED')['YEAR'].count()"
   ]
  },
  {
   "cell_type": "markdown",
   "metadata": {
    "id": "QUqLUHlukjof"
   },
   "source": [
    "Our imputation and subsequent removal of missing values has now eliminated all of the diverted flights. This is acceptable as our main interest is in cancellations and arrival delays and not necessarily counts of diversion.\n"
   ]
  },
  {
   "cell_type": "markdown",
   "metadata": {},
   "source": [
    "Now let us determine counts of cancels by cancellation reason."
   ]
  },
  {
   "cell_type": "code",
   "execution_count": 47,
   "metadata": {},
   "outputs": [
    {
     "name": "stdout",
     "output_type": "stream",
     "text": [
      "The percentage of flights cancelled due to the airline or carrier is  26.9 %\n",
      "The percentage of flights cancelled due to weather is  53.9 %\n",
      "The percentage of flights cancelled due to air traffic control is  19.1 %\n",
      "The percentage of flights cancelled due to security is  0.029 %\n"
     ]
    }
   ],
   "source": [
    "#make subset of just cancelled flights\n",
    "cancel = df[df.CANCELLED != 0]\n",
    "\n",
    "pct_A = round((len(cancel[cancel.CANCELLATION_REASON_A != 0]))/len(cancel) * 100,1)\n",
    "pct_B = round((len(cancel[cancel.CANCELLATION_REASON_B != 0]))/len(cancel) * 100,1)\n",
    "pct_C = round((len(cancel[cancel.CANCELLATION_REASON_C != 0]))/len(cancel) * 100,1)\n",
    "pct_D = round((len(cancel[cancel.CANCELLATION_REASON_D != 0]))/len(cancel) * 100,3)\n",
    "\n",
    "print(\"The percentage of flights cancelled due to the airline or carrier is \", pct_A, \"%\")\n",
    "print(\"The percentage of flights cancelled due to weather is \", pct_B, \"%\")\n",
    "print(\"The percentage of flights cancelled due to air traffic control is \", pct_C, \"%\")\n",
    "print(\"The percentage of flights cancelled due to security is \", pct_D, \"%\")"
   ]
  },
  {
   "cell_type": "markdown",
   "metadata": {},
   "source": [
    "The majority of flight cancellations from this data set are due to weather. There are very few flights that are cancelled because of security reasons."
   ]
  },
  {
   "cell_type": "markdown",
   "metadata": {
    "id": "68Q-xq0netrw"
   },
   "source": [
    "Next, let's see if there is any useful insights based on what day of the week that flight is scheduled on."
   ]
  },
  {
   "cell_type": "code",
   "execution_count": 69,
   "metadata": {
    "id": "ZnRkflQ4elGD"
   },
   "outputs": [
    {
     "ename": "TypeError",
     "evalue": "unsupported operand type(s) for +: 'Timestamp' and 'float'",
     "output_type": "error",
     "traceback": [
      "\u001b[1;31m---------------------------------------------------------------------------\u001b[0m",
      "\u001b[1;31mTypeError\u001b[0m                                 Traceback (most recent call last)",
      "\u001b[1;32m<ipython-input-69-b0b85294fa39>\u001b[0m in \u001b[0;36m<module>\u001b[1;34m\u001b[0m\n\u001b[1;32m----> 1\u001b[1;33m \u001b[0msns\u001b[0m\u001b[1;33m.\u001b[0m\u001b[0mdistplot\u001b[0m\u001b[1;33m(\u001b[0m\u001b[0mcancel\u001b[0m\u001b[1;33m,\u001b[0m\u001b[1;34m'DAY_OF_WEEK'\u001b[0m\u001b[1;33m)\u001b[0m\u001b[1;33m\u001b[0m\u001b[1;33m\u001b[0m\u001b[0m\n\u001b[0m",
      "\u001b[1;32m~\\AppData\\Local\\Continuum\\anaconda3\\lib\\site-packages\\seaborn\\distributions.py\u001b[0m in \u001b[0;36mdistplot\u001b[1;34m(a, bins, hist, kde, rug, fit, hist_kws, kde_kws, rug_kws, fit_kws, color, vertical, norm_hist, axlabel, label, ax)\u001b[0m\n\u001b[0;32m    196\u001b[0m         \u001b[0mramp\u001b[0m\u001b[1;33m[\u001b[0m\u001b[1;33m:\u001b[0m\u001b[1;33m,\u001b[0m \u001b[1;36m0\u001b[0m\u001b[1;33m]\u001b[0m \u001b[1;33m=\u001b[0m \u001b[0mh\u001b[0m\u001b[1;33m\u001b[0m\u001b[1;33m\u001b[0m\u001b[0m\n\u001b[0;32m    197\u001b[0m         \u001b[0mramp\u001b[0m\u001b[1;33m[\u001b[0m\u001b[1;33m:\u001b[0m\u001b[1;33m,\u001b[0m \u001b[1;36m1\u001b[0m\u001b[1;33m]\u001b[0m \u001b[1;33m=\u001b[0m \u001b[0ms\u001b[0m \u001b[1;33m*\u001b[0m \u001b[0mnp\u001b[0m\u001b[1;33m.\u001b[0m\u001b[0mcos\u001b[0m\u001b[1;33m(\u001b[0m\u001b[0mxx\u001b[0m\u001b[1;33m)\u001b[0m\u001b[1;33m\u001b[0m\u001b[1;33m\u001b[0m\u001b[0m\n\u001b[1;32m--> 198\u001b[1;33m         \u001b[0mramp\u001b[0m\u001b[1;33m[\u001b[0m\u001b[1;33m:\u001b[0m\u001b[1;33m,\u001b[0m \u001b[1;36m2\u001b[0m\u001b[1;33m]\u001b[0m \u001b[1;33m=\u001b[0m \u001b[0mnp\u001b[0m\u001b[1;33m.\u001b[0m\u001b[0mlinspace\u001b[0m\u001b[1;33m(\u001b[0m\u001b[1;36m35\u001b[0m\u001b[1;33m,\u001b[0m \u001b[1;36m80\u001b[0m\u001b[1;33m,\u001b[0m \u001b[1;36m256\u001b[0m\u001b[1;33m)\u001b[0m\u001b[1;33m\u001b[0m\u001b[1;33m\u001b[0m\u001b[0m\n\u001b[0m\u001b[0;32m    199\u001b[0m         \u001b[0mcolors\u001b[0m \u001b[1;33m=\u001b[0m \u001b[0mnp\u001b[0m\u001b[1;33m.\u001b[0m\u001b[0mclip\u001b[0m\u001b[1;33m(\u001b[0m\u001b[1;33m[\u001b[0m\u001b[0mhusl\u001b[0m\u001b[1;33m.\u001b[0m\u001b[0mhusl_to_rgb\u001b[0m\u001b[1;33m(\u001b[0m\u001b[1;33m*\u001b[0m\u001b[0mhsl\u001b[0m\u001b[1;33m)\u001b[0m \u001b[1;32mfor\u001b[0m \u001b[0mhsl\u001b[0m \u001b[1;32min\u001b[0m \u001b[0mramp\u001b[0m\u001b[1;33m]\u001b[0m\u001b[1;33m,\u001b[0m \u001b[1;36m0\u001b[0m\u001b[1;33m,\u001b[0m \u001b[1;36m1\u001b[0m\u001b[1;33m)\u001b[0m\u001b[1;33m\u001b[0m\u001b[1;33m\u001b[0m\u001b[0m\n\u001b[0;32m    200\u001b[0m         \u001b[1;32mreturn\u001b[0m \u001b[0mmpl\u001b[0m\u001b[1;33m.\u001b[0m\u001b[0mcolors\u001b[0m\u001b[1;33m.\u001b[0m\u001b[0mListedColormap\u001b[0m\u001b[1;33m(\u001b[0m\u001b[0mcolors\u001b[0m\u001b[1;33m[\u001b[0m\u001b[1;33m:\u001b[0m\u001b[1;33m:\u001b[0m\u001b[1;33m-\u001b[0m\u001b[1;36m1\u001b[0m\u001b[1;33m]\u001b[0m\u001b[1;33m)\u001b[0m\u001b[1;33m\u001b[0m\u001b[1;33m\u001b[0m\u001b[0m\n",
      "\u001b[1;32m~\\AppData\\Local\\Continuum\\anaconda3\\lib\\site-packages\\numpy\\core\\_methods.py\u001b[0m in \u001b[0;36m_mean\u001b[1;34m(a, axis, dtype, out, keepdims)\u001b[0m\n\u001b[0;32m     73\u001b[0m             \u001b[0mis_float16_result\u001b[0m \u001b[1;33m=\u001b[0m \u001b[1;32mTrue\u001b[0m\u001b[1;33m\u001b[0m\u001b[1;33m\u001b[0m\u001b[0m\n\u001b[0;32m     74\u001b[0m \u001b[1;33m\u001b[0m\u001b[0m\n\u001b[1;32m---> 75\u001b[1;33m     \u001b[0mret\u001b[0m \u001b[1;33m=\u001b[0m \u001b[0mumr_sum\u001b[0m\u001b[1;33m(\u001b[0m\u001b[0marr\u001b[0m\u001b[1;33m,\u001b[0m \u001b[0maxis\u001b[0m\u001b[1;33m,\u001b[0m \u001b[0mdtype\u001b[0m\u001b[1;33m,\u001b[0m \u001b[0mout\u001b[0m\u001b[1;33m,\u001b[0m \u001b[0mkeepdims\u001b[0m\u001b[1;33m)\u001b[0m\u001b[1;33m\u001b[0m\u001b[1;33m\u001b[0m\u001b[0m\n\u001b[0m\u001b[0;32m     76\u001b[0m     \u001b[1;32mif\u001b[0m \u001b[0misinstance\u001b[0m\u001b[1;33m(\u001b[0m\u001b[0mret\u001b[0m\u001b[1;33m,\u001b[0m \u001b[0mmu\u001b[0m\u001b[1;33m.\u001b[0m\u001b[0mndarray\u001b[0m\u001b[1;33m)\u001b[0m\u001b[1;33m:\u001b[0m\u001b[1;33m\u001b[0m\u001b[1;33m\u001b[0m\u001b[0m\n\u001b[0;32m     77\u001b[0m         ret = um.true_divide(\n",
      "\u001b[1;32mpandas/_libs/tslibs/timestamps.pyx\u001b[0m in \u001b[0;36mpandas._libs.tslibs.timestamps.Timestamp.__radd__\u001b[1;34m()\u001b[0m\n",
      "\u001b[1;31mTypeError\u001b[0m: unsupported operand type(s) for +: 'Timestamp' and 'float'"
     ]
    },
    {
     "data": {
      "image/png": "[encoded data removed]",
      "text/plain": [
       "<Figure size 432x288 with 1 Axes>"
      ]
     },
     "metadata": {
      "needs_background": "light"
     },
     "output_type": "display_data"
    }
   ],
   "source": []
  },
  {
   "cell_type": "code",
   "execution_count": 96,
   "metadata": {
    "id": "N6Kbukq3ek6G"
   },
   "outputs": [],
   "source": []
  },
  {
   "cell_type": "markdown",
   "metadata": {
    "id": "kotkpkfNqg6F"
   },
   "source": [
    "#### TO DO (MEGAN)\n"
   ]
  },
  {
   "cell_type": "markdown",
   "metadata": {
    "id": "beb3cf96"
   },
   "source": [
    "## Visualize Attributes"
   ]
  },
  {
   "cell_type": "markdown",
   "metadata": {
    "id": "21351a2d"
   },
   "source": [
    "`Visualize the most interesting attributes (at least 5 attributes, your opinion on what is interesting). Important: Interpret the implications for each visualization. Explain for each attribute why the chosen visualization is appropriate.`"
   ]
  },
  {
   "cell_type": "code",
   "execution_count": 66,
   "metadata": {
    "colab": {
     "base_uri": "https://localhost:8080/",
     "height": 315
    },
    "id": "9331cc7f",
    "outputId": "f8ded005-a5ad-41de-9070-77ce792e3913"
   },
   "outputs": [
    {
     "ename": "AttributeError",
     "evalue": "module 'seaborn' has no attribute 'histplot'",
     "output_type": "error",
     "traceback": [
      "\u001b[1;31m---------------------------------------------------------------------------\u001b[0m",
      "\u001b[1;31mAttributeError\u001b[0m                            Traceback (most recent call last)",
      "\u001b[1;32m<ipython-input-66-9452762d3889>\u001b[0m in \u001b[0;36m<module>\u001b[1;34m\u001b[0m\n\u001b[0;32m      1\u001b[0m \u001b[1;31m# Flights by day of the week\u001b[0m\u001b[1;33m\u001b[0m\u001b[1;33m\u001b[0m\u001b[1;33m\u001b[0m\u001b[0m\n\u001b[1;32m----> 2\u001b[1;33m \u001b[0msns\u001b[0m\u001b[1;33m.\u001b[0m\u001b[0mhistplot\u001b[0m\u001b[1;33m(\u001b[0m\u001b[0mdf\u001b[0m\u001b[1;33m,\u001b[0m \u001b[0mx\u001b[0m \u001b[1;33m=\u001b[0m \u001b[1;34m'DAY_OF_WEEK'\u001b[0m\u001b[1;33m,\u001b[0m \u001b[0mbinwidth\u001b[0m \u001b[1;33m=\u001b[0m \u001b[1;36m1\u001b[0m\u001b[1;33m)\u001b[0m\u001b[1;33m\u001b[0m\u001b[1;33m\u001b[0m\u001b[0m\n\u001b[0m",
      "\u001b[1;31mAttributeError\u001b[0m: module 'seaborn' has no attribute 'histplot'"
     ]
    }
   ],
   "source": [
    "# Flights by day of the week\n",
    "sns.histplot(df, x = 'DAY_OF_WEEK', binwidth = 1)"
   ]
  },
  {
   "cell_type": "code",
   "execution_count": 98,
   "metadata": {
    "colab": {
     "base_uri": "https://localhost:8080/",
     "height": 553
    },
    "id": "rpezYKPCYyxZ",
    "outputId": "6b184f7a-72d2-437e-ef50-27a7765bf6a2"
   },
   "outputs": [
    {
     "data": {
      "image/png": "[encoded data removed]",
      "text/plain": [
       "<Figure size 432x288 with 1 Axes>"
      ]
     },
     "metadata": {
      "needs_background": "light",
      "tags": []
     },
     "output_type": "display_data"
    },
    {
     "data": {
      "image/png": "[encoded data removed]",
      "text/plain": [
       "<Figure size 432x288 with 1 Axes>"
      ]
     },
     "metadata": {
      "needs_background": "light",
      "tags": []
     },
     "output_type": "display_data"
    }
   ],
   "source": [
    "# Delays by airline\n",
    "sns.stripplot(x='DEPARTURE_DELAY', y='AIRLINE',\n",
    "              data=df, dodge=True, jitter=True)\n",
    "\n",
    "plt.show()\n",
    "\n",
    "sns.stripplot(x='ARRIVAL_DELAY', y='AIRLINE',\n",
    "              data=df, dodge=True, jitter=True)\n",
    "\n",
    "plt.show()"
   ]
  },
  {
   "cell_type": "markdown",
   "metadata": {
    "id": "XUK1D1BXZlrG"
   },
   "source": [
    "American is the clear leader(?) here, but I also imagine they are one of the largest carriers in this list. Do the numbers skew the results here at all?"
   ]
  },
  {
   "cell_type": "code",
   "execution_count": 99,
   "metadata": {
    "id": "GfnNzovNdi13"
   },
   "outputs": [],
   "source": [
    "#most common day of week for flight cancellation\n"
   ]
  },
  {
   "cell_type": "code",
   "execution_count": 100,
   "metadata": {
    "id": "79nLBZbBfSxg"
   },
   "outputs": [],
   "source": [
    "#most common time of day for departure delay"
   ]
  },
  {
   "cell_type": "markdown",
   "metadata": {
    "id": "dEgHCv7yq2i4"
   },
   "source": [
    "#### TO DO (EVERYONE)\n",
    "\n",
    "- Create 2+ visualizations per person plus an explanation for each"
   ]
  },
  {
   "cell_type": "markdown",
   "metadata": {
    "id": "37dfc20e"
   },
   "source": [
    "## Explore Joint Attributes"
   ]
  },
  {
   "cell_type": "markdown",
   "metadata": {
    "id": "baf29b0d"
   },
   "source": [
    "`Visualize relationships between attributes: Look at the attributes via scatter plots, correlation, cross-tabulation, group-wise averages, etc. as appropriate. Explain any interesting relationships.`"
   ]
  },
  {
   "cell_type": "code",
   "execution_count": 55,
   "metadata": {},
   "outputs": [],
   "source": [
    "#re-assess numeric/float variables for corr plot\n",
    "#df.info()"
   ]
  },
  {
   "cell_type": "code",
   "execution_count": 54,
   "metadata": {
    "id": "3f0fff71"
   },
   "outputs": [
    {
     "data": {
      "text/plain": [
       "<matplotlib.axes._subplots.AxesSubplot at 0x21515798438>"
      ]
     },
     "execution_count": 54,
     "metadata": {},
     "output_type": "execute_result"
    },
    {
     "data": {
      "image/png": "[encoded data removed]",
      "text/plain": [
       "<Figure size 1440x1440 with 2 Axes>"
      ]
     },
     "metadata": {},
     "output_type": "display_data"
    }
   ],
   "source": [
    "# Examine correlation visually using Seaborn. (Code adapted from 02. Data Visualization.ipynb)\n",
    "cmap = sns.diverging_palette(220, 10, as_cmap=True)\n",
    "\n",
    "sns.set(style = \"darkgrid\") # one of the many styles to plot using\n",
    "\n",
    "f, ax = plt.subplots(figsize = (20, 20))\n",
    "\n",
    "#subset for continuous variables only\n",
    "num = df[['MONTH', 'DAY','FLIGHT_NUMBER',\n",
    "          'DEPARTURE_DELAY','TAXI_OUT',\n",
    "          'ELAPSED_TIME','AIR_TIME','DISTANCE',\n",
    "          'TAXI_IN','ARRIVAL_DELAY','AIR_SYSTEM_DELAY',\n",
    "          'SECURITY_DELAY','AIRLINE_DELAY',\n",
    "          'LATE_AIRCRAFT_DELAY','WEATHER_DELAY']]\n",
    "\n",
    "sns.heatmap(num.corr(), cmap=cmap, annot = True)"
   ]
  },
  {
   "cell_type": "markdown",
   "metadata": {
    "id": "VsmcCCpIqwet"
   },
   "source": [
    "#### TO DO (MEGAN)"
   ]
  },
  {
   "cell_type": "code",
   "execution_count": null,
   "metadata": {
    "id": "Jpo6vVBFdnBR"
   },
   "outputs": [],
   "source": [
    "#plot departure delay vs arrival delay"
   ]
  },
  {
   "cell_type": "code",
   "execution_count": null,
   "metadata": {
    "id": "Ee848rdqdrSP"
   },
   "outputs": [],
   "source": [
    "#plot bar chart for cancellation reason color coded by year/month/day"
   ]
  },
  {
   "cell_type": "markdown",
   "metadata": {
    "id": "2f2381b7"
   },
   "source": [
    "## Explore Attributes and Class"
   ]
  },
  {
   "cell_type": "markdown",
   "metadata": {
    "id": "7e4eafb0"
   },
   "source": [
    "`Identify and explain interesting relationships between features and the class you are trying to predict (i.e., relationships with variables and the target classification).`"
   ]
  },
  {
   "cell_type": "markdown",
   "metadata": {
    "id": "nBb0egz7rMi1"
   },
   "source": [
    "#### TO DO (AMBER)"
   ]
  },
  {
   "cell_type": "markdown",
   "metadata": {
    "id": "42a3e916"
   },
   "source": [
    "## New Features "
   ]
  },
  {
   "cell_type": "markdown",
   "metadata": {
    "id": "c80b7167"
   },
   "source": [
    "`Are there other features that could be added to the data or created from existing features? Which ones?`"
   ]
  },
  {
   "cell_type": "code",
   "execution_count": null,
   "metadata": {
    "id": "o3duBc6QrPG2"
   },
   "outputs": [],
   "source": []
  },
  {
   "cell_type": "markdown",
   "metadata": {
    "id": "SASmuNPPrP4g"
   },
   "source": [
    "#### TO DO (BLAKE)"
   ]
  },
  {
   "cell_type": "markdown",
   "metadata": {
    "id": "27739c81"
   },
   "source": [
    "## Exceptional Work"
   ]
  },
  {
   "cell_type": "markdown",
   "metadata": {
    "id": "27732deb"
   },
   "source": [
    "`You have free reign to provide additional analyses. One idea: implement dimensionality reduction, then visualize and interpret the results. (aka PCA)`"
   ]
  },
  {
   "cell_type": "code",
   "execution_count": null,
   "metadata": {
    "id": "J26jaqhVoq_w"
   },
   "outputs": [],
   "source": [
    "# Look at what continuous variables we have to work with\n",
    "df.select_dtypes(np.number).head()"
   ]
  },
  {
   "cell_type": "code",
   "execution_count": null,
   "metadata": {
    "id": "CYTxuzX0phQT"
   },
   "outputs": [],
   "source": [
    "# Select columns for PCA\n",
    "df_pca = df[['DEPARTURE_DELAY', 'TAXI_OUT', 'ELAPSED_TIME', 'AIR_TIME', \n",
    "            'DISTANCE', 'TAXI_IN', 'ARRIVAL_DELAY', 'DIVERTED', \n",
    "            'AIR_SYSTEM_DELAY', 'SECURITY_DELAY', 'AIRLINE_DELAY', \n",
    "            'LATE_AIRCRAFT_DELAY', 'WEATHER_DELAY', 'CANCELLATION_REASON_A', \n",
    "            'CANCELLATION_REASON_B', 'CANCELLATION_REASON_C', \n",
    "            'CANCELLATION_REASON_D', 'CANCELLATION_REASON_N']]"
   ]
  },
  {
   "cell_type": "code",
   "execution_count": null,
   "metadata": {
    "id": "NSfdkxKKrxfb"
   },
   "outputs": [],
   "source": [
    "df_pca.shape"
   ]
  },
  {
   "cell_type": "code",
   "execution_count": null,
   "metadata": {
    "id": "RfToBNB8rF6S"
   },
   "outputs": [],
   "source": [
    "# Source: https://towardsdatascience.com/principal-component-analysis-pca-with-scikit-learn-1e84a0c731b0\n",
    "# Standardize the features\n",
    "from sklearn.preprocessing import StandardScaler\n",
    "\n",
    "# Create the object\n",
    "scaler = StandardScaler()\n",
    "# Calculate the mean and standard deviation\n",
    "scaler.fit(df_pca)\n",
    "df_pca_scaled = scaler.transform(df_pca)"
   ]
  },
  {
   "cell_type": "code",
   "execution_count": null,
   "metadata": {
    "id": "t31m7OQOr23R"
   },
   "outputs": [],
   "source": [
    "from sklearn.decomposition import PCA\n",
    "\n",
    "pca_18 = PCA(n_components=18, random_state=2015)\n",
    "pca_18.fit(df_pca_scaled)\n",
    "df_pca_18 = pca_18.transform(df_pca_scaled)"
   ]
  },
  {
   "cell_type": "code",
   "execution_count": null,
   "metadata": {
    "id": "O6VTKKewsWzr"
   },
   "outputs": [],
   "source": [
    "np.cumsum(pca_18.explained_variance_ratio_*100)"
   ]
  },
  {
   "cell_type": "code",
   "execution_count": null,
   "metadata": {
    "id": "Jq0oi_nJsmVn"
   },
   "outputs": [],
   "source": [
    "# Plot PCA results\n",
    "plt.plot(np.cumsum(pca_18.explained_variance_ratio_))\n",
    "plt.xlabel('Number of Components')\n",
    "plt.ylabel('Explained Variance')"
   ]
  },
  {
   "cell_type": "code",
   "execution_count": null,
   "metadata": {
    "id": "4GcfAWdys60W"
   },
   "outputs": [],
   "source": [
    "print(\"Variance explained by the first principal component =\",\n",
    "      np.cumsum(pca_18.explained_variance_ratio_*100)[0])\n",
    "print(\"Variance explained by the first two principal components =\",\n",
    "      np.cumsum(pca_18.explained_variance_ratio_*100)[1])\n",
    "print(\"Variance explained by the first three principal component =\",\n",
    "      np.cumsum(pca_18.explained_variance_ratio_*100)[2])\n",
    "print(\"Variance explained by the first six principal components =\",\n",
    "      np.cumsum(pca_18.explained_variance_ratio_*100)[6])\n",
    "print(\"Variance explained by the first seven principal components =\",\n",
    "      np.cumsum(pca_18.explained_variance_ratio_*100)[7])"
   ]
  },
  {
   "cell_type": "markdown",
   "metadata": {
    "id": "rtCpR6kAtaIC"
   },
   "source": [
    "The first six principal components capture 94.17% of the variability in the 18 columns we defined for our PCA data set. Adding a seventh component brings the variability to 99.33%. "
   ]
  },
  {
   "cell_type": "code",
   "execution_count": null,
   "metadata": {
    "id": "p7fZjhlYuZ6a"
   },
   "outputs": [],
   "source": [
    "# PCA 95\n",
    "\n",
    "pca_95 = PCA(n_components=0.95, random_state=2015)\n",
    "pca_95.fit(df_pca_scaled)\n",
    "df_pca_95 = pca_95.transform(df_pca_scaled)\n",
    "\n",
    "df_pca_95.shape"
   ]
  },
  {
   "cell_type": "markdown",
   "metadata": {
    "id": "t1l6o6qTrTdh"
   },
   "source": [
    "#### TO DO (MATT)\n",
    "\n",
    "- PCA on continuous variables\n",
    "- Map if there is time"
   ]
  }
 ],
 "metadata": {
  "colab": {
   "collapsed_sections": [],
   "include_colab_link": true,
   "machine_shape": "hm",
   "name": "Copy of Lab1_Group4.ipynb",
   "provenance": [],
   "toc_visible": true
  },
  "kernelspec": {
   "display_name": "Python 3",
   "language": "python",
   "name": "python3"
  },
  "language_info": {
   "codemirror_mode": {
    "name": "ipython",
    "version": 3
   },
   "file_extension": ".py",
   "mimetype": "text/x-python",
   "name": "python",
   "nbconvert_exporter": "python",
   "pygments_lexer": "ipython3",
   "version": "3.7.3"
  }
 },
 "nbformat": 4,
 "nbformat_minor": 5
}
