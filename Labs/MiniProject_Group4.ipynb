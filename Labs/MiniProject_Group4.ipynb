{
 "cells": [
  {
   "cell_type": "markdown",
   "id": "0db9d0fd",
   "metadata": {},
   "source": [
    "# Mini-Project: SVM & Logistic Regression Classification"
   ]
  },
  {
   "cell_type": "markdown",
   "id": "0f442966",
   "metadata": {},
   "source": [
    "Matt Farrow, Amber Clark, Blake Freeman, Megan Ball"
   ]
  },
  {
   "cell_type": "markdown",
   "id": "128eb8cd",
   "metadata": {},
   "source": [
    "## **2015 Flight Delays and Cancellations**\n",
    "Data Source: [Kaggle](https://www.kaggle.com/usdot/flight-delays?select=flights.csv)"
   ]
  },
  {
   "cell_type": "markdown",
   "id": "935e3614",
   "metadata": {},
   "source": [
    "## Logistic Regression & Support Vector Machine Models"
   ]
  },
  {
   "cell_type": "markdown",
   "id": "26127424",
   "metadata": {},
   "source": [
    "[50 points] Create a logistic regression model and a support vector machine model for the\n",
    "classification task involved with your dataset. Assess how well each model performs (use 80/20 training/testing split for your data). Adjust parameters of the models to make them more accurate. If your dataset size requires the use of stochastic gradient descent, then linear kernel only is fine to use."
   ]
  },
  {
   "cell_type": "markdown",
   "id": "4db3f9b3",
   "metadata": {},
   "source": [
    "## Advantages of Each Model"
   ]
  },
  {
   "cell_type": "markdown",
   "id": "b578de52",
   "metadata": {},
   "source": [
    "[10 points] Discuss the advantages of each model for each classification task. Does one type of model offer superior performance over another in terms of prediction accuracy? In terms of training time or efficiency? Explain in detail."
   ]
  },
  {
   "cell_type": "markdown",
   "id": "4f362e3f",
   "metadata": {},
   "source": [
    "## Feature Importance"
   ]
  },
  {
   "cell_type": "markdown",
   "id": "769a798e",
   "metadata": {},
   "source": [
    "[30 points] Use the weights from logistic regression to interpret the importance of different features for each classification task. Explain your interpretation in detail. Why do you think some variables are more important?"
   ]
  },
  {
   "cell_type": "markdown",
   "id": "c484e06e",
   "metadata": {},
   "source": [
    "## Support Vectors"
   ]
  },
  {
   "cell_type": "markdown",
   "id": "eac0f11f",
   "metadata": {},
   "source": [
    "[10 points] Look at the chosen support vectors for the classification task. Do these provide any insight into the data? Explain."
   ]
  }
 ],
 "metadata": {
  "kernelspec": {
   "display_name": "Python 3",
   "language": "python",
   "name": "python3"
  },
  "language_info": {
   "codemirror_mode": {
    "name": "ipython",
    "version": 3
   },
   "file_extension": ".py",
   "mimetype": "text/x-python",
   "name": "python",
   "nbconvert_exporter": "python",
   "pygments_lexer": "ipython3",
   "version": "3.7.10"
  }
 },
 "nbformat": 4,
 "nbformat_minor": 5
}
