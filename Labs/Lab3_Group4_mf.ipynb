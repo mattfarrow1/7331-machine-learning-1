{
 "cells": [
  {
   "cell_type": "markdown",
   "id": "bc02de2a",
   "metadata": {},
   "source": [
    "# Lab Three: Clustering"
   ]
  },
  {
   "cell_type": "markdown",
   "id": "be95ce89",
   "metadata": {},
   "source": [
    "Matt Farrow, Amber Clark, Blake Freeman, Megan Ball"
   ]
  },
  {
   "cell_type": "markdown",
   "id": "92470e4b",
   "metadata": {},
   "source": [
    "## **2015 Flight Delays and Cancellations**\n",
    "Data Source: [Kaggle](https://www.kaggle.com/usdot/flight-delays?select=flights.csv)"
   ]
  },
  {
   "cell_type": "markdown",
   "id": "3a82361d",
   "metadata": {},
   "source": [
    "Our data set consists of over 5 million rows of flight information in the domestic United States for the year of 2015. In order to optimize our modeling time, we have narrowed the scope of our classification tasks to the Dallas area only (Dallas Love Field and DFW airports). "
   ]
  },
  {
   "cell_type": "markdown",
   "id": "b5d45557",
   "metadata": {},
   "source": [
    "## Rubric"
   ]
  },
  {
   "cell_type": "markdown",
   "id": "f963c4ee",
   "metadata": {},
   "source": [
    "### [Business Understanding](#Business-Understanding) (10 points total)\n",
    "\n",
    "- [10 points] Describe the purpose of the data set you selected (i.e., why was this data collected in the first place?). How will you measure the effectiveness of a good algorithm? Why does your chosen validation method make sense for this specific dataset and the stakeholders needs?\n",
    "\n",
    "### [Data Understanding](#Data-Understanding) (20 points total)\n",
    "\n",
    "#### [Data Understanding 1](#Data-Understanding-1)\n",
    "\n",
    "- [10 points] Describe the meaning and type of data (scale, values, etc.) for each attribute in the data file. Verify data quality: Are there missing values? Duplicate data? Outliers? Are those mistakes? How do you deal with these problems?\n",
    "\n",
    "#### [Data Understanding 2](#Data-Understanding-2)\n",
    "\n",
    "- [10 points] Visualize the any important attributes appropriately. Important: Provide an interpretation for any charts or graphs.\n",
    "\n",
    "### [Modeling and Evaluation](#Modeling-and-Evaluation) (50 points total)\n",
    "\n",
    "Different tasks will require different evaluation methods. Be as thorough as possible when analyzing the data you have chosen and use visualizations of the results to explain the performance and expected outcomes whenever possible. Guide the reader through your analysis with plenty of discussion of the results.\n",
    "\n",
    "#### Option A: Cluster Analysis\n",
    "\n",
    "- Perform cluster analysis using several clustering methods\n",
    "- How did you determine a suitable number of clusters for each method?\n",
    "- Use internal and/or external validation measures to describe and compare the clusterings and the clusters (some visual methods would be good).\n",
    "- Describe your results. What findings are the most interesting and why?\n",
    "\n",
    "#### [Modeling and Evaluation 1](#Modeling-and-Evaluation-1)\n",
    "\n",
    "- Train and adjust parameters\n",
    "\n",
    "#### [Modeling and Evaluation 2](#Modeling-and-Evaluation-2)\n",
    "\n",
    "- Evaluate and compare\n",
    "\n",
    "#### [Modeling and Evaluation 3](#Modeling-and-Evaluation-3)\n",
    "\n",
    "- Visualize results\n",
    "\n",
    "#### [Modeling and Evaluation 4](#Modeling-and-Evaluation-4)\n",
    "\n",
    "- Summarise the ramifications\n",
    "\n",
    "### [Deployment](#Deployment) (10 points total)\n",
    "\n",
    "Be critical of your performance and tell the reader how you current model might be usable by other parties. Did you achieve your goals? If not, can you reign in the utility of your modeling?\n",
    "\n",
    "- How useful is your model for interested parties (i.e., the companies or organizations that might want to use it)?\n",
    "- How would your deploy your model for interested parties?\n",
    "- What other data should be collected?\n",
    "- How often would the model need to be updated, etc.?\n",
    "\n",
    "### [Exceptional Work](#Exceptional-Work) (10 points total)\n",
    "\n",
    "You have free reign to provide additional analyses or combine analyses."
   ]
  },
  {
   "cell_type": "markdown",
   "id": "864682d8",
   "metadata": {},
   "source": [
    "# Business Understanding\n",
    "Jump to [top](#Rubric)"
   ]
  },
  {
   "cell_type": "markdown",
   "id": "980e1a48",
   "metadata": {},
   "source": [
    "# Data Understanding\n",
    "Jump to [top](#Rubric)"
   ]
  },
  {
   "cell_type": "markdown",
   "id": "67207a23",
   "metadata": {},
   "source": [
    "## Data Understanding 1\n",
    "Jump to [top](#Rubric)\n",
    "\n",
    "> Describe the meaning and type of data (scale, values, etc.) for each attribute in the data file. Verify data quality: Are there missing values? Duplicate data? Outliers? Are those mistakes? How do you deal with these problems?"
   ]
  },
  {
   "cell_type": "markdown",
   "id": "392e8df3",
   "metadata": {},
   "source": [
    "The initial data pre-processing has already been covered in Labs 1, 2, and the Mini-Lab. Here we have collapsed our code as much as possible."
   ]
  },
  {
   "cell_type": "markdown",
   "id": "564ea71e",
   "metadata": {},
   "source": [
    "##### Libraries"
   ]
  },
  {
   "cell_type": "code",
   "execution_count": 1,
   "id": "33f629c4",
   "metadata": {},
   "outputs": [],
   "source": [
    "# Load libraries\n",
    "import pandas as pd\n",
    "import numpy as np\n",
    "import seaborn as sns\n",
    "import matplotlib.pyplot as plt\n",
    "%matplotlib inline\n",
    "import datetime\n",
    "\n",
    "# Machine learning\n",
    "from sklearn import metrics \n",
    "from sklearn.model_selection import GridSearchCV\n",
    "from sklearn.neighbors import KNeighborsClassifier\n",
    "from sklearn.model_selection import StratifiedShuffleSplit\n",
    "from imblearn.over_sampling import SMOTE "
   ]
  },
  {
   "cell_type": "markdown",
   "id": "75cc3eca",
   "metadata": {},
   "source": [
    "## [Jump to Clean Data](#Final-Data-Set)\n",
    "\n",
    "Clicking this link will skip over the cleanup work and let you get started with the final data set. "
   ]
  },
  {
   "cell_type": "markdown",
   "id": "78ae4fdf",
   "metadata": {},
   "source": [
    "##### Load Data"
   ]
  },
  {
   "cell_type": "code",
   "execution_count": 2,
   "id": "5a66eed8",
   "metadata": {},
   "outputs": [],
   "source": [
    "import warnings\n",
    "warnings.filterwarnings('ignore')\n",
    "\n",
    "# Due to the way these columns are formatted, we want to keep the leading zeros during our import. \n",
    "# Later on will convert them to a time format.\n",
    "dtype_t = {'SCHEDULED_DEPARTURE': str,\n",
    "           'DEPARTURE_TIME': str,\n",
    "           'WHEELS_OFF': str,\n",
    "           'SCHEDULED_TIME': str,\n",
    "           'WHEELS_ON': str,\n",
    "           'SCHEDULED_ARRIVAL': str,\n",
    "           'ARRIVAL_TIME': str\n",
    "          }\n",
    "\n",
    "# Read in the data directly\n",
    "airlines = pd.read_csv('../Data/airlines.csv')\n",
    "airports = pd.read_csv('../Data/airports.csv')\n",
    "flights  = pd.read_csv('../Data/flights.csv', dtype = dtype_t)\n",
    "\n",
    "# Read in the data directly from GitHub\n",
    "# airlines = pd.read_csv('https://raw.githubusercontent.com/mattfarrow1/7331-machine-learning-1/main/Data/airlines.csv')\n",
    "# airports = pd.read_csv('https://raw.githubusercontent.com/mattfarrow1/7331-machine-learning-1/main/Data/airports.csv')\n",
    "# flights  = pd.read_csv('https://media.githubusercontent.com/media/mattfarrow1/7331-machine-learning-1/main/Data/flights.csv', dtype = dtype_t)\n",
    "\n",
    "# Rename columns in preparation for merge\n",
    "airlines.rename(columns={'IATA_CODE': 'AIRLINE_CODE'}, inplace=True)\n",
    "flights.rename(columns={'AIRLINE': 'AIRLINE_CODE'}, inplace=True)\n",
    "\n",
    "# Merge data together\n",
    "df = pd.merge(flights, airlines, on='AIRLINE_CODE', how = 'left')\n",
    "\n",
    "# Subset to DFW Area\n",
    "df = df[(df.ORIGIN_AIRPORT == 'DFW') | (df.ORIGIN_AIRPORT == 'DAL')]"
   ]
  },
  {
   "cell_type": "markdown",
   "id": "c990d61a",
   "metadata": {},
   "source": [
    "##### Process Flight Dates"
   ]
  },
  {
   "cell_type": "code",
   "execution_count": 3,
   "id": "b8d3fbb9",
   "metadata": {},
   "outputs": [],
   "source": [
    "# Create flight date\n",
    "df['FLIGHT_DATE'] = pd.to_datetime([f'{y}-{m}-{d}' for y, m, d in zip(df.YEAR, df.MONTH, df.DAY)])\n",
    "\n",
    "# Combine date & time for departure and arrival\n",
    "# Source: https://stackoverflow.com/questions/17978092/combine-date-and-time-columns-using-python-pandas\n",
    "df['SCHEDULED_DEPARTURE_DT'] = pd.to_datetime(df['FLIGHT_DATE'].astype(str) + ' ' + df['SCHEDULED_DEPARTURE'].astype(str))\n",
    "df['SCHEDULED_ARRIVAL_DT']   = pd.to_datetime(df['FLIGHT_DATE'].astype(str) + ' ' + df['SCHEDULED_ARRIVAL'].astype(str))"
   ]
  },
  {
   "cell_type": "markdown",
   "id": "fbb3ff6e",
   "metadata": {},
   "source": [
    "##### Append Dallas-Area Weather"
   ]
  },
  {
   "cell_type": "code",
   "execution_count": 4,
   "id": "f4b8ebb1",
   "metadata": {},
   "outputs": [],
   "source": [
    "# Read in the data\n",
    "weather = pd.read_csv('../Data/dfw_weather.csv')\n",
    "weather['dt_iso'] = weather['dt_iso'].astype(str)\n",
    "\n",
    "# Remove \"+0000 UTC\"\n",
    "weather['dt_iso_update'] = weather['dt_iso'].str.split('+').str[0]\n",
    "\n",
    "# Convert new column to a datetime type\n",
    "weather['date_time'] =  pd.to_datetime(weather['dt_iso_update'], format='%Y-%m-%d %H:%M')\n",
    "\n",
    "weather['date_time'] = weather['date_time'].dt.round('30min')  \n",
    "df['SCHEDULED_DEPARTURE_DT'] = df['SCHEDULED_DEPARTURE_DT'].dt.round('30min')\n",
    "\n",
    "df = pd.merge(df, weather, left_on='SCHEDULED_DEPARTURE_DT', right_on='date_time')\n",
    "\n",
    "# Remove unnecessary columns from weather data\n",
    "col_to_drop = ['dt', 'dt_iso', 'timezone', 'city_name', 'lat', 'lon', 'feels_like', 'temp_min', 'temp_max',\n",
    "              'sea_level', 'grnd_level', 'dt_iso_update', 'weather_icon', 'weather_description', 'date_time']\n",
    "df = df.drop(columns = col_to_drop)"
   ]
  },
  {
   "cell_type": "markdown",
   "id": "b8e8a49f",
   "metadata": {},
   "source": [
    "##### Format Columns Consistenty"
   ]
  },
  {
   "cell_type": "code",
   "execution_count": 5,
   "id": "eae9847d",
   "metadata": {},
   "outputs": [],
   "source": [
    "# Convert to snake case\n",
    "df.columns = df.columns.str.lower()"
   ]
  },
  {
   "cell_type": "markdown",
   "id": "b0edcf0b",
   "metadata": {},
   "source": [
    "##### Deal with Missing Values"
   ]
  },
  {
   "cell_type": "code",
   "execution_count": 6,
   "id": "291b4344",
   "metadata": {},
   "outputs": [],
   "source": [
    "# Fill missing values with 0\n",
    "cols = ['air_system_delay',\n",
    "        'security_delay',\n",
    "        'airline_delay',\n",
    "        'late_aircraft_delay',\n",
    "        'weather_delay', \n",
    "        'rain_1h', \n",
    "        'rain_3h', \n",
    "        'snow_1h', \n",
    "        'snow_3h']\n",
    "\n",
    "df[cols] = df[cols].fillna(0)"
   ]
  },
  {
   "cell_type": "code",
   "execution_count": 7,
   "id": "e6a58e74",
   "metadata": {},
   "outputs": [],
   "source": [
    "# Remove cancelled flights\n",
    "df = df[df.cancelled == 0]"
   ]
  },
  {
   "cell_type": "code",
   "execution_count": 8,
   "id": "2e5bfa88",
   "metadata": {},
   "outputs": [],
   "source": [
    "# Drop cancelled & cancellation_reason\n",
    "df = df.drop(['cancelled', 'cancellation_reason'], axis = 1)"
   ]
  },
  {
   "cell_type": "code",
   "execution_count": 9,
   "id": "51c8ee3d",
   "metadata": {},
   "outputs": [],
   "source": [
    "# Drop remaining rows that contain missing values\n",
    "df = df.dropna()"
   ]
  },
  {
   "cell_type": "markdown",
   "id": "52dbd9a4",
   "metadata": {},
   "source": [
    "##### One-Hot Encoding"
   ]
  },
  {
   "cell_type": "code",
   "execution_count": 11,
   "id": "11c96911",
   "metadata": {},
   "outputs": [],
   "source": [
    "# Columns to one-hot encode\n",
    "categorical_columns = ['airline_code',\n",
    "                       'weather_main',\n",
    "                       'origin_airport']\n",
    "\n",
    "for column in categorical_columns:\n",
    "  tempdf = pd.get_dummies(df[categorical_columns], prefix = categorical_columns, drop_first = True)\n",
    "  df_ohe = pd.merge(\n",
    "      left = df,\n",
    "      right = tempdf,\n",
    "      left_index = True,\n",
    "      right_index = True\n",
    "  )\n",
    "  df_ohe = df_ohe.drop(columns = categorical_columns)"
   ]
  },
  {
   "cell_type": "code",
   "execution_count": 12,
   "id": "946db5fa",
   "metadata": {},
   "outputs": [
    {
     "data": {
      "text/plain": [
       "['year',\n",
       " 'month',\n",
       " 'day',\n",
       " 'day_of_week',\n",
       " 'flight_number',\n",
       " 'tail_number',\n",
       " 'destination_airport',\n",
       " 'scheduled_departure',\n",
       " 'departure_time',\n",
       " 'departure_delay',\n",
       " 'taxi_out',\n",
       " 'wheels_off',\n",
       " 'scheduled_time',\n",
       " 'elapsed_time',\n",
       " 'air_time',\n",
       " 'distance',\n",
       " 'wheels_on',\n",
       " 'taxi_in',\n",
       " 'scheduled_arrival',\n",
       " 'arrival_time',\n",
       " 'arrival_delay',\n",
       " 'diverted',\n",
       " 'air_system_delay',\n",
       " 'security_delay',\n",
       " 'airline_delay',\n",
       " 'late_aircraft_delay',\n",
       " 'weather_delay',\n",
       " 'airline',\n",
       " 'flight_date',\n",
       " 'scheduled_departure_dt',\n",
       " 'scheduled_arrival_dt',\n",
       " 'temp',\n",
       " 'pressure',\n",
       " 'humidity',\n",
       " 'wind_speed',\n",
       " 'wind_deg',\n",
       " 'rain_1h',\n",
       " 'rain_3h',\n",
       " 'snow_1h',\n",
       " 'snow_3h',\n",
       " 'clouds_all',\n",
       " 'weather_id',\n",
       " 'airline_code_AS',\n",
       " 'airline_code_B6',\n",
       " 'airline_code_DL',\n",
       " 'airline_code_EV',\n",
       " 'airline_code_F9',\n",
       " 'airline_code_MQ',\n",
       " 'airline_code_NK',\n",
       " 'airline_code_OO',\n",
       " 'airline_code_UA',\n",
       " 'airline_code_US',\n",
       " 'airline_code_VX',\n",
       " 'airline_code_WN',\n",
       " 'weather_main_Clouds',\n",
       " 'weather_main_Drizzle',\n",
       " 'weather_main_Dust',\n",
       " 'weather_main_Fog',\n",
       " 'weather_main_Haze',\n",
       " 'weather_main_Mist',\n",
       " 'weather_main_Rain',\n",
       " 'weather_main_Snow',\n",
       " 'weather_main_Thunderstorm',\n",
       " 'origin_airport_DFW']"
      ]
     },
     "execution_count": 12,
     "metadata": {},
     "output_type": "execute_result"
    }
   ],
   "source": [
    "list(df_ohe.columns)"
   ]
  },
  {
   "cell_type": "code",
   "execution_count": 13,
   "id": "7020a819",
   "metadata": {},
   "outputs": [
    {
     "data": {
      "text/html": [
       "<div>\n",
       "<style scoped>\n",
       "    .dataframe tbody tr th:only-of-type {\n",
       "        vertical-align: middle;\n",
       "    }\n",
       "\n",
       "    .dataframe tbody tr th {\n",
       "        vertical-align: top;\n",
       "    }\n",
       "\n",
       "    .dataframe thead th {\n",
       "        text-align: right;\n",
       "    }\n",
       "</style>\n",
       "<table border=\"1\" class=\"dataframe\">\n",
       "  <thead>\n",
       "    <tr style=\"text-align: right;\">\n",
       "      <th></th>\n",
       "      <th>year</th>\n",
       "      <th>month</th>\n",
       "      <th>day</th>\n",
       "      <th>day_of_week</th>\n",
       "      <th>flight_number</th>\n",
       "      <th>tail_number</th>\n",
       "      <th>destination_airport</th>\n",
       "      <th>scheduled_departure</th>\n",
       "      <th>departure_time</th>\n",
       "      <th>departure_delay</th>\n",
       "      <th>taxi_out</th>\n",
       "      <th>wheels_off</th>\n",
       "      <th>scheduled_time</th>\n",
       "      <th>elapsed_time</th>\n",
       "      <th>air_time</th>\n",
       "      <th>distance</th>\n",
       "      <th>wheels_on</th>\n",
       "      <th>taxi_in</th>\n",
       "      <th>scheduled_arrival</th>\n",
       "      <th>arrival_time</th>\n",
       "      <th>arrival_delay</th>\n",
       "      <th>diverted</th>\n",
       "      <th>air_system_delay</th>\n",
       "      <th>security_delay</th>\n",
       "      <th>airline_delay</th>\n",
       "      <th>late_aircraft_delay</th>\n",
       "      <th>weather_delay</th>\n",
       "      <th>airline</th>\n",
       "      <th>flight_date</th>\n",
       "      <th>scheduled_departure_dt</th>\n",
       "      <th>scheduled_arrival_dt</th>\n",
       "      <th>temp</th>\n",
       "      <th>pressure</th>\n",
       "      <th>humidity</th>\n",
       "      <th>wind_speed</th>\n",
       "      <th>wind_deg</th>\n",
       "      <th>rain_1h</th>\n",
       "      <th>rain_3h</th>\n",
       "      <th>snow_1h</th>\n",
       "      <th>snow_3h</th>\n",
       "      <th>clouds_all</th>\n",
       "      <th>weather_id</th>\n",
       "      <th>airline_code_AS</th>\n",
       "      <th>airline_code_B6</th>\n",
       "      <th>airline_code_DL</th>\n",
       "      <th>airline_code_EV</th>\n",
       "      <th>airline_code_F9</th>\n",
       "      <th>airline_code_MQ</th>\n",
       "      <th>airline_code_NK</th>\n",
       "      <th>airline_code_OO</th>\n",
       "      <th>airline_code_UA</th>\n",
       "      <th>airline_code_US</th>\n",
       "      <th>airline_code_VX</th>\n",
       "      <th>airline_code_WN</th>\n",
       "      <th>weather_main_Clouds</th>\n",
       "      <th>weather_main_Drizzle</th>\n",
       "      <th>weather_main_Dust</th>\n",
       "      <th>weather_main_Fog</th>\n",
       "      <th>weather_main_Haze</th>\n",
       "      <th>weather_main_Mist</th>\n",
       "      <th>weather_main_Rain</th>\n",
       "      <th>weather_main_Snow</th>\n",
       "      <th>weather_main_Thunderstorm</th>\n",
       "      <th>origin_airport_DFW</th>\n",
       "    </tr>\n",
       "  </thead>\n",
       "  <tbody>\n",
       "    <tr>\n",
       "      <th>0</th>\n",
       "      <td>2015</td>\n",
       "      <td>1</td>\n",
       "      <td>1</td>\n",
       "      <td>4</td>\n",
       "      <td>1057</td>\n",
       "      <td>N3ASAA</td>\n",
       "      <td>MIA</td>\n",
       "      <td>0515</td>\n",
       "      <td>0703</td>\n",
       "      <td>108.0</td>\n",
       "      <td>15.0</td>\n",
       "      <td>0718</td>\n",
       "      <td>161</td>\n",
       "      <td>155.0</td>\n",
       "      <td>133.0</td>\n",
       "      <td>1121</td>\n",
       "      <td>1031</td>\n",
       "      <td>7.0</td>\n",
       "      <td>0856</td>\n",
       "      <td>1038</td>\n",
       "      <td>102.0</td>\n",
       "      <td>0</td>\n",
       "      <td>0.0</td>\n",
       "      <td>0.0</td>\n",
       "      <td>0.0</td>\n",
       "      <td>0.0</td>\n",
       "      <td>102.0</td>\n",
       "      <td>American Airlines Inc.</td>\n",
       "      <td>2015-01-01</td>\n",
       "      <td>2015-01-01 05:00:00</td>\n",
       "      <td>2015-01-01 08:56:00</td>\n",
       "      <td>35.11</td>\n",
       "      <td>1031</td>\n",
       "      <td>66</td>\n",
       "      <td>4.7</td>\n",
       "      <td>20</td>\n",
       "      <td>0.0</td>\n",
       "      <td>0.0</td>\n",
       "      <td>0.0</td>\n",
       "      <td>0.0</td>\n",
       "      <td>90</td>\n",
       "      <td>804</td>\n",
       "      <td>0</td>\n",
       "      <td>0</td>\n",
       "      <td>0</td>\n",
       "      <td>0</td>\n",
       "      <td>0</td>\n",
       "      <td>0</td>\n",
       "      <td>0</td>\n",
       "      <td>0</td>\n",
       "      <td>0</td>\n",
       "      <td>0</td>\n",
       "      <td>0</td>\n",
       "      <td>0</td>\n",
       "      <td>1</td>\n",
       "      <td>0</td>\n",
       "      <td>0</td>\n",
       "      <td>0</td>\n",
       "      <td>0</td>\n",
       "      <td>0</td>\n",
       "      <td>0</td>\n",
       "      <td>0</td>\n",
       "      <td>0</td>\n",
       "      <td>1</td>\n",
       "    </tr>\n",
       "    <tr>\n",
       "      <th>1</th>\n",
       "      <td>2015</td>\n",
       "      <td>1</td>\n",
       "      <td>1</td>\n",
       "      <td>4</td>\n",
       "      <td>1890</td>\n",
       "      <td>N377DA</td>\n",
       "      <td>ATL</td>\n",
       "      <td>0545</td>\n",
       "      <td>0603</td>\n",
       "      <td>18.0</td>\n",
       "      <td>13.0</td>\n",
       "      <td>0616</td>\n",
       "      <td>124</td>\n",
       "      <td>104.0</td>\n",
       "      <td>86.0</td>\n",
       "      <td>731</td>\n",
       "      <td>0842</td>\n",
       "      <td>5.0</td>\n",
       "      <td>0849</td>\n",
       "      <td>0847</td>\n",
       "      <td>-2.0</td>\n",
       "      <td>0</td>\n",
       "      <td>0.0</td>\n",
       "      <td>0.0</td>\n",
       "      <td>0.0</td>\n",
       "      <td>0.0</td>\n",
       "      <td>0.0</td>\n",
       "      <td>Delta Air Lines Inc.</td>\n",
       "      <td>2015-01-01</td>\n",
       "      <td>2015-01-01 06:00:00</td>\n",
       "      <td>2015-01-01 08:49:00</td>\n",
       "      <td>34.61</td>\n",
       "      <td>1030</td>\n",
       "      <td>63</td>\n",
       "      <td>4.7</td>\n",
       "      <td>20</td>\n",
       "      <td>0.5</td>\n",
       "      <td>0.0</td>\n",
       "      <td>0.0</td>\n",
       "      <td>0.0</td>\n",
       "      <td>90</td>\n",
       "      <td>500</td>\n",
       "      <td>0</td>\n",
       "      <td>0</td>\n",
       "      <td>1</td>\n",
       "      <td>0</td>\n",
       "      <td>0</td>\n",
       "      <td>0</td>\n",
       "      <td>0</td>\n",
       "      <td>0</td>\n",
       "      <td>0</td>\n",
       "      <td>0</td>\n",
       "      <td>0</td>\n",
       "      <td>0</td>\n",
       "      <td>0</td>\n",
       "      <td>0</td>\n",
       "      <td>0</td>\n",
       "      <td>0</td>\n",
       "      <td>0</td>\n",
       "      <td>0</td>\n",
       "      <td>1</td>\n",
       "      <td>0</td>\n",
       "      <td>0</td>\n",
       "      <td>1</td>\n",
       "    </tr>\n",
       "    <tr>\n",
       "      <th>2</th>\n",
       "      <td>2015</td>\n",
       "      <td>1</td>\n",
       "      <td>1</td>\n",
       "      <td>4</td>\n",
       "      <td>72</td>\n",
       "      <td>N5EKAA</td>\n",
       "      <td>MCO</td>\n",
       "      <td>0600</td>\n",
       "      <td>0606</td>\n",
       "      <td>6.0</td>\n",
       "      <td>18.0</td>\n",
       "      <td>0624</td>\n",
       "      <td>145</td>\n",
       "      <td>142.0</td>\n",
       "      <td>120.0</td>\n",
       "      <td>985</td>\n",
       "      <td>0924</td>\n",
       "      <td>4.0</td>\n",
       "      <td>0925</td>\n",
       "      <td>0928</td>\n",
       "      <td>3.0</td>\n",
       "      <td>0</td>\n",
       "      <td>0.0</td>\n",
       "      <td>0.0</td>\n",
       "      <td>0.0</td>\n",
       "      <td>0.0</td>\n",
       "      <td>0.0</td>\n",
       "      <td>American Airlines Inc.</td>\n",
       "      <td>2015-01-01</td>\n",
       "      <td>2015-01-01 06:00:00</td>\n",
       "      <td>2015-01-01 09:25:00</td>\n",
       "      <td>34.61</td>\n",
       "      <td>1030</td>\n",
       "      <td>63</td>\n",
       "      <td>4.7</td>\n",
       "      <td>20</td>\n",
       "      <td>0.5</td>\n",
       "      <td>0.0</td>\n",
       "      <td>0.0</td>\n",
       "      <td>0.0</td>\n",
       "      <td>90</td>\n",
       "      <td>500</td>\n",
       "      <td>0</td>\n",
       "      <td>0</td>\n",
       "      <td>0</td>\n",
       "      <td>0</td>\n",
       "      <td>0</td>\n",
       "      <td>0</td>\n",
       "      <td>0</td>\n",
       "      <td>0</td>\n",
       "      <td>0</td>\n",
       "      <td>0</td>\n",
       "      <td>0</td>\n",
       "      <td>0</td>\n",
       "      <td>0</td>\n",
       "      <td>0</td>\n",
       "      <td>0</td>\n",
       "      <td>0</td>\n",
       "      <td>0</td>\n",
       "      <td>0</td>\n",
       "      <td>1</td>\n",
       "      <td>0</td>\n",
       "      <td>0</td>\n",
       "      <td>1</td>\n",
       "    </tr>\n",
       "    <tr>\n",
       "      <th>3</th>\n",
       "      <td>2015</td>\n",
       "      <td>1</td>\n",
       "      <td>1</td>\n",
       "      <td>4</td>\n",
       "      <td>1100</td>\n",
       "      <td>N3GWAA</td>\n",
       "      <td>LGA</td>\n",
       "      <td>0600</td>\n",
       "      <td>0554</td>\n",
       "      <td>-6.0</td>\n",
       "      <td>33.0</td>\n",
       "      <td>0627</td>\n",
       "      <td>190</td>\n",
       "      <td>191.0</td>\n",
       "      <td>154.0</td>\n",
       "      <td>1389</td>\n",
       "      <td>1001</td>\n",
       "      <td>4.0</td>\n",
       "      <td>1010</td>\n",
       "      <td>1005</td>\n",
       "      <td>-5.0</td>\n",
       "      <td>0</td>\n",
       "      <td>0.0</td>\n",
       "      <td>0.0</td>\n",
       "      <td>0.0</td>\n",
       "      <td>0.0</td>\n",
       "      <td>0.0</td>\n",
       "      <td>American Airlines Inc.</td>\n",
       "      <td>2015-01-01</td>\n",
       "      <td>2015-01-01 06:00:00</td>\n",
       "      <td>2015-01-01 10:10:00</td>\n",
       "      <td>34.61</td>\n",
       "      <td>1030</td>\n",
       "      <td>63</td>\n",
       "      <td>4.7</td>\n",
       "      <td>20</td>\n",
       "      <td>0.5</td>\n",
       "      <td>0.0</td>\n",
       "      <td>0.0</td>\n",
       "      <td>0.0</td>\n",
       "      <td>90</td>\n",
       "      <td>500</td>\n",
       "      <td>0</td>\n",
       "      <td>0</td>\n",
       "      <td>0</td>\n",
       "      <td>0</td>\n",
       "      <td>0</td>\n",
       "      <td>0</td>\n",
       "      <td>0</td>\n",
       "      <td>0</td>\n",
       "      <td>0</td>\n",
       "      <td>0</td>\n",
       "      <td>0</td>\n",
       "      <td>0</td>\n",
       "      <td>0</td>\n",
       "      <td>0</td>\n",
       "      <td>0</td>\n",
       "      <td>0</td>\n",
       "      <td>0</td>\n",
       "      <td>0</td>\n",
       "      <td>1</td>\n",
       "      <td>0</td>\n",
       "      <td>0</td>\n",
       "      <td>1</td>\n",
       "    </tr>\n",
       "    <tr>\n",
       "      <th>5</th>\n",
       "      <td>2015</td>\n",
       "      <td>1</td>\n",
       "      <td>1</td>\n",
       "      <td>4</td>\n",
       "      <td>925</td>\n",
       "      <td>N634NK</td>\n",
       "      <td>OAK</td>\n",
       "      <td>0600</td>\n",
       "      <td>0600</td>\n",
       "      <td>0.0</td>\n",
       "      <td>13.0</td>\n",
       "      <td>0613</td>\n",
       "      <td>238</td>\n",
       "      <td>209.0</td>\n",
       "      <td>188.0</td>\n",
       "      <td>1457</td>\n",
       "      <td>0721</td>\n",
       "      <td>8.0</td>\n",
       "      <td>0758</td>\n",
       "      <td>0729</td>\n",
       "      <td>-29.0</td>\n",
       "      <td>0</td>\n",
       "      <td>0.0</td>\n",
       "      <td>0.0</td>\n",
       "      <td>0.0</td>\n",
       "      <td>0.0</td>\n",
       "      <td>0.0</td>\n",
       "      <td>Spirit Air Lines</td>\n",
       "      <td>2015-01-01</td>\n",
       "      <td>2015-01-01 06:00:00</td>\n",
       "      <td>2015-01-01 07:58:00</td>\n",
       "      <td>34.61</td>\n",
       "      <td>1030</td>\n",
       "      <td>63</td>\n",
       "      <td>4.7</td>\n",
       "      <td>20</td>\n",
       "      <td>0.5</td>\n",
       "      <td>0.0</td>\n",
       "      <td>0.0</td>\n",
       "      <td>0.0</td>\n",
       "      <td>90</td>\n",
       "      <td>500</td>\n",
       "      <td>0</td>\n",
       "      <td>0</td>\n",
       "      <td>0</td>\n",
       "      <td>0</td>\n",
       "      <td>0</td>\n",
       "      <td>0</td>\n",
       "      <td>1</td>\n",
       "      <td>0</td>\n",
       "      <td>0</td>\n",
       "      <td>0</td>\n",
       "      <td>0</td>\n",
       "      <td>0</td>\n",
       "      <td>0</td>\n",
       "      <td>0</td>\n",
       "      <td>0</td>\n",
       "      <td>0</td>\n",
       "      <td>0</td>\n",
       "      <td>0</td>\n",
       "      <td>1</td>\n",
       "      <td>0</td>\n",
       "      <td>0</td>\n",
       "      <td>1</td>\n",
       "    </tr>\n",
       "  </tbody>\n",
       "</table>\n",
       "</div>"
      ],
      "text/plain": [
       "   year  month  day  day_of_week  flight_number tail_number  \\\n",
       "0  2015      1    1            4           1057      N3ASAA   \n",
       "1  2015      1    1            4           1890      N377DA   \n",
       "2  2015      1    1            4             72      N5EKAA   \n",
       "3  2015      1    1            4           1100      N3GWAA   \n",
       "5  2015      1    1            4            925      N634NK   \n",
       "\n",
       "  destination_airport scheduled_departure departure_time  departure_delay  \\\n",
       "0                 MIA                0515           0703            108.0   \n",
       "1                 ATL                0545           0603             18.0   \n",
       "2                 MCO                0600           0606              6.0   \n",
       "3                 LGA                0600           0554             -6.0   \n",
       "5                 OAK                0600           0600              0.0   \n",
       "\n",
       "   taxi_out wheels_off scheduled_time  elapsed_time  air_time  distance  \\\n",
       "0      15.0       0718            161         155.0     133.0      1121   \n",
       "1      13.0       0616            124         104.0      86.0       731   \n",
       "2      18.0       0624            145         142.0     120.0       985   \n",
       "3      33.0       0627            190         191.0     154.0      1389   \n",
       "5      13.0       0613            238         209.0     188.0      1457   \n",
       "\n",
       "  wheels_on  taxi_in scheduled_arrival arrival_time  arrival_delay  diverted  \\\n",
       "0      1031      7.0              0856         1038          102.0         0   \n",
       "1      0842      5.0              0849         0847           -2.0         0   \n",
       "2      0924      4.0              0925         0928            3.0         0   \n",
       "3      1001      4.0              1010         1005           -5.0         0   \n",
       "5      0721      8.0              0758         0729          -29.0         0   \n",
       "\n",
       "   air_system_delay  security_delay  airline_delay  late_aircraft_delay  \\\n",
       "0               0.0             0.0            0.0                  0.0   \n",
       "1               0.0             0.0            0.0                  0.0   \n",
       "2               0.0             0.0            0.0                  0.0   \n",
       "3               0.0             0.0            0.0                  0.0   \n",
       "5               0.0             0.0            0.0                  0.0   \n",
       "\n",
       "   weather_delay                 airline flight_date scheduled_departure_dt  \\\n",
       "0          102.0  American Airlines Inc.  2015-01-01    2015-01-01 05:00:00   \n",
       "1            0.0    Delta Air Lines Inc.  2015-01-01    2015-01-01 06:00:00   \n",
       "2            0.0  American Airlines Inc.  2015-01-01    2015-01-01 06:00:00   \n",
       "3            0.0  American Airlines Inc.  2015-01-01    2015-01-01 06:00:00   \n",
       "5            0.0        Spirit Air Lines  2015-01-01    2015-01-01 06:00:00   \n",
       "\n",
       "  scheduled_arrival_dt   temp  pressure  humidity  wind_speed  wind_deg  \\\n",
       "0  2015-01-01 08:56:00  35.11      1031        66         4.7        20   \n",
       "1  2015-01-01 08:49:00  34.61      1030        63         4.7        20   \n",
       "2  2015-01-01 09:25:00  34.61      1030        63         4.7        20   \n",
       "3  2015-01-01 10:10:00  34.61      1030        63         4.7        20   \n",
       "5  2015-01-01 07:58:00  34.61      1030        63         4.7        20   \n",
       "\n",
       "   rain_1h  rain_3h  snow_1h  snow_3h  clouds_all  weather_id  \\\n",
       "0      0.0      0.0      0.0      0.0          90         804   \n",
       "1      0.5      0.0      0.0      0.0          90         500   \n",
       "2      0.5      0.0      0.0      0.0          90         500   \n",
       "3      0.5      0.0      0.0      0.0          90         500   \n",
       "5      0.5      0.0      0.0      0.0          90         500   \n",
       "\n",
       "   airline_code_AS  airline_code_B6  airline_code_DL  airline_code_EV  \\\n",
       "0                0                0                0                0   \n",
       "1                0                0                1                0   \n",
       "2                0                0                0                0   \n",
       "3                0                0                0                0   \n",
       "5                0                0                0                0   \n",
       "\n",
       "   airline_code_F9  airline_code_MQ  airline_code_NK  airline_code_OO  \\\n",
       "0                0                0                0                0   \n",
       "1                0                0                0                0   \n",
       "2                0                0                0                0   \n",
       "3                0                0                0                0   \n",
       "5                0                0                1                0   \n",
       "\n",
       "   airline_code_UA  airline_code_US  airline_code_VX  airline_code_WN  \\\n",
       "0                0                0                0                0   \n",
       "1                0                0                0                0   \n",
       "2                0                0                0                0   \n",
       "3                0                0                0                0   \n",
       "5                0                0                0                0   \n",
       "\n",
       "   weather_main_Clouds  weather_main_Drizzle  weather_main_Dust  \\\n",
       "0                    1                     0                  0   \n",
       "1                    0                     0                  0   \n",
       "2                    0                     0                  0   \n",
       "3                    0                     0                  0   \n",
       "5                    0                     0                  0   \n",
       "\n",
       "   weather_main_Fog  weather_main_Haze  weather_main_Mist  weather_main_Rain  \\\n",
       "0                 0                  0                  0                  0   \n",
       "1                 0                  0                  0                  1   \n",
       "2                 0                  0                  0                  1   \n",
       "3                 0                  0                  0                  1   \n",
       "5                 0                  0                  0                  1   \n",
       "\n",
       "   weather_main_Snow  weather_main_Thunderstorm  origin_airport_DFW  \n",
       "0                  0                          0                   1  \n",
       "1                  0                          0                   1  \n",
       "2                  0                          0                   1  \n",
       "3                  0                          0                   1  \n",
       "5                  0                          0                   1  "
      ]
     },
     "execution_count": 13,
     "metadata": {},
     "output_type": "execute_result"
    }
   ],
   "source": [
    "pd.set_option('display.max_columns', None)\n",
    "df_ohe.head()"
   ]
  },
  {
   "cell_type": "code",
   "execution_count": 14,
   "id": "147b6dab",
   "metadata": {},
   "outputs": [],
   "source": [
    "# Drop tail_number, destination_airport & airline\n",
    "df_ohe = df_ohe.drop(['tail_number', \n",
    "                      'destination_airport', \n",
    "                      'airline'], axis = 1)"
   ]
  },
  {
   "cell_type": "code",
   "execution_count": 15,
   "id": "8cf3a083",
   "metadata": {},
   "outputs": [],
   "source": [
    "# Convert times to integers\n",
    "df_ohe['scheduled_departure'] = df_ohe['scheduled_departure'].astype(int)\n",
    "df_ohe['departure_time'] = df_ohe['departure_time'].astype(int)\n",
    "df_ohe['wheels_off'] = df_ohe['wheels_off'].astype(int)\n",
    "df_ohe['scheduled_time'] = df_ohe['scheduled_time'].astype(int)\n",
    "df_ohe['wheels_on'] = df_ohe['wheels_on'].astype(int)\n",
    "df_ohe['scheduled_arrival'] = df_ohe['scheduled_arrival'].astype(int)\n",
    "df_ohe['arrival_time'] = df_ohe['arrival_time'].astype(int)"
   ]
  },
  {
   "cell_type": "markdown",
   "id": "16162c0b",
   "metadata": {},
   "source": [
    "##### Flight Delay Response Variable"
   ]
  },
  {
   "cell_type": "code",
   "execution_count": 16,
   "id": "b85d0bd1",
   "metadata": {
    "scrolled": true
   },
   "outputs": [],
   "source": [
    "# Add response variable bucket for delay time for departure\n",
    "# 0 is Early (negative time)\n",
    "# 1 is On_Time or between 0 and 10 minutes late\n",
    "# 2 is Late (between 11 and 30 min late)\n",
    "# 3 is very late (between 31 and 60 min late)\n",
    "# 4 is extremely late (over 61 min late)\n",
    "\n",
    "delay_labels = ['0', '1', '2', '3', '4']\n",
    "delay_bins   = [-np.inf, -1, 10, 30, 60, np.inf]\n",
    "\n",
    "df_ohe['delay_bucket'] = pd.cut(df_ohe['departure_delay'],\n",
    "                                bins = delay_bins,\n",
    "                                labels = delay_labels)\n",
    "\n",
    "# Check counts by bucket\n",
    "df_ohe['delay_bucket'].value_counts()\n",
    "\n",
    "# Convert from category to int\n",
    "df_ohe['delay_bucket'] = df_ohe['delay_bucket'].astype(int)"
   ]
  },
  {
   "cell_type": "markdown",
   "id": "d2fe6791",
   "metadata": {},
   "source": [
    "## Data Understanding 2\n",
    "Jump to [top](#Rubric)\n",
    "\n",
    "> Visualize the any important attributes appropriately. Important: Provide an interpretation for any charts or graphs."
   ]
  },
  {
   "cell_type": "markdown",
   "id": "cd16cff1",
   "metadata": {},
   "source": [
    "### Final Data Set\n",
    "\n",
    "The delay data set contains basic flight information from our original data plus weather data for the appropriate date & time of each flight, encoded variables for `DESTINATION_AIRPORT` and `TAIL_NUMBER`, and one-hot encoded airline codes.\n",
    "Newly created variables included buckets for the flight’s scheduled departure and arrival times (morning, afternoon, and evening), distance (medium and long), and a response variable `DELAY_BUCKET` that groups delay times by length of delay in minutes.\n",
    "- **Early** is defined as 0 and is any value where the `DEPARTURE_DELAY` is < 0.\n",
    "- **On-Time** is defined as 1 and is any value where 0 <= `DEPARTURE_DELAY` <= 10\n",
    "- **Late** is defined as 2 and is any value where 11 <= `DEPARTURE_DELAY` <= 30\n",
    "- **Very Late** is defined as 3 and is any value where 31 <= `DEPARTURE_DELAY` <= 60\n",
    "- **Extremely Late** is defined as 4 and is any value where `DEPARTURE_DELAY` >= 61"
   ]
  },
  {
   "cell_type": "code",
   "execution_count": 17,
   "id": "c6db5b66",
   "metadata": {},
   "outputs": [],
   "source": [
    "# Save data\n",
    "# df_delay.to_csv('../Data/df_delay.csv', index=False)"
   ]
  },
  {
   "cell_type": "code",
   "execution_count": 18,
   "id": "c33ed95c",
   "metadata": {},
   "outputs": [],
   "source": [
    "# Load data from here to save time\n",
    "# df_delay = pd.read_csv('../Data/df_delay.csv')"
   ]
  },
  {
   "cell_type": "markdown",
   "id": "d8f171a2",
   "metadata": {},
   "source": [
    "# Modeling and Evaluation\n",
    "Jump to [top](#Rubric)"
   ]
  },
  {
   "cell_type": "markdown",
   "id": "d55c628a",
   "metadata": {},
   "source": [
    "## Modeling and Evaluation 1\n",
    "\n",
    "> Train and adjust parameters"
   ]
  },
  {
   "cell_type": "markdown",
   "id": "2d761ded",
   "metadata": {},
   "source": [
    "### Best Performing Classifier Model from Lab 2"
   ]
  },
  {
   "cell_type": "markdown",
   "id": "82157c0d",
   "metadata": {},
   "source": [
    "In Lab 2, we determined that running KNN on the oversampled data using SMOTE with Grid Search was our best performing model. We've included it here as a baseline for our clustering models."
   ]
  },
  {
   "cell_type": "code",
   "execution_count": 19,
   "id": "a9f03df8",
   "metadata": {},
   "outputs": [],
   "source": [
    "# # Create X and y for delay data set\n",
    "# if 'delay_bucket' in df_ohe:\n",
    "#     y_del = df_ohe['delay_bucket'].values\n",
    "#     X_del = df_ohe.iloc[:,:-1].values"
   ]
  },
  {
   "cell_type": "code",
   "execution_count": 20,
   "id": "e28fd57c",
   "metadata": {},
   "outputs": [],
   "source": [
    "# # Oversample using SMOTE\n",
    "# oversample = SMOTE()\n",
    "# X_del_smote, y_del_smote = oversample.fit_resample(X_del, y_del)"
   ]
  },
  {
   "cell_type": "code",
   "execution_count": 21,
   "id": "d330f124",
   "metadata": {},
   "outputs": [],
   "source": [
    "# from sklearn.model_selection import StratifiedShuffleSplit\n",
    "\n",
    "# sss=StratifiedShuffleSplit(n_splits=1, test_size=0.2, random_state=42) \n",
    "\n",
    "# for train_index, test_index in sss.split(X_del_smote, y_del_smote):\n",
    "#     X_train_del_smote, X_test_del_smote = X_del_smote[train_index], X_del_smote[test_index]\n",
    "#     y_train_del_smote, y_test_del_smote = y_del_smote[train_index], y_del_smote[test_index]\n",
    "\n",
    "# print(\"Split on Oversampled Data:\\n\")\n",
    "# print('Training Features Shape:', X_train_del_smote.shape)\n",
    "# print('Training Labels Shape:', y_train_del_smote.shape)\n",
    "# print('Testing Features Shape:', X_test_del_smote.shape)\n",
    "# print('Testing Labels Shape:', y_test_del_smote.shape)"
   ]
  },
  {
   "cell_type": "code",
   "execution_count": 22,
   "id": "9ec3b0c3",
   "metadata": {},
   "outputs": [],
   "source": [
    "# %%time\n",
    "# # https://realpython.com/knn-python/\n",
    "# from sklearn.neighbors import KNeighborsClassifier\n",
    "# from sklearn.model_selection import GridSearchCV\n",
    "\n",
    "# # Create KNN Classifier\n",
    "# parameters = {\n",
    "#      \"n_neighbors\": list(range(1,20,2)),\n",
    "#      \"weights\": [\"uniform\", \"distance\"],\n",
    "#  }\n",
    "# gridsearch = GridSearchCV(KNeighborsClassifier(), \n",
    "#                           parameters, \n",
    "#                           cv = 10, \n",
    "#                           scoring = 'f1_weighted',\n",
    "#                           n_jobs = -1)\n",
    "\n",
    "# gridsearch.fit(X_train_del_smote, y_train_del_smote)\n",
    "# gridsearch.best_params_"
   ]
  },
  {
   "cell_type": "code",
   "execution_count": 23,
   "id": "186d2d07",
   "metadata": {},
   "outputs": [],
   "source": [
    "# test_preds_grid2 = gridsearch.predict(X_test_del_smote)"
   ]
  },
  {
   "cell_type": "code",
   "execution_count": 24,
   "id": "c047857c",
   "metadata": {},
   "outputs": [],
   "source": [
    "# from sklearn import metrics\n",
    "# print(\"Accuracy:\",metrics.accuracy_score(y_test_del_smote, test_preds_grid2))\n",
    "# print('Weighted Precision: {:.2f}'.format(precision_score(y_test_del_smote, test_preds_grid2, average = 'weighted')))\n",
    "# print('Weighted Recall: {:.2f}'.format(recall_score(y_test_del_smote, test_preds_grid2, average = 'weighted')))\n",
    "# print('Weighted F1-score: {:.2f}'.format(f1_score(y_test_del_smote, test_preds_grid2, average = 'weighted')))"
   ]
  },
  {
   "cell_type": "code",
   "execution_count": 25,
   "id": "b85f12d5",
   "metadata": {},
   "outputs": [],
   "source": [
    "# # Save and run model with K=1 and pull metrics\n",
    "# knn_delay = KNeighborsClassifier(n_neighbors = 1, weights = 'uniform')\n",
    "# knn_delay.fit(X_train_del_smote, y_train_del_smote)\n",
    "# y_pred_knn_del = knn_delay.predict(X_test_del_smote)"
   ]
  },
  {
   "cell_type": "markdown",
   "id": "e8da3976",
   "metadata": {},
   "source": [
    "## Modeling and Evaluation 2\n",
    "Jump to [top](#Rubric)\n",
    "\n",
    "> Evaluate and compare"
   ]
  },
  {
   "cell_type": "markdown",
   "id": "3de30d82",
   "metadata": {},
   "source": [
    "## Modeling and Evaluation 3\n",
    "Jump to [top](#Rubric)\n",
    "\n",
    "> Visualize results"
   ]
  },
  {
   "cell_type": "markdown",
   "id": "da7acf6f",
   "metadata": {},
   "source": [
    "## Modeling and Evaluation 4\n",
    "Jump to [top](#Rubric)\n",
    "\n",
    "> Summarise the ramifications"
   ]
  },
  {
   "cell_type": "markdown",
   "id": "e9739dd6",
   "metadata": {},
   "source": [
    "# Deployment\n",
    "Jump to [top](#Rubric)"
   ]
  },
  {
   "cell_type": "markdown",
   "id": "c7f66b83",
   "metadata": {},
   "source": [
    "# Exceptional Work\n",
    "Jump to [top](#Rubric)"
   ]
  },
  {
   "cell_type": "markdown",
   "id": "3246fd4f",
   "metadata": {},
   "source": [
    "# Matt\n",
    "Jump to [top](#Rubric)"
   ]
  },
  {
   "cell_type": "markdown",
   "id": "75696b31",
   "metadata": {},
   "source": [
    "### Data"
   ]
  },
  {
   "cell_type": "code",
   "execution_count": 26,
   "id": "b329d32c",
   "metadata": {},
   "outputs": [],
   "source": [
    "# Drop datetime columns\n",
    "df_ohe = df_ohe.drop(['flight_date', \n",
    "                      'scheduled_departure_dt', \n",
    "                      'scheduled_arrival_dt'], \n",
    "                     axis = 1)\n",
    "\n",
    "# Create X and y for delay data set\n",
    "if 'delay_bucket' in df_ohe:\n",
    "    y_del = df_ohe['delay_bucket'].values\n",
    "    X_del = df_ohe.iloc[:,:-1].values"
   ]
  },
  {
   "cell_type": "markdown",
   "id": "8a14c3d2",
   "metadata": {},
   "source": [
    "### Model"
   ]
  },
  {
   "cell_type": "code",
   "execution_count": 28,
   "id": "52fef289",
   "metadata": {},
   "outputs": [
    {
     "data": {
      "text/plain": [
       "array([10.00169571, 17.84870052, 25.09016297, 29.93878603, 34.08712899,\n",
       "       37.59359618, 40.35889675, 42.85410659, 45.22909059, 47.49823296,\n",
       "       49.72437622, 51.7808123 , 53.76477536, 55.72495139, 57.65723399,\n",
       "       59.51295233, 61.35558868, 63.17372814, 64.97827534, 66.77044153,\n",
       "       68.55280935, 70.32577545, 72.08864172, 73.8488969 , 75.59828071,\n",
       "       77.34434391, 79.06036251, 80.73184594, 82.38772496, 83.96749911,\n",
       "       85.49564726, 86.97002722, 88.42871007, 89.78489899, 91.11507231,\n",
       "       92.33699192, 93.44965399, 94.48116692, 95.44015684])"
      ]
     },
     "execution_count": 28,
     "metadata": {},
     "output_type": "execute_result"
    }
   ],
   "source": [
    "# Source: https://towardsdatascience.com/principal-component-analysis-pca-with-scikit-learn-1e84a0c731b0\n",
    "# Standardize the features\n",
    "from sklearn.preprocessing import StandardScaler\n",
    "from sklearn.decomposition import PCA\n",
    "\n",
    "# Create the object\n",
    "scaler = StandardScaler()\n",
    "\n",
    "# Calculate the mean and standard deviation\n",
    "scaler.fit(df_ohe)\n",
    "df_ohe_pca_scaled = scaler.transform(df_ohe)\n",
    "\n",
    "# Calculate the PCA that explains 95% of the variance\n",
    "pca_95 = PCA(n_components=0.95, random_state=2015)\n",
    "pca_95.fit(df_ohe_pca_scaled)\n",
    "df_pca_95 = pca_95.transform(df_ohe_pca_scaled)\n",
    "\n",
    "# Display the PCA values\n",
    "np.cumsum(pca_95.explained_variance_ratio_*100)"
   ]
  },
  {
   "cell_type": "code",
   "execution_count": 29,
   "id": "745b276a",
   "metadata": {},
   "outputs": [
    {
     "data": {
      "text/plain": [
       "Text(0, 0.5, 'Explained Variance')"
      ]
     },
     "execution_count": 29,
     "metadata": {},
     "output_type": "execute_result"
    },
    {
     "data": {
      "image/png": "[encoded data removed]",
      "text/plain": [
       "<Figure size 432x288 with 1 Axes>"
      ]
     },
     "metadata": {
      "needs_background": "light"
     },
     "output_type": "display_data"
    }
   ],
   "source": [
    "# Plot PCA results\n",
    "plt.plot(np.cumsum(pca_95.explained_variance_ratio_))\n",
    "plt.xlabel('Number of Components')\n",
    "plt.ylabel('Explained Variance')"
   ]
  },
  {
   "cell_type": "code",
   "execution_count": null,
   "id": "6141a2e9",
   "metadata": {},
   "outputs": [],
   "source": [
    "# Run PCA for feature reduction\n",
    "from sklearn.decomposition import PCA\n",
    "\n",
    "X_del_pca = PCA(n_components = 2).fit_transform(X_del)\n",
    "plt.scatter(X_del_pca[:,0], \n",
    "            X_del_pca[:,1])"
   ]
  },
  {
   "cell_type": "code",
   "execution_count": null,
   "id": "3586d919",
   "metadata": {},
   "outputs": [],
   "source": [
    "from sklearn.cluster import AgglomerativeClustering\n",
    "classifier = AgglomerativeClustering(n_clusters = 5,\n",
    "                                     linkage = \"ward\",\n",
    "                                     affinity = \"euclidean\")\n",
    "model = classifier.fit(df_pca_95)"
   ]
  },
  {
   "cell_type": "code",
   "execution_count": null,
   "id": "89797d15",
   "metadata": {},
   "outputs": [],
   "source": [
    "# Visualize the results of the clustering algorithm\n",
    "plt.scatter(X[clusters == 0, 0], X[clusters == 0, 1], label = 'Delay = 0')\n",
    "plt.scatter(X[clusters == 1, 0], X[clusters == 1, 1], label = 'Delay = 1')\n",
    "plt.scatter(X[clusters == 2, 0], X[clusters == 2, 1], label = 'Delay = 2')\n",
    "plt.scatter(X[clusters == 3, 0], X[clusters == 3, 1], label = 'Delay = 3')\n",
    "plt.scatter(X[clusters == 4, 0], X[clusters == 4, 1], label = 'Delay = 4')\n",
    "plt.title('Clusters')\n",
    "plt.show()"
   ]
  },
  {
   "cell_type": "code",
   "execution_count": null,
   "id": "1b2b00b3",
   "metadata": {},
   "outputs": [],
   "source": [
    "# Compare results to the actual target values\n",
    "plt.scatter(X[Y == 0, 0], X[Y == 0, 1], label = 'Type 1')\n",
    "plt.scatter(X[Y == 1, 0], X[Y == 1, 1], label = 'Type 2')\n",
    "plt.scatter(X[Y == 2, 0], X[Y == 2, 1], label = 'Type 3')"
   ]
  },
  {
   "cell_type": "code",
   "execution_count": null,
   "id": "ae391eb1",
   "metadata": {},
   "outputs": [],
   "source": [
    "# Distances between clusters\n",
    "distances = model.distances_\n",
    "\n",
    "print(\"Number of Clusters: \", model.n_clusters_)\n",
    "print(\"Minimum Distance Between Clusters: \", distances.min())\n",
    "print(\"Maximum Distance Between Clusters: \", distances.max())"
   ]
  },
  {
   "cell_type": "code",
   "execution_count": null,
   "id": "b38819e6",
   "metadata": {},
   "outputs": [],
   "source": [
    "# Create dendrogram\n",
    "from scipy.cluster.hierarchy import dendrogram\n",
    "from scipy.cluster import hierarchy\n",
    "\n",
    "Z = hierarchy.linkage(model.children_, 'ward')\n",
    "\n",
    "plt.figure(figsize=(20,10))\n",
    "dn = hierarchy.dendrogram(Z)"
   ]
  }
 ],
 "metadata": {
  "kernelspec": {
   "display_name": "Python 3",
   "language": "python",
   "name": "python3"
  },
  "language_info": {
   "codemirror_mode": {
    "name": "ipython",
    "version": 3
   },
   "file_extension": ".py",
   "mimetype": "text/x-python",
   "name": "python",
   "nbconvert_exporter": "python",
   "pygments_lexer": "ipython3",
   "version": "3.7.10"
  }
 },
 "nbformat": 4,
 "nbformat_minor": 5
}
