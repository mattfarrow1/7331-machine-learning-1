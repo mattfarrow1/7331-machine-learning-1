{
 "cells": [
  {
   "cell_type": "markdown",
   "id": "01f50b12",
   "metadata": {
    "colab_type": "text",
    "id": "view-in-github"
   },
   "source": [
    "<a href=\"https://colab.research.google.com/github/mattfarrow1/7331-machine-learning-1/blob/main/Labs/Lab1_Group4.ipynb\" target=\"_parent\"><img src=\"https://colab.research.google.com/assets/colab-badge.svg\" alt=\"Open In Colab\"/></a>"
   ]
  },
  {
   "cell_type": "markdown",
   "id": "c0d2e13f",
   "metadata": {
    "id": "c0d2e13f"
   },
   "source": [
    "# Lab One: Visualization and Data Preprocessing"
   ]
  },
  {
   "cell_type": "markdown",
   "id": "6d024d25",
   "metadata": {
    "id": "6d024d25"
   },
   "source": [
    "Matt Farrow, Amber Clark, Blake Freeman, Megan Ball"
   ]
  },
  {
   "cell_type": "markdown",
   "id": "88d28dcd",
   "metadata": {
    "id": "88d28dcd"
   },
   "source": [
    "## **2015 Flight Delays and Cancellations**\n",
    "Data Source: [Kaggle](https://www.kaggle.com/usdot/flight-delays?select=flights.csv)"
   ]
  },
  {
   "cell_type": "markdown",
   "id": "83abe554",
   "metadata": {
    "id": "83abe554"
   },
   "source": [
    "## Business Understanding"
   ]
  },
  {
   "cell_type": "markdown",
   "id": "d1779117",
   "metadata": {
    "id": "d1779117"
   },
   "source": [
    "`Describe the purpose of the data set you selected (i.e., why was this data collected in the first place?). Describe how you would define and measure the outcomes from the dataset. That is, why is this data important and how do you know if you have mined useful knowledge from the dataset? How would you measure the effectiveness of a good prediction algorithm? Be specific.`"
   ]
  },
  {
   "cell_type": "markdown",
   "id": "f6958737",
   "metadata": {
    "id": "f6958737"
   },
   "source": [
    "The data set that our group selected came the U.S. Department of Transportation's Bureau of Transportation Statistics and \"tracks the on-time performance of domestic flights operated by large air carriers\" during 2015 ([Kaggle](https://www.kaggle.com/usdot/flight-delays)). The data is broken up into three separate `.csv` files: one with flight details for 5,819,079 flights during 2015, one with 14 different U.S.-based airlines, and one with the geographic details of 322 U.S. airports. \n",
    "\n",
    "The data is important because it takes airline delays and cancellations, one of the aspects of airline travel that is popular fodder for public complaints, and quantifies it in a way that offers the possiblity of tangible analysis. For the purposes of this analysis, the two variables that we intend to measure are `ARRIVAL_DELAY` and `CANCELLATION`. \n",
    "\n",
    "### Arrival Delay\n",
    "\n",
    "Although the data set contains a number of features related to when flights departed, delays, and air times, we made the decision that the most important feature for customers is the arrival delay. Arrival delay serves as the total delay experienced by the flight and accounts for previous delays as well as time that pilots were able to make up in the air. \n",
    "\n",
    "Becase arrival delay is a numeric value, regression and RMSE will be used to model and measure the feature. The model's effectiveness will measured using 10-fold cross-validation. \n",
    "\n",
    "### Cancellation\n",
    "\n",
    "Cancellation is the other feature of interest. There are a number of reasons that a flight would be cancelled including airline cancellations, weather,national air system, and security reasons. \n",
    "\n",
    "This feature will be modeled using classification with accuracy being the primary measure. As with arrival delay, cancellation's effectiveness will be measured using 10-fold cross-validation."
   ]
  },
  {
   "cell_type": "markdown",
   "id": "b42cc5ef",
   "metadata": {
    "id": "b42cc5ef"
   },
   "source": [
    "## Data Meaning Type"
   ]
  },
  {
   "cell_type": "markdown",
   "id": "b5cd6fd8",
   "metadata": {
    "id": "b5cd6fd8"
   },
   "source": [
    "`Describe the meaning and type of data (scale, values, etc.) for each attribute in the data file.`"
   ]
  },
  {
   "cell_type": "markdown",
   "id": "Egyr6ljHCnsN",
   "metadata": {
    "id": "Egyr6ljHCnsN"
   },
   "source": [
    "### Load the Data"
   ]
  },
  {
   "cell_type": "code",
   "execution_count": 1,
   "id": "458f1645",
   "metadata": {
    "id": "458f1645"
   },
   "outputs": [],
   "source": [
    "# Load libraries\n",
    "import pandas as pd\n",
    "import numpy as np\n",
    "import seaborn as sns\n",
    "import matplotlib.pyplot as plt\n",
    "%matplotlib inline\n",
    "from datetime import datetime"
   ]
  },
  {
   "cell_type": "code",
   "execution_count": 2,
   "id": "ce20dda1",
   "metadata": {
    "colab": {
     "base_uri": "https://localhost:8080/"
    },
    "id": "ce20dda1",
    "outputId": "9bea5753-26fd-400a-91c6-c92253814567",
    "scrolled": true
   },
   "outputs": [
    {
     "name": "stderr",
     "output_type": "stream",
     "text": [
      "/Users/mattfarrow/opt/anaconda3/lib/python3.7/site-packages/IPython/core/interactiveshell.py:3166: DtypeWarning: Columns (7,8) have mixed types.Specify dtype option on import or set low_memory=False.\n",
      "  interactivity=interactivity, compiler=compiler, result=result)\n"
     ]
    }
   ],
   "source": [
    "# Due to the way these columns are formatted, we want to keep the leading zeros during our import. Later on will convert them to a time format.\n",
    "dtype_t = {'SCHEDULED_DEPARTURE': str,\n",
    "           'DEPARTURE_TIME': str,\n",
    "           'WHEELS_OFF': str,\n",
    "           'SCHEDULED_TIME': str,\n",
    "           'WHEELS_ON': str,\n",
    "           'SCHEDULED_ARRIVAL': str,\n",
    "           'ARRIVAL_TIME': str\n",
    "          }\n",
    "\n",
    "# Read in the data directly\n",
    "# Read in the data using Pandas\n",
    "airlines = pd.read_csv('../Data/airlines.csv')\n",
    "airports = pd.read_csv('../Data/airports.csv')\n",
    "flights  = pd.read_csv('../Data/flights.csv', dtype = dtype_t)\n",
    "\n",
    "# Read in the data directly from GitHub\n",
    "# airlines = pd.read_csv('https://raw.githubusercontent.com/mattfarrow1/7331-machine-learning-1/main/Data/airlines.csv')\n",
    "# airports = pd.read_csv('https://raw.githubusercontent.com/mattfarrow1/7331-machine-learning-1/main/Data/airports.csv')\n",
    "# flights  = pd.read_csv('https://media.githubusercontent.com/media/mattfarrow1/7331-machine-learning-1/main/Data/flights.csv', dtype = dtype_t)"
   ]
  },
  {
   "cell_type": "code",
   "execution_count": 3,
   "id": "cab3e312",
   "metadata": {
    "colab": {
     "base_uri": "https://localhost:8080/",
     "height": 204
    },
    "id": "cab3e312",
    "outputId": "0b13053c-1e25-47f4-ba86-f375f4b79f5b"
   },
   "outputs": [
    {
     "data": {
      "text/html": [
       "<div>\n",
       "<style scoped>\n",
       "    .dataframe tbody tr th:only-of-type {\n",
       "        vertical-align: middle;\n",
       "    }\n",
       "\n",
       "    .dataframe tbody tr th {\n",
       "        vertical-align: top;\n",
       "    }\n",
       "\n",
       "    .dataframe thead th {\n",
       "        text-align: right;\n",
       "    }\n",
       "</style>\n",
       "<table border=\"1\" class=\"dataframe\">\n",
       "  <thead>\n",
       "    <tr style=\"text-align: right;\">\n",
       "      <th></th>\n",
       "      <th>IATA_CODE</th>\n",
       "      <th>AIRLINE</th>\n",
       "    </tr>\n",
       "  </thead>\n",
       "  <tbody>\n",
       "    <tr>\n",
       "      <th>0</th>\n",
       "      <td>UA</td>\n",
       "      <td>United Air Lines Inc.</td>\n",
       "    </tr>\n",
       "    <tr>\n",
       "      <th>1</th>\n",
       "      <td>AA</td>\n",
       "      <td>American Airlines Inc.</td>\n",
       "    </tr>\n",
       "    <tr>\n",
       "      <th>2</th>\n",
       "      <td>US</td>\n",
       "      <td>US Airways Inc.</td>\n",
       "    </tr>\n",
       "    <tr>\n",
       "      <th>3</th>\n",
       "      <td>F9</td>\n",
       "      <td>Frontier Airlines Inc.</td>\n",
       "    </tr>\n",
       "    <tr>\n",
       "      <th>4</th>\n",
       "      <td>B6</td>\n",
       "      <td>JetBlue Airways</td>\n",
       "    </tr>\n",
       "  </tbody>\n",
       "</table>\n",
       "</div>"
      ],
      "text/plain": [
       "  IATA_CODE                 AIRLINE\n",
       "0        UA   United Air Lines Inc.\n",
       "1        AA  American Airlines Inc.\n",
       "2        US         US Airways Inc.\n",
       "3        F9  Frontier Airlines Inc.\n",
       "4        B6         JetBlue Airways"
      ]
     },
     "execution_count": 3,
     "metadata": {},
     "output_type": "execute_result"
    }
   ],
   "source": [
    "# Look at the airline data\n",
    "airlines.head()"
   ]
  },
  {
   "cell_type": "code",
   "execution_count": 4,
   "id": "570275eb",
   "metadata": {
    "colab": {
     "base_uri": "https://localhost:8080/",
     "height": 204
    },
    "id": "570275eb",
    "outputId": "3634a276-3eac-443b-aea6-f4ec3f3c80a7"
   },
   "outputs": [
    {
     "data": {
      "text/html": [
       "<div>\n",
       "<style scoped>\n",
       "    .dataframe tbody tr th:only-of-type {\n",
       "        vertical-align: middle;\n",
       "    }\n",
       "\n",
       "    .dataframe tbody tr th {\n",
       "        vertical-align: top;\n",
       "    }\n",
       "\n",
       "    .dataframe thead th {\n",
       "        text-align: right;\n",
       "    }\n",
       "</style>\n",
       "<table border=\"1\" class=\"dataframe\">\n",
       "  <thead>\n",
       "    <tr style=\"text-align: right;\">\n",
       "      <th></th>\n",
       "      <th>IATA_CODE</th>\n",
       "      <th>AIRPORT</th>\n",
       "      <th>CITY</th>\n",
       "      <th>STATE</th>\n",
       "      <th>COUNTRY</th>\n",
       "      <th>LATITUDE</th>\n",
       "      <th>LONGITUDE</th>\n",
       "    </tr>\n",
       "  </thead>\n",
       "  <tbody>\n",
       "    <tr>\n",
       "      <th>0</th>\n",
       "      <td>ABE</td>\n",
       "      <td>Lehigh Valley International Airport</td>\n",
       "      <td>Allentown</td>\n",
       "      <td>PA</td>\n",
       "      <td>USA</td>\n",
       "      <td>40.65236</td>\n",
       "      <td>-75.44040</td>\n",
       "    </tr>\n",
       "    <tr>\n",
       "      <th>1</th>\n",
       "      <td>ABI</td>\n",
       "      <td>Abilene Regional Airport</td>\n",
       "      <td>Abilene</td>\n",
       "      <td>TX</td>\n",
       "      <td>USA</td>\n",
       "      <td>32.41132</td>\n",
       "      <td>-99.68190</td>\n",
       "    </tr>\n",
       "    <tr>\n",
       "      <th>2</th>\n",
       "      <td>ABQ</td>\n",
       "      <td>Albuquerque International Sunport</td>\n",
       "      <td>Albuquerque</td>\n",
       "      <td>NM</td>\n",
       "      <td>USA</td>\n",
       "      <td>35.04022</td>\n",
       "      <td>-106.60919</td>\n",
       "    </tr>\n",
       "    <tr>\n",
       "      <th>3</th>\n",
       "      <td>ABR</td>\n",
       "      <td>Aberdeen Regional Airport</td>\n",
       "      <td>Aberdeen</td>\n",
       "      <td>SD</td>\n",
       "      <td>USA</td>\n",
       "      <td>45.44906</td>\n",
       "      <td>-98.42183</td>\n",
       "    </tr>\n",
       "    <tr>\n",
       "      <th>4</th>\n",
       "      <td>ABY</td>\n",
       "      <td>Southwest Georgia Regional Airport</td>\n",
       "      <td>Albany</td>\n",
       "      <td>GA</td>\n",
       "      <td>USA</td>\n",
       "      <td>31.53552</td>\n",
       "      <td>-84.19447</td>\n",
       "    </tr>\n",
       "  </tbody>\n",
       "</table>\n",
       "</div>"
      ],
      "text/plain": [
       "  IATA_CODE                              AIRPORT         CITY STATE COUNTRY  \\\n",
       "0       ABE  Lehigh Valley International Airport    Allentown    PA     USA   \n",
       "1       ABI             Abilene Regional Airport      Abilene    TX     USA   \n",
       "2       ABQ    Albuquerque International Sunport  Albuquerque    NM     USA   \n",
       "3       ABR            Aberdeen Regional Airport     Aberdeen    SD     USA   \n",
       "4       ABY   Southwest Georgia Regional Airport       Albany    GA     USA   \n",
       "\n",
       "   LATITUDE  LONGITUDE  \n",
       "0  40.65236  -75.44040  \n",
       "1  32.41132  -99.68190  \n",
       "2  35.04022 -106.60919  \n",
       "3  45.44906  -98.42183  \n",
       "4  31.53552  -84.19447  "
      ]
     },
     "execution_count": 4,
     "metadata": {},
     "output_type": "execute_result"
    }
   ],
   "source": [
    "# Look at the airport data\n",
    "airports.head()"
   ]
  },
  {
   "cell_type": "code",
   "execution_count": 5,
   "id": "1f1e5dd8",
   "metadata": {
    "colab": {
     "base_uri": "https://localhost:8080/",
     "height": 224
    },
    "id": "1f1e5dd8",
    "outputId": "396c6397-fab5-47c4-a2d1-7cd1af8cf488",
    "scrolled": true
   },
   "outputs": [
    {
     "data": {
      "text/html": [
       "<div>\n",
       "<style scoped>\n",
       "    .dataframe tbody tr th:only-of-type {\n",
       "        vertical-align: middle;\n",
       "    }\n",
       "\n",
       "    .dataframe tbody tr th {\n",
       "        vertical-align: top;\n",
       "    }\n",
       "\n",
       "    .dataframe thead th {\n",
       "        text-align: right;\n",
       "    }\n",
       "</style>\n",
       "<table border=\"1\" class=\"dataframe\">\n",
       "  <thead>\n",
       "    <tr style=\"text-align: right;\">\n",
       "      <th></th>\n",
       "      <th>YEAR</th>\n",
       "      <th>MONTH</th>\n",
       "      <th>DAY</th>\n",
       "      <th>DAY_OF_WEEK</th>\n",
       "      <th>AIRLINE</th>\n",
       "      <th>FLIGHT_NUMBER</th>\n",
       "      <th>TAIL_NUMBER</th>\n",
       "      <th>ORIGIN_AIRPORT</th>\n",
       "      <th>DESTINATION_AIRPORT</th>\n",
       "      <th>SCHEDULED_DEPARTURE</th>\n",
       "      <th>...</th>\n",
       "      <th>ARRIVAL_TIME</th>\n",
       "      <th>ARRIVAL_DELAY</th>\n",
       "      <th>DIVERTED</th>\n",
       "      <th>CANCELLED</th>\n",
       "      <th>CANCELLATION_REASON</th>\n",
       "      <th>AIR_SYSTEM_DELAY</th>\n",
       "      <th>SECURITY_DELAY</th>\n",
       "      <th>AIRLINE_DELAY</th>\n",
       "      <th>LATE_AIRCRAFT_DELAY</th>\n",
       "      <th>WEATHER_DELAY</th>\n",
       "    </tr>\n",
       "  </thead>\n",
       "  <tbody>\n",
       "    <tr>\n",
       "      <th>0</th>\n",
       "      <td>2015</td>\n",
       "      <td>1</td>\n",
       "      <td>1</td>\n",
       "      <td>4</td>\n",
       "      <td>AS</td>\n",
       "      <td>98</td>\n",
       "      <td>N407AS</td>\n",
       "      <td>ANC</td>\n",
       "      <td>SEA</td>\n",
       "      <td>0005</td>\n",
       "      <td>...</td>\n",
       "      <td>0408</td>\n",
       "      <td>-22.0</td>\n",
       "      <td>0</td>\n",
       "      <td>0</td>\n",
       "      <td>NaN</td>\n",
       "      <td>NaN</td>\n",
       "      <td>NaN</td>\n",
       "      <td>NaN</td>\n",
       "      <td>NaN</td>\n",
       "      <td>NaN</td>\n",
       "    </tr>\n",
       "    <tr>\n",
       "      <th>1</th>\n",
       "      <td>2015</td>\n",
       "      <td>1</td>\n",
       "      <td>1</td>\n",
       "      <td>4</td>\n",
       "      <td>AA</td>\n",
       "      <td>2336</td>\n",
       "      <td>N3KUAA</td>\n",
       "      <td>LAX</td>\n",
       "      <td>PBI</td>\n",
       "      <td>0010</td>\n",
       "      <td>...</td>\n",
       "      <td>0741</td>\n",
       "      <td>-9.0</td>\n",
       "      <td>0</td>\n",
       "      <td>0</td>\n",
       "      <td>NaN</td>\n",
       "      <td>NaN</td>\n",
       "      <td>NaN</td>\n",
       "      <td>NaN</td>\n",
       "      <td>NaN</td>\n",
       "      <td>NaN</td>\n",
       "    </tr>\n",
       "    <tr>\n",
       "      <th>2</th>\n",
       "      <td>2015</td>\n",
       "      <td>1</td>\n",
       "      <td>1</td>\n",
       "      <td>4</td>\n",
       "      <td>US</td>\n",
       "      <td>840</td>\n",
       "      <td>N171US</td>\n",
       "      <td>SFO</td>\n",
       "      <td>CLT</td>\n",
       "      <td>0020</td>\n",
       "      <td>...</td>\n",
       "      <td>0811</td>\n",
       "      <td>5.0</td>\n",
       "      <td>0</td>\n",
       "      <td>0</td>\n",
       "      <td>NaN</td>\n",
       "      <td>NaN</td>\n",
       "      <td>NaN</td>\n",
       "      <td>NaN</td>\n",
       "      <td>NaN</td>\n",
       "      <td>NaN</td>\n",
       "    </tr>\n",
       "    <tr>\n",
       "      <th>3</th>\n",
       "      <td>2015</td>\n",
       "      <td>1</td>\n",
       "      <td>1</td>\n",
       "      <td>4</td>\n",
       "      <td>AA</td>\n",
       "      <td>258</td>\n",
       "      <td>N3HYAA</td>\n",
       "      <td>LAX</td>\n",
       "      <td>MIA</td>\n",
       "      <td>0020</td>\n",
       "      <td>...</td>\n",
       "      <td>0756</td>\n",
       "      <td>-9.0</td>\n",
       "      <td>0</td>\n",
       "      <td>0</td>\n",
       "      <td>NaN</td>\n",
       "      <td>NaN</td>\n",
       "      <td>NaN</td>\n",
       "      <td>NaN</td>\n",
       "      <td>NaN</td>\n",
       "      <td>NaN</td>\n",
       "    </tr>\n",
       "    <tr>\n",
       "      <th>4</th>\n",
       "      <td>2015</td>\n",
       "      <td>1</td>\n",
       "      <td>1</td>\n",
       "      <td>4</td>\n",
       "      <td>AS</td>\n",
       "      <td>135</td>\n",
       "      <td>N527AS</td>\n",
       "      <td>SEA</td>\n",
       "      <td>ANC</td>\n",
       "      <td>0025</td>\n",
       "      <td>...</td>\n",
       "      <td>0259</td>\n",
       "      <td>-21.0</td>\n",
       "      <td>0</td>\n",
       "      <td>0</td>\n",
       "      <td>NaN</td>\n",
       "      <td>NaN</td>\n",
       "      <td>NaN</td>\n",
       "      <td>NaN</td>\n",
       "      <td>NaN</td>\n",
       "      <td>NaN</td>\n",
       "    </tr>\n",
       "  </tbody>\n",
       "</table>\n",
       "<p>5 rows × 31 columns</p>\n",
       "</div>"
      ],
      "text/plain": [
       "   YEAR  MONTH  DAY  DAY_OF_WEEK AIRLINE  FLIGHT_NUMBER TAIL_NUMBER  \\\n",
       "0  2015      1    1            4      AS             98      N407AS   \n",
       "1  2015      1    1            4      AA           2336      N3KUAA   \n",
       "2  2015      1    1            4      US            840      N171US   \n",
       "3  2015      1    1            4      AA            258      N3HYAA   \n",
       "4  2015      1    1            4      AS            135      N527AS   \n",
       "\n",
       "  ORIGIN_AIRPORT DESTINATION_AIRPORT SCHEDULED_DEPARTURE  ... ARRIVAL_TIME  \\\n",
       "0            ANC                 SEA                0005  ...         0408   \n",
       "1            LAX                 PBI                0010  ...         0741   \n",
       "2            SFO                 CLT                0020  ...         0811   \n",
       "3            LAX                 MIA                0020  ...         0756   \n",
       "4            SEA                 ANC                0025  ...         0259   \n",
       "\n",
       "   ARRIVAL_DELAY  DIVERTED CANCELLED CANCELLATION_REASON  AIR_SYSTEM_DELAY  \\\n",
       "0          -22.0         0         0                 NaN               NaN   \n",
       "1           -9.0         0         0                 NaN               NaN   \n",
       "2            5.0         0         0                 NaN               NaN   \n",
       "3           -9.0         0         0                 NaN               NaN   \n",
       "4          -21.0         0         0                 NaN               NaN   \n",
       "\n",
       "   SECURITY_DELAY  AIRLINE_DELAY LATE_AIRCRAFT_DELAY  WEATHER_DELAY  \n",
       "0             NaN            NaN                 NaN            NaN  \n",
       "1             NaN            NaN                 NaN            NaN  \n",
       "2             NaN            NaN                 NaN            NaN  \n",
       "3             NaN            NaN                 NaN            NaN  \n",
       "4             NaN            NaN                 NaN            NaN  \n",
       "\n",
       "[5 rows x 31 columns]"
      ]
     },
     "execution_count": 5,
     "metadata": {},
     "output_type": "execute_result"
    }
   ],
   "source": [
    "# Look at the flight data\n",
    "flights.head()"
   ]
  },
  {
   "cell_type": "markdown",
   "id": "i_MIyWQIqCLg",
   "metadata": {
    "id": "i_MIyWQIqCLg"
   },
   "source": [
    "#### TO DO (AMBER)"
   ]
  },
  {
   "cell_type": "markdown",
   "id": "EdRrx6c6DEIk",
   "metadata": {
    "id": "EdRrx6c6DEIk"
   },
   "source": [
    "### Merge Flights & Airlines"
   ]
  },
  {
   "cell_type": "markdown",
   "id": "BYXYBxSzCzcO",
   "metadata": {
    "id": "BYXYBxSzCzcO"
   },
   "source": [
    "The flight data will become our primary data set, but we can join it with the airline information to bring in the human-readable names."
   ]
  },
  {
   "cell_type": "code",
   "execution_count": 6,
   "id": "2009e446",
   "metadata": {
    "id": "2009e446"
   },
   "outputs": [],
   "source": [
    "# Rename columns in preparation for merge\n",
    "airlines.rename(columns={'IATA_CODE': 'AIRLINE_CODE'}, inplace=True)\n",
    "flights.rename(columns={'AIRLINE': 'AIRLINE_CODE'}, inplace=True)"
   ]
  },
  {
   "cell_type": "code",
   "execution_count": 7,
   "id": "6b275ee4",
   "metadata": {
    "id": "6b275ee4"
   },
   "outputs": [],
   "source": [
    "# Merge data together\n",
    "df = pd.merge(flights, airlines, on='AIRLINE_CODE', how = 'left')"
   ]
  },
  {
   "cell_type": "code",
   "execution_count": 8,
   "id": "35ec9ab9",
   "metadata": {
    "colab": {
     "base_uri": "https://localhost:8080/",
     "height": 394
    },
    "id": "35ec9ab9",
    "outputId": "c0a484fa-f47e-4f68-a7bf-0889ada610e8",
    "scrolled": true
   },
   "outputs": [
    {
     "data": {
      "text/html": [
       "<div>\n",
       "<style scoped>\n",
       "    .dataframe tbody tr th:only-of-type {\n",
       "        vertical-align: middle;\n",
       "    }\n",
       "\n",
       "    .dataframe tbody tr th {\n",
       "        vertical-align: top;\n",
       "    }\n",
       "\n",
       "    .dataframe thead th {\n",
       "        text-align: right;\n",
       "    }\n",
       "</style>\n",
       "<table border=\"1\" class=\"dataframe\">\n",
       "  <thead>\n",
       "    <tr style=\"text-align: right;\">\n",
       "      <th></th>\n",
       "      <th>YEAR</th>\n",
       "      <th>MONTH</th>\n",
       "      <th>DAY</th>\n",
       "      <th>DAY_OF_WEEK</th>\n",
       "      <th>AIRLINE_CODE</th>\n",
       "      <th>FLIGHT_NUMBER</th>\n",
       "      <th>TAIL_NUMBER</th>\n",
       "      <th>ORIGIN_AIRPORT</th>\n",
       "      <th>DESTINATION_AIRPORT</th>\n",
       "      <th>SCHEDULED_DEPARTURE</th>\n",
       "      <th>...</th>\n",
       "      <th>ARRIVAL_DELAY</th>\n",
       "      <th>DIVERTED</th>\n",
       "      <th>CANCELLED</th>\n",
       "      <th>CANCELLATION_REASON</th>\n",
       "      <th>AIR_SYSTEM_DELAY</th>\n",
       "      <th>SECURITY_DELAY</th>\n",
       "      <th>AIRLINE_DELAY</th>\n",
       "      <th>LATE_AIRCRAFT_DELAY</th>\n",
       "      <th>WEATHER_DELAY</th>\n",
       "      <th>AIRLINE</th>\n",
       "    </tr>\n",
       "  </thead>\n",
       "  <tbody>\n",
       "    <tr>\n",
       "      <th>0</th>\n",
       "      <td>2015</td>\n",
       "      <td>1</td>\n",
       "      <td>1</td>\n",
       "      <td>4</td>\n",
       "      <td>AS</td>\n",
       "      <td>98</td>\n",
       "      <td>N407AS</td>\n",
       "      <td>ANC</td>\n",
       "      <td>SEA</td>\n",
       "      <td>0005</td>\n",
       "      <td>...</td>\n",
       "      <td>-22.0</td>\n",
       "      <td>0</td>\n",
       "      <td>0</td>\n",
       "      <td>NaN</td>\n",
       "      <td>NaN</td>\n",
       "      <td>NaN</td>\n",
       "      <td>NaN</td>\n",
       "      <td>NaN</td>\n",
       "      <td>NaN</td>\n",
       "      <td>Alaska Airlines Inc.</td>\n",
       "    </tr>\n",
       "    <tr>\n",
       "      <th>1</th>\n",
       "      <td>2015</td>\n",
       "      <td>1</td>\n",
       "      <td>1</td>\n",
       "      <td>4</td>\n",
       "      <td>AA</td>\n",
       "      <td>2336</td>\n",
       "      <td>N3KUAA</td>\n",
       "      <td>LAX</td>\n",
       "      <td>PBI</td>\n",
       "      <td>0010</td>\n",
       "      <td>...</td>\n",
       "      <td>-9.0</td>\n",
       "      <td>0</td>\n",
       "      <td>0</td>\n",
       "      <td>NaN</td>\n",
       "      <td>NaN</td>\n",
       "      <td>NaN</td>\n",
       "      <td>NaN</td>\n",
       "      <td>NaN</td>\n",
       "      <td>NaN</td>\n",
       "      <td>American Airlines Inc.</td>\n",
       "    </tr>\n",
       "    <tr>\n",
       "      <th>2</th>\n",
       "      <td>2015</td>\n",
       "      <td>1</td>\n",
       "      <td>1</td>\n",
       "      <td>4</td>\n",
       "      <td>US</td>\n",
       "      <td>840</td>\n",
       "      <td>N171US</td>\n",
       "      <td>SFO</td>\n",
       "      <td>CLT</td>\n",
       "      <td>0020</td>\n",
       "      <td>...</td>\n",
       "      <td>5.0</td>\n",
       "      <td>0</td>\n",
       "      <td>0</td>\n",
       "      <td>NaN</td>\n",
       "      <td>NaN</td>\n",
       "      <td>NaN</td>\n",
       "      <td>NaN</td>\n",
       "      <td>NaN</td>\n",
       "      <td>NaN</td>\n",
       "      <td>US Airways Inc.</td>\n",
       "    </tr>\n",
       "    <tr>\n",
       "      <th>3</th>\n",
       "      <td>2015</td>\n",
       "      <td>1</td>\n",
       "      <td>1</td>\n",
       "      <td>4</td>\n",
       "      <td>AA</td>\n",
       "      <td>258</td>\n",
       "      <td>N3HYAA</td>\n",
       "      <td>LAX</td>\n",
       "      <td>MIA</td>\n",
       "      <td>0020</td>\n",
       "      <td>...</td>\n",
       "      <td>-9.0</td>\n",
       "      <td>0</td>\n",
       "      <td>0</td>\n",
       "      <td>NaN</td>\n",
       "      <td>NaN</td>\n",
       "      <td>NaN</td>\n",
       "      <td>NaN</td>\n",
       "      <td>NaN</td>\n",
       "      <td>NaN</td>\n",
       "      <td>American Airlines Inc.</td>\n",
       "    </tr>\n",
       "    <tr>\n",
       "      <th>4</th>\n",
       "      <td>2015</td>\n",
       "      <td>1</td>\n",
       "      <td>1</td>\n",
       "      <td>4</td>\n",
       "      <td>AS</td>\n",
       "      <td>135</td>\n",
       "      <td>N527AS</td>\n",
       "      <td>SEA</td>\n",
       "      <td>ANC</td>\n",
       "      <td>0025</td>\n",
       "      <td>...</td>\n",
       "      <td>-21.0</td>\n",
       "      <td>0</td>\n",
       "      <td>0</td>\n",
       "      <td>NaN</td>\n",
       "      <td>NaN</td>\n",
       "      <td>NaN</td>\n",
       "      <td>NaN</td>\n",
       "      <td>NaN</td>\n",
       "      <td>NaN</td>\n",
       "      <td>Alaska Airlines Inc.</td>\n",
       "    </tr>\n",
       "  </tbody>\n",
       "</table>\n",
       "<p>5 rows × 32 columns</p>\n",
       "</div>"
      ],
      "text/plain": [
       "   YEAR  MONTH  DAY  DAY_OF_WEEK AIRLINE_CODE  FLIGHT_NUMBER TAIL_NUMBER  \\\n",
       "0  2015      1    1            4           AS             98      N407AS   \n",
       "1  2015      1    1            4           AA           2336      N3KUAA   \n",
       "2  2015      1    1            4           US            840      N171US   \n",
       "3  2015      1    1            4           AA            258      N3HYAA   \n",
       "4  2015      1    1            4           AS            135      N527AS   \n",
       "\n",
       "  ORIGIN_AIRPORT DESTINATION_AIRPORT SCHEDULED_DEPARTURE  ... ARRIVAL_DELAY  \\\n",
       "0            ANC                 SEA                0005  ...         -22.0   \n",
       "1            LAX                 PBI                0010  ...          -9.0   \n",
       "2            SFO                 CLT                0020  ...           5.0   \n",
       "3            LAX                 MIA                0020  ...          -9.0   \n",
       "4            SEA                 ANC                0025  ...         -21.0   \n",
       "\n",
       "   DIVERTED  CANCELLED CANCELLATION_REASON AIR_SYSTEM_DELAY  SECURITY_DELAY  \\\n",
       "0         0          0                 NaN              NaN             NaN   \n",
       "1         0          0                 NaN              NaN             NaN   \n",
       "2         0          0                 NaN              NaN             NaN   \n",
       "3         0          0                 NaN              NaN             NaN   \n",
       "4         0          0                 NaN              NaN             NaN   \n",
       "\n",
       "   AIRLINE_DELAY  LATE_AIRCRAFT_DELAY WEATHER_DELAY                 AIRLINE  \n",
       "0            NaN                  NaN           NaN    Alaska Airlines Inc.  \n",
       "1            NaN                  NaN           NaN  American Airlines Inc.  \n",
       "2            NaN                  NaN           NaN         US Airways Inc.  \n",
       "3            NaN                  NaN           NaN  American Airlines Inc.  \n",
       "4            NaN                  NaN           NaN    Alaska Airlines Inc.  \n",
       "\n",
       "[5 rows x 32 columns]"
      ]
     },
     "execution_count": 8,
     "metadata": {},
     "output_type": "execute_result"
    }
   ],
   "source": [
    "# Look at the newly merged data\n",
    "df.head()"
   ]
  },
  {
   "cell_type": "markdown",
   "id": "v65dqpagDOLZ",
   "metadata": {
    "id": "v65dqpagDOLZ"
   },
   "source": [
    "Our merged data set contains 5,819,079 observations and 32 attributes."
   ]
  },
  {
   "cell_type": "code",
   "execution_count": 9,
   "id": "11c86e1b",
   "metadata": {
    "colab": {
     "base_uri": "https://localhost:8080/"
    },
    "id": "11c86e1b",
    "outputId": "c7aeb25a-28dc-4289-cb6e-b420c7ac7111",
    "scrolled": false
   },
   "outputs": [
    {
     "name": "stdout",
     "output_type": "stream",
     "text": [
      "<class 'pandas.core.frame.DataFrame'>\n",
      "Int64Index: 5819079 entries, 0 to 5819078\n",
      "Data columns (total 32 columns):\n",
      " #   Column               Dtype  \n",
      "---  ------               -----  \n",
      " 0   YEAR                 int64  \n",
      " 1   MONTH                int64  \n",
      " 2   DAY                  int64  \n",
      " 3   DAY_OF_WEEK          int64  \n",
      " 4   AIRLINE_CODE         object \n",
      " 5   FLIGHT_NUMBER        int64  \n",
      " 6   TAIL_NUMBER          object \n",
      " 7   ORIGIN_AIRPORT       object \n",
      " 8   DESTINATION_AIRPORT  object \n",
      " 9   SCHEDULED_DEPARTURE  object \n",
      " 10  DEPARTURE_TIME       object \n",
      " 11  DEPARTURE_DELAY      float64\n",
      " 12  TAXI_OUT             float64\n",
      " 13  WHEELS_OFF           object \n",
      " 14  SCHEDULED_TIME       object \n",
      " 15  ELAPSED_TIME         float64\n",
      " 16  AIR_TIME             float64\n",
      " 17  DISTANCE             int64  \n",
      " 18  WHEELS_ON            object \n",
      " 19  TAXI_IN              float64\n",
      " 20  SCHEDULED_ARRIVAL    object \n",
      " 21  ARRIVAL_TIME         object \n",
      " 22  ARRIVAL_DELAY        float64\n",
      " 23  DIVERTED             int64  \n",
      " 24  CANCELLED            int64  \n",
      " 25  CANCELLATION_REASON  object \n",
      " 26  AIR_SYSTEM_DELAY     float64\n",
      " 27  SECURITY_DELAY       float64\n",
      " 28  AIRLINE_DELAY        float64\n",
      " 29  LATE_AIRCRAFT_DELAY  float64\n",
      " 30  WEATHER_DELAY        float64\n",
      " 31  AIRLINE              object \n",
      "dtypes: float64(11), int64(8), object(13)\n",
      "memory usage: 1.4+ GB\n"
     ]
    }
   ],
   "source": [
    "df.info()"
   ]
  },
  {
   "cell_type": "markdown",
   "id": "KN5umzkXDWjK",
   "metadata": {
    "id": "KN5umzkXDWjK"
   },
   "source": [
    "### Convert String Columns to Datetime"
   ]
  },
  {
   "cell_type": "code",
   "execution_count": 10,
   "id": "297dcddc",
   "metadata": {
    "id": "297dcddc"
   },
   "outputs": [],
   "source": [
    "# Convert string columns to datetime\n",
    "# Source: https://stackoverflow.com/questions/41514173/change-multiple-columns-in-pandas-dataframe-to-datetime\n",
    "#df.iloc[:, [9, 10, 13, 18, 20, 21]] = df.iloc[:, [9, 10, 13, 18, 20, 21]].apply(pd.to_datetime, format='%H%M', errors = 'coerce')"
   ]
  },
  {
   "cell_type": "code",
   "execution_count": 11,
   "id": "c6AD2_jqapOI",
   "metadata": {
    "id": "c6AD2_jqapOI"
   },
   "outputs": [],
   "source": [
    "cols = [\"SCHEDULED_DEPARTURE\", \n",
    "   \"DEPARTURE_TIME\", \n",
    "   \"WHEELS_OFF\",  \n",
    "   \"WHEELS_ON\", \n",
    "   \"SCHEDULED_ARRIVAL\", \n",
    "   \"ARRIVAL_TIME\"]\n",
    "\n",
    "df[cols] = df[cols].apply(pd.to_datetime, format = '%H%M', errors='coerce')\n",
    "\n",
    "#df[cols] = df[cols].apply(pd.to_datetime, exact = False, format = '%H%M')\n",
    "#df[cols] = df[cols].apply(datetime.strptime,format = '%H%M')"
   ]
  },
  {
   "cell_type": "code",
   "execution_count": 12,
   "id": "5b6eb850",
   "metadata": {
    "colab": {
     "base_uri": "https://localhost:8080/",
     "height": 204
    },
    "id": "5b6eb850",
    "outputId": "4c9e7efc-c698-4587-936e-877260fc0af9"
   },
   "outputs": [
    {
     "data": {
      "text/html": [
       "<div>\n",
       "<style scoped>\n",
       "    .dataframe tbody tr th:only-of-type {\n",
       "        vertical-align: middle;\n",
       "    }\n",
       "\n",
       "    .dataframe tbody tr th {\n",
       "        vertical-align: top;\n",
       "    }\n",
       "\n",
       "    .dataframe thead th {\n",
       "        text-align: right;\n",
       "    }\n",
       "</style>\n",
       "<table border=\"1\" class=\"dataframe\">\n",
       "  <thead>\n",
       "    <tr style=\"text-align: right;\">\n",
       "      <th></th>\n",
       "      <th>SCHEDULED_DEPARTURE</th>\n",
       "      <th>DEPARTURE_TIME</th>\n",
       "      <th>WHEELS_OFF</th>\n",
       "      <th>WHEELS_ON</th>\n",
       "      <th>SCHEDULED_ARRIVAL</th>\n",
       "      <th>ARRIVAL_TIME</th>\n",
       "    </tr>\n",
       "  </thead>\n",
       "  <tbody>\n",
       "    <tr>\n",
       "      <th>0</th>\n",
       "      <td>1900-01-01 00:05:00</td>\n",
       "      <td>1900-01-01 23:54:00</td>\n",
       "      <td>1900-01-01 00:15:00</td>\n",
       "      <td>1900-01-01 04:04:00</td>\n",
       "      <td>1900-01-01 04:30:00</td>\n",
       "      <td>1900-01-01 04:08:00</td>\n",
       "    </tr>\n",
       "    <tr>\n",
       "      <th>1</th>\n",
       "      <td>1900-01-01 00:10:00</td>\n",
       "      <td>1900-01-01 00:02:00</td>\n",
       "      <td>1900-01-01 00:14:00</td>\n",
       "      <td>1900-01-01 07:37:00</td>\n",
       "      <td>1900-01-01 07:50:00</td>\n",
       "      <td>1900-01-01 07:41:00</td>\n",
       "    </tr>\n",
       "    <tr>\n",
       "      <th>2</th>\n",
       "      <td>1900-01-01 00:20:00</td>\n",
       "      <td>1900-01-01 00:18:00</td>\n",
       "      <td>1900-01-01 00:34:00</td>\n",
       "      <td>1900-01-01 08:00:00</td>\n",
       "      <td>1900-01-01 08:06:00</td>\n",
       "      <td>1900-01-01 08:11:00</td>\n",
       "    </tr>\n",
       "    <tr>\n",
       "      <th>3</th>\n",
       "      <td>1900-01-01 00:20:00</td>\n",
       "      <td>1900-01-01 00:15:00</td>\n",
       "      <td>1900-01-01 00:30:00</td>\n",
       "      <td>1900-01-01 07:48:00</td>\n",
       "      <td>1900-01-01 08:05:00</td>\n",
       "      <td>1900-01-01 07:56:00</td>\n",
       "    </tr>\n",
       "    <tr>\n",
       "      <th>4</th>\n",
       "      <td>1900-01-01 00:25:00</td>\n",
       "      <td>1900-01-01 00:24:00</td>\n",
       "      <td>1900-01-01 00:35:00</td>\n",
       "      <td>1900-01-01 02:54:00</td>\n",
       "      <td>1900-01-01 03:20:00</td>\n",
       "      <td>1900-01-01 02:59:00</td>\n",
       "    </tr>\n",
       "  </tbody>\n",
       "</table>\n",
       "</div>"
      ],
      "text/plain": [
       "  SCHEDULED_DEPARTURE      DEPARTURE_TIME          WHEELS_OFF  \\\n",
       "0 1900-01-01 00:05:00 1900-01-01 23:54:00 1900-01-01 00:15:00   \n",
       "1 1900-01-01 00:10:00 1900-01-01 00:02:00 1900-01-01 00:14:00   \n",
       "2 1900-01-01 00:20:00 1900-01-01 00:18:00 1900-01-01 00:34:00   \n",
       "3 1900-01-01 00:20:00 1900-01-01 00:15:00 1900-01-01 00:30:00   \n",
       "4 1900-01-01 00:25:00 1900-01-01 00:24:00 1900-01-01 00:35:00   \n",
       "\n",
       "            WHEELS_ON   SCHEDULED_ARRIVAL        ARRIVAL_TIME  \n",
       "0 1900-01-01 04:04:00 1900-01-01 04:30:00 1900-01-01 04:08:00  \n",
       "1 1900-01-01 07:37:00 1900-01-01 07:50:00 1900-01-01 07:41:00  \n",
       "2 1900-01-01 08:00:00 1900-01-01 08:06:00 1900-01-01 08:11:00  \n",
       "3 1900-01-01 07:48:00 1900-01-01 08:05:00 1900-01-01 07:56:00  \n",
       "4 1900-01-01 02:54:00 1900-01-01 03:20:00 1900-01-01 02:59:00  "
      ]
     },
     "execution_count": 12,
     "metadata": {},
     "output_type": "execute_result"
    }
   ],
   "source": [
    "df[[\"SCHEDULED_DEPARTURE\", \n",
    "   \"DEPARTURE_TIME\", \n",
    "   \"WHEELS_OFF\", \n",
    "   \"WHEELS_ON\", \n",
    "   \"SCHEDULED_ARRIVAL\", \n",
    "   \"ARRIVAL_TIME\"]].head()"
   ]
  },
  {
   "cell_type": "markdown",
   "id": "Kuj0Dq8pDe17",
   "metadata": {
    "id": "Kuj0Dq8pDe17"
   },
   "source": [
    "### Convert YEAR, MONTH, DAY into a Single Date"
   ]
  },
  {
   "cell_type": "code",
   "execution_count": 13,
   "id": "9wQyIem0JZ4k",
   "metadata": {
    "id": "9wQyIem0JZ4k"
   },
   "outputs": [],
   "source": [
    "# Source: https://stackoverflow.com/questions/54487059/pandas-how-to-create-a-single-date-column-from-columns-containing-year-month\n",
    "df['FLIGHT_DATE'] = pd.to_datetime([f'{y}-{m}-{d}' for y, m, d in zip(df.YEAR, df.MONTH, df.DAY)])"
   ]
  },
  {
   "cell_type": "markdown",
   "id": "34561fd9",
   "metadata": {
    "id": "34561fd9"
   },
   "source": [
    "## Data Quality"
   ]
  },
  {
   "cell_type": "markdown",
   "id": "a4463671",
   "metadata": {
    "id": "a4463671"
   },
   "source": [
    "`Verify data quality: Explain any missing values, duplicate data, and outliers. Are those mistakes? How do you deal with these problems? Give justifications for your methods.`"
   ]
  },
  {
   "cell_type": "markdown",
   "id": "pIjPk2PLFh-n",
   "metadata": {
    "id": "pIjPk2PLFh-n"
   },
   "source": [
    "### Missing Values"
   ]
  },
  {
   "cell_type": "code",
   "execution_count": 14,
   "id": "d0a0e195",
   "metadata": {
    "colab": {
     "base_uri": "https://localhost:8080/"
    },
    "id": "d0a0e195",
    "outputId": "fd269965-2785-4268-ce52-b84b70d9f4ce"
   },
   "outputs": [
    {
     "data": {
      "text/plain": [
       "YEAR                         0\n",
       "MONTH                        0\n",
       "DAY                          0\n",
       "DAY_OF_WEEK                  0\n",
       "AIRLINE_CODE                 0\n",
       "FLIGHT_NUMBER                0\n",
       "TAIL_NUMBER              14721\n",
       "ORIGIN_AIRPORT               0\n",
       "DESTINATION_AIRPORT          0\n",
       "SCHEDULED_DEPARTURE          0\n",
       "DEPARTURE_TIME           86666\n",
       "DEPARTURE_DELAY          86153\n",
       "TAXI_OUT                 89047\n",
       "WHEELS_OFF               89774\n",
       "SCHEDULED_TIME               6\n",
       "ELAPSED_TIME            105071\n",
       "AIR_TIME                105071\n",
       "DISTANCE                     0\n",
       "WHEELS_ON                94518\n",
       "TAXI_IN                  92513\n",
       "SCHEDULED_ARRIVAL            2\n",
       "ARRIVAL_TIME             94969\n",
       "ARRIVAL_DELAY           105071\n",
       "DIVERTED                     0\n",
       "CANCELLED                    0\n",
       "CANCELLATION_REASON    5729195\n",
       "AIR_SYSTEM_DELAY       4755640\n",
       "SECURITY_DELAY         4755640\n",
       "AIRLINE_DELAY          4755640\n",
       "LATE_AIRCRAFT_DELAY    4755640\n",
       "WEATHER_DELAY          4755640\n",
       "AIRLINE                      0\n",
       "FLIGHT_DATE                  0\n",
       "dtype: int64"
      ]
     },
     "execution_count": 14,
     "metadata": {},
     "output_type": "execute_result"
    }
   ],
   "source": [
    "# How many missing values are there in the data?\n",
    "df.isnull().sum()"
   ]
  },
  {
   "cell_type": "markdown",
   "id": "e861a319",
   "metadata": {
    "id": "e861a319"
   },
   "source": [
    "There are millions of missing values in the specific delay time columns. This is expected, as not every flight is delayed, and you would hope that percentage would be small of the overall flights. We will convert these missing values into `0` since, in these cases, there was no flight delay for the specific attribute."
   ]
  },
  {
   "cell_type": "code",
   "execution_count": 15,
   "id": "3MWDCjs-EBmq",
   "metadata": {
    "id": "3MWDCjs-EBmq"
   },
   "outputs": [],
   "source": [
    "# Replace missing values in AIRLINE_DELAY, AIR_SYSTEM_DELAY, SECURITY_DELAY, LATE_AIRCRAFT_DELAY, and WEATHER_DELAY with '0'\n",
    "df[['AIRLINE_DELAY', 'AIR_SYSTEM_DELAY', 'SECURITY_DELAY', 'LATE_AIRCRAFT_DELAY', 'WEATHER_DELAY']] = df[['AIRLINE_DELAY', 'AIR_SYSTEM_DELAY', 'SECURITY_DELAY', 'LATE_AIRCRAFT_DELAY', 'WEATHER_DELAY']].fillna(value = 0)"
   ]
  },
  {
   "cell_type": "markdown",
   "id": "iV8_tGJcEPia",
   "metadata": {
    "id": "iV8_tGJcEPia"
   },
   "source": [
    "Similar to the delay columns, the `CANCELLATION_REASON` column also contains millions of missing values. Here we convert the missing values to `0` and use one hot encoding on the resulting column."
   ]
  },
  {
   "cell_type": "code",
   "execution_count": 16,
   "id": "Yc3zGo9VFNCE",
   "metadata": {
    "colab": {
     "base_uri": "https://localhost:8080/",
     "height": 394
    },
    "id": "Yc3zGo9VFNCE",
    "outputId": "8a351e87-548d-4040-df41-6db4cd53d2f8"
   },
   "outputs": [
    {
     "data": {
      "text/html": [
       "<div>\n",
       "<style scoped>\n",
       "    .dataframe tbody tr th:only-of-type {\n",
       "        vertical-align: middle;\n",
       "    }\n",
       "\n",
       "    .dataframe tbody tr th {\n",
       "        vertical-align: top;\n",
       "    }\n",
       "\n",
       "    .dataframe thead th {\n",
       "        text-align: right;\n",
       "    }\n",
       "</style>\n",
       "<table border=\"1\" class=\"dataframe\">\n",
       "  <thead>\n",
       "    <tr style=\"text-align: right;\">\n",
       "      <th></th>\n",
       "      <th>YEAR</th>\n",
       "      <th>MONTH</th>\n",
       "      <th>DAY</th>\n",
       "      <th>DAY_OF_WEEK</th>\n",
       "      <th>AIRLINE_CODE</th>\n",
       "      <th>FLIGHT_NUMBER</th>\n",
       "      <th>TAIL_NUMBER</th>\n",
       "      <th>ORIGIN_AIRPORT</th>\n",
       "      <th>DESTINATION_AIRPORT</th>\n",
       "      <th>SCHEDULED_DEPARTURE</th>\n",
       "      <th>...</th>\n",
       "      <th>AIRLINE_DELAY</th>\n",
       "      <th>LATE_AIRCRAFT_DELAY</th>\n",
       "      <th>WEATHER_DELAY</th>\n",
       "      <th>AIRLINE</th>\n",
       "      <th>FLIGHT_DATE</th>\n",
       "      <th>CANCELLATION_REASON_A</th>\n",
       "      <th>CANCELLATION_REASON_B</th>\n",
       "      <th>CANCELLATION_REASON_C</th>\n",
       "      <th>CANCELLATION_REASON_D</th>\n",
       "      <th>CANCELLATION_REASON_N</th>\n",
       "    </tr>\n",
       "  </thead>\n",
       "  <tbody>\n",
       "    <tr>\n",
       "      <th>0</th>\n",
       "      <td>2015</td>\n",
       "      <td>1</td>\n",
       "      <td>1</td>\n",
       "      <td>4</td>\n",
       "      <td>AS</td>\n",
       "      <td>98</td>\n",
       "      <td>N407AS</td>\n",
       "      <td>ANC</td>\n",
       "      <td>SEA</td>\n",
       "      <td>1900-01-01 00:05:00</td>\n",
       "      <td>...</td>\n",
       "      <td>0.0</td>\n",
       "      <td>0.0</td>\n",
       "      <td>0.0</td>\n",
       "      <td>Alaska Airlines Inc.</td>\n",
       "      <td>2015-01-01</td>\n",
       "      <td>0</td>\n",
       "      <td>0</td>\n",
       "      <td>0</td>\n",
       "      <td>0</td>\n",
       "      <td>1</td>\n",
       "    </tr>\n",
       "    <tr>\n",
       "      <th>1</th>\n",
       "      <td>2015</td>\n",
       "      <td>1</td>\n",
       "      <td>1</td>\n",
       "      <td>4</td>\n",
       "      <td>AA</td>\n",
       "      <td>2336</td>\n",
       "      <td>N3KUAA</td>\n",
       "      <td>LAX</td>\n",
       "      <td>PBI</td>\n",
       "      <td>1900-01-01 00:10:00</td>\n",
       "      <td>...</td>\n",
       "      <td>0.0</td>\n",
       "      <td>0.0</td>\n",
       "      <td>0.0</td>\n",
       "      <td>American Airlines Inc.</td>\n",
       "      <td>2015-01-01</td>\n",
       "      <td>0</td>\n",
       "      <td>0</td>\n",
       "      <td>0</td>\n",
       "      <td>0</td>\n",
       "      <td>1</td>\n",
       "    </tr>\n",
       "    <tr>\n",
       "      <th>2</th>\n",
       "      <td>2015</td>\n",
       "      <td>1</td>\n",
       "      <td>1</td>\n",
       "      <td>4</td>\n",
       "      <td>US</td>\n",
       "      <td>840</td>\n",
       "      <td>N171US</td>\n",
       "      <td>SFO</td>\n",
       "      <td>CLT</td>\n",
       "      <td>1900-01-01 00:20:00</td>\n",
       "      <td>...</td>\n",
       "      <td>0.0</td>\n",
       "      <td>0.0</td>\n",
       "      <td>0.0</td>\n",
       "      <td>US Airways Inc.</td>\n",
       "      <td>2015-01-01</td>\n",
       "      <td>0</td>\n",
       "      <td>0</td>\n",
       "      <td>0</td>\n",
       "      <td>0</td>\n",
       "      <td>1</td>\n",
       "    </tr>\n",
       "    <tr>\n",
       "      <th>3</th>\n",
       "      <td>2015</td>\n",
       "      <td>1</td>\n",
       "      <td>1</td>\n",
       "      <td>4</td>\n",
       "      <td>AA</td>\n",
       "      <td>258</td>\n",
       "      <td>N3HYAA</td>\n",
       "      <td>LAX</td>\n",
       "      <td>MIA</td>\n",
       "      <td>1900-01-01 00:20:00</td>\n",
       "      <td>...</td>\n",
       "      <td>0.0</td>\n",
       "      <td>0.0</td>\n",
       "      <td>0.0</td>\n",
       "      <td>American Airlines Inc.</td>\n",
       "      <td>2015-01-01</td>\n",
       "      <td>0</td>\n",
       "      <td>0</td>\n",
       "      <td>0</td>\n",
       "      <td>0</td>\n",
       "      <td>1</td>\n",
       "    </tr>\n",
       "    <tr>\n",
       "      <th>4</th>\n",
       "      <td>2015</td>\n",
       "      <td>1</td>\n",
       "      <td>1</td>\n",
       "      <td>4</td>\n",
       "      <td>AS</td>\n",
       "      <td>135</td>\n",
       "      <td>N527AS</td>\n",
       "      <td>SEA</td>\n",
       "      <td>ANC</td>\n",
       "      <td>1900-01-01 00:25:00</td>\n",
       "      <td>...</td>\n",
       "      <td>0.0</td>\n",
       "      <td>0.0</td>\n",
       "      <td>0.0</td>\n",
       "      <td>Alaska Airlines Inc.</td>\n",
       "      <td>2015-01-01</td>\n",
       "      <td>0</td>\n",
       "      <td>0</td>\n",
       "      <td>0</td>\n",
       "      <td>0</td>\n",
       "      <td>1</td>\n",
       "    </tr>\n",
       "  </tbody>\n",
       "</table>\n",
       "<p>5 rows × 37 columns</p>\n",
       "</div>"
      ],
      "text/plain": [
       "   YEAR  MONTH  DAY  DAY_OF_WEEK AIRLINE_CODE  FLIGHT_NUMBER TAIL_NUMBER  \\\n",
       "0  2015      1    1            4           AS             98      N407AS   \n",
       "1  2015      1    1            4           AA           2336      N3KUAA   \n",
       "2  2015      1    1            4           US            840      N171US   \n",
       "3  2015      1    1            4           AA            258      N3HYAA   \n",
       "4  2015      1    1            4           AS            135      N527AS   \n",
       "\n",
       "  ORIGIN_AIRPORT DESTINATION_AIRPORT SCHEDULED_DEPARTURE  ... AIRLINE_DELAY  \\\n",
       "0            ANC                 SEA 1900-01-01 00:05:00  ...           0.0   \n",
       "1            LAX                 PBI 1900-01-01 00:10:00  ...           0.0   \n",
       "2            SFO                 CLT 1900-01-01 00:20:00  ...           0.0   \n",
       "3            LAX                 MIA 1900-01-01 00:20:00  ...           0.0   \n",
       "4            SEA                 ANC 1900-01-01 00:25:00  ...           0.0   \n",
       "\n",
       "   LATE_AIRCRAFT_DELAY  WEATHER_DELAY                 AIRLINE FLIGHT_DATE  \\\n",
       "0                  0.0            0.0    Alaska Airlines Inc.  2015-01-01   \n",
       "1                  0.0            0.0  American Airlines Inc.  2015-01-01   \n",
       "2                  0.0            0.0         US Airways Inc.  2015-01-01   \n",
       "3                  0.0            0.0  American Airlines Inc.  2015-01-01   \n",
       "4                  0.0            0.0    Alaska Airlines Inc.  2015-01-01   \n",
       "\n",
       "   CANCELLATION_REASON_A  CANCELLATION_REASON_B  CANCELLATION_REASON_C  \\\n",
       "0                      0                      0                      0   \n",
       "1                      0                      0                      0   \n",
       "2                      0                      0                      0   \n",
       "3                      0                      0                      0   \n",
       "4                      0                      0                      0   \n",
       "\n",
       "  CANCELLATION_REASON_D  CANCELLATION_REASON_N  \n",
       "0                     0                      1  \n",
       "1                     0                      1  \n",
       "2                     0                      1  \n",
       "3                     0                      1  \n",
       "4                     0                      1  \n",
       "\n",
       "[5 rows x 37 columns]"
      ]
     },
     "execution_count": 16,
     "metadata": {},
     "output_type": "execute_result"
    }
   ],
   "source": [
    "# One hot encode CANCELLATION_REASON where NA = 0\n",
    "# Source: datagy.io/pandas-get-dummies/\n",
    "\n",
    "# Convert missing values to 'N' for 'N/A'\n",
    "df['CANCELLATION_REASON'] = df['CANCELLATION_REASON'].fillna('N')\n",
    "\n",
    "# One hot encode\n",
    "one_hot_columns = ['CANCELLATION_REASON']\n",
    "\n",
    "for column in one_hot_columns:\n",
    "  tempdf = pd.get_dummies(df[column], prefix=column)\n",
    "\n",
    "  df = pd.merge(\n",
    "      left = df,\n",
    "      right = tempdf,\n",
    "      left_index = True,\n",
    "      right_index = True,\n",
    "  )\n",
    "\n",
    "  df = df.drop(columns=column)\n",
    "\n",
    "df.head()"
   ]
  },
  {
   "cell_type": "code",
   "execution_count": 17,
   "id": "Bbb7wqGZIPGo",
   "metadata": {
    "colab": {
     "base_uri": "https://localhost:8080/"
    },
    "id": "Bbb7wqGZIPGo",
    "outputId": "31b2e703-2b87-413c-9672-2aa8e7ee7d0f"
   },
   "outputs": [
    {
     "data": {
      "text/plain": [
       "YEAR                          0\n",
       "MONTH                         0\n",
       "DAY                           0\n",
       "DAY_OF_WEEK                   0\n",
       "AIRLINE_CODE                  0\n",
       "FLIGHT_NUMBER                 0\n",
       "TAIL_NUMBER               14721\n",
       "ORIGIN_AIRPORT                0\n",
       "DESTINATION_AIRPORT           0\n",
       "SCHEDULED_DEPARTURE           0\n",
       "DEPARTURE_TIME            86666\n",
       "DEPARTURE_DELAY           86153\n",
       "TAXI_OUT                  89047\n",
       "WHEELS_OFF                89774\n",
       "SCHEDULED_TIME                6\n",
       "ELAPSED_TIME             105071\n",
       "AIR_TIME                 105071\n",
       "DISTANCE                      0\n",
       "WHEELS_ON                 94518\n",
       "TAXI_IN                   92513\n",
       "SCHEDULED_ARRIVAL             2\n",
       "ARRIVAL_TIME              94969\n",
       "ARRIVAL_DELAY            105071\n",
       "DIVERTED                      0\n",
       "CANCELLED                     0\n",
       "AIR_SYSTEM_DELAY              0\n",
       "SECURITY_DELAY                0\n",
       "AIRLINE_DELAY                 0\n",
       "LATE_AIRCRAFT_DELAY           0\n",
       "WEATHER_DELAY                 0\n",
       "AIRLINE                       0\n",
       "FLIGHT_DATE                   0\n",
       "CANCELLATION_REASON_A         0\n",
       "CANCELLATION_REASON_B         0\n",
       "CANCELLATION_REASON_C         0\n",
       "CANCELLATION_REASON_D         0\n",
       "CANCELLATION_REASON_N         0\n",
       "dtype: int64"
      ]
     },
     "execution_count": 17,
     "metadata": {},
     "output_type": "execute_result"
    }
   ],
   "source": [
    "# How many missing values are there in the data now?\n",
    "df.isnull().sum()"
   ]
  },
  {
   "cell_type": "markdown",
   "id": "SCHo0Sg6ERe9",
   "metadata": {
    "id": "SCHo0Sg6ERe9"
   },
   "source": [
    "Here the remaining rows containing missing data only account for about 2% of the total number of original observations. We feel comfortable removing those rows with missing values and proceeding with our analysis."
   ]
  },
  {
   "cell_type": "code",
   "execution_count": 18,
   "id": "O1WYkMnFYQQE",
   "metadata": {
    "id": "O1WYkMnFYQQE"
   },
   "outputs": [],
   "source": [
    "# Drop the remaining rows that contain missing values\n",
    "df = df.dropna(axis=0)"
   ]
  },
  {
   "cell_type": "markdown",
   "id": "r8wP0VqoFlKB",
   "metadata": {
    "id": "r8wP0VqoFlKB"
   },
   "source": [
    "### Outliers"
   ]
  },
  {
   "cell_type": "code",
   "execution_count": 19,
   "id": "186c551d",
   "metadata": {
    "colab": {
     "base_uri": "https://localhost:8080/",
     "height": 283
    },
    "id": "186c551d",
    "outputId": "6c0de7bb-941c-41cb-9717-b546d713be39"
   },
   "outputs": [
    {
     "data": {
      "text/plain": [
       "<AxesSubplot:>"
      ]
     },
     "execution_count": 19,
     "metadata": {},
     "output_type": "execute_result"
    },
    {
     "data": {
      "image/png": "[encoded data removed]",
      "text/plain": [
       "<Figure size 432x288 with 1 Axes>"
      ]
     },
     "metadata": {
      "needs_background": "light"
     },
     "output_type": "display_data"
    }
   ],
   "source": [
    "# Check for outliers on continuous variables\n",
    "# Source: https://stackoverflow.com/questions/25039626/how-do-i-find-numeric-columns-in-pandas\n",
    "num_col = df.select_dtypes(include = np.number).columns.tolist() \n",
    "df.boxplot(column = num_col)"
   ]
  },
  {
   "cell_type": "markdown",
   "id": "8523923c",
   "metadata": {
    "id": "8523923c"
   },
   "source": [
    "Note... need to do some more work here, group at different scales or split out individually"
   ]
  },
  {
   "cell_type": "markdown",
   "id": "eXeTQ3mGqNZE",
   "metadata": {
    "id": "eXeTQ3mGqNZE"
   },
   "source": [
    "#### TO DO (BLAKE)\n",
    "\n",
    "- Address outliers\n",
    "- Amber work on airport codes\n",
    "- We need to finish cleaning up the time conversions (someone)"
   ]
  },
  {
   "cell_type": "markdown",
   "id": "6cdc68a0",
   "metadata": {
    "id": "6cdc68a0"
   },
   "source": [
    "## Simple Statistics"
   ]
  },
  {
   "cell_type": "markdown",
   "id": "da956f44",
   "metadata": {
    "id": "da956f44"
   },
   "source": [
    "`Visualize appropriate statistics (e.g., range, mode, mean, median, variance, counts) for a subset of attributes. Describe anything meaningful you found from this or if you found something potentially interesting. Note: You can also use data from other sources for comparison. Explain why the statistics run are meaningful.`"
   ]
  },
  {
   "cell_type": "code",
   "execution_count": 20,
   "id": "5512eec4",
   "metadata": {
    "colab": {
     "base_uri": "https://localhost:8080/",
     "height": 317
    },
    "id": "5512eec4",
    "outputId": "008be98b-b107-4ee6-e950-43e1a4186470"
   },
   "outputs": [
    {
     "data": {
      "text/html": [
       "<div>\n",
       "<style scoped>\n",
       "    .dataframe tbody tr th:only-of-type {\n",
       "        vertical-align: middle;\n",
       "    }\n",
       "\n",
       "    .dataframe tbody tr th {\n",
       "        vertical-align: top;\n",
       "    }\n",
       "\n",
       "    .dataframe thead th {\n",
       "        text-align: right;\n",
       "    }\n",
       "</style>\n",
       "<table border=\"1\" class=\"dataframe\">\n",
       "  <thead>\n",
       "    <tr style=\"text-align: right;\">\n",
       "      <th></th>\n",
       "      <th>YEAR</th>\n",
       "      <th>MONTH</th>\n",
       "      <th>DAY</th>\n",
       "      <th>DAY_OF_WEEK</th>\n",
       "      <th>FLIGHT_NUMBER</th>\n",
       "      <th>DEPARTURE_DELAY</th>\n",
       "      <th>TAXI_OUT</th>\n",
       "      <th>ELAPSED_TIME</th>\n",
       "      <th>AIR_TIME</th>\n",
       "      <th>DISTANCE</th>\n",
       "      <th>...</th>\n",
       "      <th>AIR_SYSTEM_DELAY</th>\n",
       "      <th>SECURITY_DELAY</th>\n",
       "      <th>AIRLINE_DELAY</th>\n",
       "      <th>LATE_AIRCRAFT_DELAY</th>\n",
       "      <th>WEATHER_DELAY</th>\n",
       "      <th>CANCELLATION_REASON_A</th>\n",
       "      <th>CANCELLATION_REASON_B</th>\n",
       "      <th>CANCELLATION_REASON_C</th>\n",
       "      <th>CANCELLATION_REASON_D</th>\n",
       "      <th>CANCELLATION_REASON_N</th>\n",
       "    </tr>\n",
       "  </thead>\n",
       "  <tbody>\n",
       "    <tr>\n",
       "      <th>count</th>\n",
       "      <td>5708334.0</td>\n",
       "      <td>5.708334e+06</td>\n",
       "      <td>5.708334e+06</td>\n",
       "      <td>5.708334e+06</td>\n",
       "      <td>5.708334e+06</td>\n",
       "      <td>5.708334e+06</td>\n",
       "      <td>5.708334e+06</td>\n",
       "      <td>5.708334e+06</td>\n",
       "      <td>5.708334e+06</td>\n",
       "      <td>5.708334e+06</td>\n",
       "      <td>...</td>\n",
       "      <td>5.708334e+06</td>\n",
       "      <td>5.708334e+06</td>\n",
       "      <td>5.708334e+06</td>\n",
       "      <td>5.708334e+06</td>\n",
       "      <td>5.708334e+06</td>\n",
       "      <td>5708334.0</td>\n",
       "      <td>5708334.0</td>\n",
       "      <td>5708334.0</td>\n",
       "      <td>5708334.0</td>\n",
       "      <td>5708334.0</td>\n",
       "    </tr>\n",
       "    <tr>\n",
       "      <th>mean</th>\n",
       "      <td>2015.0</td>\n",
       "      <td>6.547751e+00</td>\n",
       "      <td>1.570754e+01</td>\n",
       "      <td>3.932692e+00</td>\n",
       "      <td>2.164745e+03</td>\n",
       "      <td>9.270839e+00</td>\n",
       "      <td>1.606429e+01</td>\n",
       "      <td>1.369853e+02</td>\n",
       "      <td>1.134913e+02</td>\n",
       "      <td>8.242462e+02</td>\n",
       "      <td>...</td>\n",
       "      <td>2.506773e+00</td>\n",
       "      <td>1.415159e-02</td>\n",
       "      <td>3.525199e+00</td>\n",
       "      <td>4.356288e+00</td>\n",
       "      <td>5.407851e-01</td>\n",
       "      <td>0.0</td>\n",
       "      <td>0.0</td>\n",
       "      <td>0.0</td>\n",
       "      <td>0.0</td>\n",
       "      <td>1.0</td>\n",
       "    </tr>\n",
       "    <tr>\n",
       "      <th>std</th>\n",
       "      <td>0.0</td>\n",
       "      <td>3.397517e+00</td>\n",
       "      <td>8.774381e+00</td>\n",
       "      <td>1.985962e+00</td>\n",
       "      <td>1.754789e+03</td>\n",
       "      <td>3.684783e+01</td>\n",
       "      <td>8.881439e+00</td>\n",
       "      <td>7.420315e+01</td>\n",
       "      <td>7.222289e+01</td>\n",
       "      <td>6.085635e+02</td>\n",
       "      <td>...</td>\n",
       "      <td>1.316224e+01</td>\n",
       "      <td>9.250536e-01</td>\n",
       "      <td>2.203599e+01</td>\n",
       "      <td>2.071744e+01</td>\n",
       "      <td>8.873410e+00</td>\n",
       "      <td>0.0</td>\n",
       "      <td>0.0</td>\n",
       "      <td>0.0</td>\n",
       "      <td>0.0</td>\n",
       "      <td>0.0</td>\n",
       "    </tr>\n",
       "    <tr>\n",
       "      <th>min</th>\n",
       "      <td>2015.0</td>\n",
       "      <td>1.000000e+00</td>\n",
       "      <td>1.000000e+00</td>\n",
       "      <td>1.000000e+00</td>\n",
       "      <td>1.000000e+00</td>\n",
       "      <td>-8.200000e+01</td>\n",
       "      <td>1.000000e+00</td>\n",
       "      <td>1.400000e+01</td>\n",
       "      <td>7.000000e+00</td>\n",
       "      <td>3.100000e+01</td>\n",
       "      <td>...</td>\n",
       "      <td>0.000000e+00</td>\n",
       "      <td>0.000000e+00</td>\n",
       "      <td>0.000000e+00</td>\n",
       "      <td>0.000000e+00</td>\n",
       "      <td>0.000000e+00</td>\n",
       "      <td>0.0</td>\n",
       "      <td>0.0</td>\n",
       "      <td>0.0</td>\n",
       "      <td>0.0</td>\n",
       "      <td>1.0</td>\n",
       "    </tr>\n",
       "    <tr>\n",
       "      <th>25%</th>\n",
       "      <td>2015.0</td>\n",
       "      <td>4.000000e+00</td>\n",
       "      <td>8.000000e+00</td>\n",
       "      <td>2.000000e+00</td>\n",
       "      <td>7.280000e+02</td>\n",
       "      <td>-5.000000e+00</td>\n",
       "      <td>1.100000e+01</td>\n",
       "      <td>8.200000e+01</td>\n",
       "      <td>6.000000e+01</td>\n",
       "      <td>3.730000e+02</td>\n",
       "      <td>...</td>\n",
       "      <td>0.000000e+00</td>\n",
       "      <td>0.000000e+00</td>\n",
       "      <td>0.000000e+00</td>\n",
       "      <td>0.000000e+00</td>\n",
       "      <td>0.000000e+00</td>\n",
       "      <td>0.0</td>\n",
       "      <td>0.0</td>\n",
       "      <td>0.0</td>\n",
       "      <td>0.0</td>\n",
       "      <td>1.0</td>\n",
       "    </tr>\n",
       "    <tr>\n",
       "      <th>50%</th>\n",
       "      <td>2015.0</td>\n",
       "      <td>7.000000e+00</td>\n",
       "      <td>1.600000e+01</td>\n",
       "      <td>4.000000e+00</td>\n",
       "      <td>1.681000e+03</td>\n",
       "      <td>-2.000000e+00</td>\n",
       "      <td>1.400000e+01</td>\n",
       "      <td>1.180000e+02</td>\n",
       "      <td>9.400000e+01</td>\n",
       "      <td>6.500000e+02</td>\n",
       "      <td>...</td>\n",
       "      <td>0.000000e+00</td>\n",
       "      <td>0.000000e+00</td>\n",
       "      <td>0.000000e+00</td>\n",
       "      <td>0.000000e+00</td>\n",
       "      <td>0.000000e+00</td>\n",
       "      <td>0.0</td>\n",
       "      <td>0.0</td>\n",
       "      <td>0.0</td>\n",
       "      <td>0.0</td>\n",
       "      <td>1.0</td>\n",
       "    </tr>\n",
       "    <tr>\n",
       "      <th>75%</th>\n",
       "      <td>2015.0</td>\n",
       "      <td>9.000000e+00</td>\n",
       "      <td>2.300000e+01</td>\n",
       "      <td>6.000000e+00</td>\n",
       "      <td>3.211000e+03</td>\n",
       "      <td>7.000000e+00</td>\n",
       "      <td>1.900000e+01</td>\n",
       "      <td>1.680000e+02</td>\n",
       "      <td>1.440000e+02</td>\n",
       "      <td>1.065000e+03</td>\n",
       "      <td>...</td>\n",
       "      <td>0.000000e+00</td>\n",
       "      <td>0.000000e+00</td>\n",
       "      <td>0.000000e+00</td>\n",
       "      <td>0.000000e+00</td>\n",
       "      <td>0.000000e+00</td>\n",
       "      <td>0.0</td>\n",
       "      <td>0.0</td>\n",
       "      <td>0.0</td>\n",
       "      <td>0.0</td>\n",
       "      <td>1.0</td>\n",
       "    </tr>\n",
       "    <tr>\n",
       "      <th>max</th>\n",
       "      <td>2015.0</td>\n",
       "      <td>1.200000e+01</td>\n",
       "      <td>3.100000e+01</td>\n",
       "      <td>7.000000e+00</td>\n",
       "      <td>9.320000e+03</td>\n",
       "      <td>1.988000e+03</td>\n",
       "      <td>2.250000e+02</td>\n",
       "      <td>7.660000e+02</td>\n",
       "      <td>6.900000e+02</td>\n",
       "      <td>4.983000e+03</td>\n",
       "      <td>...</td>\n",
       "      <td>1.134000e+03</td>\n",
       "      <td>5.730000e+02</td>\n",
       "      <td>1.971000e+03</td>\n",
       "      <td>1.331000e+03</td>\n",
       "      <td>1.211000e+03</td>\n",
       "      <td>0.0</td>\n",
       "      <td>0.0</td>\n",
       "      <td>0.0</td>\n",
       "      <td>0.0</td>\n",
       "      <td>1.0</td>\n",
       "    </tr>\n",
       "  </tbody>\n",
       "</table>\n",
       "<p>8 rows × 24 columns</p>\n",
       "</div>"
      ],
      "text/plain": [
       "            YEAR         MONTH           DAY   DAY_OF_WEEK  FLIGHT_NUMBER  \\\n",
       "count  5708334.0  5.708334e+06  5.708334e+06  5.708334e+06   5.708334e+06   \n",
       "mean      2015.0  6.547751e+00  1.570754e+01  3.932692e+00   2.164745e+03   \n",
       "std          0.0  3.397517e+00  8.774381e+00  1.985962e+00   1.754789e+03   \n",
       "min       2015.0  1.000000e+00  1.000000e+00  1.000000e+00   1.000000e+00   \n",
       "25%       2015.0  4.000000e+00  8.000000e+00  2.000000e+00   7.280000e+02   \n",
       "50%       2015.0  7.000000e+00  1.600000e+01  4.000000e+00   1.681000e+03   \n",
       "75%       2015.0  9.000000e+00  2.300000e+01  6.000000e+00   3.211000e+03   \n",
       "max       2015.0  1.200000e+01  3.100000e+01  7.000000e+00   9.320000e+03   \n",
       "\n",
       "       DEPARTURE_DELAY      TAXI_OUT  ELAPSED_TIME      AIR_TIME  \\\n",
       "count     5.708334e+06  5.708334e+06  5.708334e+06  5.708334e+06   \n",
       "mean      9.270839e+00  1.606429e+01  1.369853e+02  1.134913e+02   \n",
       "std       3.684783e+01  8.881439e+00  7.420315e+01  7.222289e+01   \n",
       "min      -8.200000e+01  1.000000e+00  1.400000e+01  7.000000e+00   \n",
       "25%      -5.000000e+00  1.100000e+01  8.200000e+01  6.000000e+01   \n",
       "50%      -2.000000e+00  1.400000e+01  1.180000e+02  9.400000e+01   \n",
       "75%       7.000000e+00  1.900000e+01  1.680000e+02  1.440000e+02   \n",
       "max       1.988000e+03  2.250000e+02  7.660000e+02  6.900000e+02   \n",
       "\n",
       "           DISTANCE  ...  AIR_SYSTEM_DELAY  SECURITY_DELAY  AIRLINE_DELAY  \\\n",
       "count  5.708334e+06  ...      5.708334e+06    5.708334e+06   5.708334e+06   \n",
       "mean   8.242462e+02  ...      2.506773e+00    1.415159e-02   3.525199e+00   \n",
       "std    6.085635e+02  ...      1.316224e+01    9.250536e-01   2.203599e+01   \n",
       "min    3.100000e+01  ...      0.000000e+00    0.000000e+00   0.000000e+00   \n",
       "25%    3.730000e+02  ...      0.000000e+00    0.000000e+00   0.000000e+00   \n",
       "50%    6.500000e+02  ...      0.000000e+00    0.000000e+00   0.000000e+00   \n",
       "75%    1.065000e+03  ...      0.000000e+00    0.000000e+00   0.000000e+00   \n",
       "max    4.983000e+03  ...      1.134000e+03    5.730000e+02   1.971000e+03   \n",
       "\n",
       "       LATE_AIRCRAFT_DELAY  WEATHER_DELAY  CANCELLATION_REASON_A  \\\n",
       "count         5.708334e+06   5.708334e+06              5708334.0   \n",
       "mean          4.356288e+00   5.407851e-01                    0.0   \n",
       "std           2.071744e+01   8.873410e+00                    0.0   \n",
       "min           0.000000e+00   0.000000e+00                    0.0   \n",
       "25%           0.000000e+00   0.000000e+00                    0.0   \n",
       "50%           0.000000e+00   0.000000e+00                    0.0   \n",
       "75%           0.000000e+00   0.000000e+00                    0.0   \n",
       "max           1.331000e+03   1.211000e+03                    0.0   \n",
       "\n",
       "       CANCELLATION_REASON_B  CANCELLATION_REASON_C  CANCELLATION_REASON_D  \\\n",
       "count              5708334.0              5708334.0              5708334.0   \n",
       "mean                     0.0                    0.0                    0.0   \n",
       "std                      0.0                    0.0                    0.0   \n",
       "min                      0.0                    0.0                    0.0   \n",
       "25%                      0.0                    0.0                    0.0   \n",
       "50%                      0.0                    0.0                    0.0   \n",
       "75%                      0.0                    0.0                    0.0   \n",
       "max                      0.0                    0.0                    0.0   \n",
       "\n",
       "       CANCELLATION_REASON_N  \n",
       "count              5708334.0  \n",
       "mean                     1.0  \n",
       "std                      0.0  \n",
       "min                      1.0  \n",
       "25%                      1.0  \n",
       "50%                      1.0  \n",
       "75%                      1.0  \n",
       "max                      1.0  \n",
       "\n",
       "[8 rows x 24 columns]"
      ]
     },
     "execution_count": 20,
     "metadata": {},
     "output_type": "execute_result"
    }
   ],
   "source": [
    "df.describe()"
   ]
  },
  {
   "cell_type": "code",
   "execution_count": 21,
   "id": "qmUDb8SJjABH",
   "metadata": {
    "colab": {
     "base_uri": "https://localhost:8080/"
    },
    "id": "qmUDb8SJjABH",
    "outputId": "9080a61c-6571-49dc-b303-349b1647f304"
   },
   "outputs": [
    {
     "data": {
      "text/plain": [
       "CANCELLED\n",
       "0    5708334\n",
       "Name: YEAR, dtype: int64"
      ]
     },
     "execution_count": 21,
     "metadata": {},
     "output_type": "execute_result"
    }
   ],
   "source": [
    "#check counts of cancels and diversions\n",
    "df.groupby('CANCELLED')['YEAR'].count()"
   ]
  },
  {
   "cell_type": "code",
   "execution_count": 22,
   "id": "iMq2oTOGjJo_",
   "metadata": {
    "colab": {
     "base_uri": "https://localhost:8080/"
    },
    "id": "iMq2oTOGjJo_",
    "outputId": "5090879f-f7bf-4cc2-99c9-7d87b20a55ea"
   },
   "outputs": [
    {
     "data": {
      "text/plain": [
       "DIVERTED\n",
       "0    5708334\n",
       "Name: YEAR, dtype: int64"
      ]
     },
     "execution_count": 22,
     "metadata": {},
     "output_type": "execute_result"
    }
   ],
   "source": [
    "df.groupby('DIVERTED')['YEAR'].count()"
   ]
  },
  {
   "cell_type": "markdown",
   "id": "kotkpkfNqg6F",
   "metadata": {
    "id": "kotkpkfNqg6F"
   },
   "source": [
    "#### TO DO (MEGAN)\n"
   ]
  },
  {
   "cell_type": "markdown",
   "id": "beb3cf96",
   "metadata": {
    "id": "beb3cf96"
   },
   "source": [
    "## Visualize Attributes"
   ]
  },
  {
   "cell_type": "markdown",
   "id": "21351a2d",
   "metadata": {
    "id": "21351a2d"
   },
   "source": [
    "`Visualize the most interesting attributes (at least 5 attributes, your opinion on what is interesting). Important: Interpret the implications for each visualization. Explain for each attribute why the chosen visualization is appropriate.`"
   ]
  },
  {
   "cell_type": "code",
   "execution_count": 44,
   "id": "9331cc7f",
   "metadata": {
    "colab": {
     "base_uri": "https://localhost:8080/",
     "height": 308
    },
    "id": "9331cc7f",
    "outputId": "88a1a6e1-c7e3-475c-d332-9627f7508f4d"
   },
   "outputs": [
    {
     "data": {
      "image/png": "[encoded data removed]",
      "text/plain": [
       "<Figure size 432x288 with 1 Axes>"
      ]
     },
     "metadata": {},
     "output_type": "display_data"
    }
   ],
   "source": [
    "# Flights by day of the week\n",
    "sns.histplot(df, x = 'DAY_OF_WEEK', discrete=True)\n",
    "\n",
    "plt.title('Flights by Day of the Week')\n",
    "plt.xlabel('Day of Week')\n",
    "plt.ylabel('Flights')\n",
    "\n",
    "plt.show()"
   ]
  },
  {
   "cell_type": "markdown",
   "id": "5b35bf19",
   "metadata": {},
   "source": [
    "Interestingly, day 6 (Saturday) has more than 100,000 fewer flights than the other days of the week. We would have thought that the counts across days would be more evenly distributed, but upon further reflection that makes sense. Weekday travel for business is fairly consistent. Travelers flying over the weekend would most likely fly out prior to the weekend if possible in order to maximize their weekend time. "
   ]
  },
  {
   "cell_type": "code",
   "execution_count": 38,
   "id": "rpezYKPCYyxZ",
   "metadata": {
    "colab": {
     "base_uri": "https://localhost:8080/",
     "height": 543
    },
    "id": "rpezYKPCYyxZ",
    "outputId": "3306209c-7fce-4236-e7eb-83654037379f"
   },
   "outputs": [
    {
     "data": {
      "image/png": "[encoded data removed]",
      "text/plain": [
       "<Figure size 792x504 with 1 Axes>"
      ]
     },
     "metadata": {},
     "output_type": "display_data"
    }
   ],
   "source": [
    "# Set plot size\n",
    "fig, scatter = plt.subplots(figsize = (11,7))\n",
    "\n",
    "# Arrival delay by airline\n",
    "sns.stripplot(x='ARRIVAL_DELAY', y='AIRLINE',\n",
    "              data=df, dodge=True, jitter=True).set(title='Arrival Delay by Airline')\n",
    "\n",
    "plt.xlabel('Arrival Delay (minutes)')\n",
    "plt.ylabel('Airline')\n",
    "\n",
    "plt.show()"
   ]
  },
  {
   "cell_type": "markdown",
   "id": "XUK1D1BXZlrG",
   "metadata": {
    "id": "XUK1D1BXZlrG"
   },
   "source": [
    "Visualizing the arrival delay in minutes by airline, all of the airlines had some amount of flights that departed early (left of the '0' mark on the x-axis). \n",
    "\n",
    "In general, Hawaiian Airlines Inc. and Virgin America appear to have the smallest arrival delays of all of the airlines. American Airlines Inc. (AAL) shows the widest range of delays with a strong concentration of delays between 0 and 1,000 minutes (~0-16 hours) that then tapers off around 1,700 minutes (~28 hours) and finally two outliers close to 2,000 minutes (~33 hours)."
   ]
  },
  {
   "cell_type": "markdown",
   "id": "dEgHCv7yq2i4",
   "metadata": {
    "id": "dEgHCv7yq2i4"
   },
   "source": [
    "#### TO DO (EVERYONE)\n",
    "\n",
    "- Create 2+ visualizations per person plus an explanation for each"
   ]
  },
  {
   "cell_type": "markdown",
   "id": "37dfc20e",
   "metadata": {
    "id": "37dfc20e"
   },
   "source": [
    "## Explore Joint Attributes"
   ]
  },
  {
   "cell_type": "markdown",
   "id": "baf29b0d",
   "metadata": {
    "id": "baf29b0d"
   },
   "source": [
    "`Visualize relationships between attributes: Look at the attributes via scatter plots, correlation, cross-tabulation, group-wise averages, etc. as appropriate. Explain any interesting relationships.`"
   ]
  },
  {
   "cell_type": "code",
   "execution_count": 25,
   "id": "3f0fff71",
   "metadata": {
    "colab": {
     "base_uri": "https://localhost:8080/",
     "height": 1000
    },
    "id": "3f0fff71",
    "outputId": "6ee35e49-3ebb-4092-f036-ffb8ebc16b4a"
   },
   "outputs": [
    {
     "data": {
      "text/plain": [
       "<AxesSubplot:>"
      ]
     },
     "execution_count": 25,
     "metadata": {},
     "output_type": "execute_result"
    },
    {
     "data": {
      "image/png": "[encoded data removed]",
      "text/plain": [
       "<Figure size 1440x1440 with 2 Axes>"
      ]
     },
     "metadata": {},
     "output_type": "display_data"
    }
   ],
   "source": [
    "# Examine correlation visually using Seaborn. (Code adapted from 02. Data Visualization.ipynb)\n",
    "# cmap = sns.diverging_palette(220, 10, as_cmap=True)\n",
    "\n",
    "# sns.set(style = \"darkgrid\") # one of the many styles to plot using\n",
    "\n",
    "# f, ax = plt.subplots(figsize = (20, 20))\n",
    "\n",
    "# sns.heatmap(df.corr(), cmap=cmap, annot = True)"
   ]
  },
  {
   "cell_type": "markdown",
   "id": "VsmcCCpIqwet",
   "metadata": {
    "id": "VsmcCCpIqwet"
   },
   "source": [
    "#### TO DO (MEGAN)"
   ]
  },
  {
   "cell_type": "markdown",
   "id": "2f2381b7",
   "metadata": {
    "id": "2f2381b7"
   },
   "source": [
    "## Explore Attributes and Class"
   ]
  },
  {
   "cell_type": "markdown",
   "id": "7e4eafb0",
   "metadata": {
    "id": "7e4eafb0"
   },
   "source": [
    "`Identify and explain interesting relationships between features and the class you are trying to predict (i.e., relationships with variables and the target classification).`"
   ]
  },
  {
   "cell_type": "markdown",
   "id": "nBb0egz7rMi1",
   "metadata": {
    "id": "nBb0egz7rMi1"
   },
   "source": [
    "#### TO DO (AMBER)"
   ]
  },
  {
   "cell_type": "markdown",
   "id": "42a3e916",
   "metadata": {
    "id": "42a3e916"
   },
   "source": [
    "## New Features "
   ]
  },
  {
   "cell_type": "markdown",
   "id": "c80b7167",
   "metadata": {
    "id": "c80b7167"
   },
   "source": [
    "`Are there other features that could be added to the data or created from existing features? Which ones?`"
   ]
  },
  {
   "cell_type": "code",
   "execution_count": null,
   "id": "o3duBc6QrPG2",
   "metadata": {
    "id": "o3duBc6QrPG2"
   },
   "outputs": [],
   "source": []
  },
  {
   "cell_type": "markdown",
   "id": "SASmuNPPrP4g",
   "metadata": {
    "id": "SASmuNPPrP4g"
   },
   "source": [
    "#### TO DO (BLAKE)"
   ]
  },
  {
   "cell_type": "markdown",
   "id": "27739c81",
   "metadata": {
    "id": "27739c81"
   },
   "source": [
    "## Exceptional Work"
   ]
  },
  {
   "cell_type": "markdown",
   "id": "27732deb",
   "metadata": {
    "id": "27732deb"
   },
   "source": [
    "`You have free reign to provide additional analyses. One idea: implement dimensionality reduction, then visualize and interpret the results. (aka PCA)`"
   ]
  },
  {
   "cell_type": "code",
   "execution_count": 26,
   "id": "J26jaqhVoq_w",
   "metadata": {
    "colab": {
     "base_uri": "https://localhost:8080/",
     "height": 224
    },
    "id": "J26jaqhVoq_w",
    "outputId": "85440fcd-1779-4f53-ae0f-77d0eabac766"
   },
   "outputs": [
    {
     "data": {
      "text/html": [
       "<div>\n",
       "<style scoped>\n",
       "    .dataframe tbody tr th:only-of-type {\n",
       "        vertical-align: middle;\n",
       "    }\n",
       "\n",
       "    .dataframe tbody tr th {\n",
       "        vertical-align: top;\n",
       "    }\n",
       "\n",
       "    .dataframe thead th {\n",
       "        text-align: right;\n",
       "    }\n",
       "</style>\n",
       "<table border=\"1\" class=\"dataframe\">\n",
       "  <thead>\n",
       "    <tr style=\"text-align: right;\">\n",
       "      <th></th>\n",
       "      <th>YEAR</th>\n",
       "      <th>MONTH</th>\n",
       "      <th>DAY</th>\n",
       "      <th>DAY_OF_WEEK</th>\n",
       "      <th>FLIGHT_NUMBER</th>\n",
       "      <th>DEPARTURE_DELAY</th>\n",
       "      <th>TAXI_OUT</th>\n",
       "      <th>ELAPSED_TIME</th>\n",
       "      <th>AIR_TIME</th>\n",
       "      <th>DISTANCE</th>\n",
       "      <th>...</th>\n",
       "      <th>AIR_SYSTEM_DELAY</th>\n",
       "      <th>SECURITY_DELAY</th>\n",
       "      <th>AIRLINE_DELAY</th>\n",
       "      <th>LATE_AIRCRAFT_DELAY</th>\n",
       "      <th>WEATHER_DELAY</th>\n",
       "      <th>CANCELLATION_REASON_A</th>\n",
       "      <th>CANCELLATION_REASON_B</th>\n",
       "      <th>CANCELLATION_REASON_C</th>\n",
       "      <th>CANCELLATION_REASON_D</th>\n",
       "      <th>CANCELLATION_REASON_N</th>\n",
       "    </tr>\n",
       "  </thead>\n",
       "  <tbody>\n",
       "    <tr>\n",
       "      <th>0</th>\n",
       "      <td>2015</td>\n",
       "      <td>1</td>\n",
       "      <td>1</td>\n",
       "      <td>4</td>\n",
       "      <td>98</td>\n",
       "      <td>-11.0</td>\n",
       "      <td>21.0</td>\n",
       "      <td>194.0</td>\n",
       "      <td>169.0</td>\n",
       "      <td>1448</td>\n",
       "      <td>...</td>\n",
       "      <td>0.0</td>\n",
       "      <td>0.0</td>\n",
       "      <td>0.0</td>\n",
       "      <td>0.0</td>\n",
       "      <td>0.0</td>\n",
       "      <td>0</td>\n",
       "      <td>0</td>\n",
       "      <td>0</td>\n",
       "      <td>0</td>\n",
       "      <td>1</td>\n",
       "    </tr>\n",
       "    <tr>\n",
       "      <th>1</th>\n",
       "      <td>2015</td>\n",
       "      <td>1</td>\n",
       "      <td>1</td>\n",
       "      <td>4</td>\n",
       "      <td>2336</td>\n",
       "      <td>-8.0</td>\n",
       "      <td>12.0</td>\n",
       "      <td>279.0</td>\n",
       "      <td>263.0</td>\n",
       "      <td>2330</td>\n",
       "      <td>...</td>\n",
       "      <td>0.0</td>\n",
       "      <td>0.0</td>\n",
       "      <td>0.0</td>\n",
       "      <td>0.0</td>\n",
       "      <td>0.0</td>\n",
       "      <td>0</td>\n",
       "      <td>0</td>\n",
       "      <td>0</td>\n",
       "      <td>0</td>\n",
       "      <td>1</td>\n",
       "    </tr>\n",
       "    <tr>\n",
       "      <th>2</th>\n",
       "      <td>2015</td>\n",
       "      <td>1</td>\n",
       "      <td>1</td>\n",
       "      <td>4</td>\n",
       "      <td>840</td>\n",
       "      <td>-2.0</td>\n",
       "      <td>16.0</td>\n",
       "      <td>293.0</td>\n",
       "      <td>266.0</td>\n",
       "      <td>2296</td>\n",
       "      <td>...</td>\n",
       "      <td>0.0</td>\n",
       "      <td>0.0</td>\n",
       "      <td>0.0</td>\n",
       "      <td>0.0</td>\n",
       "      <td>0.0</td>\n",
       "      <td>0</td>\n",
       "      <td>0</td>\n",
       "      <td>0</td>\n",
       "      <td>0</td>\n",
       "      <td>1</td>\n",
       "    </tr>\n",
       "    <tr>\n",
       "      <th>3</th>\n",
       "      <td>2015</td>\n",
       "      <td>1</td>\n",
       "      <td>1</td>\n",
       "      <td>4</td>\n",
       "      <td>258</td>\n",
       "      <td>-5.0</td>\n",
       "      <td>15.0</td>\n",
       "      <td>281.0</td>\n",
       "      <td>258.0</td>\n",
       "      <td>2342</td>\n",
       "      <td>...</td>\n",
       "      <td>0.0</td>\n",
       "      <td>0.0</td>\n",
       "      <td>0.0</td>\n",
       "      <td>0.0</td>\n",
       "      <td>0.0</td>\n",
       "      <td>0</td>\n",
       "      <td>0</td>\n",
       "      <td>0</td>\n",
       "      <td>0</td>\n",
       "      <td>1</td>\n",
       "    </tr>\n",
       "    <tr>\n",
       "      <th>4</th>\n",
       "      <td>2015</td>\n",
       "      <td>1</td>\n",
       "      <td>1</td>\n",
       "      <td>4</td>\n",
       "      <td>135</td>\n",
       "      <td>-1.0</td>\n",
       "      <td>11.0</td>\n",
       "      <td>215.0</td>\n",
       "      <td>199.0</td>\n",
       "      <td>1448</td>\n",
       "      <td>...</td>\n",
       "      <td>0.0</td>\n",
       "      <td>0.0</td>\n",
       "      <td>0.0</td>\n",
       "      <td>0.0</td>\n",
       "      <td>0.0</td>\n",
       "      <td>0</td>\n",
       "      <td>0</td>\n",
       "      <td>0</td>\n",
       "      <td>0</td>\n",
       "      <td>1</td>\n",
       "    </tr>\n",
       "  </tbody>\n",
       "</table>\n",
       "<p>5 rows × 24 columns</p>\n",
       "</div>"
      ],
      "text/plain": [
       "   YEAR  MONTH  DAY  DAY_OF_WEEK  FLIGHT_NUMBER  DEPARTURE_DELAY  TAXI_OUT  \\\n",
       "0  2015      1    1            4             98            -11.0      21.0   \n",
       "1  2015      1    1            4           2336             -8.0      12.0   \n",
       "2  2015      1    1            4            840             -2.0      16.0   \n",
       "3  2015      1    1            4            258             -5.0      15.0   \n",
       "4  2015      1    1            4            135             -1.0      11.0   \n",
       "\n",
       "   ELAPSED_TIME  AIR_TIME  DISTANCE  ...  AIR_SYSTEM_DELAY  SECURITY_DELAY  \\\n",
       "0         194.0     169.0      1448  ...               0.0             0.0   \n",
       "1         279.0     263.0      2330  ...               0.0             0.0   \n",
       "2         293.0     266.0      2296  ...               0.0             0.0   \n",
       "3         281.0     258.0      2342  ...               0.0             0.0   \n",
       "4         215.0     199.0      1448  ...               0.0             0.0   \n",
       "\n",
       "   AIRLINE_DELAY  LATE_AIRCRAFT_DELAY  WEATHER_DELAY  CANCELLATION_REASON_A  \\\n",
       "0            0.0                  0.0            0.0                      0   \n",
       "1            0.0                  0.0            0.0                      0   \n",
       "2            0.0                  0.0            0.0                      0   \n",
       "3            0.0                  0.0            0.0                      0   \n",
       "4            0.0                  0.0            0.0                      0   \n",
       "\n",
       "   CANCELLATION_REASON_B  CANCELLATION_REASON_C  CANCELLATION_REASON_D  \\\n",
       "0                      0                      0                      0   \n",
       "1                      0                      0                      0   \n",
       "2                      0                      0                      0   \n",
       "3                      0                      0                      0   \n",
       "4                      0                      0                      0   \n",
       "\n",
       "   CANCELLATION_REASON_N  \n",
       "0                      1  \n",
       "1                      1  \n",
       "2                      1  \n",
       "3                      1  \n",
       "4                      1  \n",
       "\n",
       "[5 rows x 24 columns]"
      ]
     },
     "execution_count": 26,
     "metadata": {},
     "output_type": "execute_result"
    }
   ],
   "source": [
    "# Look at what continuous variables we have to work with\n",
    "df.select_dtypes(np.number).head()"
   ]
  },
  {
   "cell_type": "code",
   "execution_count": 27,
   "id": "CYTxuzX0phQT",
   "metadata": {
    "id": "CYTxuzX0phQT"
   },
   "outputs": [],
   "source": [
    "# Select columns for PCA\n",
    "df_numeric = df[['DEPARTURE_DELAY', 'TAXI_OUT', 'ELAPSED_TIME', 'AIR_TIME', \n",
    "            'DISTANCE', 'TAXI_IN', 'ARRIVAL_DELAY', 'DIVERTED', \n",
    "            'AIR_SYSTEM_DELAY', 'SECURITY_DELAY', 'AIRLINE_DELAY', \n",
    "            'LATE_AIRCRAFT_DELAY', 'WEATHER_DELAY', 'CANCELLATION_REASON_A', \n",
    "            'CANCELLATION_REASON_B', 'CANCELLATION_REASON_C', \n",
    "            'CANCELLATION_REASON_D', 'CANCELLATION_REASON_N']]"
   ]
  },
  {
   "cell_type": "code",
   "execution_count": 28,
   "id": "NSfdkxKKrxfb",
   "metadata": {
    "colab": {
     "base_uri": "https://localhost:8080/"
    },
    "id": "NSfdkxKKrxfb",
    "outputId": "84f2f90b-facd-463d-8698-997d32a2601d"
   },
   "outputs": [
    {
     "data": {
      "text/plain": [
       "(5708334, 18)"
      ]
     },
     "execution_count": 28,
     "metadata": {},
     "output_type": "execute_result"
    }
   ],
   "source": [
    "df_numeric.shape"
   ]
  },
  {
   "cell_type": "code",
   "execution_count": 29,
   "id": "RfToBNB8rF6S",
   "metadata": {
    "id": "RfToBNB8rF6S"
   },
   "outputs": [],
   "source": [
    "# Source: https://towardsdatascience.com/principal-component-analysis-pca-with-scikit-learn-1e84a0c731b0\n",
    "# Standardize the features\n",
    "from sklearn.preprocessing import StandardScaler\n",
    "from sklearn.decomposition import PCA\n",
    "\n",
    "# Create the object\n",
    "scaler = StandardScaler()\n",
    "# Calculate the mean and standard deviation\n",
    "scaler.fit(df_numeric)\n",
    "df_pca_scaled = scaler.transform(df_numeric)"
   ]
  },
  {
   "cell_type": "code",
   "execution_count": 30,
   "id": "p7fZjhlYuZ6a",
   "metadata": {
    "id": "p7fZjhlYuZ6a"
   },
   "outputs": [
    {
     "data": {
      "text/plain": [
       "array([26.05949726, 50.60752447, 61.51241579, 69.96793895, 78.30235344,\n",
       "       86.47607986, 94.17304731, 99.32984484])"
      ]
     },
     "execution_count": 30,
     "metadata": {},
     "output_type": "execute_result"
    }
   ],
   "source": [
    "# Calculate the PCA that explains 95% of the variance\n",
    "pca_95 = PCA(n_components=0.95, random_state=2015)\n",
    "pca_95.fit(df_pca_scaled)\n",
    "df_pca_95 = pca_95.transform(df_pca_scaled)\n",
    "\n",
    "# Display the PCA values\n",
    "np.cumsum(pca_95.explained_variance_ratio_*100)"
   ]
  },
  {
   "cell_type": "code",
   "execution_count": 31,
   "id": "c4c2664a",
   "metadata": {
    "id": "c4c2664a"
   },
   "outputs": [
    {
     "data": {
      "text/plain": [
       "Text(0, 0.5, 'Explained Variance')"
      ]
     },
     "execution_count": 31,
     "metadata": {},
     "output_type": "execute_result"
    },
    {
     "data": {
      "image/png": "[encoded data removed]",
      "text/plain": [
       "<Figure size 432x288 with 1 Axes>"
      ]
     },
     "metadata": {},
     "output_type": "display_data"
    }
   ],
   "source": [
    "# Plot PCA results\n",
    "plt.plot(np.cumsum(pca_95.explained_variance_ratio_))\n",
    "plt.xlabel('Number of Components')\n",
    "plt.ylabel('Explained Variance')"
   ]
  },
  {
   "cell_type": "markdown",
   "id": "6f8ee415",
   "metadata": {},
   "source": [
    "The above skree plot shows a sharp uptick in explained variance between PC1 and PC2, then a steady rise until PC7 which brings the total explained variance to 94.173%. "
   ]
  },
  {
   "cell_type": "code",
   "execution_count": 32,
   "id": "dd295d79",
   "metadata": {
    "id": "dd295d79"
   },
   "outputs": [
    {
     "data": {
      "text/html": [
       "<div>\n",
       "<style scoped>\n",
       "    .dataframe tbody tr th:only-of-type {\n",
       "        vertical-align: middle;\n",
       "    }\n",
       "\n",
       "    .dataframe tbody tr th {\n",
       "        vertical-align: top;\n",
       "    }\n",
       "\n",
       "    .dataframe thead th {\n",
       "        text-align: right;\n",
       "    }\n",
       "</style>\n",
       "<table border=\"1\" class=\"dataframe\">\n",
       "  <thead>\n",
       "    <tr style=\"text-align: right;\">\n",
       "      <th></th>\n",
       "      <th>PC1</th>\n",
       "      <th>PC2</th>\n",
       "      <th>PC3</th>\n",
       "      <th>PC4</th>\n",
       "      <th>PC5</th>\n",
       "      <th>PC6</th>\n",
       "      <th>PC7</th>\n",
       "      <th>PC8</th>\n",
       "      <th>Cancelled</th>\n",
       "    </tr>\n",
       "  </thead>\n",
       "  <tbody>\n",
       "    <tr>\n",
       "      <th>0</th>\n",
       "      <td>0.187460</td>\n",
       "      <td>-1.693160</td>\n",
       "      <td>-0.039036</td>\n",
       "      <td>0.668661</td>\n",
       "      <td>-0.032798</td>\n",
       "      <td>-0.492053</td>\n",
       "      <td>-0.218497</td>\n",
       "      <td>-0.142132</td>\n",
       "      <td>0.0</td>\n",
       "    </tr>\n",
       "    <tr>\n",
       "      <th>1</th>\n",
       "      <td>1.504133</td>\n",
       "      <td>-3.346636</td>\n",
       "      <td>-0.939539</td>\n",
       "      <td>0.403371</td>\n",
       "      <td>-0.029140</td>\n",
       "      <td>-0.090204</td>\n",
       "      <td>-0.121051</td>\n",
       "      <td>0.611123</td>\n",
       "      <td>0.0</td>\n",
       "    </tr>\n",
       "    <tr>\n",
       "      <th>2</th>\n",
       "      <td>2.000487</td>\n",
       "      <td>-3.297390</td>\n",
       "      <td>-0.290363</td>\n",
       "      <td>-0.298375</td>\n",
       "      <td>-0.010068</td>\n",
       "      <td>0.323304</td>\n",
       "      <td>0.117204</td>\n",
       "      <td>-0.090308</td>\n",
       "      <td>0.0</td>\n",
       "    </tr>\n",
       "    <tr>\n",
       "      <th>3</th>\n",
       "      <td>1.662409</td>\n",
       "      <td>-3.337228</td>\n",
       "      <td>-0.518949</td>\n",
       "      <td>0.030071</td>\n",
       "      <td>-0.019084</td>\n",
       "      <td>0.116694</td>\n",
       "      <td>0.003855</td>\n",
       "      <td>0.160460</td>\n",
       "      <td>0.0</td>\n",
       "    </tr>\n",
       "    <tr>\n",
       "      <th>4</th>\n",
       "      <td>0.384728</td>\n",
       "      <td>-1.915335</td>\n",
       "      <td>-0.712382</td>\n",
       "      <td>0.188741</td>\n",
       "      <td>-0.018902</td>\n",
       "      <td>0.019781</td>\n",
       "      <td>-0.025231</td>\n",
       "      <td>0.508354</td>\n",
       "      <td>0.0</td>\n",
       "    </tr>\n",
       "  </tbody>\n",
       "</table>\n",
       "</div>"
      ],
      "text/plain": [
       "        PC1       PC2       PC3       PC4       PC5       PC6       PC7  \\\n",
       "0  0.187460 -1.693160 -0.039036  0.668661 -0.032798 -0.492053 -0.218497   \n",
       "1  1.504133 -3.346636 -0.939539  0.403371 -0.029140 -0.090204 -0.121051   \n",
       "2  2.000487 -3.297390 -0.290363 -0.298375 -0.010068  0.323304  0.117204   \n",
       "3  1.662409 -3.337228 -0.518949  0.030071 -0.019084  0.116694  0.003855   \n",
       "4  0.384728 -1.915335 -0.712382  0.188741 -0.018902  0.019781 -0.025231   \n",
       "\n",
       "        PC8  Cancelled  \n",
       "0 -0.142132        0.0  \n",
       "1  0.611123        0.0  \n",
       "2 -0.090308        0.0  \n",
       "3  0.160460        0.0  \n",
       "4  0.508354        0.0  "
      ]
     },
     "execution_count": 32,
     "metadata": {},
     "output_type": "execute_result"
    }
   ],
   "source": [
    "df_post_pca = pd.DataFrame(df_pca_95, columns = ['PC1', 'PC2', 'PC3', 'PC4', 'PC5', 'PC6', 'PC7', 'PC8'])\n",
    "df_post_pca['Cancelled'] = df.CANCELLED\n",
    "df_post_pca.head()"
   ]
  }
 ],
 "metadata": {
  "colab": {
   "collapsed_sections": [],
   "include_colab_link": true,
   "name": "Copy of Lab1_Group4.ipynb",
   "provenance": [],
   "toc_visible": true
  },
  "kernelspec": {
   "display_name": "Python 3",
   "language": "python",
   "name": "python3"
  },
  "language_info": {
   "codemirror_mode": {
    "name": "ipython",
    "version": 3
   },
   "file_extension": ".py",
   "mimetype": "text/x-python",
   "name": "python",
   "nbconvert_exporter": "python",
   "pygments_lexer": "ipython3",
   "version": "3.7.10"
  }
 },
 "nbformat": 4,
 "nbformat_minor": 5
}
