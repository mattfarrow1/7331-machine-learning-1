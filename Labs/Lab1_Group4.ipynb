{
  "nbformat": 4,
  "nbformat_minor": 5,
  "metadata": {
    "kernelspec": {
      "display_name": "Python 3",
      "language": "python",
      "name": "python3"
    },
    "language_info": {
      "codemirror_mode": {
        "name": "ipython",
        "version": 3
      },
      "file_extension": ".py",
      "mimetype": "text/x-python",
      "name": "python",
      "nbconvert_exporter": "python",
      "pygments_lexer": "ipython3",
      "version": "3.7.10"
    },
    "colab": {
      "name": "Copy of Lab1_Group4.ipynb",
      "provenance": [],
      "collapsed_sections": [],
      "include_colab_link": true
    }
  },
  "cells": [
    {
      "cell_type": "markdown",
      "metadata": {
        "id": "view-in-github",
        "colab_type": "text"
      },
      "source": [
        "<a href=\"https://colab.research.google.com/github/mattfarrow1/7331-machine-learning-1/blob/main/Labs/Lab1_Group4.ipynb\" target=\"_parent\"><img src=\"https://colab.research.google.com/assets/colab-badge.svg\" alt=\"Open In Colab\"/></a>"
      ]
    },
    {
      "cell_type": "markdown",
      "metadata": {
        "id": "c0d2e13f"
      },
      "source": [
        "# Lab One: Visualization and Data Preprocessing"
      ],
      "id": "c0d2e13f"
    },
    {
      "cell_type": "markdown",
      "metadata": {
        "id": "6d024d25"
      },
      "source": [
        "Matt Farrow, Amber Clark, Blake Freeman, Megan Ball"
      ],
      "id": "6d024d25"
    },
    {
      "cell_type": "markdown",
      "metadata": {
        "id": "88d28dcd"
      },
      "source": [
        "## 2015 Flight Delays and Cancellations\n",
        "Data Source: [Kaggle](https://www.kaggle.com/usdot/flight-delays?select=flights.csv)"
      ],
      "id": "88d28dcd"
    },
    {
      "cell_type": "markdown",
      "metadata": {
        "id": "83abe554"
      },
      "source": [
        "### Business Understanding"
      ],
      "id": "83abe554"
    },
    {
      "cell_type": "markdown",
      "metadata": {
        "id": "d1779117"
      },
      "source": [
        "Describe the purpose of the data set you selected (i.e., why was this data collected in the first place?). Describe how you would define and measure the outcomes from the dataset. That is, why is this data important and how do you know if you have mined useful knowledge from the dataset? How would you measure the effectiveness of a good prediction algorithm? Be specific."
      ],
      "id": "d1779117"
    },
    {
      "cell_type": "markdown",
      "metadata": {
        "id": "f6958737"
      },
      "source": [
        "The data set that our group selected came the U.S. Department of Transportation's Bureau of Transportation Statistics and \"tracks the on-time performance of domestic flights operated by large air carriers\" during 2015. ([Kaggle](https://www.kaggle.com/usdot/flight-delays))"
      ],
      "id": "f6958737"
    },
    {
      "cell_type": "code",
      "metadata": {
        "id": "458f1645"
      },
      "source": [
        "# Load libraries\n",
        "import pandas as pd\n",
        "import numpy as np\n",
        "import seaborn as sns\n",
        "import matplotlib.pyplot as plt\n",
        "%matplotlib inline"
      ],
      "id": "458f1645",
      "execution_count": null,
      "outputs": []
    },
    {
      "cell_type": "code",
      "metadata": {
        "scrolled": true,
        "id": "ce20dda1",
        "colab": {
          "base_uri": "https://localhost:8080/"
        },
        "outputId": "b6777c21-81e5-4ec9-fe9c-9194cf8116b3"
      },
      "source": [
        "#force import the times as strings to keep leading zeroes. Later on will need to convert to time\n",
        "dtype_t = {'SCHEDULED_DEPARTURE': str,\n",
        "           'DEPARTURE_TIME': str,\n",
        "           'WHEELS_OFF': str,\n",
        "           'SCHEDULED_TIME': str,\n",
        "           'WHEELS_ON': str,\n",
        "           'SCHEDULED_ARRIVAL': str,\n",
        "           'ARRIVAL_TIME': str\n",
        "          }\n",
        "\n",
        "# Read in the data using Pandas\n",
        "# airlines = pd.read_csv('../Data/airlines.csv')\n",
        "# airports = pd.read_csv('../Data/airports.csv')\n",
        "# flights  = pd.read_csv('../Data/flights.csv', dtype = dtype_t)\n",
        "\n",
        "# Read in the data directly from GitHub\n",
        "airlines = pd.read_csv('https://raw.githubusercontent.com/mattfarrow1/7331-machine-learning-1/main/Data/airlines.csv')\n",
        "airports = pd.read_csv('https://raw.githubusercontent.com/mattfarrow1/7331-machine-learning-1/main/Data/airports.csv')\n",
        "flights  = pd.read_csv('https://media.githubusercontent.com/media/mattfarrow1/7331-machine-learning-1/main/Data/flights.csv', dtype = dtype_t)"
      ],
      "id": "ce20dda1",
      "execution_count": null,
      "outputs": [
        {
          "output_type": "stream",
          "text": [
            "/usr/local/lib/python3.7/dist-packages/IPython/core/interactiveshell.py:2718: DtypeWarning: Columns (7,8) have mixed types.Specify dtype option on import or set low_memory=False.\n",
            "  interactivity=interactivity, compiler=compiler, result=result)\n"
          ],
          "name": "stderr"
        }
      ]
    },
    {
      "cell_type": "code",
      "metadata": {
        "id": "cab3e312",
        "colab": {
          "base_uri": "https://localhost:8080/",
          "height": 204
        },
        "outputId": "10769be6-27ae-4954-fc36-731b5749787c"
      },
      "source": [
        "airlines.head()"
      ],
      "id": "cab3e312",
      "execution_count": null,
      "outputs": [
        {
          "output_type": "execute_result",
          "data": {
            "text/html": [
              "<div>\n",
              "<style scoped>\n",
              "    .dataframe tbody tr th:only-of-type {\n",
              "        vertical-align: middle;\n",
              "    }\n",
              "\n",
              "    .dataframe tbody tr th {\n",
              "        vertical-align: top;\n",
              "    }\n",
              "\n",
              "    .dataframe thead th {\n",
              "        text-align: right;\n",
              "    }\n",
              "</style>\n",
              "<table border=\"1\" class=\"dataframe\">\n",
              "  <thead>\n",
              "    <tr style=\"text-align: right;\">\n",
              "      <th></th>\n",
              "      <th>IATA_CODE</th>\n",
              "      <th>AIRLINE</th>\n",
              "    </tr>\n",
              "  </thead>\n",
              "  <tbody>\n",
              "    <tr>\n",
              "      <th>0</th>\n",
              "      <td>UA</td>\n",
              "      <td>United Air Lines Inc.</td>\n",
              "    </tr>\n",
              "    <tr>\n",
              "      <th>1</th>\n",
              "      <td>AA</td>\n",
              "      <td>American Airlines Inc.</td>\n",
              "    </tr>\n",
              "    <tr>\n",
              "      <th>2</th>\n",
              "      <td>US</td>\n",
              "      <td>US Airways Inc.</td>\n",
              "    </tr>\n",
              "    <tr>\n",
              "      <th>3</th>\n",
              "      <td>F9</td>\n",
              "      <td>Frontier Airlines Inc.</td>\n",
              "    </tr>\n",
              "    <tr>\n",
              "      <th>4</th>\n",
              "      <td>B6</td>\n",
              "      <td>JetBlue Airways</td>\n",
              "    </tr>\n",
              "  </tbody>\n",
              "</table>\n",
              "</div>"
            ],
            "text/plain": [
              "  IATA_CODE                 AIRLINE\n",
              "0        UA   United Air Lines Inc.\n",
              "1        AA  American Airlines Inc.\n",
              "2        US         US Airways Inc.\n",
              "3        F9  Frontier Airlines Inc.\n",
              "4        B6         JetBlue Airways"
            ]
          },
          "metadata": {
            "tags": []
          },
          "execution_count": 7
        }
      ]
    },
    {
      "cell_type": "code",
      "metadata": {
        "id": "570275eb",
        "colab": {
          "base_uri": "https://localhost:8080/",
          "height": 204
        },
        "outputId": "9481f8e9-a9a5-4fc3-f31e-4865ed684db7"
      },
      "source": [
        "airports.head()"
      ],
      "id": "570275eb",
      "execution_count": null,
      "outputs": [
        {
          "output_type": "execute_result",
          "data": {
            "text/html": [
              "<div>\n",
              "<style scoped>\n",
              "    .dataframe tbody tr th:only-of-type {\n",
              "        vertical-align: middle;\n",
              "    }\n",
              "\n",
              "    .dataframe tbody tr th {\n",
              "        vertical-align: top;\n",
              "    }\n",
              "\n",
              "    .dataframe thead th {\n",
              "        text-align: right;\n",
              "    }\n",
              "</style>\n",
              "<table border=\"1\" class=\"dataframe\">\n",
              "  <thead>\n",
              "    <tr style=\"text-align: right;\">\n",
              "      <th></th>\n",
              "      <th>IATA_CODE</th>\n",
              "      <th>AIRPORT</th>\n",
              "      <th>CITY</th>\n",
              "      <th>STATE</th>\n",
              "      <th>COUNTRY</th>\n",
              "      <th>LATITUDE</th>\n",
              "      <th>LONGITUDE</th>\n",
              "    </tr>\n",
              "  </thead>\n",
              "  <tbody>\n",
              "    <tr>\n",
              "      <th>0</th>\n",
              "      <td>ABE</td>\n",
              "      <td>Lehigh Valley International Airport</td>\n",
              "      <td>Allentown</td>\n",
              "      <td>PA</td>\n",
              "      <td>USA</td>\n",
              "      <td>40.65236</td>\n",
              "      <td>-75.44040</td>\n",
              "    </tr>\n",
              "    <tr>\n",
              "      <th>1</th>\n",
              "      <td>ABI</td>\n",
              "      <td>Abilene Regional Airport</td>\n",
              "      <td>Abilene</td>\n",
              "      <td>TX</td>\n",
              "      <td>USA</td>\n",
              "      <td>32.41132</td>\n",
              "      <td>-99.68190</td>\n",
              "    </tr>\n",
              "    <tr>\n",
              "      <th>2</th>\n",
              "      <td>ABQ</td>\n",
              "      <td>Albuquerque International Sunport</td>\n",
              "      <td>Albuquerque</td>\n",
              "      <td>NM</td>\n",
              "      <td>USA</td>\n",
              "      <td>35.04022</td>\n",
              "      <td>-106.60919</td>\n",
              "    </tr>\n",
              "    <tr>\n",
              "      <th>3</th>\n",
              "      <td>ABR</td>\n",
              "      <td>Aberdeen Regional Airport</td>\n",
              "      <td>Aberdeen</td>\n",
              "      <td>SD</td>\n",
              "      <td>USA</td>\n",
              "      <td>45.44906</td>\n",
              "      <td>-98.42183</td>\n",
              "    </tr>\n",
              "    <tr>\n",
              "      <th>4</th>\n",
              "      <td>ABY</td>\n",
              "      <td>Southwest Georgia Regional Airport</td>\n",
              "      <td>Albany</td>\n",
              "      <td>GA</td>\n",
              "      <td>USA</td>\n",
              "      <td>31.53552</td>\n",
              "      <td>-84.19447</td>\n",
              "    </tr>\n",
              "  </tbody>\n",
              "</table>\n",
              "</div>"
            ],
            "text/plain": [
              "  IATA_CODE                              AIRPORT  ...  LATITUDE  LONGITUDE\n",
              "0       ABE  Lehigh Valley International Airport  ...  40.65236  -75.44040\n",
              "1       ABI             Abilene Regional Airport  ...  32.41132  -99.68190\n",
              "2       ABQ    Albuquerque International Sunport  ...  35.04022 -106.60919\n",
              "3       ABR            Aberdeen Regional Airport  ...  45.44906  -98.42183\n",
              "4       ABY   Southwest Georgia Regional Airport  ...  31.53552  -84.19447\n",
              "\n",
              "[5 rows x 7 columns]"
            ]
          },
          "metadata": {
            "tags": []
          },
          "execution_count": 8
        }
      ]
    },
    {
      "cell_type": "code",
      "metadata": {
        "scrolled": true,
        "id": "1f1e5dd8",
        "colab": {
          "base_uri": "https://localhost:8080/",
          "height": 224
        },
        "outputId": "d3e078c7-eaf7-48ca-f803-8ab5518fdf06"
      },
      "source": [
        "flights.head()"
      ],
      "id": "1f1e5dd8",
      "execution_count": null,
      "outputs": [
        {
          "output_type": "execute_result",
          "data": {
            "text/html": [
              "<div>\n",
              "<style scoped>\n",
              "    .dataframe tbody tr th:only-of-type {\n",
              "        vertical-align: middle;\n",
              "    }\n",
              "\n",
              "    .dataframe tbody tr th {\n",
              "        vertical-align: top;\n",
              "    }\n",
              "\n",
              "    .dataframe thead th {\n",
              "        text-align: right;\n",
              "    }\n",
              "</style>\n",
              "<table border=\"1\" class=\"dataframe\">\n",
              "  <thead>\n",
              "    <tr style=\"text-align: right;\">\n",
              "      <th></th>\n",
              "      <th>YEAR</th>\n",
              "      <th>MONTH</th>\n",
              "      <th>DAY</th>\n",
              "      <th>DAY_OF_WEEK</th>\n",
              "      <th>AIRLINE</th>\n",
              "      <th>FLIGHT_NUMBER</th>\n",
              "      <th>TAIL_NUMBER</th>\n",
              "      <th>ORIGIN_AIRPORT</th>\n",
              "      <th>DESTINATION_AIRPORT</th>\n",
              "      <th>SCHEDULED_DEPARTURE</th>\n",
              "      <th>DEPARTURE_TIME</th>\n",
              "      <th>DEPARTURE_DELAY</th>\n",
              "      <th>TAXI_OUT</th>\n",
              "      <th>WHEELS_OFF</th>\n",
              "      <th>SCHEDULED_TIME</th>\n",
              "      <th>ELAPSED_TIME</th>\n",
              "      <th>AIR_TIME</th>\n",
              "      <th>DISTANCE</th>\n",
              "      <th>WHEELS_ON</th>\n",
              "      <th>TAXI_IN</th>\n",
              "      <th>SCHEDULED_ARRIVAL</th>\n",
              "      <th>ARRIVAL_TIME</th>\n",
              "      <th>ARRIVAL_DELAY</th>\n",
              "      <th>DIVERTED</th>\n",
              "      <th>CANCELLED</th>\n",
              "      <th>CANCELLATION_REASON</th>\n",
              "      <th>AIR_SYSTEM_DELAY</th>\n",
              "      <th>SECURITY_DELAY</th>\n",
              "      <th>AIRLINE_DELAY</th>\n",
              "      <th>LATE_AIRCRAFT_DELAY</th>\n",
              "      <th>WEATHER_DELAY</th>\n",
              "    </tr>\n",
              "  </thead>\n",
              "  <tbody>\n",
              "    <tr>\n",
              "      <th>0</th>\n",
              "      <td>2015</td>\n",
              "      <td>1</td>\n",
              "      <td>1</td>\n",
              "      <td>4</td>\n",
              "      <td>AS</td>\n",
              "      <td>98</td>\n",
              "      <td>N407AS</td>\n",
              "      <td>ANC</td>\n",
              "      <td>SEA</td>\n",
              "      <td>5</td>\n",
              "      <td>2354.0</td>\n",
              "      <td>-11.0</td>\n",
              "      <td>21.0</td>\n",
              "      <td>15.0</td>\n",
              "      <td>205.0</td>\n",
              "      <td>194.0</td>\n",
              "      <td>169.0</td>\n",
              "      <td>1448</td>\n",
              "      <td>404.0</td>\n",
              "      <td>4.0</td>\n",
              "      <td>430</td>\n",
              "      <td>408.0</td>\n",
              "      <td>-22.0</td>\n",
              "      <td>0</td>\n",
              "      <td>0</td>\n",
              "      <td>NaN</td>\n",
              "      <td>NaN</td>\n",
              "      <td>NaN</td>\n",
              "      <td>NaN</td>\n",
              "      <td>NaN</td>\n",
              "      <td>NaN</td>\n",
              "    </tr>\n",
              "    <tr>\n",
              "      <th>1</th>\n",
              "      <td>2015</td>\n",
              "      <td>1</td>\n",
              "      <td>1</td>\n",
              "      <td>4</td>\n",
              "      <td>AA</td>\n",
              "      <td>2336</td>\n",
              "      <td>N3KUAA</td>\n",
              "      <td>LAX</td>\n",
              "      <td>PBI</td>\n",
              "      <td>10</td>\n",
              "      <td>2.0</td>\n",
              "      <td>-8.0</td>\n",
              "      <td>12.0</td>\n",
              "      <td>14.0</td>\n",
              "      <td>280.0</td>\n",
              "      <td>279.0</td>\n",
              "      <td>263.0</td>\n",
              "      <td>2330</td>\n",
              "      <td>737.0</td>\n",
              "      <td>4.0</td>\n",
              "      <td>750</td>\n",
              "      <td>741.0</td>\n",
              "      <td>-9.0</td>\n",
              "      <td>0</td>\n",
              "      <td>0</td>\n",
              "      <td>NaN</td>\n",
              "      <td>NaN</td>\n",
              "      <td>NaN</td>\n",
              "      <td>NaN</td>\n",
              "      <td>NaN</td>\n",
              "      <td>NaN</td>\n",
              "    </tr>\n",
              "    <tr>\n",
              "      <th>2</th>\n",
              "      <td>2015</td>\n",
              "      <td>1</td>\n",
              "      <td>1</td>\n",
              "      <td>4</td>\n",
              "      <td>US</td>\n",
              "      <td>840</td>\n",
              "      <td>N171US</td>\n",
              "      <td>SFO</td>\n",
              "      <td>CLT</td>\n",
              "      <td>20</td>\n",
              "      <td>18.0</td>\n",
              "      <td>-2.0</td>\n",
              "      <td>16.0</td>\n",
              "      <td>34.0</td>\n",
              "      <td>286.0</td>\n",
              "      <td>293.0</td>\n",
              "      <td>266.0</td>\n",
              "      <td>2296</td>\n",
              "      <td>800.0</td>\n",
              "      <td>11.0</td>\n",
              "      <td>806</td>\n",
              "      <td>811.0</td>\n",
              "      <td>5.0</td>\n",
              "      <td>0</td>\n",
              "      <td>0</td>\n",
              "      <td>NaN</td>\n",
              "      <td>NaN</td>\n",
              "      <td>NaN</td>\n",
              "      <td>NaN</td>\n",
              "      <td>NaN</td>\n",
              "      <td>NaN</td>\n",
              "    </tr>\n",
              "    <tr>\n",
              "      <th>3</th>\n",
              "      <td>2015</td>\n",
              "      <td>1</td>\n",
              "      <td>1</td>\n",
              "      <td>4</td>\n",
              "      <td>AA</td>\n",
              "      <td>258</td>\n",
              "      <td>N3HYAA</td>\n",
              "      <td>LAX</td>\n",
              "      <td>MIA</td>\n",
              "      <td>20</td>\n",
              "      <td>15.0</td>\n",
              "      <td>-5.0</td>\n",
              "      <td>15.0</td>\n",
              "      <td>30.0</td>\n",
              "      <td>285.0</td>\n",
              "      <td>281.0</td>\n",
              "      <td>258.0</td>\n",
              "      <td>2342</td>\n",
              "      <td>748.0</td>\n",
              "      <td>8.0</td>\n",
              "      <td>805</td>\n",
              "      <td>756.0</td>\n",
              "      <td>-9.0</td>\n",
              "      <td>0</td>\n",
              "      <td>0</td>\n",
              "      <td>NaN</td>\n",
              "      <td>NaN</td>\n",
              "      <td>NaN</td>\n",
              "      <td>NaN</td>\n",
              "      <td>NaN</td>\n",
              "      <td>NaN</td>\n",
              "    </tr>\n",
              "    <tr>\n",
              "      <th>4</th>\n",
              "      <td>2015</td>\n",
              "      <td>1</td>\n",
              "      <td>1</td>\n",
              "      <td>4</td>\n",
              "      <td>AS</td>\n",
              "      <td>135</td>\n",
              "      <td>N527AS</td>\n",
              "      <td>SEA</td>\n",
              "      <td>ANC</td>\n",
              "      <td>25</td>\n",
              "      <td>24.0</td>\n",
              "      <td>-1.0</td>\n",
              "      <td>11.0</td>\n",
              "      <td>35.0</td>\n",
              "      <td>235.0</td>\n",
              "      <td>215.0</td>\n",
              "      <td>199.0</td>\n",
              "      <td>1448</td>\n",
              "      <td>254.0</td>\n",
              "      <td>5.0</td>\n",
              "      <td>320</td>\n",
              "      <td>259.0</td>\n",
              "      <td>-21.0</td>\n",
              "      <td>0</td>\n",
              "      <td>0</td>\n",
              "      <td>NaN</td>\n",
              "      <td>NaN</td>\n",
              "      <td>NaN</td>\n",
              "      <td>NaN</td>\n",
              "      <td>NaN</td>\n",
              "      <td>NaN</td>\n",
              "    </tr>\n",
              "  </tbody>\n",
              "</table>\n",
              "</div>"
            ],
            "text/plain": [
              "   YEAR  MONTH  DAY  ...  AIRLINE_DELAY LATE_AIRCRAFT_DELAY  WEATHER_DELAY\n",
              "0  2015      1    1  ...            NaN                 NaN            NaN\n",
              "1  2015      1    1  ...            NaN                 NaN            NaN\n",
              "2  2015      1    1  ...            NaN                 NaN            NaN\n",
              "3  2015      1    1  ...            NaN                 NaN            NaN\n",
              "4  2015      1    1  ...            NaN                 NaN            NaN\n",
              "\n",
              "[5 rows x 31 columns]"
            ]
          },
          "metadata": {
            "tags": []
          },
          "execution_count": 9
        }
      ]
    },
    {
      "cell_type": "code",
      "metadata": {
        "id": "2009e446"
      },
      "source": [
        "# Rename columns in preparation for merge\n",
        "airlines.rename(columns={'IATA_CODE': 'AIRLINE_CODE'}, inplace=True)\n",
        "flights.rename(columns={'AIRLINE': 'AIRLINE_CODE'}, inplace=True)"
      ],
      "id": "2009e446",
      "execution_count": null,
      "outputs": []
    },
    {
      "cell_type": "code",
      "metadata": {
        "id": "6b275ee4"
      },
      "source": [
        "# Merge data together\n",
        "df = pd.merge(flights, airlines, on='AIRLINE_CODE', how = 'left')"
      ],
      "id": "6b275ee4",
      "execution_count": null,
      "outputs": []
    },
    {
      "cell_type": "code",
      "metadata": {
        "scrolled": true,
        "id": "35ec9ab9",
        "colab": {
          "base_uri": "https://localhost:8080/",
          "height": 394
        },
        "outputId": "56b35a91-d870-4bd9-896e-acb8ca6825d1"
      },
      "source": [
        "df.head()"
      ],
      "id": "35ec9ab9",
      "execution_count": null,
      "outputs": [
        {
          "output_type": "execute_result",
          "data": {
            "text/html": [
              "<div>\n",
              "<style scoped>\n",
              "    .dataframe tbody tr th:only-of-type {\n",
              "        vertical-align: middle;\n",
              "    }\n",
              "\n",
              "    .dataframe tbody tr th {\n",
              "        vertical-align: top;\n",
              "    }\n",
              "\n",
              "    .dataframe thead th {\n",
              "        text-align: right;\n",
              "    }\n",
              "</style>\n",
              "<table border=\"1\" class=\"dataframe\">\n",
              "  <thead>\n",
              "    <tr style=\"text-align: right;\">\n",
              "      <th></th>\n",
              "      <th>YEAR</th>\n",
              "      <th>MONTH</th>\n",
              "      <th>DAY</th>\n",
              "      <th>DAY_OF_WEEK</th>\n",
              "      <th>AIRLINE_CODE</th>\n",
              "      <th>FLIGHT_NUMBER</th>\n",
              "      <th>TAIL_NUMBER</th>\n",
              "      <th>ORIGIN_AIRPORT</th>\n",
              "      <th>DESTINATION_AIRPORT</th>\n",
              "      <th>SCHEDULED_DEPARTURE</th>\n",
              "      <th>DEPARTURE_TIME</th>\n",
              "      <th>DEPARTURE_DELAY</th>\n",
              "      <th>TAXI_OUT</th>\n",
              "      <th>WHEELS_OFF</th>\n",
              "      <th>SCHEDULED_TIME</th>\n",
              "      <th>ELAPSED_TIME</th>\n",
              "      <th>AIR_TIME</th>\n",
              "      <th>DISTANCE</th>\n",
              "      <th>WHEELS_ON</th>\n",
              "      <th>TAXI_IN</th>\n",
              "      <th>SCHEDULED_ARRIVAL</th>\n",
              "      <th>ARRIVAL_TIME</th>\n",
              "      <th>ARRIVAL_DELAY</th>\n",
              "      <th>DIVERTED</th>\n",
              "      <th>CANCELLED</th>\n",
              "      <th>CANCELLATION_REASON</th>\n",
              "      <th>AIR_SYSTEM_DELAY</th>\n",
              "      <th>SECURITY_DELAY</th>\n",
              "      <th>AIRLINE_DELAY</th>\n",
              "      <th>LATE_AIRCRAFT_DELAY</th>\n",
              "      <th>WEATHER_DELAY</th>\n",
              "      <th>AIRLINE</th>\n",
              "    </tr>\n",
              "  </thead>\n",
              "  <tbody>\n",
              "    <tr>\n",
              "      <th>0</th>\n",
              "      <td>2015</td>\n",
              "      <td>1</td>\n",
              "      <td>1</td>\n",
              "      <td>4</td>\n",
              "      <td>AS</td>\n",
              "      <td>98</td>\n",
              "      <td>N407AS</td>\n",
              "      <td>ANC</td>\n",
              "      <td>SEA</td>\n",
              "      <td>5</td>\n",
              "      <td>2354.0</td>\n",
              "      <td>-11.0</td>\n",
              "      <td>21.0</td>\n",
              "      <td>15.0</td>\n",
              "      <td>205.0</td>\n",
              "      <td>194.0</td>\n",
              "      <td>169.0</td>\n",
              "      <td>1448</td>\n",
              "      <td>404.0</td>\n",
              "      <td>4.0</td>\n",
              "      <td>430</td>\n",
              "      <td>408.0</td>\n",
              "      <td>-22.0</td>\n",
              "      <td>0</td>\n",
              "      <td>0</td>\n",
              "      <td>NaN</td>\n",
              "      <td>NaN</td>\n",
              "      <td>NaN</td>\n",
              "      <td>NaN</td>\n",
              "      <td>NaN</td>\n",
              "      <td>NaN</td>\n",
              "      <td>Alaska Airlines Inc.</td>\n",
              "    </tr>\n",
              "    <tr>\n",
              "      <th>1</th>\n",
              "      <td>2015</td>\n",
              "      <td>1</td>\n",
              "      <td>1</td>\n",
              "      <td>4</td>\n",
              "      <td>AA</td>\n",
              "      <td>2336</td>\n",
              "      <td>N3KUAA</td>\n",
              "      <td>LAX</td>\n",
              "      <td>PBI</td>\n",
              "      <td>10</td>\n",
              "      <td>2.0</td>\n",
              "      <td>-8.0</td>\n",
              "      <td>12.0</td>\n",
              "      <td>14.0</td>\n",
              "      <td>280.0</td>\n",
              "      <td>279.0</td>\n",
              "      <td>263.0</td>\n",
              "      <td>2330</td>\n",
              "      <td>737.0</td>\n",
              "      <td>4.0</td>\n",
              "      <td>750</td>\n",
              "      <td>741.0</td>\n",
              "      <td>-9.0</td>\n",
              "      <td>0</td>\n",
              "      <td>0</td>\n",
              "      <td>NaN</td>\n",
              "      <td>NaN</td>\n",
              "      <td>NaN</td>\n",
              "      <td>NaN</td>\n",
              "      <td>NaN</td>\n",
              "      <td>NaN</td>\n",
              "      <td>American Airlines Inc.</td>\n",
              "    </tr>\n",
              "    <tr>\n",
              "      <th>2</th>\n",
              "      <td>2015</td>\n",
              "      <td>1</td>\n",
              "      <td>1</td>\n",
              "      <td>4</td>\n",
              "      <td>US</td>\n",
              "      <td>840</td>\n",
              "      <td>N171US</td>\n",
              "      <td>SFO</td>\n",
              "      <td>CLT</td>\n",
              "      <td>20</td>\n",
              "      <td>18.0</td>\n",
              "      <td>-2.0</td>\n",
              "      <td>16.0</td>\n",
              "      <td>34.0</td>\n",
              "      <td>286.0</td>\n",
              "      <td>293.0</td>\n",
              "      <td>266.0</td>\n",
              "      <td>2296</td>\n",
              "      <td>800.0</td>\n",
              "      <td>11.0</td>\n",
              "      <td>806</td>\n",
              "      <td>811.0</td>\n",
              "      <td>5.0</td>\n",
              "      <td>0</td>\n",
              "      <td>0</td>\n",
              "      <td>NaN</td>\n",
              "      <td>NaN</td>\n",
              "      <td>NaN</td>\n",
              "      <td>NaN</td>\n",
              "      <td>NaN</td>\n",
              "      <td>NaN</td>\n",
              "      <td>US Airways Inc.</td>\n",
              "    </tr>\n",
              "    <tr>\n",
              "      <th>3</th>\n",
              "      <td>2015</td>\n",
              "      <td>1</td>\n",
              "      <td>1</td>\n",
              "      <td>4</td>\n",
              "      <td>AA</td>\n",
              "      <td>258</td>\n",
              "      <td>N3HYAA</td>\n",
              "      <td>LAX</td>\n",
              "      <td>MIA</td>\n",
              "      <td>20</td>\n",
              "      <td>15.0</td>\n",
              "      <td>-5.0</td>\n",
              "      <td>15.0</td>\n",
              "      <td>30.0</td>\n",
              "      <td>285.0</td>\n",
              "      <td>281.0</td>\n",
              "      <td>258.0</td>\n",
              "      <td>2342</td>\n",
              "      <td>748.0</td>\n",
              "      <td>8.0</td>\n",
              "      <td>805</td>\n",
              "      <td>756.0</td>\n",
              "      <td>-9.0</td>\n",
              "      <td>0</td>\n",
              "      <td>0</td>\n",
              "      <td>NaN</td>\n",
              "      <td>NaN</td>\n",
              "      <td>NaN</td>\n",
              "      <td>NaN</td>\n",
              "      <td>NaN</td>\n",
              "      <td>NaN</td>\n",
              "      <td>American Airlines Inc.</td>\n",
              "    </tr>\n",
              "    <tr>\n",
              "      <th>4</th>\n",
              "      <td>2015</td>\n",
              "      <td>1</td>\n",
              "      <td>1</td>\n",
              "      <td>4</td>\n",
              "      <td>AS</td>\n",
              "      <td>135</td>\n",
              "      <td>N527AS</td>\n",
              "      <td>SEA</td>\n",
              "      <td>ANC</td>\n",
              "      <td>25</td>\n",
              "      <td>24.0</td>\n",
              "      <td>-1.0</td>\n",
              "      <td>11.0</td>\n",
              "      <td>35.0</td>\n",
              "      <td>235.0</td>\n",
              "      <td>215.0</td>\n",
              "      <td>199.0</td>\n",
              "      <td>1448</td>\n",
              "      <td>254.0</td>\n",
              "      <td>5.0</td>\n",
              "      <td>320</td>\n",
              "      <td>259.0</td>\n",
              "      <td>-21.0</td>\n",
              "      <td>0</td>\n",
              "      <td>0</td>\n",
              "      <td>NaN</td>\n",
              "      <td>NaN</td>\n",
              "      <td>NaN</td>\n",
              "      <td>NaN</td>\n",
              "      <td>NaN</td>\n",
              "      <td>NaN</td>\n",
              "      <td>Alaska Airlines Inc.</td>\n",
              "    </tr>\n",
              "  </tbody>\n",
              "</table>\n",
              "</div>"
            ],
            "text/plain": [
              "   YEAR  MONTH  DAY  ...  LATE_AIRCRAFT_DELAY WEATHER_DELAY                 AIRLINE\n",
              "0  2015      1    1  ...                  NaN           NaN    Alaska Airlines Inc.\n",
              "1  2015      1    1  ...                  NaN           NaN  American Airlines Inc.\n",
              "2  2015      1    1  ...                  NaN           NaN         US Airways Inc.\n",
              "3  2015      1    1  ...                  NaN           NaN  American Airlines Inc.\n",
              "4  2015      1    1  ...                  NaN           NaN    Alaska Airlines Inc.\n",
              "\n",
              "[5 rows x 32 columns]"
            ]
          },
          "metadata": {
            "tags": []
          },
          "execution_count": 12
        }
      ]
    },
    {
      "cell_type": "markdown",
      "metadata": {
        "id": "b42cc5ef"
      },
      "source": [
        "### Data Meaning Type"
      ],
      "id": "b42cc5ef"
    },
    {
      "cell_type": "markdown",
      "metadata": {
        "id": "b5cd6fd8"
      },
      "source": [
        "Describe the meaning and type of data (scale, values, etc.) for each attribute in the data file."
      ],
      "id": "b5cd6fd8"
    },
    {
      "cell_type": "code",
      "metadata": {
        "scrolled": false,
        "id": "11c86e1b",
        "colab": {
          "base_uri": "https://localhost:8080/"
        },
        "outputId": "d57ee9b0-790e-46ab-a6c6-c4a14aff1e18"
      },
      "source": [
        "df.info()"
      ],
      "id": "11c86e1b",
      "execution_count": null,
      "outputs": [
        {
          "output_type": "stream",
          "text": [
            "<class 'pandas.core.frame.DataFrame'>\n",
            "Int64Index: 5819079 entries, 0 to 5819078\n",
            "Data columns (total 32 columns):\n",
            " #   Column               Dtype  \n",
            "---  ------               -----  \n",
            " 0   YEAR                 int64  \n",
            " 1   MONTH                int64  \n",
            " 2   DAY                  int64  \n",
            " 3   DAY_OF_WEEK          int64  \n",
            " 4   AIRLINE_CODE         object \n",
            " 5   FLIGHT_NUMBER        int64  \n",
            " 6   TAIL_NUMBER          object \n",
            " 7   ORIGIN_AIRPORT       object \n",
            " 8   DESTINATION_AIRPORT  object \n",
            " 9   SCHEDULED_DEPARTURE  int64  \n",
            " 10  DEPARTURE_TIME       float64\n",
            " 11  DEPARTURE_DELAY      float64\n",
            " 12  TAXI_OUT             float64\n",
            " 13  WHEELS_OFF           float64\n",
            " 14  SCHEDULED_TIME       float64\n",
            " 15  ELAPSED_TIME         float64\n",
            " 16  AIR_TIME             float64\n",
            " 17  DISTANCE             int64  \n",
            " 18  WHEELS_ON            float64\n",
            " 19  TAXI_IN              float64\n",
            " 20  SCHEDULED_ARRIVAL    int64  \n",
            " 21  ARRIVAL_TIME         float64\n",
            " 22  ARRIVAL_DELAY        float64\n",
            " 23  DIVERTED             int64  \n",
            " 24  CANCELLED            int64  \n",
            " 25  CANCELLATION_REASON  object \n",
            " 26  AIR_SYSTEM_DELAY     float64\n",
            " 27  SECURITY_DELAY       float64\n",
            " 28  AIRLINE_DELAY        float64\n",
            " 29  LATE_AIRCRAFT_DELAY  float64\n",
            " 30  WEATHER_DELAY        float64\n",
            " 31  AIRLINE              object \n",
            "dtypes: float64(16), int64(10), object(6)\n",
            "memory usage: 1.4+ GB\n"
          ],
          "name": "stdout"
        }
      ]
    },
    {
      "cell_type": "code",
      "metadata": {
        "id": "297dcddc"
      },
      "source": [
        "# Convert string columns to datetime\n",
        "# Source: https://stackoverflow.com/questions/41514173/change-multiple-columns-in-pandas-dataframe-to-datetime\n",
        "df.iloc[:, [9, 10, 13, 18, 20, 21]] = df.iloc[:, [9, 10, 13, 18, 20, 21]].apply(pd.to_datetime, format='%H%M', errors='coerce')"
      ],
      "id": "297dcddc",
      "execution_count": null,
      "outputs": []
    },
    {
      "cell_type": "code",
      "metadata": {
        "id": "5b6eb850",
        "colab": {
          "base_uri": "https://localhost:8080/",
          "height": 289
        },
        "outputId": "f9833577-95ce-4b56-c643-de8976b1627a"
      },
      "source": [
        "# Convert from string to time here\n",
        "df[[\"SCHEDULED_DEPARTURE\", \n",
        "   \"DEPARTURE_TIME\", \n",
        "   \"WHEELS_OFF\", \n",
        "   \"SCHEDULED_TIME\", \n",
        "   \"WHEELS_ON\", \n",
        "   \"SCHEDULED_ARRIVAL\", \n",
        "   \"ARRIVAL_TIME\"]].head()"
      ],
      "id": "5b6eb850",
      "execution_count": null,
      "outputs": [
        {
          "output_type": "execute_result",
          "data": {
            "text/html": [
              "<div>\n",
              "<style scoped>\n",
              "    .dataframe tbody tr th:only-of-type {\n",
              "        vertical-align: middle;\n",
              "    }\n",
              "\n",
              "    .dataframe tbody tr th {\n",
              "        vertical-align: top;\n",
              "    }\n",
              "\n",
              "    .dataframe thead th {\n",
              "        text-align: right;\n",
              "    }\n",
              "</style>\n",
              "<table border=\"1\" class=\"dataframe\">\n",
              "  <thead>\n",
              "    <tr style=\"text-align: right;\">\n",
              "      <th></th>\n",
              "      <th>SCHEDULED_DEPARTURE</th>\n",
              "      <th>DEPARTURE_TIME</th>\n",
              "      <th>WHEELS_OFF</th>\n",
              "      <th>SCHEDULED_TIME</th>\n",
              "      <th>WHEELS_ON</th>\n",
              "      <th>SCHEDULED_ARRIVAL</th>\n",
              "      <th>ARRIVAL_TIME</th>\n",
              "    </tr>\n",
              "  </thead>\n",
              "  <tbody>\n",
              "    <tr>\n",
              "      <th>0</th>\n",
              "      <td>NaT</td>\n",
              "      <td>1900-01-01 23:54:00</td>\n",
              "      <td>1900-01-01 01:05:00</td>\n",
              "      <td>205.0</td>\n",
              "      <td>1900-01-01 04:04:00</td>\n",
              "      <td>1900-01-01 04:30:00</td>\n",
              "      <td>1900-01-01 04:08:00</td>\n",
              "    </tr>\n",
              "    <tr>\n",
              "      <th>1</th>\n",
              "      <td>1900-01-01 01:00:00</td>\n",
              "      <td>NaT</td>\n",
              "      <td>1900-01-01 01:04:00</td>\n",
              "      <td>280.0</td>\n",
              "      <td>1900-01-01 07:37:00</td>\n",
              "      <td>1900-01-01 07:50:00</td>\n",
              "      <td>1900-01-01 07:41:00</td>\n",
              "    </tr>\n",
              "    <tr>\n",
              "      <th>2</th>\n",
              "      <td>1900-01-01 02:00:00</td>\n",
              "      <td>1900-01-01 01:08:00</td>\n",
              "      <td>1900-01-01 03:04:00</td>\n",
              "      <td>286.0</td>\n",
              "      <td>1900-01-01 08:00:00</td>\n",
              "      <td>1900-01-01 08:06:00</td>\n",
              "      <td>1900-01-01 08:11:00</td>\n",
              "    </tr>\n",
              "    <tr>\n",
              "      <th>3</th>\n",
              "      <td>1900-01-01 02:00:00</td>\n",
              "      <td>1900-01-01 01:05:00</td>\n",
              "      <td>1900-01-01 03:00:00</td>\n",
              "      <td>285.0</td>\n",
              "      <td>1900-01-01 07:48:00</td>\n",
              "      <td>1900-01-01 08:05:00</td>\n",
              "      <td>1900-01-01 07:56:00</td>\n",
              "    </tr>\n",
              "    <tr>\n",
              "      <th>4</th>\n",
              "      <td>1900-01-01 02:05:00</td>\n",
              "      <td>1900-01-01 02:04:00</td>\n",
              "      <td>1900-01-01 03:05:00</td>\n",
              "      <td>235.0</td>\n",
              "      <td>1900-01-01 02:54:00</td>\n",
              "      <td>1900-01-01 03:20:00</td>\n",
              "      <td>1900-01-01 02:59:00</td>\n",
              "    </tr>\n",
              "  </tbody>\n",
              "</table>\n",
              "</div>"
            ],
            "text/plain": [
              "  SCHEDULED_DEPARTURE  ...        ARRIVAL_TIME\n",
              "0                 NaT  ... 1900-01-01 04:08:00\n",
              "1 1900-01-01 01:00:00  ... 1900-01-01 07:41:00\n",
              "2 1900-01-01 02:00:00  ... 1900-01-01 08:11:00\n",
              "3 1900-01-01 02:00:00  ... 1900-01-01 07:56:00\n",
              "4 1900-01-01 02:05:00  ... 1900-01-01 02:59:00\n",
              "\n",
              "[5 rows x 7 columns]"
            ]
          },
          "metadata": {
            "tags": []
          },
          "execution_count": 15
        }
      ]
    },
    {
      "cell_type": "code",
      "metadata": {
        "id": "9wQyIem0JZ4k"
      },
      "source": [
        "# Convert YEAR, MONTH, DAY to date\n",
        "# Source: https://stackoverflow.com/questions/54487059/pandas-how-to-create-a-single-date-column-from-columns-containing-year-month\n",
        "df['FLIGHT_DATE'] = pd.to_datetime([f'{y}-{m}-{d}' for y, m, d in zip(df.YEAR, df.MONTH, df.DAY)])"
      ],
      "id": "9wQyIem0JZ4k",
      "execution_count": null,
      "outputs": []
    },
    {
      "cell_type": "markdown",
      "metadata": {
        "id": "34561fd9"
      },
      "source": [
        "### Data Quality"
      ],
      "id": "34561fd9"
    },
    {
      "cell_type": "markdown",
      "metadata": {
        "id": "a4463671"
      },
      "source": [
        "Verify data quality: Explain any missing values, duplicate data, and outliers. Are those mistakes? How do you deal with these problems? Give justifications for your methods."
      ],
      "id": "a4463671"
    },
    {
      "cell_type": "code",
      "metadata": {
        "id": "d0a0e195",
        "colab": {
          "base_uri": "https://localhost:8080/"
        },
        "outputId": "f16ca421-9183-4e0e-8630-f6bc2ee308f4"
      },
      "source": [
        "# How many missing values are there in the data?\n",
        "df.isnull().sum()"
      ],
      "id": "d0a0e195",
      "execution_count": null,
      "outputs": [
        {
          "output_type": "execute_result",
          "data": {
            "text/plain": [
              "YEAR                         0\n",
              "MONTH                        0\n",
              "DAY                          0\n",
              "DAY_OF_WEEK                  0\n",
              "AIRLINE_CODE                 0\n",
              "FLIGHT_NUMBER                0\n",
              "TAIL_NUMBER              14721\n",
              "ORIGIN_AIRPORT               0\n",
              "DESTINATION_AIRPORT          0\n",
              "SCHEDULED_DEPARTURE        949\n",
              "DEPARTURE_TIME           91367\n",
              "DEPARTURE_DELAY          86153\n",
              "TAXI_OUT                 89047\n",
              "WHEELS_OFF               97662\n",
              "SCHEDULED_TIME               6\n",
              "ELAPSED_TIME            105071\n",
              "AIR_TIME                105071\n",
              "DISTANCE                     0\n",
              "WHEELS_ON               114534\n",
              "TAXI_IN                  92513\n",
              "SCHEDULED_ARRIVAL        14596\n",
              "ARRIVAL_TIME            118200\n",
              "ARRIVAL_DELAY           105071\n",
              "DIVERTED                     0\n",
              "CANCELLED                    0\n",
              "CANCELLATION_REASON    5729195\n",
              "AIR_SYSTEM_DELAY       4755640\n",
              "SECURITY_DELAY         4755640\n",
              "AIRLINE_DELAY          4755640\n",
              "LATE_AIRCRAFT_DELAY    4755640\n",
              "WEATHER_DELAY          4755640\n",
              "AIRLINE                      0\n",
              "FLIGHT_DATE                  0\n",
              "dtype: int64"
            ]
          },
          "metadata": {
            "tags": []
          },
          "execution_count": 17
        }
      ]
    },
    {
      "cell_type": "markdown",
      "metadata": {
        "id": "e861a319"
      },
      "source": [
        "There are millions of missing values in the cancellation reason and the specific delay time columns. This is expected, as not every flight is cancelled or delayed, and you would hope that percentage would be small of the overall flights. It may make sense to change this to 0 instead of a missing value."
      ],
      "id": "e861a319"
    },
    {
      "cell_type": "markdown",
      "metadata": {
        "id": "122578e6"
      },
      "source": [
        "The missing rows for departure time and departure delay are trickier. We would not want to skew our results here so based on the fact that there are only about 2% of the values missing here, it would make sense to just remove these values and then re-assess how many missing values are left in the other features. Then there are also some values we could calculate as they are dependent on other variables."
      ],
      "id": "122578e6"
    },
    {
      "cell_type": "code",
      "metadata": {
        "id": "3MWDCjs-EBmq"
      },
      "source": [
        "# Replace missing values in AIRLINE_DELAY, AIR_SYSTEM_DELAY, SECURITY_DELAY, LATE_AIRCRAFT_DELAY, and WEATHER_DELAY with '0'\n",
        "df[['AIRLINE_DELAY', 'AIR_SYSTEM_DELAY', 'SECURITY_DELAY', 'LATE_AIRCRAFT_DELAY', 'WEATHER_DELAY']] = df[['AIRLINE_DELAY', 'AIR_SYSTEM_DELAY', 'SECURITY_DELAY', 'LATE_AIRCRAFT_DELAY', 'WEATHER_DELAY']].fillna(value = 0)"
      ],
      "id": "3MWDCjs-EBmq",
      "execution_count": null,
      "outputs": []
    },
    {
      "cell_type": "code",
      "metadata": {
        "id": "vPn-LHeKE6oK",
        "colab": {
          "base_uri": "https://localhost:8080/"
        },
        "outputId": "1fdd2ab0-8854-430a-9b4b-59100ab5eb7c"
      },
      "source": [
        "# How many missing values are there in the data now?\n",
        "df.isnull().sum()"
      ],
      "id": "vPn-LHeKE6oK",
      "execution_count": null,
      "outputs": [
        {
          "output_type": "execute_result",
          "data": {
            "text/plain": [
              "YEAR                         0\n",
              "MONTH                        0\n",
              "DAY                          0\n",
              "DAY_OF_WEEK                  0\n",
              "AIRLINE_CODE                 0\n",
              "FLIGHT_NUMBER                0\n",
              "TAIL_NUMBER              14721\n",
              "ORIGIN_AIRPORT               0\n",
              "DESTINATION_AIRPORT          0\n",
              "SCHEDULED_DEPARTURE          0\n",
              "DEPARTURE_TIME           86666\n",
              "DEPARTURE_DELAY          86153\n",
              "TAXI_OUT                 89047\n",
              "WHEELS_OFF               89774\n",
              "SCHEDULED_TIME               6\n",
              "ELAPSED_TIME            105071\n",
              "AIR_TIME                105071\n",
              "DISTANCE                     0\n",
              "WHEELS_ON                94518\n",
              "TAXI_IN                  92513\n",
              "SCHEDULED_ARRIVAL            2\n",
              "ARRIVAL_TIME             94969\n",
              "ARRIVAL_DELAY           105071\n",
              "DIVERTED                     0\n",
              "CANCELLED                    0\n",
              "CANCELLATION_REASON    5729195\n",
              "AIR_SYSTEM_DELAY             0\n",
              "SECURITY_DELAY               0\n",
              "AIRLINE_DELAY                0\n",
              "LATE_AIRCRAFT_DELAY          0\n",
              "WEATHER_DELAY                0\n",
              "AIRLINE                      0\n",
              "FLIGHT_DATE                  0\n",
              "dtype: int64"
            ]
          },
          "metadata": {
            "tags": []
          },
          "execution_count": 20
        }
      ]
    },
    {
      "cell_type": "code",
      "metadata": {
        "id": "Yc3zGo9VFNCE",
        "colab": {
          "base_uri": "https://localhost:8080/",
          "height": 394
        },
        "outputId": "82eec48e-2437-41b9-fc65-da9a389bd499"
      },
      "source": [
        "# One hot encode CANCELLATION_REASON where NA = 0\n",
        "# Source: datagy.io/pandas-get-dummies/\n",
        "\n",
        "# Convert missing values to '0'\n",
        "df['CANCELLATION_REASON'] = df['CANCELLATION_REASON'].fillna(0)\n",
        "\n",
        "# One hot encode\n",
        "one_hot_columns = ['CANCELLATION_REASON']\n",
        "\n",
        "for column in one_hot_columns:\n",
        "  tempdf = pd.get_dummies(df[column], prefix=column)\n",
        "\n",
        "  df = pd.merge(\n",
        "      left = df,\n",
        "      right = tempdf,\n",
        "      left_index = True,\n",
        "      right_index = True,\n",
        "  )\n",
        "\n",
        "  df = df.drop(columns=column)\n",
        "\n",
        "df.head()"
      ],
      "id": "Yc3zGo9VFNCE",
      "execution_count": null,
      "outputs": [
        {
          "output_type": "execute_result",
          "data": {
            "text/html": [
              "<div>\n",
              "<style scoped>\n",
              "    .dataframe tbody tr th:only-of-type {\n",
              "        vertical-align: middle;\n",
              "    }\n",
              "\n",
              "    .dataframe tbody tr th {\n",
              "        vertical-align: top;\n",
              "    }\n",
              "\n",
              "    .dataframe thead th {\n",
              "        text-align: right;\n",
              "    }\n",
              "</style>\n",
              "<table border=\"1\" class=\"dataframe\">\n",
              "  <thead>\n",
              "    <tr style=\"text-align: right;\">\n",
              "      <th></th>\n",
              "      <th>YEAR</th>\n",
              "      <th>MONTH</th>\n",
              "      <th>DAY</th>\n",
              "      <th>DAY_OF_WEEK</th>\n",
              "      <th>AIRLINE_CODE</th>\n",
              "      <th>FLIGHT_NUMBER</th>\n",
              "      <th>TAIL_NUMBER</th>\n",
              "      <th>ORIGIN_AIRPORT</th>\n",
              "      <th>DESTINATION_AIRPORT</th>\n",
              "      <th>SCHEDULED_DEPARTURE</th>\n",
              "      <th>DEPARTURE_TIME</th>\n",
              "      <th>DEPARTURE_DELAY</th>\n",
              "      <th>TAXI_OUT</th>\n",
              "      <th>WHEELS_OFF</th>\n",
              "      <th>SCHEDULED_TIME</th>\n",
              "      <th>ELAPSED_TIME</th>\n",
              "      <th>AIR_TIME</th>\n",
              "      <th>DISTANCE</th>\n",
              "      <th>WHEELS_ON</th>\n",
              "      <th>TAXI_IN</th>\n",
              "      <th>SCHEDULED_ARRIVAL</th>\n",
              "      <th>ARRIVAL_TIME</th>\n",
              "      <th>ARRIVAL_DELAY</th>\n",
              "      <th>DIVERTED</th>\n",
              "      <th>CANCELLED</th>\n",
              "      <th>AIR_SYSTEM_DELAY</th>\n",
              "      <th>SECURITY_DELAY</th>\n",
              "      <th>AIRLINE_DELAY</th>\n",
              "      <th>LATE_AIRCRAFT_DELAY</th>\n",
              "      <th>WEATHER_DELAY</th>\n",
              "      <th>AIRLINE</th>\n",
              "      <th>FLIGHT_DATE</th>\n",
              "      <th>CANCELLATION_REASON_0</th>\n",
              "      <th>CANCELLATION_REASON_A</th>\n",
              "      <th>CANCELLATION_REASON_B</th>\n",
              "      <th>CANCELLATION_REASON_C</th>\n",
              "      <th>CANCELLATION_REASON_D</th>\n",
              "    </tr>\n",
              "  </thead>\n",
              "  <tbody>\n",
              "    <tr>\n",
              "      <th>0</th>\n",
              "      <td>2015</td>\n",
              "      <td>1</td>\n",
              "      <td>1</td>\n",
              "      <td>4</td>\n",
              "      <td>AS</td>\n",
              "      <td>98</td>\n",
              "      <td>N407AS</td>\n",
              "      <td>ANC</td>\n",
              "      <td>SEA</td>\n",
              "      <td>1900-01-01 00:05:00</td>\n",
              "      <td>1900-01-01 23:54:00</td>\n",
              "      <td>-11.0</td>\n",
              "      <td>21.0</td>\n",
              "      <td>1900-01-01 00:15:00</td>\n",
              "      <td>205</td>\n",
              "      <td>194.0</td>\n",
              "      <td>169.0</td>\n",
              "      <td>1448</td>\n",
              "      <td>1900-01-01 04:04:00</td>\n",
              "      <td>4.0</td>\n",
              "      <td>1900-01-01 04:30:00</td>\n",
              "      <td>1900-01-01 04:08:00</td>\n",
              "      <td>-22.0</td>\n",
              "      <td>0</td>\n",
              "      <td>0</td>\n",
              "      <td>0.0</td>\n",
              "      <td>0.0</td>\n",
              "      <td>0.0</td>\n",
              "      <td>0.0</td>\n",
              "      <td>0.0</td>\n",
              "      <td>Alaska Airlines Inc.</td>\n",
              "      <td>2015-01-01</td>\n",
              "      <td>1</td>\n",
              "      <td>0</td>\n",
              "      <td>0</td>\n",
              "      <td>0</td>\n",
              "      <td>0</td>\n",
              "    </tr>\n",
              "    <tr>\n",
              "      <th>1</th>\n",
              "      <td>2015</td>\n",
              "      <td>1</td>\n",
              "      <td>1</td>\n",
              "      <td>4</td>\n",
              "      <td>AA</td>\n",
              "      <td>2336</td>\n",
              "      <td>N3KUAA</td>\n",
              "      <td>LAX</td>\n",
              "      <td>PBI</td>\n",
              "      <td>1900-01-01 00:10:00</td>\n",
              "      <td>1900-01-01 00:02:00</td>\n",
              "      <td>-8.0</td>\n",
              "      <td>12.0</td>\n",
              "      <td>1900-01-01 00:14:00</td>\n",
              "      <td>280</td>\n",
              "      <td>279.0</td>\n",
              "      <td>263.0</td>\n",
              "      <td>2330</td>\n",
              "      <td>1900-01-01 07:37:00</td>\n",
              "      <td>4.0</td>\n",
              "      <td>1900-01-01 07:50:00</td>\n",
              "      <td>1900-01-01 07:41:00</td>\n",
              "      <td>-9.0</td>\n",
              "      <td>0</td>\n",
              "      <td>0</td>\n",
              "      <td>0.0</td>\n",
              "      <td>0.0</td>\n",
              "      <td>0.0</td>\n",
              "      <td>0.0</td>\n",
              "      <td>0.0</td>\n",
              "      <td>American Airlines Inc.</td>\n",
              "      <td>2015-01-01</td>\n",
              "      <td>1</td>\n",
              "      <td>0</td>\n",
              "      <td>0</td>\n",
              "      <td>0</td>\n",
              "      <td>0</td>\n",
              "    </tr>\n",
              "    <tr>\n",
              "      <th>2</th>\n",
              "      <td>2015</td>\n",
              "      <td>1</td>\n",
              "      <td>1</td>\n",
              "      <td>4</td>\n",
              "      <td>US</td>\n",
              "      <td>840</td>\n",
              "      <td>N171US</td>\n",
              "      <td>SFO</td>\n",
              "      <td>CLT</td>\n",
              "      <td>1900-01-01 00:20:00</td>\n",
              "      <td>1900-01-01 00:18:00</td>\n",
              "      <td>-2.0</td>\n",
              "      <td>16.0</td>\n",
              "      <td>1900-01-01 00:34:00</td>\n",
              "      <td>286</td>\n",
              "      <td>293.0</td>\n",
              "      <td>266.0</td>\n",
              "      <td>2296</td>\n",
              "      <td>1900-01-01 08:00:00</td>\n",
              "      <td>11.0</td>\n",
              "      <td>1900-01-01 08:06:00</td>\n",
              "      <td>1900-01-01 08:11:00</td>\n",
              "      <td>5.0</td>\n",
              "      <td>0</td>\n",
              "      <td>0</td>\n",
              "      <td>0.0</td>\n",
              "      <td>0.0</td>\n",
              "      <td>0.0</td>\n",
              "      <td>0.0</td>\n",
              "      <td>0.0</td>\n",
              "      <td>US Airways Inc.</td>\n",
              "      <td>2015-01-01</td>\n",
              "      <td>1</td>\n",
              "      <td>0</td>\n",
              "      <td>0</td>\n",
              "      <td>0</td>\n",
              "      <td>0</td>\n",
              "    </tr>\n",
              "    <tr>\n",
              "      <th>3</th>\n",
              "      <td>2015</td>\n",
              "      <td>1</td>\n",
              "      <td>1</td>\n",
              "      <td>4</td>\n",
              "      <td>AA</td>\n",
              "      <td>258</td>\n",
              "      <td>N3HYAA</td>\n",
              "      <td>LAX</td>\n",
              "      <td>MIA</td>\n",
              "      <td>1900-01-01 00:20:00</td>\n",
              "      <td>1900-01-01 00:15:00</td>\n",
              "      <td>-5.0</td>\n",
              "      <td>15.0</td>\n",
              "      <td>1900-01-01 00:30:00</td>\n",
              "      <td>285</td>\n",
              "      <td>281.0</td>\n",
              "      <td>258.0</td>\n",
              "      <td>2342</td>\n",
              "      <td>1900-01-01 07:48:00</td>\n",
              "      <td>8.0</td>\n",
              "      <td>1900-01-01 08:05:00</td>\n",
              "      <td>1900-01-01 07:56:00</td>\n",
              "      <td>-9.0</td>\n",
              "      <td>0</td>\n",
              "      <td>0</td>\n",
              "      <td>0.0</td>\n",
              "      <td>0.0</td>\n",
              "      <td>0.0</td>\n",
              "      <td>0.0</td>\n",
              "      <td>0.0</td>\n",
              "      <td>American Airlines Inc.</td>\n",
              "      <td>2015-01-01</td>\n",
              "      <td>1</td>\n",
              "      <td>0</td>\n",
              "      <td>0</td>\n",
              "      <td>0</td>\n",
              "      <td>0</td>\n",
              "    </tr>\n",
              "    <tr>\n",
              "      <th>4</th>\n",
              "      <td>2015</td>\n",
              "      <td>1</td>\n",
              "      <td>1</td>\n",
              "      <td>4</td>\n",
              "      <td>AS</td>\n",
              "      <td>135</td>\n",
              "      <td>N527AS</td>\n",
              "      <td>SEA</td>\n",
              "      <td>ANC</td>\n",
              "      <td>1900-01-01 00:25:00</td>\n",
              "      <td>1900-01-01 00:24:00</td>\n",
              "      <td>-1.0</td>\n",
              "      <td>11.0</td>\n",
              "      <td>1900-01-01 00:35:00</td>\n",
              "      <td>235</td>\n",
              "      <td>215.0</td>\n",
              "      <td>199.0</td>\n",
              "      <td>1448</td>\n",
              "      <td>1900-01-01 02:54:00</td>\n",
              "      <td>5.0</td>\n",
              "      <td>1900-01-01 03:20:00</td>\n",
              "      <td>1900-01-01 02:59:00</td>\n",
              "      <td>-21.0</td>\n",
              "      <td>0</td>\n",
              "      <td>0</td>\n",
              "      <td>0.0</td>\n",
              "      <td>0.0</td>\n",
              "      <td>0.0</td>\n",
              "      <td>0.0</td>\n",
              "      <td>0.0</td>\n",
              "      <td>Alaska Airlines Inc.</td>\n",
              "      <td>2015-01-01</td>\n",
              "      <td>1</td>\n",
              "      <td>0</td>\n",
              "      <td>0</td>\n",
              "      <td>0</td>\n",
              "      <td>0</td>\n",
              "    </tr>\n",
              "  </tbody>\n",
              "</table>\n",
              "</div>"
            ],
            "text/plain": [
              "   YEAR  MONTH  ...  CANCELLATION_REASON_C  CANCELLATION_REASON_D\n",
              "0  2015      1  ...                      0                      0\n",
              "1  2015      1  ...                      0                      0\n",
              "2  2015      1  ...                      0                      0\n",
              "3  2015      1  ...                      0                      0\n",
              "4  2015      1  ...                      0                      0\n",
              "\n",
              "[5 rows x 37 columns]"
            ]
          },
          "metadata": {
            "tags": []
          },
          "execution_count": 24
        }
      ]
    },
    {
      "cell_type": "code",
      "metadata": {
        "colab": {
          "base_uri": "https://localhost:8080/",
          "height": 181
        },
        "id": "Bbb7wqGZIPGo",
        "outputId": "2bf9a356-392f-4f9c-c387-e4a5d0f81900"
      },
      "source": [
        "# How many missing values are there in the data now?\n",
        "df.isnull().sum()"
      ],
      "id": "Bbb7wqGZIPGo",
      "execution_count": 1,
      "outputs": [
        {
          "output_type": "error",
          "ename": "NameError",
          "evalue": "ignored",
          "traceback": [
            "\u001b[0;31m---------------------------------------------------------------------------\u001b[0m",
            "\u001b[0;31mNameError\u001b[0m                                 Traceback (most recent call last)",
            "\u001b[0;32m<ipython-input-1-db025e54d4d5>\u001b[0m in \u001b[0;36m<module>\u001b[0;34m()\u001b[0m\n\u001b[1;32m      1\u001b[0m \u001b[0;31m# How many missing values are there in the data now?\u001b[0m\u001b[0;34m\u001b[0m\u001b[0;34m\u001b[0m\u001b[0;34m\u001b[0m\u001b[0m\n\u001b[0;32m----> 2\u001b[0;31m \u001b[0mdf\u001b[0m\u001b[0;34m.\u001b[0m\u001b[0misnull\u001b[0m\u001b[0;34m(\u001b[0m\u001b[0;34m)\u001b[0m\u001b[0;34m.\u001b[0m\u001b[0msum\u001b[0m\u001b[0;34m(\u001b[0m\u001b[0;34m)\u001b[0m\u001b[0;34m\u001b[0m\u001b[0;34m\u001b[0m\u001b[0m\n\u001b[0m",
            "\u001b[0;31mNameError\u001b[0m: name 'df' is not defined"
          ]
        }
      ]
    },
    {
      "cell_type": "code",
      "metadata": {
        "id": "186c551d",
        "colab": {
          "base_uri": "https://localhost:8080/",
          "height": 337
        },
        "outputId": "c0fd4681-c386-48ab-91bc-306306a43287"
      },
      "source": [
        "# Check for outliers on continuous variables\n",
        "# Source: https://stackoverflow.com/questions/25039626/how-do-i-find-numeric-columns-in-pandas\n",
        "num_col = df.select_dtypes(include = np.number).columns.tolist() \n",
        "df.boxplot(column = num_col)"
      ],
      "id": "186c551d",
      "execution_count": null,
      "outputs": [
        {
          "output_type": "stream",
          "text": [
            "/usr/local/lib/python3.7/dist-packages/numpy/core/_asarray.py:83: VisibleDeprecationWarning: Creating an ndarray from ragged nested sequences (which is a list-or-tuple of lists-or-tuples-or ndarrays with different lengths or shapes) is deprecated. If you meant to do this, you must specify 'dtype=object' when creating the ndarray\n",
            "  return array(a, dtype, copy=False, order=order)\n"
          ],
          "name": "stderr"
        },
        {
          "output_type": "execute_result",
          "data": {
            "text/plain": [
              "<matplotlib.axes._subplots.AxesSubplot at 0x7f292b3a4e90>"
            ]
          },
          "metadata": {
            "tags": []
          },
          "execution_count": 18
        },
        {
          "output_type": "display_data",
          "data": {
            "image/png": "[encoded data removed]",
            "text/plain": [
              "<Figure size 432x288 with 1 Axes>"
            ]
          },
          "metadata": {
            "tags": [],
            "needs_background": "light"
          }
        }
      ]
    },
    {
      "cell_type": "markdown",
      "metadata": {
        "id": "8523923c"
      },
      "source": [
        "Note... need to do some more work here, group at different scales or split out individually"
      ],
      "id": "8523923c"
    },
    {
      "cell_type": "markdown",
      "metadata": {
        "id": "6cdc68a0"
      },
      "source": [
        "### Simple Statistics"
      ],
      "id": "6cdc68a0"
    },
    {
      "cell_type": "markdown",
      "metadata": {
        "id": "da956f44"
      },
      "source": [
        "Visualize appropriate statistics (e.g., range, mode, mean, median, variance, counts) for a subset of attributes. Describe anything meaningful you found from this or if you found something potentially interesting. Note: You can also use data from other sources for comparison. Explain why the statistics run are meaningful. "
      ],
      "id": "da956f44"
    },
    {
      "cell_type": "code",
      "metadata": {
        "id": "5512eec4",
        "colab": {
          "base_uri": "https://localhost:8080/",
          "height": 317
        },
        "outputId": "f6c19bc2-91db-460a-9408-f1b94ac6b065"
      },
      "source": [
        "df.describe()"
      ],
      "id": "5512eec4",
      "execution_count": null,
      "outputs": [
        {
          "output_type": "execute_result",
          "data": {
            "text/html": [
              "<div>\n",
              "<style scoped>\n",
              "    .dataframe tbody tr th:only-of-type {\n",
              "        vertical-align: middle;\n",
              "    }\n",
              "\n",
              "    .dataframe tbody tr th {\n",
              "        vertical-align: top;\n",
              "    }\n",
              "\n",
              "    .dataframe thead th {\n",
              "        text-align: right;\n",
              "    }\n",
              "</style>\n",
              "<table border=\"1\" class=\"dataframe\">\n",
              "  <thead>\n",
              "    <tr style=\"text-align: right;\">\n",
              "      <th></th>\n",
              "      <th>YEAR</th>\n",
              "      <th>MONTH</th>\n",
              "      <th>DAY</th>\n",
              "      <th>DAY_OF_WEEK</th>\n",
              "      <th>FLIGHT_NUMBER</th>\n",
              "      <th>DEPARTURE_DELAY</th>\n",
              "      <th>TAXI_OUT</th>\n",
              "      <th>SCHEDULED_TIME</th>\n",
              "      <th>ELAPSED_TIME</th>\n",
              "      <th>AIR_TIME</th>\n",
              "      <th>DISTANCE</th>\n",
              "      <th>TAXI_IN</th>\n",
              "      <th>ARRIVAL_DELAY</th>\n",
              "      <th>DIVERTED</th>\n",
              "      <th>CANCELLED</th>\n",
              "      <th>AIR_SYSTEM_DELAY</th>\n",
              "      <th>SECURITY_DELAY</th>\n",
              "      <th>AIRLINE_DELAY</th>\n",
              "      <th>LATE_AIRCRAFT_DELAY</th>\n",
              "      <th>WEATHER_DELAY</th>\n",
              "    </tr>\n",
              "  </thead>\n",
              "  <tbody>\n",
              "    <tr>\n",
              "      <th>count</th>\n",
              "      <td>5819079.0</td>\n",
              "      <td>5.819079e+06</td>\n",
              "      <td>5.819079e+06</td>\n",
              "      <td>5.819079e+06</td>\n",
              "      <td>5.819079e+06</td>\n",
              "      <td>5.732926e+06</td>\n",
              "      <td>5.730032e+06</td>\n",
              "      <td>5.819073e+06</td>\n",
              "      <td>5.714008e+06</td>\n",
              "      <td>5.714008e+06</td>\n",
              "      <td>5.819079e+06</td>\n",
              "      <td>5.726566e+06</td>\n",
              "      <td>5.714008e+06</td>\n",
              "      <td>5.819079e+06</td>\n",
              "      <td>5.819079e+06</td>\n",
              "      <td>1.063439e+06</td>\n",
              "      <td>1.063439e+06</td>\n",
              "      <td>1.063439e+06</td>\n",
              "      <td>1.063439e+06</td>\n",
              "      <td>1.063439e+06</td>\n",
              "    </tr>\n",
              "    <tr>\n",
              "      <th>mean</th>\n",
              "      <td>2015.0</td>\n",
              "      <td>6.524085e+00</td>\n",
              "      <td>1.570459e+01</td>\n",
              "      <td>3.926941e+00</td>\n",
              "      <td>2.173093e+03</td>\n",
              "      <td>9.370158e+00</td>\n",
              "      <td>1.607166e+01</td>\n",
              "      <td>1.416859e+02</td>\n",
              "      <td>1.370062e+02</td>\n",
              "      <td>1.135116e+02</td>\n",
              "      <td>8.223565e+02</td>\n",
              "      <td>7.434971e+00</td>\n",
              "      <td>4.407057e+00</td>\n",
              "      <td>2.609863e-03</td>\n",
              "      <td>1.544643e-02</td>\n",
              "      <td>1.348057e+01</td>\n",
              "      <td>7.615387e-02</td>\n",
              "      <td>1.896955e+01</td>\n",
              "      <td>2.347284e+01</td>\n",
              "      <td>2.915290e+00</td>\n",
              "    </tr>\n",
              "    <tr>\n",
              "      <th>std</th>\n",
              "      <td>0.0</td>\n",
              "      <td>3.405137e+00</td>\n",
              "      <td>8.783425e+00</td>\n",
              "      <td>1.988845e+00</td>\n",
              "      <td>1.757064e+03</td>\n",
              "      <td>3.708094e+01</td>\n",
              "      <td>8.895574e+00</td>\n",
              "      <td>7.521058e+01</td>\n",
              "      <td>7.421107e+01</td>\n",
              "      <td>7.223082e+01</td>\n",
              "      <td>6.077843e+02</td>\n",
              "      <td>5.638548e+00</td>\n",
              "      <td>3.927130e+01</td>\n",
              "      <td>5.102012e-02</td>\n",
              "      <td>1.233201e-01</td>\n",
              "      <td>2.800368e+01</td>\n",
              "      <td>2.143460e+00</td>\n",
              "      <td>4.816164e+01</td>\n",
              "      <td>4.319702e+01</td>\n",
              "      <td>2.043334e+01</td>\n",
              "    </tr>\n",
              "    <tr>\n",
              "      <th>min</th>\n",
              "      <td>2015.0</td>\n",
              "      <td>1.000000e+00</td>\n",
              "      <td>1.000000e+00</td>\n",
              "      <td>1.000000e+00</td>\n",
              "      <td>1.000000e+00</td>\n",
              "      <td>-8.200000e+01</td>\n",
              "      <td>1.000000e+00</td>\n",
              "      <td>1.800000e+01</td>\n",
              "      <td>1.400000e+01</td>\n",
              "      <td>7.000000e+00</td>\n",
              "      <td>2.100000e+01</td>\n",
              "      <td>1.000000e+00</td>\n",
              "      <td>-8.700000e+01</td>\n",
              "      <td>0.000000e+00</td>\n",
              "      <td>0.000000e+00</td>\n",
              "      <td>0.000000e+00</td>\n",
              "      <td>0.000000e+00</td>\n",
              "      <td>0.000000e+00</td>\n",
              "      <td>0.000000e+00</td>\n",
              "      <td>0.000000e+00</td>\n",
              "    </tr>\n",
              "    <tr>\n",
              "      <th>25%</th>\n",
              "      <td>2015.0</td>\n",
              "      <td>4.000000e+00</td>\n",
              "      <td>8.000000e+00</td>\n",
              "      <td>2.000000e+00</td>\n",
              "      <td>7.300000e+02</td>\n",
              "      <td>-5.000000e+00</td>\n",
              "      <td>1.100000e+01</td>\n",
              "      <td>8.500000e+01</td>\n",
              "      <td>8.200000e+01</td>\n",
              "      <td>6.000000e+01</td>\n",
              "      <td>3.730000e+02</td>\n",
              "      <td>4.000000e+00</td>\n",
              "      <td>-1.300000e+01</td>\n",
              "      <td>0.000000e+00</td>\n",
              "      <td>0.000000e+00</td>\n",
              "      <td>0.000000e+00</td>\n",
              "      <td>0.000000e+00</td>\n",
              "      <td>0.000000e+00</td>\n",
              "      <td>0.000000e+00</td>\n",
              "      <td>0.000000e+00</td>\n",
              "    </tr>\n",
              "    <tr>\n",
              "      <th>50%</th>\n",
              "      <td>2015.0</td>\n",
              "      <td>7.000000e+00</td>\n",
              "      <td>1.600000e+01</td>\n",
              "      <td>4.000000e+00</td>\n",
              "      <td>1.690000e+03</td>\n",
              "      <td>-2.000000e+00</td>\n",
              "      <td>1.400000e+01</td>\n",
              "      <td>1.230000e+02</td>\n",
              "      <td>1.180000e+02</td>\n",
              "      <td>9.400000e+01</td>\n",
              "      <td>6.470000e+02</td>\n",
              "      <td>6.000000e+00</td>\n",
              "      <td>-5.000000e+00</td>\n",
              "      <td>0.000000e+00</td>\n",
              "      <td>0.000000e+00</td>\n",
              "      <td>2.000000e+00</td>\n",
              "      <td>0.000000e+00</td>\n",
              "      <td>2.000000e+00</td>\n",
              "      <td>3.000000e+00</td>\n",
              "      <td>0.000000e+00</td>\n",
              "    </tr>\n",
              "    <tr>\n",
              "      <th>75%</th>\n",
              "      <td>2015.0</td>\n",
              "      <td>9.000000e+00</td>\n",
              "      <td>2.300000e+01</td>\n",
              "      <td>6.000000e+00</td>\n",
              "      <td>3.230000e+03</td>\n",
              "      <td>7.000000e+00</td>\n",
              "      <td>1.900000e+01</td>\n",
              "      <td>1.730000e+02</td>\n",
              "      <td>1.680000e+02</td>\n",
              "      <td>1.440000e+02</td>\n",
              "      <td>1.062000e+03</td>\n",
              "      <td>9.000000e+00</td>\n",
              "      <td>8.000000e+00</td>\n",
              "      <td>0.000000e+00</td>\n",
              "      <td>0.000000e+00</td>\n",
              "      <td>1.800000e+01</td>\n",
              "      <td>0.000000e+00</td>\n",
              "      <td>1.900000e+01</td>\n",
              "      <td>2.900000e+01</td>\n",
              "      <td>0.000000e+00</td>\n",
              "    </tr>\n",
              "    <tr>\n",
              "      <th>max</th>\n",
              "      <td>2015.0</td>\n",
              "      <td>1.200000e+01</td>\n",
              "      <td>3.100000e+01</td>\n",
              "      <td>7.000000e+00</td>\n",
              "      <td>9.855000e+03</td>\n",
              "      <td>1.988000e+03</td>\n",
              "      <td>2.250000e+02</td>\n",
              "      <td>7.180000e+02</td>\n",
              "      <td>7.660000e+02</td>\n",
              "      <td>6.900000e+02</td>\n",
              "      <td>4.983000e+03</td>\n",
              "      <td>2.480000e+02</td>\n",
              "      <td>1.971000e+03</td>\n",
              "      <td>1.000000e+00</td>\n",
              "      <td>1.000000e+00</td>\n",
              "      <td>1.134000e+03</td>\n",
              "      <td>5.730000e+02</td>\n",
              "      <td>1.971000e+03</td>\n",
              "      <td>1.331000e+03</td>\n",
              "      <td>1.211000e+03</td>\n",
              "    </tr>\n",
              "  </tbody>\n",
              "</table>\n",
              "</div>"
            ],
            "text/plain": [
              "            YEAR         MONTH  ...  LATE_AIRCRAFT_DELAY  WEATHER_DELAY\n",
              "count  5819079.0  5.819079e+06  ...         1.063439e+06   1.063439e+06\n",
              "mean      2015.0  6.524085e+00  ...         2.347284e+01   2.915290e+00\n",
              "std          0.0  3.405137e+00  ...         4.319702e+01   2.043334e+01\n",
              "min       2015.0  1.000000e+00  ...         0.000000e+00   0.000000e+00\n",
              "25%       2015.0  4.000000e+00  ...         0.000000e+00   0.000000e+00\n",
              "50%       2015.0  7.000000e+00  ...         3.000000e+00   0.000000e+00\n",
              "75%       2015.0  9.000000e+00  ...         2.900000e+01   0.000000e+00\n",
              "max       2015.0  1.200000e+01  ...         1.331000e+03   1.211000e+03\n",
              "\n",
              "[8 rows x 20 columns]"
            ]
          },
          "metadata": {
            "tags": []
          },
          "execution_count": 19
        }
      ]
    },
    {
      "cell_type": "markdown",
      "metadata": {
        "id": "beb3cf96"
      },
      "source": [
        "### Visualize Attributes"
      ],
      "id": "beb3cf96"
    },
    {
      "cell_type": "markdown",
      "metadata": {
        "id": "21351a2d"
      },
      "source": [
        "Visualize the most interesting attributes (at least 5 attributes, your opinion on what is interesting). Important: Interpret the implications for each visualization. Explain for each attribute why the chosen visualization is appropriate."
      ],
      "id": "21351a2d"
    },
    {
      "cell_type": "code",
      "metadata": {
        "id": "9331cc7f",
        "colab": {
          "base_uri": "https://localhost:8080/",
          "height": 308
        },
        "outputId": "7b3f00d1-6011-4a35-860c-080543e17a3d"
      },
      "source": [
        "# Flights by day of the week\n",
        "sns.histplot(df, x = 'DAY_OF_WEEK', binwidth = 1)"
      ],
      "id": "9331cc7f",
      "execution_count": null,
      "outputs": [
        {
          "output_type": "execute_result",
          "data": {
            "text/plain": [
              "<matplotlib.axes._subplots.AxesSubplot at 0x7f29258593d0>"
            ]
          },
          "metadata": {
            "tags": []
          },
          "execution_count": 20
        },
        {
          "output_type": "display_data",
          "data": {
            "image/png": "[encoded data removed]",
            "text/plain": [
              "<Figure size 432x288 with 1 Axes>"
            ]
          },
          "metadata": {
            "tags": [],
            "needs_background": "light"
          }
        }
      ]
    },
    {
      "cell_type": "markdown",
      "metadata": {
        "id": "37dfc20e"
      },
      "source": [
        "### Explore Joint Attributes"
      ],
      "id": "37dfc20e"
    },
    {
      "cell_type": "markdown",
      "metadata": {
        "id": "baf29b0d"
      },
      "source": [
        "Visualize relationships between attributes: Look at the attributes via scatter plots, correlation, cross-tabulation, group-wise averages, etc. as appropriate. Explain any interesting relationships."
      ],
      "id": "baf29b0d"
    },
    {
      "cell_type": "code",
      "metadata": {
        "id": "3f0fff71",
        "colab": {
          "base_uri": "https://localhost:8080/",
          "height": 1000
        },
        "outputId": "8ae508e9-3f7c-4427-cdec-a58e40626be1"
      },
      "source": [
        "# Examine correlation visually using Seaborn. (Code adapted from 02. Data Visualization.ipynb)\n",
        "cmap = sns.diverging_palette(220, 10, as_cmap=True)\n",
        "\n",
        "sns.set(style = \"darkgrid\") # one of the many styles to plot using\n",
        "\n",
        "f, ax = plt.subplots(figsize = (20, 20))\n",
        "\n",
        "sns.heatmap(df.corr(), cmap=cmap, annot = True)"
      ],
      "id": "3f0fff71",
      "execution_count": null,
      "outputs": [
        {
          "output_type": "execute_result",
          "data": {
            "text/plain": [
              "<matplotlib.axes._subplots.AxesSubplot at 0x7f29257e2550>"
            ]
          },
          "metadata": {
            "tags": []
          },
          "execution_count": 21
        },
        {
          "output_type": "display_data",
          "data": {
            "image/png": "[encoded data removed]",
            "text/plain": [
              "<Figure size 1440x1440 with 2 Axes>"
            ]
          },
          "metadata": {
            "tags": []
          }
        }
      ]
    },
    {
      "cell_type": "markdown",
      "metadata": {
        "id": "2f2381b7"
      },
      "source": [
        "### Explore Attributes and Class"
      ],
      "id": "2f2381b7"
    },
    {
      "cell_type": "markdown",
      "metadata": {
        "id": "7e4eafb0"
      },
      "source": [
        "Identify and explain interesting relationships between features and the class you are trying to predict (i.e., relationships with variables and the target classification)."
      ],
      "id": "7e4eafb0"
    },
    {
      "cell_type": "markdown",
      "metadata": {
        "id": "42a3e916"
      },
      "source": [
        "### New Features "
      ],
      "id": "42a3e916"
    },
    {
      "cell_type": "markdown",
      "metadata": {
        "id": "c80b7167"
      },
      "source": [
        "Are there other features that could be added to the data or created from existing features? Which ones?"
      ],
      "id": "c80b7167"
    },
    {
      "cell_type": "markdown",
      "metadata": {
        "id": "27739c81"
      },
      "source": [
        "### Exceptional Work"
      ],
      "id": "27739c81"
    },
    {
      "cell_type": "markdown",
      "metadata": {
        "id": "27732deb"
      },
      "source": [
        "You have free reign to provide additional analyses. One idea: implement dimensionality reduction, then visualize and interpret the results. (aka PCA)"
      ],
      "id": "27732deb"
    }
  ]
}