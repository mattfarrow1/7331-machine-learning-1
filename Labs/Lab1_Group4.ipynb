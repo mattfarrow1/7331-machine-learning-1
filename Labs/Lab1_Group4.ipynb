{
  "nbformat": 4,
  "nbformat_minor": 5,
  "metadata": {
    "kernelspec": {
      "display_name": "Python 3",
      "language": "python",
      "name": "python3"
    },
    "language_info": {
      "codemirror_mode": {
        "name": "ipython",
        "version": 3
      },
      "file_extension": ".py",
      "mimetype": "text/x-python",
      "name": "python",
      "nbconvert_exporter": "python",
      "pygments_lexer": "ipython3",
      "version": "3.7.10"
    },
    "colab": {
      "name": "Copy of Lab1_Group4.ipynb",
      "provenance": [],
      "collapsed_sections": [],
      "toc_visible": true,
      "include_colab_link": true
    }
  },
  "cells": [
    {
      "cell_type": "markdown",
      "metadata": {
        "id": "view-in-github",
        "colab_type": "text"
      },
      "source": [
        "<a href=\"https://colab.research.google.com/github/mattfarrow1/7331-machine-learning-1/blob/main/Labs/Lab1_Group4.ipynb\" target=\"_parent\"><img src=\"https://colab.research.google.com/assets/colab-badge.svg\" alt=\"Open In Colab\"/></a>"
      ]
    },
    {
      "cell_type": "markdown",
      "metadata": {
        "id": "c0d2e13f"
      },
      "source": [
        "# Lab One: Visualization and Data Preprocessing"
      ],
      "id": "c0d2e13f"
    },
    {
      "cell_type": "markdown",
      "metadata": {
        "id": "6d024d25"
      },
      "source": [
        "Matt Farrow, Amber Clark, Blake Freeman, Megan Ball"
      ],
      "id": "6d024d25"
    },
    {
      "cell_type": "markdown",
      "metadata": {
        "id": "88d28dcd"
      },
      "source": [
        "## **2015 Flight Delays and Cancellations**\n",
        "Data Source: [Kaggle](https://www.kaggle.com/usdot/flight-delays?select=flights.csv)"
      ],
      "id": "88d28dcd"
    },
    {
      "cell_type": "markdown",
      "metadata": {
        "id": "83abe554"
      },
      "source": [
        "## Business Understanding"
      ],
      "id": "83abe554"
    },
    {
      "cell_type": "markdown",
      "metadata": {
        "id": "d1779117"
      },
      "source": [
        "`Describe the purpose of the data set you selected (i.e., why was this data collected in the first place?). Describe how you would define and measure the outcomes from the dataset. That is, why is this data important and how do you know if you have mined useful knowledge from the dataset? How would you measure the effectiveness of a good prediction algorithm? Be specific.`"
      ],
      "id": "d1779117"
    },
    {
      "cell_type": "markdown",
      "metadata": {
        "id": "f6958737"
      },
      "source": [
        "The data set that our group selected came the U.S. Department of Transportation's Bureau of Transportation Statistics and \"tracks the on-time performance of domestic flights operated by large air carriers\" during 2015 ([Kaggle](https://www.kaggle.com/usdot/flight-delays)). The data is broken up into three separate `.csv` files: one with flight details for 5,819,079 flights during 2015, one with 14 different U.S.-based airlines, and one with the geographic details of 322 U.S. airports. \n",
        "\n",
        "The data is important because it takes airline delays and cancellations, one of the aspects of airline travel that is popular fodder for public complaints, and quantifies it in a way that offers the possiblity of tangible analysis. "
      ],
      "id": "f6958737"
    },
    {
      "cell_type": "markdown",
      "metadata": {
        "id": "aVSSSH0ro-9N"
      },
      "source": [
        "#### TO DO (MATT)\n",
        "\n",
        "- Describe the two variables to be measured. Arrival delay (regression & RMSE) & Cancellation (classification & accuracy? precision?)\n",
        "- Measure effectiveness using 10-fold cross-validation\n"
      ],
      "id": "aVSSSH0ro-9N"
    },
    {
      "cell_type": "markdown",
      "metadata": {
        "id": "b42cc5ef"
      },
      "source": [
        "## Data Meaning Type"
      ],
      "id": "b42cc5ef"
    },
    {
      "cell_type": "markdown",
      "metadata": {
        "id": "b5cd6fd8"
      },
      "source": [
        "`Describe the meaning and type of data (scale, values, etc.) for each attribute in the data file.`"
      ],
      "id": "b5cd6fd8"
    },
    {
      "cell_type": "markdown",
      "metadata": {
        "id": "Egyr6ljHCnsN"
      },
      "source": [
        "### Load the Data"
      ],
      "id": "Egyr6ljHCnsN"
    },
    {
      "cell_type": "code",
      "metadata": {
        "id": "458f1645"
      },
      "source": [
        "# Load libraries\n",
        "import pandas as pd\n",
        "import numpy as np\n",
        "import seaborn as sns\n",
        "import matplotlib.pyplot as plt\n",
        "%matplotlib inline\n",
        "from datetime import datetime"
      ],
      "id": "458f1645",
      "execution_count": 1,
      "outputs": []
    },
    {
      "cell_type": "code",
      "metadata": {
        "scrolled": true,
        "id": "ce20dda1",
        "colab": {
          "base_uri": "https://localhost:8080/"
        },
        "outputId": "b6f06232-275b-4ba5-9721-cfe240755d9b"
      },
      "source": [
        "# Due to the way these columns are formatted, we want to keep the leading zeros during our import. Later on will convert them to a time format.\n",
        "dtype_t = {'SCHEDULED_DEPARTURE': str,\n",
        "           'DEPARTURE_TIME': str,\n",
        "           'WHEELS_OFF': str,\n",
        "           'SCHEDULED_TIME': str,\n",
        "           'WHEELS_ON': str,\n",
        "           'SCHEDULED_ARRIVAL': str,\n",
        "           'ARRIVAL_TIME': str\n",
        "          }\n",
        "\n",
        "# Read in the data directly from GitHub\n",
        "airlines = pd.read_csv('https://raw.githubusercontent.com/mattfarrow1/7331-machine-learning-1/main/Data/airlines.csv')\n",
        "airports = pd.read_csv('https://raw.githubusercontent.com/mattfarrow1/7331-machine-learning-1/main/Data/airports.csv')\n",
        "flights  = pd.read_csv('https://media.githubusercontent.com/media/mattfarrow1/7331-machine-learning-1/main/Data/flights.csv', dtype = dtype_t)"
      ],
      "id": "ce20dda1",
      "execution_count": 2,
      "outputs": [
        {
          "output_type": "stream",
          "text": [
            "/usr/local/lib/python3.7/dist-packages/IPython/core/interactiveshell.py:2718: DtypeWarning: Columns (7,8) have mixed types.Specify dtype option on import or set low_memory=False.\n",
            "  interactivity=interactivity, compiler=compiler, result=result)\n"
          ],
          "name": "stderr"
        }
      ]
    },
    {
      "cell_type": "code",
      "metadata": {
        "id": "cab3e312",
        "colab": {
          "base_uri": "https://localhost:8080/",
          "height": 204
        },
        "outputId": "a54af56f-c2fe-45f6-d850-27b60411dd57"
      },
      "source": [
        "# Look at the airline data\n",
        "airlines.head()"
      ],
      "id": "cab3e312",
      "execution_count": 3,
      "outputs": [
        {
          "output_type": "execute_result",
          "data": {
            "text/html": [
              "<div>\n",
              "<style scoped>\n",
              "    .dataframe tbody tr th:only-of-type {\n",
              "        vertical-align: middle;\n",
              "    }\n",
              "\n",
              "    .dataframe tbody tr th {\n",
              "        vertical-align: top;\n",
              "    }\n",
              "\n",
              "    .dataframe thead th {\n",
              "        text-align: right;\n",
              "    }\n",
              "</style>\n",
              "<table border=\"1\" class=\"dataframe\">\n",
              "  <thead>\n",
              "    <tr style=\"text-align: right;\">\n",
              "      <th></th>\n",
              "      <th>IATA_CODE</th>\n",
              "      <th>AIRLINE</th>\n",
              "    </tr>\n",
              "  </thead>\n",
              "  <tbody>\n",
              "    <tr>\n",
              "      <th>0</th>\n",
              "      <td>UA</td>\n",
              "      <td>United Air Lines Inc.</td>\n",
              "    </tr>\n",
              "    <tr>\n",
              "      <th>1</th>\n",
              "      <td>AA</td>\n",
              "      <td>American Airlines Inc.</td>\n",
              "    </tr>\n",
              "    <tr>\n",
              "      <th>2</th>\n",
              "      <td>US</td>\n",
              "      <td>US Airways Inc.</td>\n",
              "    </tr>\n",
              "    <tr>\n",
              "      <th>3</th>\n",
              "      <td>F9</td>\n",
              "      <td>Frontier Airlines Inc.</td>\n",
              "    </tr>\n",
              "    <tr>\n",
              "      <th>4</th>\n",
              "      <td>B6</td>\n",
              "      <td>JetBlue Airways</td>\n",
              "    </tr>\n",
              "  </tbody>\n",
              "</table>\n",
              "</div>"
            ],
            "text/plain": [
              "  IATA_CODE                 AIRLINE\n",
              "0        UA   United Air Lines Inc.\n",
              "1        AA  American Airlines Inc.\n",
              "2        US         US Airways Inc.\n",
              "3        F9  Frontier Airlines Inc.\n",
              "4        B6         JetBlue Airways"
            ]
          },
          "metadata": {
            "tags": []
          },
          "execution_count": 3
        }
      ]
    },
    {
      "cell_type": "code",
      "metadata": {
        "id": "570275eb",
        "colab": {
          "base_uri": "https://localhost:8080/",
          "height": 204
        },
        "outputId": "a4ff5070-ace2-4f6f-a16b-a667e8e97e49"
      },
      "source": [
        "# Look at the airport data\n",
        "airports.head()"
      ],
      "id": "570275eb",
      "execution_count": 4,
      "outputs": [
        {
          "output_type": "execute_result",
          "data": {
            "text/html": [
              "<div>\n",
              "<style scoped>\n",
              "    .dataframe tbody tr th:only-of-type {\n",
              "        vertical-align: middle;\n",
              "    }\n",
              "\n",
              "    .dataframe tbody tr th {\n",
              "        vertical-align: top;\n",
              "    }\n",
              "\n",
              "    .dataframe thead th {\n",
              "        text-align: right;\n",
              "    }\n",
              "</style>\n",
              "<table border=\"1\" class=\"dataframe\">\n",
              "  <thead>\n",
              "    <tr style=\"text-align: right;\">\n",
              "      <th></th>\n",
              "      <th>IATA_CODE</th>\n",
              "      <th>AIRPORT</th>\n",
              "      <th>CITY</th>\n",
              "      <th>STATE</th>\n",
              "      <th>COUNTRY</th>\n",
              "      <th>LATITUDE</th>\n",
              "      <th>LONGITUDE</th>\n",
              "    </tr>\n",
              "  </thead>\n",
              "  <tbody>\n",
              "    <tr>\n",
              "      <th>0</th>\n",
              "      <td>ABE</td>\n",
              "      <td>Lehigh Valley International Airport</td>\n",
              "      <td>Allentown</td>\n",
              "      <td>PA</td>\n",
              "      <td>USA</td>\n",
              "      <td>40.65236</td>\n",
              "      <td>-75.44040</td>\n",
              "    </tr>\n",
              "    <tr>\n",
              "      <th>1</th>\n",
              "      <td>ABI</td>\n",
              "      <td>Abilene Regional Airport</td>\n",
              "      <td>Abilene</td>\n",
              "      <td>TX</td>\n",
              "      <td>USA</td>\n",
              "      <td>32.41132</td>\n",
              "      <td>-99.68190</td>\n",
              "    </tr>\n",
              "    <tr>\n",
              "      <th>2</th>\n",
              "      <td>ABQ</td>\n",
              "      <td>Albuquerque International Sunport</td>\n",
              "      <td>Albuquerque</td>\n",
              "      <td>NM</td>\n",
              "      <td>USA</td>\n",
              "      <td>35.04022</td>\n",
              "      <td>-106.60919</td>\n",
              "    </tr>\n",
              "    <tr>\n",
              "      <th>3</th>\n",
              "      <td>ABR</td>\n",
              "      <td>Aberdeen Regional Airport</td>\n",
              "      <td>Aberdeen</td>\n",
              "      <td>SD</td>\n",
              "      <td>USA</td>\n",
              "      <td>45.44906</td>\n",
              "      <td>-98.42183</td>\n",
              "    </tr>\n",
              "    <tr>\n",
              "      <th>4</th>\n",
              "      <td>ABY</td>\n",
              "      <td>Southwest Georgia Regional Airport</td>\n",
              "      <td>Albany</td>\n",
              "      <td>GA</td>\n",
              "      <td>USA</td>\n",
              "      <td>31.53552</td>\n",
              "      <td>-84.19447</td>\n",
              "    </tr>\n",
              "  </tbody>\n",
              "</table>\n",
              "</div>"
            ],
            "text/plain": [
              "  IATA_CODE                              AIRPORT  ...  LATITUDE  LONGITUDE\n",
              "0       ABE  Lehigh Valley International Airport  ...  40.65236  -75.44040\n",
              "1       ABI             Abilene Regional Airport  ...  32.41132  -99.68190\n",
              "2       ABQ    Albuquerque International Sunport  ...  35.04022 -106.60919\n",
              "3       ABR            Aberdeen Regional Airport  ...  45.44906  -98.42183\n",
              "4       ABY   Southwest Georgia Regional Airport  ...  31.53552  -84.19447\n",
              "\n",
              "[5 rows x 7 columns]"
            ]
          },
          "metadata": {
            "tags": []
          },
          "execution_count": 4
        }
      ]
    },
    {
      "cell_type": "code",
      "metadata": {
        "scrolled": true,
        "id": "1f1e5dd8",
        "colab": {
          "base_uri": "https://localhost:8080/",
          "height": 224
        },
        "outputId": "4d362067-4879-4dc4-ba1c-7e1b162ca9f1"
      },
      "source": [
        "# Look at the flight data\n",
        "flights.head()"
      ],
      "id": "1f1e5dd8",
      "execution_count": 5,
      "outputs": [
        {
          "output_type": "execute_result",
          "data": {
            "text/html": [
              "<div>\n",
              "<style scoped>\n",
              "    .dataframe tbody tr th:only-of-type {\n",
              "        vertical-align: middle;\n",
              "    }\n",
              "\n",
              "    .dataframe tbody tr th {\n",
              "        vertical-align: top;\n",
              "    }\n",
              "\n",
              "    .dataframe thead th {\n",
              "        text-align: right;\n",
              "    }\n",
              "</style>\n",
              "<table border=\"1\" class=\"dataframe\">\n",
              "  <thead>\n",
              "    <tr style=\"text-align: right;\">\n",
              "      <th></th>\n",
              "      <th>YEAR</th>\n",
              "      <th>MONTH</th>\n",
              "      <th>DAY</th>\n",
              "      <th>DAY_OF_WEEK</th>\n",
              "      <th>AIRLINE</th>\n",
              "      <th>FLIGHT_NUMBER</th>\n",
              "      <th>TAIL_NUMBER</th>\n",
              "      <th>ORIGIN_AIRPORT</th>\n",
              "      <th>DESTINATION_AIRPORT</th>\n",
              "      <th>SCHEDULED_DEPARTURE</th>\n",
              "      <th>DEPARTURE_TIME</th>\n",
              "      <th>DEPARTURE_DELAY</th>\n",
              "      <th>TAXI_OUT</th>\n",
              "      <th>WHEELS_OFF</th>\n",
              "      <th>SCHEDULED_TIME</th>\n",
              "      <th>ELAPSED_TIME</th>\n",
              "      <th>AIR_TIME</th>\n",
              "      <th>DISTANCE</th>\n",
              "      <th>WHEELS_ON</th>\n",
              "      <th>TAXI_IN</th>\n",
              "      <th>SCHEDULED_ARRIVAL</th>\n",
              "      <th>ARRIVAL_TIME</th>\n",
              "      <th>ARRIVAL_DELAY</th>\n",
              "      <th>DIVERTED</th>\n",
              "      <th>CANCELLED</th>\n",
              "      <th>CANCELLATION_REASON</th>\n",
              "      <th>AIR_SYSTEM_DELAY</th>\n",
              "      <th>SECURITY_DELAY</th>\n",
              "      <th>AIRLINE_DELAY</th>\n",
              "      <th>LATE_AIRCRAFT_DELAY</th>\n",
              "      <th>WEATHER_DELAY</th>\n",
              "    </tr>\n",
              "  </thead>\n",
              "  <tbody>\n",
              "    <tr>\n",
              "      <th>0</th>\n",
              "      <td>2015</td>\n",
              "      <td>1</td>\n",
              "      <td>1</td>\n",
              "      <td>4</td>\n",
              "      <td>AS</td>\n",
              "      <td>98</td>\n",
              "      <td>N407AS</td>\n",
              "      <td>ANC</td>\n",
              "      <td>SEA</td>\n",
              "      <td>0005</td>\n",
              "      <td>2354</td>\n",
              "      <td>-11.0</td>\n",
              "      <td>21.0</td>\n",
              "      <td>0015</td>\n",
              "      <td>205</td>\n",
              "      <td>194.0</td>\n",
              "      <td>169.0</td>\n",
              "      <td>1448</td>\n",
              "      <td>0404</td>\n",
              "      <td>4.0</td>\n",
              "      <td>0430</td>\n",
              "      <td>0408</td>\n",
              "      <td>-22.0</td>\n",
              "      <td>0</td>\n",
              "      <td>0</td>\n",
              "      <td>NaN</td>\n",
              "      <td>NaN</td>\n",
              "      <td>NaN</td>\n",
              "      <td>NaN</td>\n",
              "      <td>NaN</td>\n",
              "      <td>NaN</td>\n",
              "    </tr>\n",
              "    <tr>\n",
              "      <th>1</th>\n",
              "      <td>2015</td>\n",
              "      <td>1</td>\n",
              "      <td>1</td>\n",
              "      <td>4</td>\n",
              "      <td>AA</td>\n",
              "      <td>2336</td>\n",
              "      <td>N3KUAA</td>\n",
              "      <td>LAX</td>\n",
              "      <td>PBI</td>\n",
              "      <td>0010</td>\n",
              "      <td>0002</td>\n",
              "      <td>-8.0</td>\n",
              "      <td>12.0</td>\n",
              "      <td>0014</td>\n",
              "      <td>280</td>\n",
              "      <td>279.0</td>\n",
              "      <td>263.0</td>\n",
              "      <td>2330</td>\n",
              "      <td>0737</td>\n",
              "      <td>4.0</td>\n",
              "      <td>0750</td>\n",
              "      <td>0741</td>\n",
              "      <td>-9.0</td>\n",
              "      <td>0</td>\n",
              "      <td>0</td>\n",
              "      <td>NaN</td>\n",
              "      <td>NaN</td>\n",
              "      <td>NaN</td>\n",
              "      <td>NaN</td>\n",
              "      <td>NaN</td>\n",
              "      <td>NaN</td>\n",
              "    </tr>\n",
              "    <tr>\n",
              "      <th>2</th>\n",
              "      <td>2015</td>\n",
              "      <td>1</td>\n",
              "      <td>1</td>\n",
              "      <td>4</td>\n",
              "      <td>US</td>\n",
              "      <td>840</td>\n",
              "      <td>N171US</td>\n",
              "      <td>SFO</td>\n",
              "      <td>CLT</td>\n",
              "      <td>0020</td>\n",
              "      <td>0018</td>\n",
              "      <td>-2.0</td>\n",
              "      <td>16.0</td>\n",
              "      <td>0034</td>\n",
              "      <td>286</td>\n",
              "      <td>293.0</td>\n",
              "      <td>266.0</td>\n",
              "      <td>2296</td>\n",
              "      <td>0800</td>\n",
              "      <td>11.0</td>\n",
              "      <td>0806</td>\n",
              "      <td>0811</td>\n",
              "      <td>5.0</td>\n",
              "      <td>0</td>\n",
              "      <td>0</td>\n",
              "      <td>NaN</td>\n",
              "      <td>NaN</td>\n",
              "      <td>NaN</td>\n",
              "      <td>NaN</td>\n",
              "      <td>NaN</td>\n",
              "      <td>NaN</td>\n",
              "    </tr>\n",
              "    <tr>\n",
              "      <th>3</th>\n",
              "      <td>2015</td>\n",
              "      <td>1</td>\n",
              "      <td>1</td>\n",
              "      <td>4</td>\n",
              "      <td>AA</td>\n",
              "      <td>258</td>\n",
              "      <td>N3HYAA</td>\n",
              "      <td>LAX</td>\n",
              "      <td>MIA</td>\n",
              "      <td>0020</td>\n",
              "      <td>0015</td>\n",
              "      <td>-5.0</td>\n",
              "      <td>15.0</td>\n",
              "      <td>0030</td>\n",
              "      <td>285</td>\n",
              "      <td>281.0</td>\n",
              "      <td>258.0</td>\n",
              "      <td>2342</td>\n",
              "      <td>0748</td>\n",
              "      <td>8.0</td>\n",
              "      <td>0805</td>\n",
              "      <td>0756</td>\n",
              "      <td>-9.0</td>\n",
              "      <td>0</td>\n",
              "      <td>0</td>\n",
              "      <td>NaN</td>\n",
              "      <td>NaN</td>\n",
              "      <td>NaN</td>\n",
              "      <td>NaN</td>\n",
              "      <td>NaN</td>\n",
              "      <td>NaN</td>\n",
              "    </tr>\n",
              "    <tr>\n",
              "      <th>4</th>\n",
              "      <td>2015</td>\n",
              "      <td>1</td>\n",
              "      <td>1</td>\n",
              "      <td>4</td>\n",
              "      <td>AS</td>\n",
              "      <td>135</td>\n",
              "      <td>N527AS</td>\n",
              "      <td>SEA</td>\n",
              "      <td>ANC</td>\n",
              "      <td>0025</td>\n",
              "      <td>0024</td>\n",
              "      <td>-1.0</td>\n",
              "      <td>11.0</td>\n",
              "      <td>0035</td>\n",
              "      <td>235</td>\n",
              "      <td>215.0</td>\n",
              "      <td>199.0</td>\n",
              "      <td>1448</td>\n",
              "      <td>0254</td>\n",
              "      <td>5.0</td>\n",
              "      <td>0320</td>\n",
              "      <td>0259</td>\n",
              "      <td>-21.0</td>\n",
              "      <td>0</td>\n",
              "      <td>0</td>\n",
              "      <td>NaN</td>\n",
              "      <td>NaN</td>\n",
              "      <td>NaN</td>\n",
              "      <td>NaN</td>\n",
              "      <td>NaN</td>\n",
              "      <td>NaN</td>\n",
              "    </tr>\n",
              "  </tbody>\n",
              "</table>\n",
              "</div>"
            ],
            "text/plain": [
              "   YEAR  MONTH  DAY  ...  AIRLINE_DELAY LATE_AIRCRAFT_DELAY  WEATHER_DELAY\n",
              "0  2015      1    1  ...            NaN                 NaN            NaN\n",
              "1  2015      1    1  ...            NaN                 NaN            NaN\n",
              "2  2015      1    1  ...            NaN                 NaN            NaN\n",
              "3  2015      1    1  ...            NaN                 NaN            NaN\n",
              "4  2015      1    1  ...            NaN                 NaN            NaN\n",
              "\n",
              "[5 rows x 31 columns]"
            ]
          },
          "metadata": {
            "tags": []
          },
          "execution_count": 5
        }
      ]
    },
    {
      "cell_type": "markdown",
      "metadata": {
        "id": "i_MIyWQIqCLg"
      },
      "source": [
        "#### TO DO (AMBER)"
      ],
      "id": "i_MIyWQIqCLg"
    },
    {
      "cell_type": "markdown",
      "metadata": {
        "id": "EdRrx6c6DEIk"
      },
      "source": [
        "### Merge Flights & Airlines"
      ],
      "id": "EdRrx6c6DEIk"
    },
    {
      "cell_type": "markdown",
      "metadata": {
        "id": "BYXYBxSzCzcO"
      },
      "source": [
        "The flight data will become our primary data set, but we can join it with the airline information to bring in the human-readable names."
      ],
      "id": "BYXYBxSzCzcO"
    },
    {
      "cell_type": "code",
      "metadata": {
        "id": "2009e446"
      },
      "source": [
        "# Rename columns in preparation for merge\n",
        "airlines.rename(columns={'IATA_CODE': 'AIRLINE_CODE'}, inplace=True)\n",
        "flights.rename(columns={'AIRLINE': 'AIRLINE_CODE'}, inplace=True)"
      ],
      "id": "2009e446",
      "execution_count": 6,
      "outputs": []
    },
    {
      "cell_type": "code",
      "metadata": {
        "id": "6b275ee4"
      },
      "source": [
        "# Merge data together\n",
        "df = pd.merge(flights, airlines, on='AIRLINE_CODE', how = 'left')"
      ],
      "id": "6b275ee4",
      "execution_count": 7,
      "outputs": []
    },
    {
      "cell_type": "code",
      "metadata": {
        "scrolled": true,
        "id": "35ec9ab9",
        "colab": {
          "base_uri": "https://localhost:8080/",
          "height": 394
        },
        "outputId": "08a4424c-671d-4dda-996f-553699cb565a"
      },
      "source": [
        "# Look at the newly merged data\n",
        "df.head()"
      ],
      "id": "35ec9ab9",
      "execution_count": 8,
      "outputs": [
        {
          "output_type": "execute_result",
          "data": {
            "text/html": [
              "<div>\n",
              "<style scoped>\n",
              "    .dataframe tbody tr th:only-of-type {\n",
              "        vertical-align: middle;\n",
              "    }\n",
              "\n",
              "    .dataframe tbody tr th {\n",
              "        vertical-align: top;\n",
              "    }\n",
              "\n",
              "    .dataframe thead th {\n",
              "        text-align: right;\n",
              "    }\n",
              "</style>\n",
              "<table border=\"1\" class=\"dataframe\">\n",
              "  <thead>\n",
              "    <tr style=\"text-align: right;\">\n",
              "      <th></th>\n",
              "      <th>YEAR</th>\n",
              "      <th>MONTH</th>\n",
              "      <th>DAY</th>\n",
              "      <th>DAY_OF_WEEK</th>\n",
              "      <th>AIRLINE_CODE</th>\n",
              "      <th>FLIGHT_NUMBER</th>\n",
              "      <th>TAIL_NUMBER</th>\n",
              "      <th>ORIGIN_AIRPORT</th>\n",
              "      <th>DESTINATION_AIRPORT</th>\n",
              "      <th>SCHEDULED_DEPARTURE</th>\n",
              "      <th>DEPARTURE_TIME</th>\n",
              "      <th>DEPARTURE_DELAY</th>\n",
              "      <th>TAXI_OUT</th>\n",
              "      <th>WHEELS_OFF</th>\n",
              "      <th>SCHEDULED_TIME</th>\n",
              "      <th>ELAPSED_TIME</th>\n",
              "      <th>AIR_TIME</th>\n",
              "      <th>DISTANCE</th>\n",
              "      <th>WHEELS_ON</th>\n",
              "      <th>TAXI_IN</th>\n",
              "      <th>SCHEDULED_ARRIVAL</th>\n",
              "      <th>ARRIVAL_TIME</th>\n",
              "      <th>ARRIVAL_DELAY</th>\n",
              "      <th>DIVERTED</th>\n",
              "      <th>CANCELLED</th>\n",
              "      <th>CANCELLATION_REASON</th>\n",
              "      <th>AIR_SYSTEM_DELAY</th>\n",
              "      <th>SECURITY_DELAY</th>\n",
              "      <th>AIRLINE_DELAY</th>\n",
              "      <th>LATE_AIRCRAFT_DELAY</th>\n",
              "      <th>WEATHER_DELAY</th>\n",
              "      <th>AIRLINE</th>\n",
              "    </tr>\n",
              "  </thead>\n",
              "  <tbody>\n",
              "    <tr>\n",
              "      <th>0</th>\n",
              "      <td>2015</td>\n",
              "      <td>1</td>\n",
              "      <td>1</td>\n",
              "      <td>4</td>\n",
              "      <td>AS</td>\n",
              "      <td>98</td>\n",
              "      <td>N407AS</td>\n",
              "      <td>ANC</td>\n",
              "      <td>SEA</td>\n",
              "      <td>0005</td>\n",
              "      <td>2354</td>\n",
              "      <td>-11.0</td>\n",
              "      <td>21.0</td>\n",
              "      <td>0015</td>\n",
              "      <td>205</td>\n",
              "      <td>194.0</td>\n",
              "      <td>169.0</td>\n",
              "      <td>1448</td>\n",
              "      <td>0404</td>\n",
              "      <td>4.0</td>\n",
              "      <td>0430</td>\n",
              "      <td>0408</td>\n",
              "      <td>-22.0</td>\n",
              "      <td>0</td>\n",
              "      <td>0</td>\n",
              "      <td>NaN</td>\n",
              "      <td>NaN</td>\n",
              "      <td>NaN</td>\n",
              "      <td>NaN</td>\n",
              "      <td>NaN</td>\n",
              "      <td>NaN</td>\n",
              "      <td>Alaska Airlines Inc.</td>\n",
              "    </tr>\n",
              "    <tr>\n",
              "      <th>1</th>\n",
              "      <td>2015</td>\n",
              "      <td>1</td>\n",
              "      <td>1</td>\n",
              "      <td>4</td>\n",
              "      <td>AA</td>\n",
              "      <td>2336</td>\n",
              "      <td>N3KUAA</td>\n",
              "      <td>LAX</td>\n",
              "      <td>PBI</td>\n",
              "      <td>0010</td>\n",
              "      <td>0002</td>\n",
              "      <td>-8.0</td>\n",
              "      <td>12.0</td>\n",
              "      <td>0014</td>\n",
              "      <td>280</td>\n",
              "      <td>279.0</td>\n",
              "      <td>263.0</td>\n",
              "      <td>2330</td>\n",
              "      <td>0737</td>\n",
              "      <td>4.0</td>\n",
              "      <td>0750</td>\n",
              "      <td>0741</td>\n",
              "      <td>-9.0</td>\n",
              "      <td>0</td>\n",
              "      <td>0</td>\n",
              "      <td>NaN</td>\n",
              "      <td>NaN</td>\n",
              "      <td>NaN</td>\n",
              "      <td>NaN</td>\n",
              "      <td>NaN</td>\n",
              "      <td>NaN</td>\n",
              "      <td>American Airlines Inc.</td>\n",
              "    </tr>\n",
              "    <tr>\n",
              "      <th>2</th>\n",
              "      <td>2015</td>\n",
              "      <td>1</td>\n",
              "      <td>1</td>\n",
              "      <td>4</td>\n",
              "      <td>US</td>\n",
              "      <td>840</td>\n",
              "      <td>N171US</td>\n",
              "      <td>SFO</td>\n",
              "      <td>CLT</td>\n",
              "      <td>0020</td>\n",
              "      <td>0018</td>\n",
              "      <td>-2.0</td>\n",
              "      <td>16.0</td>\n",
              "      <td>0034</td>\n",
              "      <td>286</td>\n",
              "      <td>293.0</td>\n",
              "      <td>266.0</td>\n",
              "      <td>2296</td>\n",
              "      <td>0800</td>\n",
              "      <td>11.0</td>\n",
              "      <td>0806</td>\n",
              "      <td>0811</td>\n",
              "      <td>5.0</td>\n",
              "      <td>0</td>\n",
              "      <td>0</td>\n",
              "      <td>NaN</td>\n",
              "      <td>NaN</td>\n",
              "      <td>NaN</td>\n",
              "      <td>NaN</td>\n",
              "      <td>NaN</td>\n",
              "      <td>NaN</td>\n",
              "      <td>US Airways Inc.</td>\n",
              "    </tr>\n",
              "    <tr>\n",
              "      <th>3</th>\n",
              "      <td>2015</td>\n",
              "      <td>1</td>\n",
              "      <td>1</td>\n",
              "      <td>4</td>\n",
              "      <td>AA</td>\n",
              "      <td>258</td>\n",
              "      <td>N3HYAA</td>\n",
              "      <td>LAX</td>\n",
              "      <td>MIA</td>\n",
              "      <td>0020</td>\n",
              "      <td>0015</td>\n",
              "      <td>-5.0</td>\n",
              "      <td>15.0</td>\n",
              "      <td>0030</td>\n",
              "      <td>285</td>\n",
              "      <td>281.0</td>\n",
              "      <td>258.0</td>\n",
              "      <td>2342</td>\n",
              "      <td>0748</td>\n",
              "      <td>8.0</td>\n",
              "      <td>0805</td>\n",
              "      <td>0756</td>\n",
              "      <td>-9.0</td>\n",
              "      <td>0</td>\n",
              "      <td>0</td>\n",
              "      <td>NaN</td>\n",
              "      <td>NaN</td>\n",
              "      <td>NaN</td>\n",
              "      <td>NaN</td>\n",
              "      <td>NaN</td>\n",
              "      <td>NaN</td>\n",
              "      <td>American Airlines Inc.</td>\n",
              "    </tr>\n",
              "    <tr>\n",
              "      <th>4</th>\n",
              "      <td>2015</td>\n",
              "      <td>1</td>\n",
              "      <td>1</td>\n",
              "      <td>4</td>\n",
              "      <td>AS</td>\n",
              "      <td>135</td>\n",
              "      <td>N527AS</td>\n",
              "      <td>SEA</td>\n",
              "      <td>ANC</td>\n",
              "      <td>0025</td>\n",
              "      <td>0024</td>\n",
              "      <td>-1.0</td>\n",
              "      <td>11.0</td>\n",
              "      <td>0035</td>\n",
              "      <td>235</td>\n",
              "      <td>215.0</td>\n",
              "      <td>199.0</td>\n",
              "      <td>1448</td>\n",
              "      <td>0254</td>\n",
              "      <td>5.0</td>\n",
              "      <td>0320</td>\n",
              "      <td>0259</td>\n",
              "      <td>-21.0</td>\n",
              "      <td>0</td>\n",
              "      <td>0</td>\n",
              "      <td>NaN</td>\n",
              "      <td>NaN</td>\n",
              "      <td>NaN</td>\n",
              "      <td>NaN</td>\n",
              "      <td>NaN</td>\n",
              "      <td>NaN</td>\n",
              "      <td>Alaska Airlines Inc.</td>\n",
              "    </tr>\n",
              "  </tbody>\n",
              "</table>\n",
              "</div>"
            ],
            "text/plain": [
              "   YEAR  MONTH  DAY  ...  LATE_AIRCRAFT_DELAY WEATHER_DELAY                 AIRLINE\n",
              "0  2015      1    1  ...                  NaN           NaN    Alaska Airlines Inc.\n",
              "1  2015      1    1  ...                  NaN           NaN  American Airlines Inc.\n",
              "2  2015      1    1  ...                  NaN           NaN         US Airways Inc.\n",
              "3  2015      1    1  ...                  NaN           NaN  American Airlines Inc.\n",
              "4  2015      1    1  ...                  NaN           NaN    Alaska Airlines Inc.\n",
              "\n",
              "[5 rows x 32 columns]"
            ]
          },
          "metadata": {
            "tags": []
          },
          "execution_count": 8
        }
      ]
    },
    {
      "cell_type": "markdown",
      "metadata": {
        "id": "v65dqpagDOLZ"
      },
      "source": [
        "Our merged data set contains 5,819,079 observations and 32 attributes."
      ],
      "id": "v65dqpagDOLZ"
    },
    {
      "cell_type": "code",
      "metadata": {
        "scrolled": false,
        "id": "11c86e1b",
        "colab": {
          "base_uri": "https://localhost:8080/"
        },
        "outputId": "bc177094-857b-4cf0-94fc-1318f929494d"
      },
      "source": [
        "df.info()"
      ],
      "id": "11c86e1b",
      "execution_count": 9,
      "outputs": [
        {
          "output_type": "stream",
          "text": [
            "<class 'pandas.core.frame.DataFrame'>\n",
            "Int64Index: 5819079 entries, 0 to 5819078\n",
            "Data columns (total 32 columns):\n",
            " #   Column               Dtype  \n",
            "---  ------               -----  \n",
            " 0   YEAR                 int64  \n",
            " 1   MONTH                int64  \n",
            " 2   DAY                  int64  \n",
            " 3   DAY_OF_WEEK          int64  \n",
            " 4   AIRLINE_CODE         object \n",
            " 5   FLIGHT_NUMBER        int64  \n",
            " 6   TAIL_NUMBER          object \n",
            " 7   ORIGIN_AIRPORT       object \n",
            " 8   DESTINATION_AIRPORT  object \n",
            " 9   SCHEDULED_DEPARTURE  object \n",
            " 10  DEPARTURE_TIME       object \n",
            " 11  DEPARTURE_DELAY      float64\n",
            " 12  TAXI_OUT             float64\n",
            " 13  WHEELS_OFF           object \n",
            " 14  SCHEDULED_TIME       object \n",
            " 15  ELAPSED_TIME         float64\n",
            " 16  AIR_TIME             float64\n",
            " 17  DISTANCE             int64  \n",
            " 18  WHEELS_ON            object \n",
            " 19  TAXI_IN              float64\n",
            " 20  SCHEDULED_ARRIVAL    object \n",
            " 21  ARRIVAL_TIME         object \n",
            " 22  ARRIVAL_DELAY        float64\n",
            " 23  DIVERTED             int64  \n",
            " 24  CANCELLED            int64  \n",
            " 25  CANCELLATION_REASON  object \n",
            " 26  AIR_SYSTEM_DELAY     float64\n",
            " 27  SECURITY_DELAY       float64\n",
            " 28  AIRLINE_DELAY        float64\n",
            " 29  LATE_AIRCRAFT_DELAY  float64\n",
            " 30  WEATHER_DELAY        float64\n",
            " 31  AIRLINE              object \n",
            "dtypes: float64(11), int64(8), object(13)\n",
            "memory usage: 1.4+ GB\n"
          ],
          "name": "stdout"
        }
      ]
    },
    {
      "cell_type": "markdown",
      "metadata": {
        "id": "KN5umzkXDWjK"
      },
      "source": [
        "### Convert String Columns to Datetime"
      ],
      "id": "KN5umzkXDWjK"
    },
    {
      "cell_type": "code",
      "metadata": {
        "id": "297dcddc"
      },
      "source": [
        "# Convert string columns to datetime\n",
        "# Source: https://stackoverflow.com/questions/41514173/change-multiple-columns-in-pandas-dataframe-to-datetime\n",
        "#df.iloc[:, [9, 10, 13, 18, 20, 21]] = df.iloc[:, [9, 10, 13, 18, 20, 21]].apply(pd.to_datetime, format='%H%M', errors = 'coerce')"
      ],
      "id": "297dcddc",
      "execution_count": 10,
      "outputs": []
    },
    {
      "cell_type": "code",
      "metadata": {
        "id": "c6AD2_jqapOI"
      },
      "source": [
        "cols = [\"SCHEDULED_DEPARTURE\", \n",
        "   \"DEPARTURE_TIME\", \n",
        "   \"WHEELS_OFF\",  \n",
        "   \"WHEELS_ON\", \n",
        "   \"SCHEDULED_ARRIVAL\", \n",
        "   \"ARRIVAL_TIME\"]\n",
        "\n",
        "df[cols] = df[cols].apply(pd.to_datetime, format = '%H%M', errors='coerce')\n",
        "\n",
        "#df[cols] = df[cols].apply(pd.to_datetime, exact = False, format = '%H%M')\n",
        "#df[cols] = df[cols].apply(datetime.strptime,format = '%H%M')"
      ],
      "id": "c6AD2_jqapOI",
      "execution_count": 11,
      "outputs": []
    },
    {
      "cell_type": "code",
      "metadata": {
        "id": "5b6eb850",
        "colab": {
          "base_uri": "https://localhost:8080/",
          "height": 204
        },
        "outputId": "96b645e3-11b2-48b9-97f7-7b34a48923e3"
      },
      "source": [
        "df[[\"SCHEDULED_DEPARTURE\", \n",
        "   \"DEPARTURE_TIME\", \n",
        "   \"WHEELS_OFF\", \n",
        "   \"WHEELS_ON\", \n",
        "   \"SCHEDULED_ARRIVAL\", \n",
        "   \"ARRIVAL_TIME\"]].head()"
      ],
      "id": "5b6eb850",
      "execution_count": 12,
      "outputs": [
        {
          "output_type": "execute_result",
          "data": {
            "text/html": [
              "<div>\n",
              "<style scoped>\n",
              "    .dataframe tbody tr th:only-of-type {\n",
              "        vertical-align: middle;\n",
              "    }\n",
              "\n",
              "    .dataframe tbody tr th {\n",
              "        vertical-align: top;\n",
              "    }\n",
              "\n",
              "    .dataframe thead th {\n",
              "        text-align: right;\n",
              "    }\n",
              "</style>\n",
              "<table border=\"1\" class=\"dataframe\">\n",
              "  <thead>\n",
              "    <tr style=\"text-align: right;\">\n",
              "      <th></th>\n",
              "      <th>SCHEDULED_DEPARTURE</th>\n",
              "      <th>DEPARTURE_TIME</th>\n",
              "      <th>WHEELS_OFF</th>\n",
              "      <th>WHEELS_ON</th>\n",
              "      <th>SCHEDULED_ARRIVAL</th>\n",
              "      <th>ARRIVAL_TIME</th>\n",
              "    </tr>\n",
              "  </thead>\n",
              "  <tbody>\n",
              "    <tr>\n",
              "      <th>0</th>\n",
              "      <td>1900-01-01 00:05:00</td>\n",
              "      <td>1900-01-01 23:54:00</td>\n",
              "      <td>1900-01-01 00:15:00</td>\n",
              "      <td>1900-01-01 04:04:00</td>\n",
              "      <td>1900-01-01 04:30:00</td>\n",
              "      <td>1900-01-01 04:08:00</td>\n",
              "    </tr>\n",
              "    <tr>\n",
              "      <th>1</th>\n",
              "      <td>1900-01-01 00:10:00</td>\n",
              "      <td>1900-01-01 00:02:00</td>\n",
              "      <td>1900-01-01 00:14:00</td>\n",
              "      <td>1900-01-01 07:37:00</td>\n",
              "      <td>1900-01-01 07:50:00</td>\n",
              "      <td>1900-01-01 07:41:00</td>\n",
              "    </tr>\n",
              "    <tr>\n",
              "      <th>2</th>\n",
              "      <td>1900-01-01 00:20:00</td>\n",
              "      <td>1900-01-01 00:18:00</td>\n",
              "      <td>1900-01-01 00:34:00</td>\n",
              "      <td>1900-01-01 08:00:00</td>\n",
              "      <td>1900-01-01 08:06:00</td>\n",
              "      <td>1900-01-01 08:11:00</td>\n",
              "    </tr>\n",
              "    <tr>\n",
              "      <th>3</th>\n",
              "      <td>1900-01-01 00:20:00</td>\n",
              "      <td>1900-01-01 00:15:00</td>\n",
              "      <td>1900-01-01 00:30:00</td>\n",
              "      <td>1900-01-01 07:48:00</td>\n",
              "      <td>1900-01-01 08:05:00</td>\n",
              "      <td>1900-01-01 07:56:00</td>\n",
              "    </tr>\n",
              "    <tr>\n",
              "      <th>4</th>\n",
              "      <td>1900-01-01 00:25:00</td>\n",
              "      <td>1900-01-01 00:24:00</td>\n",
              "      <td>1900-01-01 00:35:00</td>\n",
              "      <td>1900-01-01 02:54:00</td>\n",
              "      <td>1900-01-01 03:20:00</td>\n",
              "      <td>1900-01-01 02:59:00</td>\n",
              "    </tr>\n",
              "  </tbody>\n",
              "</table>\n",
              "</div>"
            ],
            "text/plain": [
              "  SCHEDULED_DEPARTURE  ...        ARRIVAL_TIME\n",
              "0 1900-01-01 00:05:00  ... 1900-01-01 04:08:00\n",
              "1 1900-01-01 00:10:00  ... 1900-01-01 07:41:00\n",
              "2 1900-01-01 00:20:00  ... 1900-01-01 08:11:00\n",
              "3 1900-01-01 00:20:00  ... 1900-01-01 07:56:00\n",
              "4 1900-01-01 00:25:00  ... 1900-01-01 02:59:00\n",
              "\n",
              "[5 rows x 6 columns]"
            ]
          },
          "metadata": {
            "tags": []
          },
          "execution_count": 12
        }
      ]
    },
    {
      "cell_type": "markdown",
      "metadata": {
        "id": "Kuj0Dq8pDe17"
      },
      "source": [
        "### Convert YEAR, MONTH, DAY into a Single Date"
      ],
      "id": "Kuj0Dq8pDe17"
    },
    {
      "cell_type": "code",
      "metadata": {
        "id": "9wQyIem0JZ4k"
      },
      "source": [
        "# Source: https://stackoverflow.com/questions/54487059/pandas-how-to-create-a-single-date-column-from-columns-containing-year-month\n",
        "df['FLIGHT_DATE'] = pd.to_datetime([f'{y}-{m}-{d}' for y, m, d in zip(df.YEAR, df.MONTH, df.DAY)])"
      ],
      "id": "9wQyIem0JZ4k",
      "execution_count": 13,
      "outputs": []
    },
    {
      "cell_type": "markdown",
      "metadata": {
        "id": "34561fd9"
      },
      "source": [
        "## Data Quality"
      ],
      "id": "34561fd9"
    },
    {
      "cell_type": "markdown",
      "metadata": {
        "id": "a4463671"
      },
      "source": [
        "`Verify data quality: Explain any missing values, duplicate data, and outliers. Are those mistakes? How do you deal with these problems? Give justifications for your methods.`"
      ],
      "id": "a4463671"
    },
    {
      "cell_type": "markdown",
      "metadata": {
        "id": "pIjPk2PLFh-n"
      },
      "source": [
        "### Missing Values"
      ],
      "id": "pIjPk2PLFh-n"
    },
    {
      "cell_type": "code",
      "metadata": {
        "id": "d0a0e195",
        "colab": {
          "base_uri": "https://localhost:8080/"
        },
        "outputId": "26660c2b-82b9-4f33-fbd8-8e96c30da926"
      },
      "source": [
        "# How many missing values are there in the data?\n",
        "df.isnull().sum()"
      ],
      "id": "d0a0e195",
      "execution_count": 14,
      "outputs": [
        {
          "output_type": "execute_result",
          "data": {
            "text/plain": [
              "YEAR                         0\n",
              "MONTH                        0\n",
              "DAY                          0\n",
              "DAY_OF_WEEK                  0\n",
              "AIRLINE_CODE                 0\n",
              "FLIGHT_NUMBER                0\n",
              "TAIL_NUMBER              14721\n",
              "ORIGIN_AIRPORT               0\n",
              "DESTINATION_AIRPORT          0\n",
              "SCHEDULED_DEPARTURE          0\n",
              "DEPARTURE_TIME           86666\n",
              "DEPARTURE_DELAY          86153\n",
              "TAXI_OUT                 89047\n",
              "WHEELS_OFF               89774\n",
              "SCHEDULED_TIME               6\n",
              "ELAPSED_TIME            105071\n",
              "AIR_TIME                105071\n",
              "DISTANCE                     0\n",
              "WHEELS_ON                94518\n",
              "TAXI_IN                  92513\n",
              "SCHEDULED_ARRIVAL            2\n",
              "ARRIVAL_TIME             94969\n",
              "ARRIVAL_DELAY           105071\n",
              "DIVERTED                     0\n",
              "CANCELLED                    0\n",
              "CANCELLATION_REASON    5729195\n",
              "AIR_SYSTEM_DELAY       4755640\n",
              "SECURITY_DELAY         4755640\n",
              "AIRLINE_DELAY          4755640\n",
              "LATE_AIRCRAFT_DELAY    4755640\n",
              "WEATHER_DELAY          4755640\n",
              "AIRLINE                      0\n",
              "FLIGHT_DATE                  0\n",
              "dtype: int64"
            ]
          },
          "metadata": {
            "tags": []
          },
          "execution_count": 14
        }
      ]
    },
    {
      "cell_type": "markdown",
      "metadata": {
        "id": "e861a319"
      },
      "source": [
        "There are millions of missing values in the specific delay time columns. This is expected, as not every flight is delayed, and you would hope that percentage would be small of the overall flights. We will convert these missing values into `0` since, in these cases, there was no flight delay for the specific attribute."
      ],
      "id": "e861a319"
    },
    {
      "cell_type": "code",
      "metadata": {
        "id": "3MWDCjs-EBmq"
      },
      "source": [
        "# Replace missing values in AIRLINE_DELAY, AIR_SYSTEM_DELAY, SECURITY_DELAY, LATE_AIRCRAFT_DELAY, and WEATHER_DELAY with '0'\n",
        "df[['AIRLINE_DELAY', 'AIR_SYSTEM_DELAY', 'SECURITY_DELAY', 'LATE_AIRCRAFT_DELAY', 'WEATHER_DELAY']] = df[['AIRLINE_DELAY', 'AIR_SYSTEM_DELAY', 'SECURITY_DELAY', 'LATE_AIRCRAFT_DELAY', 'WEATHER_DELAY']].fillna(value = 0)"
      ],
      "id": "3MWDCjs-EBmq",
      "execution_count": 15,
      "outputs": []
    },
    {
      "cell_type": "markdown",
      "metadata": {
        "id": "iV8_tGJcEPia"
      },
      "source": [
        "Similar to the delay columns, the `CANCELLATION_REASON` column also contains millions of missing values. Here we convert the missing values to `0` and use one hot encoding on the resulting column."
      ],
      "id": "iV8_tGJcEPia"
    },
    {
      "cell_type": "code",
      "metadata": {
        "id": "Yc3zGo9VFNCE",
        "colab": {
          "base_uri": "https://localhost:8080/",
          "height": 394
        },
        "outputId": "d99677f7-5fd1-454e-e515-f6f5525f9df2"
      },
      "source": [
        "# One hot encode CANCELLATION_REASON where NA = 0\n",
        "# Source: datagy.io/pandas-get-dummies/\n",
        "\n",
        "# Convert missing values to 'N' for 'N/A'\n",
        "df['CANCELLATION_REASON'] = df['CANCELLATION_REASON'].fillna('N')\n",
        "\n",
        "# One hot encode\n",
        "one_hot_columns = ['CANCELLATION_REASON']\n",
        "\n",
        "for column in one_hot_columns:\n",
        "  tempdf = pd.get_dummies(df[column], prefix=column)\n",
        "\n",
        "  df = pd.merge(\n",
        "      left = df,\n",
        "      right = tempdf,\n",
        "      left_index = True,\n",
        "      right_index = True,\n",
        "  )\n",
        "\n",
        "  df = df.drop(columns=column)\n",
        "\n",
        "df.head()"
      ],
      "id": "Yc3zGo9VFNCE",
      "execution_count": 16,
      "outputs": [
        {
          "output_type": "execute_result",
          "data": {
            "text/html": [
              "<div>\n",
              "<style scoped>\n",
              "    .dataframe tbody tr th:only-of-type {\n",
              "        vertical-align: middle;\n",
              "    }\n",
              "\n",
              "    .dataframe tbody tr th {\n",
              "        vertical-align: top;\n",
              "    }\n",
              "\n",
              "    .dataframe thead th {\n",
              "        text-align: right;\n",
              "    }\n",
              "</style>\n",
              "<table border=\"1\" class=\"dataframe\">\n",
              "  <thead>\n",
              "    <tr style=\"text-align: right;\">\n",
              "      <th></th>\n",
              "      <th>YEAR</th>\n",
              "      <th>MONTH</th>\n",
              "      <th>DAY</th>\n",
              "      <th>DAY_OF_WEEK</th>\n",
              "      <th>AIRLINE_CODE</th>\n",
              "      <th>FLIGHT_NUMBER</th>\n",
              "      <th>TAIL_NUMBER</th>\n",
              "      <th>ORIGIN_AIRPORT</th>\n",
              "      <th>DESTINATION_AIRPORT</th>\n",
              "      <th>SCHEDULED_DEPARTURE</th>\n",
              "      <th>DEPARTURE_TIME</th>\n",
              "      <th>DEPARTURE_DELAY</th>\n",
              "      <th>TAXI_OUT</th>\n",
              "      <th>WHEELS_OFF</th>\n",
              "      <th>SCHEDULED_TIME</th>\n",
              "      <th>ELAPSED_TIME</th>\n",
              "      <th>AIR_TIME</th>\n",
              "      <th>DISTANCE</th>\n",
              "      <th>WHEELS_ON</th>\n",
              "      <th>TAXI_IN</th>\n",
              "      <th>SCHEDULED_ARRIVAL</th>\n",
              "      <th>ARRIVAL_TIME</th>\n",
              "      <th>ARRIVAL_DELAY</th>\n",
              "      <th>DIVERTED</th>\n",
              "      <th>CANCELLED</th>\n",
              "      <th>AIR_SYSTEM_DELAY</th>\n",
              "      <th>SECURITY_DELAY</th>\n",
              "      <th>AIRLINE_DELAY</th>\n",
              "      <th>LATE_AIRCRAFT_DELAY</th>\n",
              "      <th>WEATHER_DELAY</th>\n",
              "      <th>AIRLINE</th>\n",
              "      <th>FLIGHT_DATE</th>\n",
              "      <th>CANCELLATION_REASON_A</th>\n",
              "      <th>CANCELLATION_REASON_B</th>\n",
              "      <th>CANCELLATION_REASON_C</th>\n",
              "      <th>CANCELLATION_REASON_D</th>\n",
              "      <th>CANCELLATION_REASON_N</th>\n",
              "    </tr>\n",
              "  </thead>\n",
              "  <tbody>\n",
              "    <tr>\n",
              "      <th>0</th>\n",
              "      <td>2015</td>\n",
              "      <td>1</td>\n",
              "      <td>1</td>\n",
              "      <td>4</td>\n",
              "      <td>AS</td>\n",
              "      <td>98</td>\n",
              "      <td>N407AS</td>\n",
              "      <td>ANC</td>\n",
              "      <td>SEA</td>\n",
              "      <td>1900-01-01 00:05:00</td>\n",
              "      <td>1900-01-01 23:54:00</td>\n",
              "      <td>-11.0</td>\n",
              "      <td>21.0</td>\n",
              "      <td>1900-01-01 00:15:00</td>\n",
              "      <td>205</td>\n",
              "      <td>194.0</td>\n",
              "      <td>169.0</td>\n",
              "      <td>1448</td>\n",
              "      <td>1900-01-01 04:04:00</td>\n",
              "      <td>4.0</td>\n",
              "      <td>1900-01-01 04:30:00</td>\n",
              "      <td>1900-01-01 04:08:00</td>\n",
              "      <td>-22.0</td>\n",
              "      <td>0</td>\n",
              "      <td>0</td>\n",
              "      <td>0.0</td>\n",
              "      <td>0.0</td>\n",
              "      <td>0.0</td>\n",
              "      <td>0.0</td>\n",
              "      <td>0.0</td>\n",
              "      <td>Alaska Airlines Inc.</td>\n",
              "      <td>2015-01-01</td>\n",
              "      <td>0</td>\n",
              "      <td>0</td>\n",
              "      <td>0</td>\n",
              "      <td>0</td>\n",
              "      <td>1</td>\n",
              "    </tr>\n",
              "    <tr>\n",
              "      <th>1</th>\n",
              "      <td>2015</td>\n",
              "      <td>1</td>\n",
              "      <td>1</td>\n",
              "      <td>4</td>\n",
              "      <td>AA</td>\n",
              "      <td>2336</td>\n",
              "      <td>N3KUAA</td>\n",
              "      <td>LAX</td>\n",
              "      <td>PBI</td>\n",
              "      <td>1900-01-01 00:10:00</td>\n",
              "      <td>1900-01-01 00:02:00</td>\n",
              "      <td>-8.0</td>\n",
              "      <td>12.0</td>\n",
              "      <td>1900-01-01 00:14:00</td>\n",
              "      <td>280</td>\n",
              "      <td>279.0</td>\n",
              "      <td>263.0</td>\n",
              "      <td>2330</td>\n",
              "      <td>1900-01-01 07:37:00</td>\n",
              "      <td>4.0</td>\n",
              "      <td>1900-01-01 07:50:00</td>\n",
              "      <td>1900-01-01 07:41:00</td>\n",
              "      <td>-9.0</td>\n",
              "      <td>0</td>\n",
              "      <td>0</td>\n",
              "      <td>0.0</td>\n",
              "      <td>0.0</td>\n",
              "      <td>0.0</td>\n",
              "      <td>0.0</td>\n",
              "      <td>0.0</td>\n",
              "      <td>American Airlines Inc.</td>\n",
              "      <td>2015-01-01</td>\n",
              "      <td>0</td>\n",
              "      <td>0</td>\n",
              "      <td>0</td>\n",
              "      <td>0</td>\n",
              "      <td>1</td>\n",
              "    </tr>\n",
              "    <tr>\n",
              "      <th>2</th>\n",
              "      <td>2015</td>\n",
              "      <td>1</td>\n",
              "      <td>1</td>\n",
              "      <td>4</td>\n",
              "      <td>US</td>\n",
              "      <td>840</td>\n",
              "      <td>N171US</td>\n",
              "      <td>SFO</td>\n",
              "      <td>CLT</td>\n",
              "      <td>1900-01-01 00:20:00</td>\n",
              "      <td>1900-01-01 00:18:00</td>\n",
              "      <td>-2.0</td>\n",
              "      <td>16.0</td>\n",
              "      <td>1900-01-01 00:34:00</td>\n",
              "      <td>286</td>\n",
              "      <td>293.0</td>\n",
              "      <td>266.0</td>\n",
              "      <td>2296</td>\n",
              "      <td>1900-01-01 08:00:00</td>\n",
              "      <td>11.0</td>\n",
              "      <td>1900-01-01 08:06:00</td>\n",
              "      <td>1900-01-01 08:11:00</td>\n",
              "      <td>5.0</td>\n",
              "      <td>0</td>\n",
              "      <td>0</td>\n",
              "      <td>0.0</td>\n",
              "      <td>0.0</td>\n",
              "      <td>0.0</td>\n",
              "      <td>0.0</td>\n",
              "      <td>0.0</td>\n",
              "      <td>US Airways Inc.</td>\n",
              "      <td>2015-01-01</td>\n",
              "      <td>0</td>\n",
              "      <td>0</td>\n",
              "      <td>0</td>\n",
              "      <td>0</td>\n",
              "      <td>1</td>\n",
              "    </tr>\n",
              "    <tr>\n",
              "      <th>3</th>\n",
              "      <td>2015</td>\n",
              "      <td>1</td>\n",
              "      <td>1</td>\n",
              "      <td>4</td>\n",
              "      <td>AA</td>\n",
              "      <td>258</td>\n",
              "      <td>N3HYAA</td>\n",
              "      <td>LAX</td>\n",
              "      <td>MIA</td>\n",
              "      <td>1900-01-01 00:20:00</td>\n",
              "      <td>1900-01-01 00:15:00</td>\n",
              "      <td>-5.0</td>\n",
              "      <td>15.0</td>\n",
              "      <td>1900-01-01 00:30:00</td>\n",
              "      <td>285</td>\n",
              "      <td>281.0</td>\n",
              "      <td>258.0</td>\n",
              "      <td>2342</td>\n",
              "      <td>1900-01-01 07:48:00</td>\n",
              "      <td>8.0</td>\n",
              "      <td>1900-01-01 08:05:00</td>\n",
              "      <td>1900-01-01 07:56:00</td>\n",
              "      <td>-9.0</td>\n",
              "      <td>0</td>\n",
              "      <td>0</td>\n",
              "      <td>0.0</td>\n",
              "      <td>0.0</td>\n",
              "      <td>0.0</td>\n",
              "      <td>0.0</td>\n",
              "      <td>0.0</td>\n",
              "      <td>American Airlines Inc.</td>\n",
              "      <td>2015-01-01</td>\n",
              "      <td>0</td>\n",
              "      <td>0</td>\n",
              "      <td>0</td>\n",
              "      <td>0</td>\n",
              "      <td>1</td>\n",
              "    </tr>\n",
              "    <tr>\n",
              "      <th>4</th>\n",
              "      <td>2015</td>\n",
              "      <td>1</td>\n",
              "      <td>1</td>\n",
              "      <td>4</td>\n",
              "      <td>AS</td>\n",
              "      <td>135</td>\n",
              "      <td>N527AS</td>\n",
              "      <td>SEA</td>\n",
              "      <td>ANC</td>\n",
              "      <td>1900-01-01 00:25:00</td>\n",
              "      <td>1900-01-01 00:24:00</td>\n",
              "      <td>-1.0</td>\n",
              "      <td>11.0</td>\n",
              "      <td>1900-01-01 00:35:00</td>\n",
              "      <td>235</td>\n",
              "      <td>215.0</td>\n",
              "      <td>199.0</td>\n",
              "      <td>1448</td>\n",
              "      <td>1900-01-01 02:54:00</td>\n",
              "      <td>5.0</td>\n",
              "      <td>1900-01-01 03:20:00</td>\n",
              "      <td>1900-01-01 02:59:00</td>\n",
              "      <td>-21.0</td>\n",
              "      <td>0</td>\n",
              "      <td>0</td>\n",
              "      <td>0.0</td>\n",
              "      <td>0.0</td>\n",
              "      <td>0.0</td>\n",
              "      <td>0.0</td>\n",
              "      <td>0.0</td>\n",
              "      <td>Alaska Airlines Inc.</td>\n",
              "      <td>2015-01-01</td>\n",
              "      <td>0</td>\n",
              "      <td>0</td>\n",
              "      <td>0</td>\n",
              "      <td>0</td>\n",
              "      <td>1</td>\n",
              "    </tr>\n",
              "  </tbody>\n",
              "</table>\n",
              "</div>"
            ],
            "text/plain": [
              "   YEAR  MONTH  ...  CANCELLATION_REASON_D  CANCELLATION_REASON_N\n",
              "0  2015      1  ...                      0                      1\n",
              "1  2015      1  ...                      0                      1\n",
              "2  2015      1  ...                      0                      1\n",
              "3  2015      1  ...                      0                      1\n",
              "4  2015      1  ...                      0                      1\n",
              "\n",
              "[5 rows x 37 columns]"
            ]
          },
          "metadata": {
            "tags": []
          },
          "execution_count": 16
        }
      ]
    },
    {
      "cell_type": "code",
      "metadata": {
        "colab": {
          "base_uri": "https://localhost:8080/"
        },
        "id": "Bbb7wqGZIPGo",
        "outputId": "45202de0-8392-41d6-e811-16422587f11c"
      },
      "source": [
        "# How many missing values are there in the data now?\n",
        "df.isnull().sum()"
      ],
      "id": "Bbb7wqGZIPGo",
      "execution_count": 17,
      "outputs": [
        {
          "output_type": "execute_result",
          "data": {
            "text/plain": [
              "YEAR                          0\n",
              "MONTH                         0\n",
              "DAY                           0\n",
              "DAY_OF_WEEK                   0\n",
              "AIRLINE_CODE                  0\n",
              "FLIGHT_NUMBER                 0\n",
              "TAIL_NUMBER               14721\n",
              "ORIGIN_AIRPORT                0\n",
              "DESTINATION_AIRPORT           0\n",
              "SCHEDULED_DEPARTURE           0\n",
              "DEPARTURE_TIME            86666\n",
              "DEPARTURE_DELAY           86153\n",
              "TAXI_OUT                  89047\n",
              "WHEELS_OFF                89774\n",
              "SCHEDULED_TIME                6\n",
              "ELAPSED_TIME             105071\n",
              "AIR_TIME                 105071\n",
              "DISTANCE                      0\n",
              "WHEELS_ON                 94518\n",
              "TAXI_IN                   92513\n",
              "SCHEDULED_ARRIVAL             2\n",
              "ARRIVAL_TIME              94969\n",
              "ARRIVAL_DELAY            105071\n",
              "DIVERTED                      0\n",
              "CANCELLED                     0\n",
              "AIR_SYSTEM_DELAY              0\n",
              "SECURITY_DELAY                0\n",
              "AIRLINE_DELAY                 0\n",
              "LATE_AIRCRAFT_DELAY           0\n",
              "WEATHER_DELAY                 0\n",
              "AIRLINE                       0\n",
              "FLIGHT_DATE                   0\n",
              "CANCELLATION_REASON_A         0\n",
              "CANCELLATION_REASON_B         0\n",
              "CANCELLATION_REASON_C         0\n",
              "CANCELLATION_REASON_D         0\n",
              "CANCELLATION_REASON_N         0\n",
              "dtype: int64"
            ]
          },
          "metadata": {
            "tags": []
          },
          "execution_count": 17
        }
      ]
    },
    {
      "cell_type": "markdown",
      "metadata": {
        "id": "SCHo0Sg6ERe9"
      },
      "source": [
        "Here the remaining rows containing missing data only account for about 2% of the total number of original observations. We feel comfortable removing those rows with missing values and proceeding with our analysis."
      ],
      "id": "SCHo0Sg6ERe9"
    },
    {
      "cell_type": "code",
      "metadata": {
        "id": "O1WYkMnFYQQE"
      },
      "source": [
        "# Drop the remaining rows that contain missing values\n",
        "df = df.dropna(axis=0)"
      ],
      "id": "O1WYkMnFYQQE",
      "execution_count": 18,
      "outputs": []
    },
    {
      "cell_type": "markdown",
      "metadata": {
        "id": "r8wP0VqoFlKB"
      },
      "source": [
        "### Outliers"
      ],
      "id": "r8wP0VqoFlKB"
    },
    {
      "cell_type": "code",
      "metadata": {
        "id": "186c551d",
        "colab": {
          "base_uri": "https://localhost:8080/",
          "height": 283
        },
        "outputId": "8daade57-d1c8-46ce-bb7e-7ccfacf6b635"
      },
      "source": [
        "# Check for outliers on continuous variables\n",
        "# Source: https://stackoverflow.com/questions/25039626/how-do-i-find-numeric-columns-in-pandas\n",
        "num_col = df.select_dtypes(include = np.number).columns.tolist() \n",
        "df.boxplot(column = num_col)"
      ],
      "id": "186c551d",
      "execution_count": 19,
      "outputs": [
        {
          "output_type": "execute_result",
          "data": {
            "text/plain": [
              "<matplotlib.axes._subplots.AxesSubplot at 0x7f8a75fff390>"
            ]
          },
          "metadata": {
            "tags": []
          },
          "execution_count": 19
        },
        {
          "output_type": "display_data",
          "data": {
            "image/png": "[encoded data removed]",
            "text/plain": [
              "<Figure size 432x288 with 1 Axes>"
            ]
          },
          "metadata": {
            "tags": [],
            "needs_background": "light"
          }
        }
      ]
    },
    {
      "cell_type": "markdown",
      "metadata": {
        "id": "8523923c"
      },
      "source": [
        "Note... need to do some more work here, group at different scales or split out individually"
      ],
      "id": "8523923c"
    },
    {
      "cell_type": "markdown",
      "metadata": {
        "id": "eXeTQ3mGqNZE"
      },
      "source": [
        "#### TO DO (BLAKE)\n",
        "\n",
        "- Address outliers\n",
        "- Amber work on airport codes\n",
        "- We need to finish cleaning up the time conversions (someone)"
      ],
      "id": "eXeTQ3mGqNZE"
    },
    {
      "cell_type": "markdown",
      "metadata": {
        "id": "6cdc68a0"
      },
      "source": [
        "## Simple Statistics"
      ],
      "id": "6cdc68a0"
    },
    {
      "cell_type": "markdown",
      "metadata": {
        "id": "da956f44"
      },
      "source": [
        "`Visualize appropriate statistics (e.g., range, mode, mean, median, variance, counts) for a subset of attributes. Describe anything meaningful you found from this or if you found something potentially interesting. Note: You can also use data from other sources for comparison. Explain why the statistics run are meaningful.`"
      ],
      "id": "da956f44"
    },
    {
      "cell_type": "code",
      "metadata": {
        "id": "5512eec4",
        "colab": {
          "base_uri": "https://localhost:8080/",
          "height": 317
        },
        "outputId": "f8036171-09fc-4278-89c9-18fb71c97188"
      },
      "source": [
        "df.describe()"
      ],
      "id": "5512eec4",
      "execution_count": 20,
      "outputs": [
        {
          "output_type": "execute_result",
          "data": {
            "text/html": [
              "<div>\n",
              "<style scoped>\n",
              "    .dataframe tbody tr th:only-of-type {\n",
              "        vertical-align: middle;\n",
              "    }\n",
              "\n",
              "    .dataframe tbody tr th {\n",
              "        vertical-align: top;\n",
              "    }\n",
              "\n",
              "    .dataframe thead th {\n",
              "        text-align: right;\n",
              "    }\n",
              "</style>\n",
              "<table border=\"1\" class=\"dataframe\">\n",
              "  <thead>\n",
              "    <tr style=\"text-align: right;\">\n",
              "      <th></th>\n",
              "      <th>YEAR</th>\n",
              "      <th>MONTH</th>\n",
              "      <th>DAY</th>\n",
              "      <th>DAY_OF_WEEK</th>\n",
              "      <th>FLIGHT_NUMBER</th>\n",
              "      <th>DEPARTURE_DELAY</th>\n",
              "      <th>TAXI_OUT</th>\n",
              "      <th>ELAPSED_TIME</th>\n",
              "      <th>AIR_TIME</th>\n",
              "      <th>DISTANCE</th>\n",
              "      <th>TAXI_IN</th>\n",
              "      <th>ARRIVAL_DELAY</th>\n",
              "      <th>DIVERTED</th>\n",
              "      <th>CANCELLED</th>\n",
              "      <th>AIR_SYSTEM_DELAY</th>\n",
              "      <th>SECURITY_DELAY</th>\n",
              "      <th>AIRLINE_DELAY</th>\n",
              "      <th>LATE_AIRCRAFT_DELAY</th>\n",
              "      <th>WEATHER_DELAY</th>\n",
              "      <th>CANCELLATION_REASON_A</th>\n",
              "      <th>CANCELLATION_REASON_B</th>\n",
              "      <th>CANCELLATION_REASON_C</th>\n",
              "      <th>CANCELLATION_REASON_D</th>\n",
              "      <th>CANCELLATION_REASON_N</th>\n",
              "    </tr>\n",
              "  </thead>\n",
              "  <tbody>\n",
              "    <tr>\n",
              "      <th>count</th>\n",
              "      <td>5708334.0</td>\n",
              "      <td>5.708334e+06</td>\n",
              "      <td>5.708334e+06</td>\n",
              "      <td>5.708334e+06</td>\n",
              "      <td>5.708334e+06</td>\n",
              "      <td>5.708334e+06</td>\n",
              "      <td>5.708334e+06</td>\n",
              "      <td>5.708334e+06</td>\n",
              "      <td>5.708334e+06</td>\n",
              "      <td>5.708334e+06</td>\n",
              "      <td>5.708334e+06</td>\n",
              "      <td>5.708334e+06</td>\n",
              "      <td>5708334.0</td>\n",
              "      <td>5708334.0</td>\n",
              "      <td>5.708334e+06</td>\n",
              "      <td>5.708334e+06</td>\n",
              "      <td>5.708334e+06</td>\n",
              "      <td>5.708334e+06</td>\n",
              "      <td>5.708334e+06</td>\n",
              "      <td>5708334.0</td>\n",
              "      <td>5708334.0</td>\n",
              "      <td>5708334.0</td>\n",
              "      <td>5708334.0</td>\n",
              "      <td>5708334.0</td>\n",
              "    </tr>\n",
              "    <tr>\n",
              "      <th>mean</th>\n",
              "      <td>2015.0</td>\n",
              "      <td>6.547751e+00</td>\n",
              "      <td>1.570754e+01</td>\n",
              "      <td>3.932692e+00</td>\n",
              "      <td>2.164745e+03</td>\n",
              "      <td>9.270839e+00</td>\n",
              "      <td>1.606429e+01</td>\n",
              "      <td>1.369853e+02</td>\n",
              "      <td>1.134913e+02</td>\n",
              "      <td>8.242462e+02</td>\n",
              "      <td>7.429668e+00</td>\n",
              "      <td>4.381789e+00</td>\n",
              "      <td>0.0</td>\n",
              "      <td>0.0</td>\n",
              "      <td>2.506773e+00</td>\n",
              "      <td>1.415159e-02</td>\n",
              "      <td>3.525199e+00</td>\n",
              "      <td>4.356288e+00</td>\n",
              "      <td>5.407851e-01</td>\n",
              "      <td>0.0</td>\n",
              "      <td>0.0</td>\n",
              "      <td>0.0</td>\n",
              "      <td>0.0</td>\n",
              "      <td>1.0</td>\n",
              "    </tr>\n",
              "    <tr>\n",
              "      <th>std</th>\n",
              "      <td>0.0</td>\n",
              "      <td>3.397517e+00</td>\n",
              "      <td>8.774381e+00</td>\n",
              "      <td>1.985962e+00</td>\n",
              "      <td>1.754789e+03</td>\n",
              "      <td>3.684783e+01</td>\n",
              "      <td>8.881439e+00</td>\n",
              "      <td>7.420315e+01</td>\n",
              "      <td>7.222289e+01</td>\n",
              "      <td>6.085635e+02</td>\n",
              "      <td>5.619292e+00</td>\n",
              "      <td>3.923252e+01</td>\n",
              "      <td>0.0</td>\n",
              "      <td>0.0</td>\n",
              "      <td>1.316224e+01</td>\n",
              "      <td>9.250536e-01</td>\n",
              "      <td>2.203599e+01</td>\n",
              "      <td>2.071744e+01</td>\n",
              "      <td>8.873410e+00</td>\n",
              "      <td>0.0</td>\n",
              "      <td>0.0</td>\n",
              "      <td>0.0</td>\n",
              "      <td>0.0</td>\n",
              "      <td>0.0</td>\n",
              "    </tr>\n",
              "    <tr>\n",
              "      <th>min</th>\n",
              "      <td>2015.0</td>\n",
              "      <td>1.000000e+00</td>\n",
              "      <td>1.000000e+00</td>\n",
              "      <td>1.000000e+00</td>\n",
              "      <td>1.000000e+00</td>\n",
              "      <td>-8.200000e+01</td>\n",
              "      <td>1.000000e+00</td>\n",
              "      <td>1.400000e+01</td>\n",
              "      <td>7.000000e+00</td>\n",
              "      <td>3.100000e+01</td>\n",
              "      <td>1.000000e+00</td>\n",
              "      <td>-8.700000e+01</td>\n",
              "      <td>0.0</td>\n",
              "      <td>0.0</td>\n",
              "      <td>0.000000e+00</td>\n",
              "      <td>0.000000e+00</td>\n",
              "      <td>0.000000e+00</td>\n",
              "      <td>0.000000e+00</td>\n",
              "      <td>0.000000e+00</td>\n",
              "      <td>0.0</td>\n",
              "      <td>0.0</td>\n",
              "      <td>0.0</td>\n",
              "      <td>0.0</td>\n",
              "      <td>1.0</td>\n",
              "    </tr>\n",
              "    <tr>\n",
              "      <th>25%</th>\n",
              "      <td>2015.0</td>\n",
              "      <td>4.000000e+00</td>\n",
              "      <td>8.000000e+00</td>\n",
              "      <td>2.000000e+00</td>\n",
              "      <td>7.280000e+02</td>\n",
              "      <td>-5.000000e+00</td>\n",
              "      <td>1.100000e+01</td>\n",
              "      <td>8.200000e+01</td>\n",
              "      <td>6.000000e+01</td>\n",
              "      <td>3.730000e+02</td>\n",
              "      <td>4.000000e+00</td>\n",
              "      <td>-1.300000e+01</td>\n",
              "      <td>0.0</td>\n",
              "      <td>0.0</td>\n",
              "      <td>0.000000e+00</td>\n",
              "      <td>0.000000e+00</td>\n",
              "      <td>0.000000e+00</td>\n",
              "      <td>0.000000e+00</td>\n",
              "      <td>0.000000e+00</td>\n",
              "      <td>0.0</td>\n",
              "      <td>0.0</td>\n",
              "      <td>0.0</td>\n",
              "      <td>0.0</td>\n",
              "      <td>1.0</td>\n",
              "    </tr>\n",
              "    <tr>\n",
              "      <th>50%</th>\n",
              "      <td>2015.0</td>\n",
              "      <td>7.000000e+00</td>\n",
              "      <td>1.600000e+01</td>\n",
              "      <td>4.000000e+00</td>\n",
              "      <td>1.681000e+03</td>\n",
              "      <td>-2.000000e+00</td>\n",
              "      <td>1.400000e+01</td>\n",
              "      <td>1.180000e+02</td>\n",
              "      <td>9.400000e+01</td>\n",
              "      <td>6.500000e+02</td>\n",
              "      <td>6.000000e+00</td>\n",
              "      <td>-5.000000e+00</td>\n",
              "      <td>0.0</td>\n",
              "      <td>0.0</td>\n",
              "      <td>0.000000e+00</td>\n",
              "      <td>0.000000e+00</td>\n",
              "      <td>0.000000e+00</td>\n",
              "      <td>0.000000e+00</td>\n",
              "      <td>0.000000e+00</td>\n",
              "      <td>0.0</td>\n",
              "      <td>0.0</td>\n",
              "      <td>0.0</td>\n",
              "      <td>0.0</td>\n",
              "      <td>1.0</td>\n",
              "    </tr>\n",
              "    <tr>\n",
              "      <th>75%</th>\n",
              "      <td>2015.0</td>\n",
              "      <td>9.000000e+00</td>\n",
              "      <td>2.300000e+01</td>\n",
              "      <td>6.000000e+00</td>\n",
              "      <td>3.211000e+03</td>\n",
              "      <td>7.000000e+00</td>\n",
              "      <td>1.900000e+01</td>\n",
              "      <td>1.680000e+02</td>\n",
              "      <td>1.440000e+02</td>\n",
              "      <td>1.065000e+03</td>\n",
              "      <td>9.000000e+00</td>\n",
              "      <td>8.000000e+00</td>\n",
              "      <td>0.0</td>\n",
              "      <td>0.0</td>\n",
              "      <td>0.000000e+00</td>\n",
              "      <td>0.000000e+00</td>\n",
              "      <td>0.000000e+00</td>\n",
              "      <td>0.000000e+00</td>\n",
              "      <td>0.000000e+00</td>\n",
              "      <td>0.0</td>\n",
              "      <td>0.0</td>\n",
              "      <td>0.0</td>\n",
              "      <td>0.0</td>\n",
              "      <td>1.0</td>\n",
              "    </tr>\n",
              "    <tr>\n",
              "      <th>max</th>\n",
              "      <td>2015.0</td>\n",
              "      <td>1.200000e+01</td>\n",
              "      <td>3.100000e+01</td>\n",
              "      <td>7.000000e+00</td>\n",
              "      <td>9.320000e+03</td>\n",
              "      <td>1.988000e+03</td>\n",
              "      <td>2.250000e+02</td>\n",
              "      <td>7.660000e+02</td>\n",
              "      <td>6.900000e+02</td>\n",
              "      <td>4.983000e+03</td>\n",
              "      <td>2.480000e+02</td>\n",
              "      <td>1.971000e+03</td>\n",
              "      <td>0.0</td>\n",
              "      <td>0.0</td>\n",
              "      <td>1.134000e+03</td>\n",
              "      <td>5.730000e+02</td>\n",
              "      <td>1.971000e+03</td>\n",
              "      <td>1.331000e+03</td>\n",
              "      <td>1.211000e+03</td>\n",
              "      <td>0.0</td>\n",
              "      <td>0.0</td>\n",
              "      <td>0.0</td>\n",
              "      <td>0.0</td>\n",
              "      <td>1.0</td>\n",
              "    </tr>\n",
              "  </tbody>\n",
              "</table>\n",
              "</div>"
            ],
            "text/plain": [
              "            YEAR         MONTH  ...  CANCELLATION_REASON_D  CANCELLATION_REASON_N\n",
              "count  5708334.0  5.708334e+06  ...              5708334.0              5708334.0\n",
              "mean      2015.0  6.547751e+00  ...                    0.0                    1.0\n",
              "std          0.0  3.397517e+00  ...                    0.0                    0.0\n",
              "min       2015.0  1.000000e+00  ...                    0.0                    1.0\n",
              "25%       2015.0  4.000000e+00  ...                    0.0                    1.0\n",
              "50%       2015.0  7.000000e+00  ...                    0.0                    1.0\n",
              "75%       2015.0  9.000000e+00  ...                    0.0                    1.0\n",
              "max       2015.0  1.200000e+01  ...                    0.0                    1.0\n",
              "\n",
              "[8 rows x 24 columns]"
            ]
          },
          "metadata": {
            "tags": []
          },
          "execution_count": 20
        }
      ]
    },
    {
      "cell_type": "code",
      "metadata": {
        "colab": {
          "base_uri": "https://localhost:8080/"
        },
        "id": "qmUDb8SJjABH",
        "outputId": "503faa6e-1cc0-4ef8-b7f9-f960054c5723"
      },
      "source": [
        "#check counts of cancels and diversions\n",
        "df.groupby('CANCELLED')['YEAR'].count()"
      ],
      "id": "qmUDb8SJjABH",
      "execution_count": 21,
      "outputs": [
        {
          "output_type": "execute_result",
          "data": {
            "text/plain": [
              "CANCELLED\n",
              "0    5708334\n",
              "Name: YEAR, dtype: int64"
            ]
          },
          "metadata": {
            "tags": []
          },
          "execution_count": 21
        }
      ]
    },
    {
      "cell_type": "code",
      "metadata": {
        "colab": {
          "base_uri": "https://localhost:8080/"
        },
        "id": "iMq2oTOGjJo_",
        "outputId": "f4987c33-bf5e-44c9-9ccf-d1f4572a0dab"
      },
      "source": [
        "df.groupby('DIVERTED')['YEAR'].count()"
      ],
      "id": "iMq2oTOGjJo_",
      "execution_count": 22,
      "outputs": [
        {
          "output_type": "execute_result",
          "data": {
            "text/plain": [
              "DIVERTED\n",
              "0    5708334\n",
              "Name: YEAR, dtype: int64"
            ]
          },
          "metadata": {
            "tags": []
          },
          "execution_count": 22
        }
      ]
    },
    {
      "cell_type": "markdown",
      "metadata": {
        "id": "kotkpkfNqg6F"
      },
      "source": [
        "#### TO DO (MEGAN)\n"
      ],
      "id": "kotkpkfNqg6F"
    },
    {
      "cell_type": "markdown",
      "metadata": {
        "id": "beb3cf96"
      },
      "source": [
        "## Visualize Attributes"
      ],
      "id": "beb3cf96"
    },
    {
      "cell_type": "markdown",
      "metadata": {
        "id": "21351a2d"
      },
      "source": [
        "`Visualize the most interesting attributes (at least 5 attributes, your opinion on what is interesting). Important: Interpret the implications for each visualization. Explain for each attribute why the chosen visualization is appropriate.`"
      ],
      "id": "21351a2d"
    },
    {
      "cell_type": "code",
      "metadata": {
        "id": "9331cc7f",
        "colab": {
          "base_uri": "https://localhost:8080/",
          "height": 308
        },
        "outputId": "7947c9a8-38f8-4f7f-f82c-969afea6191d"
      },
      "source": [
        "# Flights by day of the week\n",
        "sns.histplot(df, x = 'DAY_OF_WEEK', binwidth = 1)"
      ],
      "id": "9331cc7f",
      "execution_count": 23,
      "outputs": [
        {
          "output_type": "execute_result",
          "data": {
            "text/plain": [
              "<matplotlib.axes._subplots.AxesSubplot at 0x7f8a75dd4590>"
            ]
          },
          "metadata": {
            "tags": []
          },
          "execution_count": 23
        },
        {
          "output_type": "display_data",
          "data": {
            "image/png": "[encoded data removed]",
            "text/plain": [
              "<Figure size 432x288 with 1 Axes>"
            ]
          },
          "metadata": {
            "tags": [],
            "needs_background": "light"
          }
        }
      ]
    },
    {
      "cell_type": "code",
      "metadata": {
        "id": "rpezYKPCYyxZ",
        "colab": {
          "base_uri": "https://localhost:8080/",
          "height": 543
        },
        "outputId": "3aecbdad-e7b7-4841-f7b0-3c3065979f3c"
      },
      "source": [
        "# Delays by airline\n",
        "sns.stripplot(x='DEPARTURE_DELAY', y='AIRLINE',\n",
        "              data=df, dodge=True, jitter=True)\n",
        "\n",
        "plt.show()\n",
        "\n",
        "sns.stripplot(x='ARRIVAL_DELAY', y='AIRLINE',\n",
        "              data=df, dodge=True, jitter=True)\n",
        "\n",
        "plt.show()"
      ],
      "id": "rpezYKPCYyxZ",
      "execution_count": 24,
      "outputs": [
        {
          "output_type": "display_data",
          "data": {
            "image/png": "[encoded data removed]",
            "text/plain": [
              "<Figure size 432x288 with 1 Axes>"
            ]
          },
          "metadata": {
            "tags": [],
            "needs_background": "light"
          }
        },
        {
          "output_type": "display_data",
          "data": {
            "image/png": "[encoded data removed]",
            "text/plain": [
              "<Figure size 432x288 with 1 Axes>"
            ]
          },
          "metadata": {
            "tags": [],
            "needs_background": "light"
          }
        }
      ]
    },
    {
      "cell_type": "markdown",
      "metadata": {
        "id": "XUK1D1BXZlrG"
      },
      "source": [
        "American is the clear leader(?) here, but I also imagine they are one of the largest carriers in this list. Do the numbers skew the results here at all?"
      ],
      "id": "XUK1D1BXZlrG"
    },
    {
      "cell_type": "markdown",
      "metadata": {
        "id": "dEgHCv7yq2i4"
      },
      "source": [
        "#### TO DO (EVERYONE)\n",
        "\n",
        "- Create 2+ visualizations per person plus an explanation for each"
      ],
      "id": "dEgHCv7yq2i4"
    },
    {
      "cell_type": "markdown",
      "metadata": {
        "id": "37dfc20e"
      },
      "source": [
        "## Explore Joint Attributes"
      ],
      "id": "37dfc20e"
    },
    {
      "cell_type": "markdown",
      "metadata": {
        "id": "baf29b0d"
      },
      "source": [
        "`Visualize relationships between attributes: Look at the attributes via scatter plots, correlation, cross-tabulation, group-wise averages, etc. as appropriate. Explain any interesting relationships.`"
      ],
      "id": "baf29b0d"
    },
    {
      "cell_type": "code",
      "metadata": {
        "id": "3f0fff71",
        "colab": {
          "base_uri": "https://localhost:8080/",
          "height": 1000
        },
        "outputId": "e66bbcc6-7fec-463d-9390-ccc0dfe42c5b"
      },
      "source": [
        "# Examine correlation visually using Seaborn. (Code adapted from 02. Data Visualization.ipynb)\n",
        "cmap = sns.diverging_palette(220, 10, as_cmap=True)\n",
        "\n",
        "sns.set(style = \"darkgrid\") # one of the many styles to plot using\n",
        "\n",
        "f, ax = plt.subplots(figsize = (20, 20))\n",
        "\n",
        "sns.heatmap(df.corr(), cmap=cmap, annot = True)"
      ],
      "id": "3f0fff71",
      "execution_count": 25,
      "outputs": [
        {
          "output_type": "execute_result",
          "data": {
            "text/plain": [
              "<matplotlib.axes._subplots.AxesSubplot at 0x7f8a7569c6d0>"
            ]
          },
          "metadata": {
            "tags": []
          },
          "execution_count": 25
        },
        {
          "output_type": "display_data",
          "data": {
            "image/png": "[encoded data removed]",
            "text/plain": [
              "<Figure size 1440x1440 with 2 Axes>"
            ]
          },
          "metadata": {
            "tags": []
          }
        }
      ]
    },
    {
      "cell_type": "markdown",
      "metadata": {
        "id": "VsmcCCpIqwet"
      },
      "source": [
        "#### TO DO (MEGAN)"
      ],
      "id": "VsmcCCpIqwet"
    },
    {
      "cell_type": "markdown",
      "metadata": {
        "id": "2f2381b7"
      },
      "source": [
        "## Explore Attributes and Class"
      ],
      "id": "2f2381b7"
    },
    {
      "cell_type": "markdown",
      "metadata": {
        "id": "7e4eafb0"
      },
      "source": [
        "`Identify and explain interesting relationships between features and the class you are trying to predict (i.e., relationships with variables and the target classification).`"
      ],
      "id": "7e4eafb0"
    },
    {
      "cell_type": "markdown",
      "metadata": {
        "id": "nBb0egz7rMi1"
      },
      "source": [
        "#### TO DO (AMBER)"
      ],
      "id": "nBb0egz7rMi1"
    },
    {
      "cell_type": "markdown",
      "metadata": {
        "id": "42a3e916"
      },
      "source": [
        "## New Features "
      ],
      "id": "42a3e916"
    },
    {
      "cell_type": "markdown",
      "metadata": {
        "id": "c80b7167"
      },
      "source": [
        "`Are there other features that could be added to the data or created from existing features? Which ones?`"
      ],
      "id": "c80b7167"
    },
    {
      "cell_type": "code",
      "metadata": {
        "id": "o3duBc6QrPG2"
      },
      "source": [
        ""
      ],
      "id": "o3duBc6QrPG2",
      "execution_count": 25,
      "outputs": []
    },
    {
      "cell_type": "markdown",
      "metadata": {
        "id": "SASmuNPPrP4g"
      },
      "source": [
        "#### TO DO (BLAKE)"
      ],
      "id": "SASmuNPPrP4g"
    },
    {
      "cell_type": "markdown",
      "metadata": {
        "id": "27739c81"
      },
      "source": [
        "## Exceptional Work"
      ],
      "id": "27739c81"
    },
    {
      "cell_type": "markdown",
      "metadata": {
        "id": "27732deb"
      },
      "source": [
        "`You have free reign to provide additional analyses. One idea: implement dimensionality reduction, then visualize and interpret the results. (aka PCA)`"
      ],
      "id": "27732deb"
    },
    {
      "cell_type": "code",
      "metadata": {
        "id": "J26jaqhVoq_w",
        "outputId": "6d634b69-14af-483c-95fb-1e9dc882d702",
        "colab": {
          "base_uri": "https://localhost:8080/",
          "height": 224
        }
      },
      "source": [
        "# Look at what continuous variables we have to work with\n",
        "df.select_dtypes(np.number).head()"
      ],
      "id": "J26jaqhVoq_w",
      "execution_count": 26,
      "outputs": [
        {
          "output_type": "execute_result",
          "data": {
            "text/html": [
              "<div>\n",
              "<style scoped>\n",
              "    .dataframe tbody tr th:only-of-type {\n",
              "        vertical-align: middle;\n",
              "    }\n",
              "\n",
              "    .dataframe tbody tr th {\n",
              "        vertical-align: top;\n",
              "    }\n",
              "\n",
              "    .dataframe thead th {\n",
              "        text-align: right;\n",
              "    }\n",
              "</style>\n",
              "<table border=\"1\" class=\"dataframe\">\n",
              "  <thead>\n",
              "    <tr style=\"text-align: right;\">\n",
              "      <th></th>\n",
              "      <th>YEAR</th>\n",
              "      <th>MONTH</th>\n",
              "      <th>DAY</th>\n",
              "      <th>DAY_OF_WEEK</th>\n",
              "      <th>FLIGHT_NUMBER</th>\n",
              "      <th>DEPARTURE_DELAY</th>\n",
              "      <th>TAXI_OUT</th>\n",
              "      <th>ELAPSED_TIME</th>\n",
              "      <th>AIR_TIME</th>\n",
              "      <th>DISTANCE</th>\n",
              "      <th>TAXI_IN</th>\n",
              "      <th>ARRIVAL_DELAY</th>\n",
              "      <th>DIVERTED</th>\n",
              "      <th>CANCELLED</th>\n",
              "      <th>AIR_SYSTEM_DELAY</th>\n",
              "      <th>SECURITY_DELAY</th>\n",
              "      <th>AIRLINE_DELAY</th>\n",
              "      <th>LATE_AIRCRAFT_DELAY</th>\n",
              "      <th>WEATHER_DELAY</th>\n",
              "      <th>CANCELLATION_REASON_A</th>\n",
              "      <th>CANCELLATION_REASON_B</th>\n",
              "      <th>CANCELLATION_REASON_C</th>\n",
              "      <th>CANCELLATION_REASON_D</th>\n",
              "      <th>CANCELLATION_REASON_N</th>\n",
              "    </tr>\n",
              "  </thead>\n",
              "  <tbody>\n",
              "    <tr>\n",
              "      <th>0</th>\n",
              "      <td>2015</td>\n",
              "      <td>1</td>\n",
              "      <td>1</td>\n",
              "      <td>4</td>\n",
              "      <td>98</td>\n",
              "      <td>-11.0</td>\n",
              "      <td>21.0</td>\n",
              "      <td>194.0</td>\n",
              "      <td>169.0</td>\n",
              "      <td>1448</td>\n",
              "      <td>4.0</td>\n",
              "      <td>-22.0</td>\n",
              "      <td>0</td>\n",
              "      <td>0</td>\n",
              "      <td>0.0</td>\n",
              "      <td>0.0</td>\n",
              "      <td>0.0</td>\n",
              "      <td>0.0</td>\n",
              "      <td>0.0</td>\n",
              "      <td>0</td>\n",
              "      <td>0</td>\n",
              "      <td>0</td>\n",
              "      <td>0</td>\n",
              "      <td>1</td>\n",
              "    </tr>\n",
              "    <tr>\n",
              "      <th>1</th>\n",
              "      <td>2015</td>\n",
              "      <td>1</td>\n",
              "      <td>1</td>\n",
              "      <td>4</td>\n",
              "      <td>2336</td>\n",
              "      <td>-8.0</td>\n",
              "      <td>12.0</td>\n",
              "      <td>279.0</td>\n",
              "      <td>263.0</td>\n",
              "      <td>2330</td>\n",
              "      <td>4.0</td>\n",
              "      <td>-9.0</td>\n",
              "      <td>0</td>\n",
              "      <td>0</td>\n",
              "      <td>0.0</td>\n",
              "      <td>0.0</td>\n",
              "      <td>0.0</td>\n",
              "      <td>0.0</td>\n",
              "      <td>0.0</td>\n",
              "      <td>0</td>\n",
              "      <td>0</td>\n",
              "      <td>0</td>\n",
              "      <td>0</td>\n",
              "      <td>1</td>\n",
              "    </tr>\n",
              "    <tr>\n",
              "      <th>2</th>\n",
              "      <td>2015</td>\n",
              "      <td>1</td>\n",
              "      <td>1</td>\n",
              "      <td>4</td>\n",
              "      <td>840</td>\n",
              "      <td>-2.0</td>\n",
              "      <td>16.0</td>\n",
              "      <td>293.0</td>\n",
              "      <td>266.0</td>\n",
              "      <td>2296</td>\n",
              "      <td>11.0</td>\n",
              "      <td>5.0</td>\n",
              "      <td>0</td>\n",
              "      <td>0</td>\n",
              "      <td>0.0</td>\n",
              "      <td>0.0</td>\n",
              "      <td>0.0</td>\n",
              "      <td>0.0</td>\n",
              "      <td>0.0</td>\n",
              "      <td>0</td>\n",
              "      <td>0</td>\n",
              "      <td>0</td>\n",
              "      <td>0</td>\n",
              "      <td>1</td>\n",
              "    </tr>\n",
              "    <tr>\n",
              "      <th>3</th>\n",
              "      <td>2015</td>\n",
              "      <td>1</td>\n",
              "      <td>1</td>\n",
              "      <td>4</td>\n",
              "      <td>258</td>\n",
              "      <td>-5.0</td>\n",
              "      <td>15.0</td>\n",
              "      <td>281.0</td>\n",
              "      <td>258.0</td>\n",
              "      <td>2342</td>\n",
              "      <td>8.0</td>\n",
              "      <td>-9.0</td>\n",
              "      <td>0</td>\n",
              "      <td>0</td>\n",
              "      <td>0.0</td>\n",
              "      <td>0.0</td>\n",
              "      <td>0.0</td>\n",
              "      <td>0.0</td>\n",
              "      <td>0.0</td>\n",
              "      <td>0</td>\n",
              "      <td>0</td>\n",
              "      <td>0</td>\n",
              "      <td>0</td>\n",
              "      <td>1</td>\n",
              "    </tr>\n",
              "    <tr>\n",
              "      <th>4</th>\n",
              "      <td>2015</td>\n",
              "      <td>1</td>\n",
              "      <td>1</td>\n",
              "      <td>4</td>\n",
              "      <td>135</td>\n",
              "      <td>-1.0</td>\n",
              "      <td>11.0</td>\n",
              "      <td>215.0</td>\n",
              "      <td>199.0</td>\n",
              "      <td>1448</td>\n",
              "      <td>5.0</td>\n",
              "      <td>-21.0</td>\n",
              "      <td>0</td>\n",
              "      <td>0</td>\n",
              "      <td>0.0</td>\n",
              "      <td>0.0</td>\n",
              "      <td>0.0</td>\n",
              "      <td>0.0</td>\n",
              "      <td>0.0</td>\n",
              "      <td>0</td>\n",
              "      <td>0</td>\n",
              "      <td>0</td>\n",
              "      <td>0</td>\n",
              "      <td>1</td>\n",
              "    </tr>\n",
              "  </tbody>\n",
              "</table>\n",
              "</div>"
            ],
            "text/plain": [
              "   YEAR  MONTH  ...  CANCELLATION_REASON_D  CANCELLATION_REASON_N\n",
              "0  2015      1  ...                      0                      1\n",
              "1  2015      1  ...                      0                      1\n",
              "2  2015      1  ...                      0                      1\n",
              "3  2015      1  ...                      0                      1\n",
              "4  2015      1  ...                      0                      1\n",
              "\n",
              "[5 rows x 24 columns]"
            ]
          },
          "metadata": {
            "tags": []
          },
          "execution_count": 26
        }
      ]
    },
    {
      "cell_type": "code",
      "metadata": {
        "id": "CYTxuzX0phQT"
      },
      "source": [
        "# Select columns for PCA\n",
        "df_pca = df[['DEPARTURE_DELAY', 'TAXI_OUT', 'ELAPSED_TIME', 'AIR_TIME', \n",
        "            'DISTANCE', 'TAXI_IN', 'ARRIVAL_DELAY', 'DIVERTED', \n",
        "            'AIR_SYSTEM_DELAY', 'SECURITY_DELAY', 'AIRLINE_DELAY', \n",
        "            'LATE_AIRCRAFT_DELAY', 'WEATHER_DELAY', 'CANCELLATION_REASON_A', \n",
        "            'CANCELLATION_REASON_B', 'CANCELLATION_REASON_C', \n",
        "            'CANCELLATION_REASON_D', 'CANCELLATION_REASON_N']]"
      ],
      "id": "CYTxuzX0phQT",
      "execution_count": 31,
      "outputs": []
    },
    {
      "cell_type": "code",
      "metadata": {
        "id": "NSfdkxKKrxfb",
        "outputId": "4520c4cf-130d-46df-f9b5-8429ffc677c4",
        "colab": {
          "base_uri": "https://localhost:8080/"
        }
      },
      "source": [
        "df_pca.shape"
      ],
      "id": "NSfdkxKKrxfb",
      "execution_count": 33,
      "outputs": [
        {
          "output_type": "execute_result",
          "data": {
            "text/plain": [
              "(5708334, 18)"
            ]
          },
          "metadata": {
            "tags": []
          },
          "execution_count": 33
        }
      ]
    },
    {
      "cell_type": "code",
      "metadata": {
        "id": "RfToBNB8rF6S"
      },
      "source": [
        "# Source: https://towardsdatascience.com/principal-component-analysis-pca-with-scikit-learn-1e84a0c731b0\n",
        "# Standardize the features\n",
        "from sklearn.preprocessing import StandardScaler\n",
        "\n",
        "# Create the object\n",
        "scaler = StandardScaler()\n",
        "# Calculate the mean and standard deviation\n",
        "scaler.fit(df_pca)\n",
        "df_pca_scaled = scaler.transform(df_pca)"
      ],
      "id": "RfToBNB8rF6S",
      "execution_count": 32,
      "outputs": []
    },
    {
      "cell_type": "code",
      "metadata": {
        "id": "t31m7OQOr23R"
      },
      "source": [
        "from sklearn.decomposition import PCA\n",
        "\n",
        "pca_18 = PCA(n_components=18, random_state=2015)\n",
        "pca_18.fit(df_pca_scaled)\n",
        "df_pca_18 = pca_18.transform(df_pca_scaled)"
      ],
      "id": "t31m7OQOr23R",
      "execution_count": 35,
      "outputs": []
    },
    {
      "cell_type": "code",
      "metadata": {
        "id": "O6VTKKewsWzr",
        "outputId": "7905f4df-038b-4ae1-ae91-8f5dc2669fcc",
        "colab": {
          "base_uri": "https://localhost:8080/"
        }
      },
      "source": [
        "np.cumsum(pca_18.explained_variance_ratio_*100)"
      ],
      "id": "O6VTKKewsWzr",
      "execution_count": 36,
      "outputs": [
        {
          "output_type": "execute_result",
          "data": {
            "text/plain": [
              "array([ 26.05949726,  50.60752447,  61.51241579,  69.96793895,\n",
              "        78.30235344,  86.47607986,  94.17304731,  99.32984484,\n",
              "        99.62424748,  99.8810209 , 100.        , 100.        ,\n",
              "       100.        , 100.        , 100.        , 100.        ,\n",
              "       100.        , 100.        ])"
            ]
          },
          "metadata": {
            "tags": []
          },
          "execution_count": 36
        }
      ]
    },
    {
      "cell_type": "code",
      "metadata": {
        "id": "Jq0oi_nJsmVn",
        "outputId": "492b3b9c-f6ef-43e3-b53a-850895ef43c3",
        "colab": {
          "base_uri": "https://localhost:8080/",
          "height": 302
        }
      },
      "source": [
        "# Plot PCA results\n",
        "plt.plot(np.cumsum(pca_18.explained_variance_ratio_))\n",
        "plt.xlabel('Number of Components')\n",
        "plt.ylabel('Explained Variance')"
      ],
      "id": "Jq0oi_nJsmVn",
      "execution_count": 37,
      "outputs": [
        {
          "output_type": "execute_result",
          "data": {
            "text/plain": [
              "Text(0, 0.5, 'Explained Variance')"
            ]
          },
          "metadata": {
            "tags": []
          },
          "execution_count": 37
        },
        {
          "output_type": "display_data",
          "data": {
            "image/png": "[encoded data removed]",
            "text/plain": [
              "<Figure size 432x288 with 1 Axes>"
            ]
          },
          "metadata": {
            "tags": []
          }
        }
      ]
    },
    {
      "cell_type": "code",
      "metadata": {
        "id": "4GcfAWdys60W",
        "outputId": "08cb9253-a524-4394-d7ee-76a2b6ac9a37",
        "colab": {
          "base_uri": "https://localhost:8080/"
        }
      },
      "source": [
        "print(\"Variance explained by the first principal component =\",\n",
        "      np.cumsum(pca_18.explained_variance_ratio_*100)[0])\n",
        "print(\"Variance explained by the first two principal components =\",\n",
        "      np.cumsum(pca_18.explained_variance_ratio_*100)[1])\n",
        "print(\"Variance explained by the first three principal component =\",\n",
        "      np.cumsum(pca_18.explained_variance_ratio_*100)[2])\n",
        "print(\"Variance explained by the first six principal components =\",\n",
        "      np.cumsum(pca_18.explained_variance_ratio_*100)[6])\n",
        "print(\"Variance explained by the first seven principal components =\",\n",
        "      np.cumsum(pca_18.explained_variance_ratio_*100)[7])"
      ],
      "id": "4GcfAWdys60W",
      "execution_count": 41,
      "outputs": [
        {
          "output_type": "stream",
          "text": [
            "Variance explained by the first principal component = 26.05949725834394\n",
            "Variance explained by the first two principal components = 50.60752447354809\n",
            "Variance explained by the first three principal component = 61.51241578853924\n",
            "Variance explained by the first six principal components = 94.17304731254342\n",
            "Variance explained by the first seven principal components = 99.32984484342454\n"
          ],
          "name": "stdout"
        }
      ]
    },
    {
      "cell_type": "markdown",
      "metadata": {
        "id": "rtCpR6kAtaIC"
      },
      "source": [
        "The first six principal components capture 94.17% of the variability in the 18 columns we defined for our PCA data set. Adding a seventh component brings the variability to 99.33%. "
      ],
      "id": "rtCpR6kAtaIC"
    },
    {
      "cell_type": "code",
      "metadata": {
        "id": "p7fZjhlYuZ6a"
      },
      "source": [
        "# PCA 95\n",
        "\n",
        "pca_95 = PCA(n_components=0.95, random_state=2015)\n",
        "pca_95.fit(df_pca_scaled)\n",
        "df_pca_95 = pca_95.transform(df_pca_scaled)\n",
        "\n",
        "df_pca_95.shape"
      ],
      "id": "p7fZjhlYuZ6a",
      "execution_count": null,
      "outputs": []
    },
    {
      "cell_type": "markdown",
      "metadata": {
        "id": "t1l6o6qTrTdh"
      },
      "source": [
        "#### TO DO (MATT)\n",
        "\n",
        "- PCA on continuous variables\n",
        "- Map if there is time"
      ],
      "id": "t1l6o6qTrTdh"
    }
  ]
}