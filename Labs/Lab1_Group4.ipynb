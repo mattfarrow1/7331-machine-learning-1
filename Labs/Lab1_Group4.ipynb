{
 "cells": [
  {
   "cell_type": "markdown",
   "id": "fd32ade9",
   "metadata": {
    "colab_type": "text",
    "id": "view-in-github"
   },
   "source": [
    "<a href=\"https://colab.research.google.com/github/mattfarrow1/7331-machine-learning-1/blob/main/Labs/Lab1_Group4.ipynb\" target=\"_parent\"><img src=\"https://colab.research.google.com/assets/colab-badge.svg\" alt=\"Open In Colab\"/></a>"
   ]
  },
  {
   "cell_type": "markdown",
   "id": "c0d2e13f",
   "metadata": {
    "id": "c0d2e13f"
   },
   "source": [
    "# Lab One: Visualization and Data Preprocessing"
   ]
  },
  {
   "cell_type": "markdown",
   "id": "6d024d25",
   "metadata": {
    "id": "6d024d25"
   },
   "source": [
    "Matt Farrow, Amber Clark, Blake Freeman, Megan Ball"
   ]
  },
  {
   "cell_type": "markdown",
   "id": "88d28dcd",
   "metadata": {
    "id": "88d28dcd"
   },
   "source": [
    "## **2015 Flight Delays and Cancellations**\n",
    "Data Source: [Kaggle](https://www.kaggle.com/usdot/flight-delays?select=flights.csv)"
   ]
  },
  {
   "cell_type": "markdown",
   "id": "83abe554",
   "metadata": {
    "id": "83abe554"
   },
   "source": [
    "## Business Understanding"
   ]
  },
  {
   "cell_type": "markdown",
   "id": "d1779117",
   "metadata": {
    "id": "d1779117"
   },
   "source": [
    "`Describe the purpose of the data set you selected (i.e., why was this data collected in the first place?). Describe how you would define and measure the outcomes from the dataset. That is, why is this data important and how do you know if you have mined useful knowledge from the dataset? How would you measure the effectiveness of a good prediction algorithm? Be specific.`"
   ]
  },
  {
   "cell_type": "markdown",
   "id": "f6958737",
   "metadata": {
    "id": "f6958737"
   },
   "source": [
    "The data set that our group selected came the U.S. Department of Transportation's Bureau of Transportation Statistics and \"tracks the on-time performance of domestic flights operated by large air carriers\" during 2015 ([Kaggle](https://www.kaggle.com/usdot/flight-delays)). The data is broken up into three separate `.csv` files: one with flight details for 5,819,079 flights during 2015, one with 14 different U.S.-based airlines, and one with the geographic details of 322 U.S. airports. \n",
    "\n",
    "The data is important because it takes airline delays and cancellations, one of the aspects of airline travel that is popular fodder for public complaints, and quantifies it in a way that offers the possiblity of tangible analysis. "
   ]
  },
  {
   "cell_type": "markdown",
   "id": "aVSSSH0ro-9N",
   "metadata": {
    "id": "aVSSSH0ro-9N"
   },
   "source": [
    "#### TO DO (MATT)\n",
    "\n",
    "- Describe the two variables to be measured. Arrival delay (regression & RMSE) & Cancellation (classification & accuracy? precision?)\n",
    "- Measure effectiveness using 10-fold cross-validation\n"
   ]
  },
  {
   "cell_type": "markdown",
   "id": "b42cc5ef",
   "metadata": {
    "id": "b42cc5ef"
   },
   "source": [
    "## Data Meaning Type"
   ]
  },
  {
   "cell_type": "markdown",
   "id": "b5cd6fd8",
   "metadata": {
    "id": "b5cd6fd8"
   },
   "source": [
    "`Describe the meaning and type of data (scale, values, etc.) for each attribute in the data file.`"
   ]
  },
  {
   "cell_type": "markdown",
   "id": "Egyr6ljHCnsN",
   "metadata": {
    "id": "Egyr6ljHCnsN"
   },
   "source": [
    "### Load the Data"
   ]
  },
  {
   "cell_type": "code",
   "execution_count": null,
   "id": "458f1645",
   "metadata": {
    "id": "458f1645"
   },
   "outputs": [],
   "source": [
    "# Load libraries\n",
    "import pandas as pd\n",
    "import numpy as np\n",
    "import seaborn as sns\n",
    "import matplotlib.pyplot as plt\n",
    "%matplotlib inline\n",
    "from datetime import datetime"
   ]
  },
  {
   "cell_type": "code",
   "execution_count": null,
   "id": "ce20dda1",
   "metadata": {
    "colab": {
     "base_uri": "https://localhost:8080/"
    },
    "id": "ce20dda1",
    "outputId": "b6f06232-275b-4ba5-9721-cfe240755d9b",
    "scrolled": true
   },
   "outputs": [],
   "source": [
    "# Due to the way these columns are formatted, we want to keep the leading zeros during our import. Later on will convert them to a time format.\n",
    "dtype_t = {'SCHEDULED_DEPARTURE': str,\n",
    "           'DEPARTURE_TIME': str,\n",
    "           'WHEELS_OFF': str,\n",
    "           'SCHEDULED_TIME': str,\n",
    "           'WHEELS_ON': str,\n",
    "           'SCHEDULED_ARRIVAL': str,\n",
    "           'ARRIVAL_TIME': str\n",
    "          }\n",
    "\n",
    "# Read in the data directly from GitHub\n",
    "airlines = pd.read_csv('https://raw.githubusercontent.com/mattfarrow1/7331-machine-learning-1/main/Data/airlines.csv')\n",
    "airports = pd.read_csv('https://raw.githubusercontent.com/mattfarrow1/7331-machine-learning-1/main/Data/airports.csv')\n",
    "flights  = pd.read_csv('https://media.githubusercontent.com/media/mattfarrow1/7331-machine-learning-1/main/Data/flights.csv', dtype = dtype_t)"
   ]
  },
  {
   "cell_type": "code",
   "execution_count": null,
   "id": "cab3e312",
   "metadata": {
    "colab": {
     "base_uri": "https://localhost:8080/",
     "height": 204
    },
    "id": "cab3e312",
    "outputId": "a54af56f-c2fe-45f6-d850-27b60411dd57"
   },
   "outputs": [],
   "source": [
    "# Look at the airline data\n",
    "airlines.head()"
   ]
  },
  {
   "cell_type": "code",
   "execution_count": null,
   "id": "570275eb",
   "metadata": {
    "colab": {
     "base_uri": "https://localhost:8080/",
     "height": 204
    },
    "id": "570275eb",
    "outputId": "a4ff5070-ace2-4f6f-a16b-a667e8e97e49"
   },
   "outputs": [],
   "source": [
    "# Look at the airport data\n",
    "airports.head()"
   ]
  },
  {
   "cell_type": "code",
   "execution_count": null,
   "id": "1f1e5dd8",
   "metadata": {
    "colab": {
     "base_uri": "https://localhost:8080/",
     "height": 224
    },
    "id": "1f1e5dd8",
    "outputId": "4d362067-4879-4dc4-ba1c-7e1b162ca9f1",
    "scrolled": true
   },
   "outputs": [],
   "source": [
    "# Look at the flight data\n",
    "flights.head()"
   ]
  },
  {
   "cell_type": "markdown",
   "id": "i_MIyWQIqCLg",
   "metadata": {
    "id": "i_MIyWQIqCLg"
   },
   "source": [
    "#### TO DO (AMBER)"
   ]
  },
  {
   "cell_type": "markdown",
   "id": "EdRrx6c6DEIk",
   "metadata": {
    "id": "EdRrx6c6DEIk"
   },
   "source": [
    "### Merge Flights & Airlines"
   ]
  },
  {
   "cell_type": "markdown",
   "id": "BYXYBxSzCzcO",
   "metadata": {
    "id": "BYXYBxSzCzcO"
   },
   "source": [
    "The flight data will become our primary data set, but we can join it with the airline information to bring in the human-readable names."
   ]
  },
  {
   "cell_type": "code",
   "execution_count": null,
   "id": "2009e446",
   "metadata": {
    "id": "2009e446"
   },
   "outputs": [],
   "source": [
    "# Rename columns in preparation for merge\n",
    "airlines.rename(columns={'IATA_CODE': 'AIRLINE_CODE'}, inplace=True)\n",
    "flights.rename(columns={'AIRLINE': 'AIRLINE_CODE'}, inplace=True)"
   ]
  },
  {
   "cell_type": "code",
   "execution_count": null,
   "id": "6b275ee4",
   "metadata": {
    "id": "6b275ee4"
   },
   "outputs": [],
   "source": [
    "# Merge data together\n",
    "df = pd.merge(flights, airlines, on='AIRLINE_CODE', how = 'left')"
   ]
  },
  {
   "cell_type": "code",
   "execution_count": null,
   "id": "35ec9ab9",
   "metadata": {
    "colab": {
     "base_uri": "https://localhost:8080/",
     "height": 394
    },
    "id": "35ec9ab9",
    "outputId": "08a4424c-671d-4dda-996f-553699cb565a",
    "scrolled": true
   },
   "outputs": [],
   "source": [
    "# Look at the newly merged data\n",
    "df.head()"
   ]
  },
  {
   "cell_type": "markdown",
   "id": "v65dqpagDOLZ",
   "metadata": {
    "id": "v65dqpagDOLZ"
   },
   "source": [
    "Our merged data set contains 5,819,079 observations and 32 attributes."
   ]
  },
  {
   "cell_type": "code",
   "execution_count": null,
   "id": "11c86e1b",
   "metadata": {
    "colab": {
     "base_uri": "https://localhost:8080/"
    },
    "id": "11c86e1b",
    "outputId": "bc177094-857b-4cf0-94fc-1318f929494d",
    "scrolled": false
   },
   "outputs": [],
   "source": [
    "df.info()"
   ]
  },
  {
   "cell_type": "markdown",
   "id": "KN5umzkXDWjK",
   "metadata": {
    "id": "KN5umzkXDWjK"
   },
   "source": [
    "### Convert String Columns to Datetime"
   ]
  },
  {
   "cell_type": "code",
   "execution_count": null,
   "id": "297dcddc",
   "metadata": {
    "id": "297dcddc"
   },
   "outputs": [],
   "source": [
    "# Convert string columns to datetime\n",
    "# Source: https://stackoverflow.com/questions/41514173/change-multiple-columns-in-pandas-dataframe-to-datetime\n",
    "#df.iloc[:, [9, 10, 13, 18, 20, 21]] = df.iloc[:, [9, 10, 13, 18, 20, 21]].apply(pd.to_datetime, format='%H%M', errors = 'coerce')"
   ]
  },
  {
   "cell_type": "code",
   "execution_count": null,
   "id": "c6AD2_jqapOI",
   "metadata": {
    "id": "c6AD2_jqapOI"
   },
   "outputs": [],
   "source": [
    "cols = [\"SCHEDULED_DEPARTURE\", \n",
    "   \"DEPARTURE_TIME\", \n",
    "   \"WHEELS_OFF\",  \n",
    "   \"WHEELS_ON\", \n",
    "   \"SCHEDULED_ARRIVAL\", \n",
    "   \"ARRIVAL_TIME\"]\n",
    "\n",
    "df[cols] = df[cols].apply(pd.to_datetime, format = '%H%M', errors='coerce')\n",
    "\n",
    "#df[cols] = df[cols].apply(pd.to_datetime, exact = False, format = '%H%M')\n",
    "#df[cols] = df[cols].apply(datetime.strptime,format = '%H%M')"
   ]
  },
  {
   "cell_type": "code",
   "execution_count": null,
   "id": "5b6eb850",
   "metadata": {
    "colab": {
     "base_uri": "https://localhost:8080/",
     "height": 204
    },
    "id": "5b6eb850",
    "outputId": "96b645e3-11b2-48b9-97f7-7b34a48923e3"
   },
   "outputs": [],
   "source": [
    "df[[\"SCHEDULED_DEPARTURE\", \n",
    "   \"DEPARTURE_TIME\", \n",
    "   \"WHEELS_OFF\", \n",
    "   \"WHEELS_ON\", \n",
    "   \"SCHEDULED_ARRIVAL\", \n",
    "   \"ARRIVAL_TIME\"]].head()"
   ]
  },
  {
   "cell_type": "markdown",
   "id": "Kuj0Dq8pDe17",
   "metadata": {
    "id": "Kuj0Dq8pDe17"
   },
   "source": [
    "### Convert YEAR, MONTH, DAY into a Single Date"
   ]
  },
  {
   "cell_type": "code",
   "execution_count": null,
   "id": "9wQyIem0JZ4k",
   "metadata": {
    "id": "9wQyIem0JZ4k"
   },
   "outputs": [],
   "source": [
    "# Source: https://stackoverflow.com/questions/54487059/pandas-how-to-create-a-single-date-column-from-columns-containing-year-month\n",
    "df['FLIGHT_DATE'] = pd.to_datetime([f'{y}-{m}-{d}' for y, m, d in zip(df.YEAR, df.MONTH, df.DAY)])"
   ]
  },
  {
   "cell_type": "markdown",
   "id": "34561fd9",
   "metadata": {
    "id": "34561fd9"
   },
   "source": [
    "## Data Quality"
   ]
  },
  {
   "cell_type": "markdown",
   "id": "a4463671",
   "metadata": {
    "id": "a4463671"
   },
   "source": [
    "`Verify data quality: Explain any missing values, duplicate data, and outliers. Are those mistakes? How do you deal with these problems? Give justifications for your methods.`"
   ]
  },
  {
   "cell_type": "markdown",
   "id": "pIjPk2PLFh-n",
   "metadata": {
    "id": "pIjPk2PLFh-n"
   },
   "source": [
    "### Missing Values"
   ]
  },
  {
   "cell_type": "code",
   "execution_count": null,
   "id": "d0a0e195",
   "metadata": {
    "colab": {
     "base_uri": "https://localhost:8080/"
    },
    "id": "d0a0e195",
    "outputId": "26660c2b-82b9-4f33-fbd8-8e96c30da926"
   },
   "outputs": [],
   "source": [
    "# How many missing values are there in the data?\n",
    "df.isnull().sum()"
   ]
  },
  {
   "cell_type": "markdown",
   "id": "e861a319",
   "metadata": {
    "id": "e861a319"
   },
   "source": [
    "There are millions of missing values in the specific delay time columns. This is expected, as not every flight is delayed, and you would hope that percentage would be small of the overall flights. We will convert these missing values into `0` since, in these cases, there was no flight delay for the specific attribute."
   ]
  },
  {
   "cell_type": "code",
   "execution_count": null,
   "id": "3MWDCjs-EBmq",
   "metadata": {
    "id": "3MWDCjs-EBmq"
   },
   "outputs": [],
   "source": [
    "# Replace missing values in AIRLINE_DELAY, AIR_SYSTEM_DELAY, SECURITY_DELAY, LATE_AIRCRAFT_DELAY, and WEATHER_DELAY with '0'\n",
    "df[['AIRLINE_DELAY', 'AIR_SYSTEM_DELAY', 'SECURITY_DELAY', 'LATE_AIRCRAFT_DELAY', 'WEATHER_DELAY']] = df[['AIRLINE_DELAY', 'AIR_SYSTEM_DELAY', 'SECURITY_DELAY', 'LATE_AIRCRAFT_DELAY', 'WEATHER_DELAY']].fillna(value = 0)"
   ]
  },
  {
   "cell_type": "markdown",
   "id": "iV8_tGJcEPia",
   "metadata": {
    "id": "iV8_tGJcEPia"
   },
   "source": [
    "Similar to the delay columns, the `CANCELLATION_REASON` column also contains millions of missing values. Here we convert the missing values to `0` and use one hot encoding on the resulting column."
   ]
  },
  {
   "cell_type": "code",
   "execution_count": null,
   "id": "Yc3zGo9VFNCE",
   "metadata": {
    "colab": {
     "base_uri": "https://localhost:8080/",
     "height": 394
    },
    "id": "Yc3zGo9VFNCE",
    "outputId": "d99677f7-5fd1-454e-e515-f6f5525f9df2"
   },
   "outputs": [],
   "source": [
    "# One hot encode CANCELLATION_REASON where NA = 0\n",
    "# Source: datagy.io/pandas-get-dummies/\n",
    "\n",
    "# Convert missing values to 'N' for 'N/A'\n",
    "df['CANCELLATION_REASON'] = df['CANCELLATION_REASON'].fillna('N')\n",
    "\n",
    "# One hot encode\n",
    "one_hot_columns = ['CANCELLATION_REASON']\n",
    "\n",
    "for column in one_hot_columns:\n",
    "  tempdf = pd.get_dummies(df[column], prefix=column)\n",
    "\n",
    "  df = pd.merge(\n",
    "      left = df,\n",
    "      right = tempdf,\n",
    "      left_index = True,\n",
    "      right_index = True,\n",
    "  )\n",
    "\n",
    "  df = df.drop(columns=column)\n",
    "\n",
    "df.head()"
   ]
  },
  {
   "cell_type": "code",
   "execution_count": null,
   "id": "Bbb7wqGZIPGo",
   "metadata": {
    "colab": {
     "base_uri": "https://localhost:8080/"
    },
    "id": "Bbb7wqGZIPGo",
    "outputId": "45202de0-8392-41d6-e811-16422587f11c"
   },
   "outputs": [],
   "source": [
    "# How many missing values are there in the data now?\n",
    "df.isnull().sum()"
   ]
  },
  {
   "cell_type": "markdown",
   "id": "SCHo0Sg6ERe9",
   "metadata": {
    "id": "SCHo0Sg6ERe9"
   },
   "source": [
    "Here the remaining rows containing missing data only account for about 2% of the total number of original observations. We feel comfortable removing those rows with missing values and proceeding with our analysis."
   ]
  },
  {
   "cell_type": "code",
   "execution_count": null,
   "id": "O1WYkMnFYQQE",
   "metadata": {
    "id": "O1WYkMnFYQQE"
   },
   "outputs": [],
   "source": [
    "# Drop the remaining rows that contain missing values\n",
    "df = df.dropna(axis=0)"
   ]
  },
  {
   "cell_type": "markdown",
   "id": "r8wP0VqoFlKB",
   "metadata": {
    "id": "r8wP0VqoFlKB"
   },
   "source": [
    "### Outliers"
   ]
  },
  {
   "cell_type": "code",
   "execution_count": null,
   "id": "186c551d",
   "metadata": {
    "colab": {
     "base_uri": "https://localhost:8080/",
     "height": 283
    },
    "id": "186c551d",
    "outputId": "8daade57-d1c8-46ce-bb7e-7ccfacf6b635"
   },
   "outputs": [],
   "source": [
    "# Check for outliers on continuous variables\n",
    "# Source: https://stackoverflow.com/questions/25039626/how-do-i-find-numeric-columns-in-pandas\n",
    "num_col = df.select_dtypes(include = np.number).columns.tolist() \n",
    "df.boxplot(column = num_col)"
   ]
  },
  {
   "cell_type": "markdown",
   "id": "8523923c",
   "metadata": {
    "id": "8523923c"
   },
   "source": [
    "Note... need to do some more work here, group at different scales or split out individually"
   ]
  },
  {
   "cell_type": "markdown",
   "id": "eXeTQ3mGqNZE",
   "metadata": {
    "id": "eXeTQ3mGqNZE"
   },
   "source": [
    "#### TO DO (BLAKE)\n",
    "\n",
    "- Address outliers\n",
    "- Amber work on airport codes\n",
    "- We need to finish cleaning up the time conversions (someone)"
   ]
  },
  {
   "cell_type": "markdown",
   "id": "6cdc68a0",
   "metadata": {
    "id": "6cdc68a0"
   },
   "source": [
    "## Simple Statistics"
   ]
  },
  {
   "cell_type": "markdown",
   "id": "da956f44",
   "metadata": {
    "id": "da956f44"
   },
   "source": [
    "`Visualize appropriate statistics (e.g., range, mode, mean, median, variance, counts) for a subset of attributes. Describe anything meaningful you found from this or if you found something potentially interesting. Note: You can also use data from other sources for comparison. Explain why the statistics run are meaningful.`"
   ]
  },
  {
   "cell_type": "code",
   "execution_count": null,
   "id": "5512eec4",
   "metadata": {
    "colab": {
     "base_uri": "https://localhost:8080/",
     "height": 317
    },
    "id": "5512eec4",
    "outputId": "f8036171-09fc-4278-89c9-18fb71c97188"
   },
   "outputs": [],
   "source": [
    "df.describe()"
   ]
  },
  {
   "cell_type": "code",
   "execution_count": null,
   "id": "qmUDb8SJjABH",
   "metadata": {
    "colab": {
     "base_uri": "https://localhost:8080/"
    },
    "id": "qmUDb8SJjABH",
    "outputId": "503faa6e-1cc0-4ef8-b7f9-f960054c5723"
   },
   "outputs": [],
   "source": [
    "#check counts of cancels and diversions\n",
    "df.groupby('CANCELLED')['YEAR'].count()"
   ]
  },
  {
   "cell_type": "code",
   "execution_count": null,
   "id": "iMq2oTOGjJo_",
   "metadata": {
    "colab": {
     "base_uri": "https://localhost:8080/"
    },
    "id": "iMq2oTOGjJo_",
    "outputId": "f4987c33-bf5e-44c9-9ccf-d1f4572a0dab"
   },
   "outputs": [],
   "source": [
    "df.groupby('DIVERTED')['YEAR'].count()"
   ]
  },
  {
   "cell_type": "markdown",
   "id": "kotkpkfNqg6F",
   "metadata": {
    "id": "kotkpkfNqg6F"
   },
   "source": [
    "#### TO DO (MEGAN)\n"
   ]
  },
  {
   "cell_type": "markdown",
   "id": "beb3cf96",
   "metadata": {
    "id": "beb3cf96"
   },
   "source": [
    "## Visualize Attributes"
   ]
  },
  {
   "cell_type": "markdown",
   "id": "21351a2d",
   "metadata": {
    "id": "21351a2d"
   },
   "source": [
    "`Visualize the most interesting attributes (at least 5 attributes, your opinion on what is interesting). Important: Interpret the implications for each visualization. Explain for each attribute why the chosen visualization is appropriate.`"
   ]
  },
  {
   "cell_type": "code",
   "execution_count": null,
   "id": "9331cc7f",
   "metadata": {
    "colab": {
     "base_uri": "https://localhost:8080/",
     "height": 308
    },
    "id": "9331cc7f",
    "outputId": "7947c9a8-38f8-4f7f-f82c-969afea6191d"
   },
   "outputs": [],
   "source": [
    "# Flights by day of the week\n",
    "sns.histplot(df, x = 'DAY_OF_WEEK', binwidth = 1)"
   ]
  },
  {
   "cell_type": "code",
   "execution_count": null,
   "id": "rpezYKPCYyxZ",
   "metadata": {
    "colab": {
     "base_uri": "https://localhost:8080/",
     "height": 543
    },
    "id": "rpezYKPCYyxZ",
    "outputId": "3aecbdad-e7b7-4841-f7b0-3c3065979f3c"
   },
   "outputs": [],
   "source": [
    "# Delays by airline\n",
    "sns.stripplot(x='DEPARTURE_DELAY', y='AIRLINE',\n",
    "              data=df, dodge=True, jitter=True)\n",
    "\n",
    "plt.show()\n",
    "\n",
    "sns.stripplot(x='ARRIVAL_DELAY', y='AIRLINE',\n",
    "              data=df, dodge=True, jitter=True)\n",
    "\n",
    "plt.show()"
   ]
  },
  {
   "cell_type": "markdown",
   "id": "XUK1D1BXZlrG",
   "metadata": {
    "id": "XUK1D1BXZlrG"
   },
   "source": [
    "American is the clear leader(?) here, but I also imagine they are one of the largest carriers in this list. Do the numbers skew the results here at all?"
   ]
  },
  {
   "cell_type": "markdown",
   "id": "dEgHCv7yq2i4",
   "metadata": {
    "id": "dEgHCv7yq2i4"
   },
   "source": [
    "#### TO DO (EVERYONE)\n",
    "\n",
    "- Create 2+ visualizations per person plus an explanation for each"
   ]
  },
  {
   "cell_type": "markdown",
   "id": "37dfc20e",
   "metadata": {
    "id": "37dfc20e"
   },
   "source": [
    "## Explore Joint Attributes"
   ]
  },
  {
   "cell_type": "markdown",
   "id": "baf29b0d",
   "metadata": {
    "id": "baf29b0d"
   },
   "source": [
    "`Visualize relationships between attributes: Look at the attributes via scatter plots, correlation, cross-tabulation, group-wise averages, etc. as appropriate. Explain any interesting relationships.`"
   ]
  },
  {
   "cell_type": "code",
   "execution_count": null,
   "id": "3f0fff71",
   "metadata": {
    "colab": {
     "base_uri": "https://localhost:8080/",
     "height": 1000
    },
    "id": "3f0fff71",
    "outputId": "e66bbcc6-7fec-463d-9390-ccc0dfe42c5b"
   },
   "outputs": [],
   "source": [
    "# Examine correlation visually using Seaborn. (Code adapted from 02. Data Visualization.ipynb)\n",
    "cmap = sns.diverging_palette(220, 10, as_cmap=True)\n",
    "\n",
    "sns.set(style = \"darkgrid\") # one of the many styles to plot using\n",
    "\n",
    "f, ax = plt.subplots(figsize = (20, 20))\n",
    "\n",
    "sns.heatmap(df.corr(), cmap=cmap, annot = True)"
   ]
  },
  {
   "cell_type": "markdown",
   "id": "VsmcCCpIqwet",
   "metadata": {
    "id": "VsmcCCpIqwet"
   },
   "source": [
    "#### TO DO (MEGAN)"
   ]
  },
  {
   "cell_type": "markdown",
   "id": "2f2381b7",
   "metadata": {
    "id": "2f2381b7"
   },
   "source": [
    "## Explore Attributes and Class"
   ]
  },
  {
   "cell_type": "markdown",
   "id": "7e4eafb0",
   "metadata": {
    "id": "7e4eafb0"
   },
   "source": [
    "`Identify and explain interesting relationships between features and the class you are trying to predict (i.e., relationships with variables and the target classification).`"
   ]
  },
  {
   "cell_type": "markdown",
   "id": "nBb0egz7rMi1",
   "metadata": {
    "id": "nBb0egz7rMi1"
   },
   "source": [
    "#### TO DO (AMBER)"
   ]
  },
  {
   "cell_type": "markdown",
   "id": "42a3e916",
   "metadata": {
    "id": "42a3e916"
   },
   "source": [
    "## New Features "
   ]
  },
  {
   "cell_type": "markdown",
   "id": "c80b7167",
   "metadata": {
    "id": "c80b7167"
   },
   "source": [
    "`Are there other features that could be added to the data or created from existing features? Which ones?`"
   ]
  },
  {
   "cell_type": "code",
   "execution_count": null,
   "id": "o3duBc6QrPG2",
   "metadata": {
    "id": "o3duBc6QrPG2"
   },
   "outputs": [],
   "source": []
  },
  {
   "cell_type": "markdown",
   "id": "SASmuNPPrP4g",
   "metadata": {
    "id": "SASmuNPPrP4g"
   },
   "source": [
    "#### TO DO (BLAKE)"
   ]
  },
  {
   "cell_type": "markdown",
   "id": "27739c81",
   "metadata": {
    "id": "27739c81"
   },
   "source": [
    "## Exceptional Work"
   ]
  },
  {
   "cell_type": "markdown",
   "id": "27732deb",
   "metadata": {
    "id": "27732deb"
   },
   "source": [
    "`You have free reign to provide additional analyses. One idea: implement dimensionality reduction, then visualize and interpret the results. (aka PCA)`"
   ]
  },
  {
   "cell_type": "code",
   "execution_count": null,
   "id": "J26jaqhVoq_w",
   "metadata": {
    "colab": {
     "base_uri": "https://localhost:8080/",
     "height": 224
    },
    "id": "J26jaqhVoq_w",
    "outputId": "6d634b69-14af-483c-95fb-1e9dc882d702"
   },
   "outputs": [],
   "source": [
    "# Look at what continuous variables we have to work with\n",
    "df.select_dtypes(np.number).head()"
   ]
  },
  {
   "cell_type": "code",
   "execution_count": null,
   "id": "CYTxuzX0phQT",
   "metadata": {
    "id": "CYTxuzX0phQT"
   },
   "outputs": [],
   "source": [
    "# Select columns for PCA\n",
    "df_numeric = df[['DEPARTURE_DELAY', 'TAXI_OUT', 'ELAPSED_TIME', 'AIR_TIME', \n",
    "            'DISTANCE', 'TAXI_IN', 'ARRIVAL_DELAY', 'DIVERTED', \n",
    "            'AIR_SYSTEM_DELAY', 'SECURITY_DELAY', 'AIRLINE_DELAY', \n",
    "            'LATE_AIRCRAFT_DELAY', 'WEATHER_DELAY', 'CANCELLATION_REASON_A', \n",
    "            'CANCELLATION_REASON_B', 'CANCELLATION_REASON_C', \n",
    "            'CANCELLATION_REASON_D', 'CANCELLATION_REASON_N']]"
   ]
  },
  {
   "cell_type": "code",
   "execution_count": null,
   "id": "NSfdkxKKrxfb",
   "metadata": {
    "colab": {
     "base_uri": "https://localhost:8080/"
    },
    "id": "NSfdkxKKrxfb",
    "outputId": "4520c4cf-130d-46df-f9b5-8429ffc677c4"
   },
   "outputs": [],
   "source": [
    "df_pca.shape"
   ]
  },
  {
   "cell_type": "code",
   "execution_count": null,
   "id": "RfToBNB8rF6S",
   "metadata": {
    "id": "RfToBNB8rF6S"
   },
   "outputs": [],
   "source": [
    "# Source: https://towardsdatascience.com/principal-component-analysis-pca-with-scikit-learn-1e84a0c731b0\n",
    "# Standardize the features\n",
    "from sklearn.preprocessing import StandardScaler\n",
    "from sklearn.decomposition import PCA\n",
    "\n",
    "# Create the object\n",
    "scaler = StandardScaler()\n",
    "# Calculate the mean and standard deviation\n",
    "scaler.fit(df_pca)\n",
    "df_pca_scaled = scaler.transform(df_pca)"
   ]
  },
  {
   "cell_type": "code",
   "execution_count": null,
   "id": "p7fZjhlYuZ6a",
   "metadata": {
    "id": "p7fZjhlYuZ6a"
   },
   "outputs": [],
   "source": [
    "# Calculate the PCA that explains 95% of the variance\n",
    "pca_95 = PCA(n_components=0.95, random_state=2015)\n",
    "pca_95.fit(df_pca_scaled)\n",
    "df_pca_95 = pca_95.transform(df_pca_scaled)\n",
    "\n",
    "# Display the PCA values\n",
    "np.cumsum(pca_95.explained_variance_ratio_*100)"
   ]
  },
  {
   "cell_type": "code",
   "execution_count": null,
   "id": "c4c2664a",
   "metadata": {},
   "outputs": [],
   "source": [
    "# Plot PCA results\n",
    "plt.plot(np.cumsum(pca_95.explained_variance_ratio_))\n",
    "plt.xlabel('Number of Components')\n",
    "plt.ylabel('Explained Variance')"
   ]
  },
  {
   "cell_type": "code",
   "execution_count": null,
   "id": "dd295d79",
   "metadata": {},
   "outputs": [],
   "source": [
    "df_post_pca = pd.DataFrame(df_pca_95, columns = ['PC1', 'PC2', 'PC3', 'PC4', 'PC5', 'PC6', 'PC7', 'PC8'])\n",
    "df_post_pca['Cancelled'] = df.CANCELLED\n",
    "df_post_pca.head()"
   ]
  }
 ],
 "metadata": {
  "colab": {
   "collapsed_sections": [],
   "include_colab_link": true,
   "name": "Copy of Lab1_Group4.ipynb",
   "provenance": [],
   "toc_visible": true
  },
  "kernelspec": {
   "display_name": "Python 3",
   "language": "python",
   "name": "python3"
  },
  "language_info": {
   "codemirror_mode": {
    "name": "ipython",
    "version": 3
   },
   "file_extension": ".py",
   "mimetype": "text/x-python",
   "name": "python",
   "nbconvert_exporter": "python",
   "pygments_lexer": "ipython3",
   "version": "3.7.10"
  }
 },
 "nbformat": 4,
 "nbformat_minor": 5
}
